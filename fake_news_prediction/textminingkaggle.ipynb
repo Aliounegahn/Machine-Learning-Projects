{
 "cells": [
  {
   "cell_type": "markdown",
   "metadata": {},
   "source": [
    "# GAHN ALIOUNE BADARA BA "
   ]
  },
  {
   "cell_type": "code",
   "execution_count": null,
   "metadata": {},
   "outputs": [],
   "source": [
    "import matplotlib.pyplot as plt\n",
    "import networkx as nx\n",
    "import pandas as pd\n",
    "import numpy as np\n",
    "import os\n",
    "import re\n",
    "import community"
   ]
  },
  {
   "cell_type": "markdown",
   "metadata": {},
   "source": [
    "pip install python-louvain #Installer cette bibliotheque si ce n'est deja fait "
   ]
  },
  {
   "cell_type": "code",
   "execution_count": 2,
   "metadata": {},
   "outputs": [],
   "source": [
    "useruser=nx.DiGraph() # Graph user user"
   ]
  },
  {
   "cell_type": "code",
   "execution_count": 191,
   "metadata": {},
   "outputs": [],
   "source": [
    "docdoc = nx.Graph() # Graph Documents-documents"
   ]
  },
  {
   "cell_type": "code",
   "execution_count": 293,
   "metadata": {},
   "outputs": [],
   "source": [
    "pathfile= '/fake-news-prediction-toulouse/data_competition/UserUser.txt' #useruser.text \n",
    "pathfile1 = '/fake-news-prediction-toulouse/data_competition/newsUser.txt' #newsuser.text\n",
    "#Nous avons modifié le fichier \"labels_training.txt\" pour faciliter son importation avec notre code. Nous avons juste enlevé la première ligne ('doc,class'). Nous le joignons dans notre dossier (vous pouvez le modifier dans votre fichier si vous préferez).\n",
    "pathfile3= '/fake-news-prediction-toulouse/data_competition/labels_training.txt' #labels_training.text\n",
    "pathtest = '/fake-news-prediction-toulouse/data_competition/news/test/' #path to test directory\n",
    "pathtrain = '/fake-news-prediction-toulouse/data_competition/news/training/' #path to train directory\n"
   ]
  },
  {
   "cell_type": "code",
   "execution_count": 292,
   "metadata": {},
   "outputs": [],
   "source": [
    "#Cette fonction nous permets d'importer les documents train ou test sous forme de dataframe\n",
    "def indexation1(directory=pathtrain):\n",
    "    listDoc = os.listdir(directory)\n",
    "    df = pd.DataFrame(columns=['doc','body','title','lastphrases'])\n",
    "    for fichier in listDoc:\n",
    "        if re.match('[0-9]+',fichier[0:-4]) and fichier[-4:] == '.txt':\n",
    "            # option encoding pour éviter les problèmes d'encodage \n",
    "            f = open(directory+fichier,'r',encoding = 'utf-8')\n",
    "            numFichier = int(fichier[0:-4])\n",
    "            f1 = [l.strip() for l in f]\n",
    "            title = f1[0] \n",
    "            lastphrases = f1[len(f1)-1]\n",
    "            body = ''\n",
    "            for i in range(1,len(f1)):\n",
    "                body = body+' '+ f1[i] \n",
    "            row = pd.Series([numFichier,body,title, lastphrases], index=df.columns)\n",
    "            df = df.append(row, ignore_index=True, sort=False)\n",
    "    \n",
    "    df = df.sort_values(by=['doc'])\n",
    "    df = df.reset_index(drop=True)\n",
    "    \n",
    "    # transformer le type de la colonne 'doc' afin qu'elle soit en int 64 pour pouvoir par la suite effectuer \n",
    "    # des jointures avec d'autres dataframes.\n",
    "    df.doc = df.doc.astype(np.int64)\n",
    "        \n",
    "    return(df)"
   ]
  },
  {
   "cell_type": "code",
   "execution_count": 289,
   "metadata": {},
   "outputs": [],
   "source": [
    "dftrain = indexation1() # Chargement dftrain\n",
    "dftest = indexation1(pathtest) # Chargement dftest\n",
    "newsuser = readtxt(pathfile1,3) # Chargement news user file"
   ]
  },
  {
   "cell_type": "code",
   "execution_count": 6,
   "metadata": {},
   "outputs": [],
   "source": [
    "#Cette fonction prend en entrée un fichier de données numériques text et renvoie une liste de listes contenant chacune \n",
    "# une colonne du fichier\n",
    "def readtxt(pathfile ,k ):\n",
    "    data = [ int(z) for z in open(pathfile, 'r').read().split() ]\n",
    "    liste = []\n",
    "    j = 0\n",
    "    while j <= (k-1):\n",
    "        liste.append([data[i] for i in range(j, len(data),k)])\n",
    "        j = j+1\n",
    "    return(liste)"
   ]
  },
  {
   "cell_type": "code",
   "execution_count": 271,
   "metadata": {},
   "outputs": [],
   "source": [
    "nodes=[ int(z) for z in open(pathfile, 'r').read().split() ]\n",
    "nodes =list(set(nodes))  # Nodes graph user"
   ]
  },
  {
   "cell_type": "code",
   "execution_count": 8,
   "metadata": {},
   "outputs": [],
   "source": [
    "edges = readtxt(pathfile,2) #edges graph user\n",
    "edges= [(edges[0][i], edges[1][i])for i in range (len(edges[0]))] "
   ]
  },
  {
   "cell_type": "code",
   "execution_count": 278,
   "metadata": {},
   "outputs": [],
   "source": [
    "label = readtxt(pathfile3 , 2) \n",
    "label = pd.DataFrame({'doc':label[0],'class':label[1]})\n",
    "label = label.set_index(label['doc'].values)"
   ]
  },
  {
   "cell_type": "code",
   "execution_count": 9,
   "metadata": {},
   "outputs": [],
   "source": [
    "useruser.add_nodes_from(nodes) # Adding useruser graph nodes"
   ]
  },
  {
   "cell_type": "code",
   "execution_count": 10,
   "metadata": {},
   "outputs": [],
   "source": [
    "useruser.add_edges_from(edges) # Adding user user graph edges"
   ]
  },
  {
   "cell_type": "code",
   "execution_count": 273,
   "metadata": {},
   "outputs": [],
   "source": [
    "# Fonction nous permets d'affecter un score de crédibilité à un news en fonction de la moyenne des notes de crédibilités \n",
    "# des utilisateurs qui partagent ce news\n",
    "def credibilitynews(creduser, newsuser):\n",
    "    cred = {}\n",
    "    for i, news in enumerate (newsuser[0]):\n",
    "        if news not in (cred.keys()):\n",
    "            cred[news] = [newsuser[1][i]]\n",
    "            for j, news1 in enumerate (newsuser[0]):\n",
    "                if news == news1:\n",
    "                    cred[news].append(newsuser[1][j])\n",
    "    for k in cred.keys():\n",
    "        liste= []\n",
    "        for i in cred[k][1:]:\n",
    "            if i in creduser.keys():\n",
    "                 liste.append(creduser[i])\n",
    "        cred[k]= np.mean(liste)\n",
    "    return(cred)  "
   ]
  },
  {
   "cell_type": "markdown",
   "metadata": {},
   "source": [
    "# Calcul de Centralités sur le Graphe"
   ]
  },
  {
   "cell_type": "markdown",
   "metadata": {},
   "source": [
    "Notre Première intuition est de trouver les utilisateurs influenceurs. Ces utilisateurs en général ne tweetent que de bonnes nouvelles.\n",
    "Nous définissons un influenceur comme un utilisateur qui est suivi par beaucoup d'utilisateurs"
   ]
  },
  {
   "cell_type": "markdown",
   "metadata": {},
   "source": [
    "Calculons les In Degrees Centrality:"
   ]
  },
  {
   "cell_type": "code",
   "execution_count": 225,
   "metadata": {},
   "outputs": [],
   "source": [
    "incentralities = nx.in_degree_centrality(useruser)"
   ]
  },
  {
   "cell_type": "markdown",
   "metadata": {},
   "source": [
    "Dans cette première approche, Nous considèrons que plus un utilisateur est suivi , plus il est crédible. \n",
    "La crédibilté de l'utilisateur est associé ici à la valeur de la in-centrality dans le graphe. \n",
    "Calculons donc la crédibilité des documents et représentons les résultats"
   ]
  },
  {
   "cell_type": "code",
   "execution_count": 274,
   "metadata": {},
   "outputs": [],
   "source": [
    "credocs = credibilitynews(incentralities, newsuser)"
   ]
  },
  {
   "cell_type": "code",
   "execution_count": 275,
   "metadata": {},
   "outputs": [
    {
     "data": {
      "text/plain": [
       "[<matplotlib.lines.Line2D at 0x7fa66ae5e5f8>]"
      ]
     },
     "execution_count": 275,
     "metadata": {},
     "output_type": "execute_result"
    },
    {
     "data": {
      "image/png": "[encoded data removed]",
      "text/plain": [
       "<Figure size 432x288 with 1 Axes>"
      ]
     },
     "metadata": {
      "needs_background": "light"
     },
     "output_type": "display_data"
    }
   ],
   "source": [
    "credocs = [credocs[k] for k in credocs.keys()]\n",
    "plt.plot(np.arange(0, len(credocs)), credocs)"
   ]
  },
  {
   "cell_type": "markdown",
   "metadata": {},
   "source": [
    "Nous voyons ici que notre feature nous dit que les documents labelisés fake news on tendance à etre plus credible. \n",
    "Nous allons donc essayer de redefinir la crédibilité d'un utilisateur par rapport aux notes qu'il a deja donné pour voir."
   ]
  },
  {
   "cell_type": "code",
   "execution_count": 276,
   "metadata": {},
   "outputs": [],
   "source": [
    "# Cette fonction permets de Calculer la crédibilité d'un utilisateur par rapport aux notes qu'il a deja donné. \n",
    "# credibility = nbre de bonnes news - nombre de fakenews. \n",
    "def credibilityuser (listuser, labels, newsuser):\n",
    "    cred = {}\n",
    "    for i in listuser:\n",
    "        cred[i]= [0,0] \n",
    "    for j,news in enumerate (newsuser[0]):\n",
    "        if news in (labels['doc'].values):\n",
    "            if (labels['class'][news]==0):\n",
    "                cred[newsuser[1][j]][0] = cred[newsuser[1][j]][0] + newsuser[2][j]\n",
    "            else : \n",
    "                cred[newsuser[1][j]][1] = cred[newsuser[1][j]][1] + newsuser[2][j]\n",
    "    for k in cred.keys():\n",
    "        cred[k]= cred[k][0] - cred[k][1]\n",
    "    return (cred)"
   ]
  },
  {
   "cell_type": "code",
   "execution_count": null,
   "metadata": {},
   "outputs": [],
   "source": [
    "creduser = credibilityuser(nodes, label, newsuser) # Calcul de la credibility_user basée sur les notes"
   ]
  },
  {
   "cell_type": "code",
   "execution_count": 333,
   "metadata": {},
   "outputs": [],
   "source": [
    "crednews = credibilitynews(creduser, newsuser) #credibility des news\n",
    "crednews = pd.DataFrame.from_dict(crednews, orient = 'index')\n",
    "crednews.insert(0, 'doc', crednews.index)\n",
    "crednews.columns = ['doc', 'credibility']\n"
   ]
  },
  {
   "cell_type": "code",
   "execution_count": 399,
   "metadata": {},
   "outputs": [
    {
     "name": "stderr",
     "output_type": "stream",
     "text": [
      "/home/sid2018-1/anaconda3/lib/python3.7/site-packages/ipykernel_launcher.py:5: SettingWithCopyWarning: \n",
      "A value is trying to be set on a copy of a slice from a DataFrame\n",
      "\n",
      "See the caveats in the documentation: http://pandas.pydata.org/pandas-docs/stable/indexing.html#indexing-view-versus-copy\n",
      "  \"\"\"\n",
      "/home/sid2018-1/anaconda3/lib/python3.7/site-packages/ipykernel_launcher.py:3: SettingWithCopyWarning: \n",
      "A value is trying to be set on a copy of a slice from a DataFrame\n",
      "\n",
      "See the caveats in the documentation: http://pandas.pydata.org/pandas-docs/stable/indexing.html#indexing-view-versus-copy\n",
      "  This is separate from the ipykernel package so we can avoid doing imports until\n"
     ]
    }
   ],
   "source": [
    "# On assigne à un document 0 si sa crédibilité est negative et 1 sinon\n",
    "for j in crednews.index:\n",
    "    if crednews['credibility'][j] > 0 : \n",
    "        crednews['credibility'][j] = 0\n",
    "    else:\n",
    "        crednews['credibility'][j] = 1"
   ]
  },
  {
   "cell_type": "markdown",
   "metadata": {},
   "source": [
    "Testons notre feature"
   ]
  },
  {
   "cell_type": "code",
   "execution_count": 400,
   "metadata": {},
   "outputs": [],
   "source": [
    "crednewstrain = pd.merge(dftrain,crednews, on= 'doc')\n",
    "crednewstest = pd.merge(dftest,crednews, on= 'doc')"
   ]
  },
  {
   "cell_type": "code",
   "execution_count": 401,
   "metadata": {},
   "outputs": [
    {
     "data": {
      "text/plain": [
       "[<matplotlib.lines.Line2D at 0x7fa63a1eb908>]"
      ]
     },
     "execution_count": 401,
     "metadata": {},
     "output_type": "execute_result"
    },
    {
     "data": {
      "image/png": "[encoded data removed]",
      "text/plain": [
       "<Figure size 432x288 with 1 Axes>"
      ]
     },
     "metadata": {
      "needs_background": "light"
     },
     "output_type": "display_data"
    }
   ],
   "source": [
    "plt.plot(crednewstrain['doc'].values,crednewstrain['credibility'].values)"
   ]
  },
  {
   "cell_type": "markdown",
   "metadata": {},
   "source": [
    "Cette sortie nous montre que notre feature nous prédit à 100% la crédibility du news. \n",
    "La credibility est positive pour les documents vrai (id < 120) et est negative pour les fake news.\n",
    "Maintenant , Essayons de trouver un clustering de documents en faisant un graphe documents documents. \n",
    "Deux documents sont liés s'ils sont partagés par le même utilisateur"
   ]
  },
  {
   "cell_type": "code",
   "execution_count": 402,
   "metadata": {},
   "outputs": [],
   "source": [
    "#Construction du feature\n",
    "dfxtrain = crednewstrain[['doc', 'credibility']]\n",
    "dfxtest = crednewstest[['doc', 'credibility']]"
   ]
  },
  {
   "cell_type": "markdown",
   "metadata": {},
   "source": [
    "# Graphe de Documents"
   ]
  },
  {
   "cell_type": "markdown",
   "metadata": {},
   "source": [
    "Construison maintenant un graphe documents documents. Deux documents sont liés s'ils sont partagés par le même utilisateur"
   ]
  },
  {
   "cell_type": "code",
   "execution_count": 13,
   "metadata": {},
   "outputs": [],
   "source": [
    "# Cette fonction nous permets de trouver les documents qui on été partagés par le meme utilisateur \n",
    "def buildedges(newsuser):\n",
    "    edges = []\n",
    "    for i in range(len(newsuser[0])):\n",
    "        for j in range(len(newsuser[0])):\n",
    "            if j!= i : \n",
    "                if newsuser[1][j] == newsuser[1][i]:\n",
    "                    edges.append((newsuser[0][j],newsuser[0][i]))\n",
    "    return(edges)\n",
    "                    "
   ]
  },
  {
   "cell_type": "code",
   "execution_count": 14,
   "metadata": {},
   "outputs": [],
   "source": [
    "edges1 = buildedges(newsuser) # document document edges"
   ]
  },
  {
   "cell_type": "code",
   "execution_count": 290,
   "metadata": {},
   "outputs": [],
   "source": [
    "#On calcule ici les poids des relations. \n",
    "weights = {}\n",
    "for i,k in enumerate(edges1):\n",
    "    if k not in weights.keys():\n",
    "        weights[k] = edges1.count(edges1[i])"
   ]
  },
  {
   "cell_type": "code",
   "execution_count": 294,
   "metadata": {},
   "outputs": [],
   "source": [
    "edges1 = list(set(edges1))\n",
    "nodes1 =list(set(newsuser[0]))"
   ]
  },
  {
   "cell_type": "code",
   "execution_count": 380,
   "metadata": {},
   "outputs": [],
   "source": [
    "#On ajoute les nodes dans le graphe de documents\n",
    "docdoc.add_nodes_from(nodes1)"
   ]
  },
  {
   "cell_type": "code",
   "execution_count": 381,
   "metadata": {},
   "outputs": [],
   "source": [
    "# Ce bout de code nous permets d'inserer les edges dans un graphe et supprimer les noeuds qui ne sont liés à aucun autre document\n",
    "for k in edges1:\n",
    "    a = k[0]\n",
    "    b = k[1]\n",
    "    c = weights[k]\n",
    "    w = [(a,b,c)]\n",
    "    docdoc.add_weighted_edges_from(w)"
   ]
  },
  {
   "cell_type": "code",
   "execution_count": 416,
   "metadata": {},
   "outputs": [
    {
     "data": {
      "text/plain": [
       "<Figure size 432x288 with 0 Axes>"
      ]
     },
     "execution_count": 416,
     "metadata": {},
     "output_type": "execute_result"
    },
    {
     "data": {
      "image/png": "[encoded data removed]",
      "text/plain": [
       "<Figure size 432x288 with 1 Axes>"
      ]
     },
     "metadata": {},
     "output_type": "display_data"
    },
    {
     "data": {
      "text/plain": [
       "<Figure size 432x288 with 0 Axes>"
      ]
     },
     "metadata": {},
     "output_type": "display_data"
    }
   ],
   "source": [
    "copydocdoc = docdoc.copy() # Affichage du graphe\n",
    "copydocdoc.remove_nodes_from(list(nx.isolates(copydocdoc)))\n",
    "nx.draw(copydocdoc)\n",
    "plt.figure() "
   ]
  },
  {
   "cell_type": "markdown",
   "metadata": {},
   "source": [
    "## Détection de Communautés "
   ]
  },
  {
   "cell_type": "code",
   "execution_count": 383,
   "metadata": {},
   "outputs": [],
   "source": [
    "# preform Louvain method for community detection\n",
    "louvain_clusters = community.best_partition(docdoc)"
   ]
  },
  {
   "cell_type": "code",
   "execution_count": 417,
   "metadata": {},
   "outputs": [
    {
     "data": {
      "image/png": "[encoded data removed]",
      "text/plain": [
       "<Figure size 432x288 with 1 Axes>"
      ]
     },
     "metadata": {
      "needs_background": "light"
     },
     "output_type": "display_data"
    }
   ],
   "source": [
    "size = float(len(set(louvain_clusters.values())))\n",
    "pos = nx.spring_layout(docdoc)\n",
    "count = 0.\n",
    "for com in set(louvain_clusters.values()) :\n",
    "    count = count + 1.\n",
    "    list_nodes = [nodes for nodes in louvain_clusters.keys()\n",
    "                                if louvain_clusters[nodes] == com]\n",
    "    nx.draw_networkx_nodes(copydocdoc, pos, list_nodes, node_size = 50,\n",
    "                                node_color = str(count / size))\n",
    "\n",
    "\n",
    "nx.draw_networkx_edges(docdoc, pos, alpha=0.5)\n",
    "plt.show()\n",
    "\n"
   ]
  },
  {
   "cell_type": "markdown",
   "metadata": {},
   "source": [
    "La sortie de ce cluster nous montre que nous avons des groupes homogènes. Certains clusters sont constitués que de fake news tandis que d'autres sont constitués que de fake news nous allons donc garder ce feature"
   ]
  },
  {
   "cell_type": "code",
   "execution_count": 406,
   "metadata": {},
   "outputs": [],
   "source": [
    "# Construction du Feature\n",
    "louvain = pd.DataFrame.from_dict(louvain_clusters, orient='index')\n",
    "louvain.insert(0, 'doc', louvain.index)\n",
    "louvain.columns = ['doc', 'louvaincluster']\n",
    "dfxtrain = pd.merge(louvain,dfxtrain, on = 'doc')\n",
    "dfxtest = pd.merge (louvain, dfxtest, on = 'doc')"
   ]
  },
  {
   "cell_type": "code",
   "execution_count": 387,
   "metadata": {},
   "outputs": [],
   "source": [
    "# get Kernighan bisection communities\n",
    "kernighan_bisection = nx.community.kernighan_lin_bisection(docdoc)"
   ]
  },
  {
   "cell_type": "markdown",
   "metadata": {},
   "source": [
    "Ce clustering aussi nous dissocie bien les fake news des vrais, nous allons donc aussi garder ce feature"
   ]
  },
  {
   "cell_type": "code",
   "execution_count": 388,
   "metadata": {},
   "outputs": [],
   "source": [
    "zeros = pd.DataFrame ( { 'doc' :list (kernighan_bisection[0]),'class': list(np.zeros(len(list (kernighan_bisection[0]))))})\n",
    "ones = pd.DataFrame ( { 'doc' :list (kernighan_bisection[1]),'class': list(np.ones(len(list (kernighan_bisection[1]))))})"
   ]
  },
  {
   "cell_type": "code",
   "execution_count": 389,
   "metadata": {},
   "outputs": [],
   "source": [
    "kernighan = pd.concat([ones,zeros])\n",
    "kernighan.columns = ['doc', 'kernighancluster']"
   ]
  },
  {
   "cell_type": "code",
   "execution_count": 408,
   "metadata": {},
   "outputs": [],
   "source": [
    "dfxtrain = pd.merge( dfxtrain, kernighan, on = 'doc')\n",
    "dfxtest = pd.merge (dfxtest, kernighan, on = 'doc')"
   ]
  },
  {
   "cell_type": "markdown",
   "metadata": {},
   "source": [
    "##### On sauvegarde notre dataframe de features network en csv et on va les combiner avec nos features text pour faire nos prédictions."
   ]
  },
  {
   "cell_type": "code",
   "execution_count": 411,
   "metadata": {},
   "outputs": [],
   "source": [
    "dfxtrain.to_csv('/xtrainnetwork.txt', index=False, header=1)\n",
    "dfxtest.to_csv('/xtestnetwork.txt', index=False, header=1)"
   ]
  }
 ],
 "metadata": {
  "kernelspec": {
   "display_name": "Python 3",
   "language": "python",
   "name": "python3"
  },
  "language_info": {
   "codemirror_mode": {
    "name": "ipython",
    "version": 3
   },
   "file_extension": ".py",
   "mimetype": "text/x-python",
   "name": "python",
   "nbconvert_exporter": "python",
   "pygments_lexer": "ipython3",
   "version": "3.7.0"
  }
 },
 "nbformat": 4,
 "nbformat_minor": 2
}
