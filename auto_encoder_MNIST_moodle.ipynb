{
  "nbformat": 4,
  "nbformat_minor": 0,
  "metadata": {
    "kernelspec": {
      "name": "python3",
      "display_name": "Python 3"
    },
    "language_info": {
      "codemirror_mode": {
        "name": "ipython",
        "version": 3
      },
      "file_extension": ".py",
      "mimetype": "text/x-python",
      "name": "python",
      "nbconvert_exporter": "python",
      "pygments_lexer": "ipython3",
      "version": "3.6.8"
    },
    "colab": {
      "name": "auto_encoder_MNIST_moodle.ipynb",
      "provenance": [],
      "collapsed_sections": [],
      "include_colab_link": true
    },
    "accelerator": "GPU"
  },
  "cells": [
    {
      "cell_type": "markdown",
      "metadata": {
        "id": "view-in-github",
        "colab_type": "text"
      },
      "source": [
        "<a href=\"https://colab.research.google.com/github/Aliounegahn/Machine-Learning-Projects/blob/master/auto_encoder_MNIST_moodle.ipynb\" target=\"_parent\"><img src=\"https://colab.research.google.com/assets/colab-badge.svg\" alt=\"Open In Colab\"/></a>"
      ]
    },
    {
      "cell_type": "markdown",
      "metadata": {
        "id": "xCt4mqarh0cl",
        "colab_type": "text"
      },
      "source": [
        "# Auto encoder"
      ]
    },
    {
      "cell_type": "markdown",
      "metadata": {
        "id": "Fe95tS9wh0cp",
        "colab_type": "text"
      },
      "source": [
        "## Loading and transforming the data"
      ]
    },
    {
      "cell_type": "markdown",
      "metadata": {
        "id": "I35twfbxh0cq",
        "colab_type": "text"
      },
      "source": [
        "We will consider the MNIST database which contains 60,000 28x28 grayscale images of the 10 digits, along with a test set of 10,000 images. in a first time, we load the data."
      ]
    },
    {
      "cell_type": "code",
      "metadata": {
        "id": "4yEfKBV2h0cs",
        "colab_type": "code",
        "colab": {
          "base_uri": "https://localhost:8080/",
          "height": 68
        },
        "outputId": "873cde81-58ff-4f0e-c892-79d73719868f"
      },
      "source": [
        "from keras.datasets import mnist\n",
        "from keras.models import Sequential,Model\n",
        "from keras.layers.core import Dense, Dropout, Activation,Flatten,Reshape\n",
        "from keras.layers import Conv2D, MaxPooling2D,UpSampling2D,InputLayer\n",
        "from keras.optimizers import SGD,Adam\n",
        "from keras.utils import np_utils\n",
        "import matplotlib\n",
        "import matplotlib.pyplot as plt\n",
        "import scipy\n",
        "import scipy.ndimage\n",
        "import numpy as np\n",
        "from keras import backend as K\n",
        "import keras\n",
        "import matplotlib.pyplot as plt\n",
        "\n",
        "def loadMNISTAsVector(subset=10000) :\n",
        "    nb_classes=10\n",
        "    (X_train_img, y_train_real), (X_test_img, y_test_real) = mnist.load_data()\n",
        "    X_train_vect = X_train_img[:subset].reshape(subset, 784)\n",
        "    X_test_vect = X_test_img.reshape(10000, 784)\n",
        "    X_train_vect = X_train_vect.astype(\"float32\")\n",
        "    X_test_vect = X_test_vect.astype(\"float32\")\n",
        "    X_train_vect /= 255\n",
        "    X_test_vect /= 255\n",
        "    y_train_cat = np_utils.to_categorical(y_train_real[:subset], nb_classes)\n",
        "    y_test_cat = np_utils.to_categorical(y_test_real, nb_classes)\n",
        "    return (X_train_vect, y_train_cat), (X_test_vect, y_test_cat)\n",
        "    \n",
        "def loadMNISTAsMaxtrix(subset=10000) :\n",
        "    nb_classes=10\n",
        "    img_rows, img_cols = 28, 28\n",
        "    (X_train_img, y_train_real), (X_test_img, y_test_real) = mnist.load_data()\n",
        "    X_train_mat = X_train_img[:subset].reshape(X_train_img[:subset].shape[0], img_rows, img_cols, 1)\n",
        "    X_test_mat = X_test_img.reshape(X_test_img.shape[0], img_rows, img_cols, 1)\n",
        "    input_shape = (img_rows, img_cols, 1)\n",
        "    X_train_mat = X_train_mat.astype('float32')\n",
        "    X_test_mat = X_test_mat.astype('float32')\n",
        "    X_train_mat /= 255\n",
        "    X_test_mat /= 255\n",
        "    y_train_cat = np_utils.to_categorical(y_train_real[:subset], nb_classes)\n",
        "    y_test_cat = np_utils.to_categorical(y_test_real, nb_classes)\n",
        "    return (X_train_mat, y_train_cat), (X_test_mat, y_test_cat)\n",
        "\n",
        "def compare(decoded_imgs,img):\n",
        "    n = 10  # how many digits we will display\n",
        "    plt.figure(figsize=(20, 4))\n",
        "    for i in range(n):\n",
        "        # display original\n",
        "        ax = plt.subplot(2, n, i + 1)\n",
        "        plt.imshow(img[i].reshape(28, 28))\n",
        "        plt.gray()\n",
        "        ax.get_xaxis().set_visible(False)\n",
        "        ax.get_yaxis().set_visible(False)\n",
        "\n",
        "        # display reconstruction\n",
        "        ax = plt.subplot(2, n, i + 1 + n)\n",
        "        plt.imshow(decoded_imgs[i].reshape(28, 28))\n",
        "        plt.gray()\n",
        "        ax.get_xaxis().set_visible(False)\n",
        "        ax.get_yaxis().set_visible(False)\n",
        "    plt.show()\n",
        "\n",
        "(X_train_mat, y_train_cat), (X_test_mat, y_test_cat) =loadMNISTAsMaxtrix()\n",
        "(X_train_vect, y_train_cat), (X_test_vect, y_test_cat) =loadMNISTAsVector()\n"
      ],
      "execution_count": 1,
      "outputs": [
        {
          "output_type": "stream",
          "text": [
            "Using TensorFlow backend.\n"
          ],
          "name": "stderr"
        },
        {
          "output_type": "stream",
          "text": [
            "Downloading data from https://s3.amazonaws.com/img-datasets/mnist.npz\n",
            "11493376/11490434 [==============================] - 1s 0us/step\n"
          ],
          "name": "stdout"
        }
      ]
    },
    {
      "cell_type": "markdown",
      "metadata": {
        "id": "HL2aFB3mh0cv",
        "colab_type": "text"
      },
      "source": [
        "We now have vectors instead of images"
      ]
    },
    {
      "cell_type": "markdown",
      "metadata": {
        "id": "lWgA3tP8h0cw",
        "colab_type": "text"
      },
      "source": [
        "## Multi layered auto encoder"
      ]
    },
    {
      "cell_type": "code",
      "metadata": {
        "id": "6mIUgI5Bh0cx",
        "colab_type": "code",
        "colab": {
          "base_uri": "https://localhost:8080/",
          "height": 462
        },
        "outputId": "da4c84e1-977b-451b-e3de-30a8954add04"
      },
      "source": [
        "def getAutoEncoder(encoding_dim = 1):\n",
        "    model = Sequential()\n",
        "    #encoder\n",
        "    model.add(InputLayer(input_shape=(784,)))\n",
        "    \n",
        "    #space reduction\n",
        "    model.add(Dense(encoding_dim,activation='relu',name='featurespace'))\n",
        "   \n",
        "    #Decoder\n",
        "     \n",
        "    \n",
        "\n",
        "    model.add(Dense(784, activation='sigmoid'))\n",
        "    \n",
        "    sgd = SGD(lr=0.1, decay=1e-6, momentum=0.9, nesterov=True)\n",
        "    model.compile(loss='binary_crossentropy',  optimizer=sgd)\n",
        "\n",
        "   \n",
        "    return model\n",
        "\n",
        "model=getAutoEncoder(encoding_dim = 1)\n",
        "model.summary()\n",
        "\n",
        "\n",
        "\n"
      ],
      "execution_count": 2,
      "outputs": [
        {
          "output_type": "stream",
          "text": [
            "WARNING:tensorflow:From /usr/local/lib/python3.6/dist-packages/keras/backend/tensorflow_backend.py:66: The name tf.get_default_graph is deprecated. Please use tf.compat.v1.get_default_graph instead.\n",
            "\n",
            "WARNING:tensorflow:From /usr/local/lib/python3.6/dist-packages/keras/backend/tensorflow_backend.py:541: The name tf.placeholder is deprecated. Please use tf.compat.v1.placeholder instead.\n",
            "\n",
            "WARNING:tensorflow:From /usr/local/lib/python3.6/dist-packages/keras/backend/tensorflow_backend.py:4432: The name tf.random_uniform is deprecated. Please use tf.random.uniform instead.\n",
            "\n",
            "WARNING:tensorflow:From /usr/local/lib/python3.6/dist-packages/keras/optimizers.py:793: The name tf.train.Optimizer is deprecated. Please use tf.compat.v1.train.Optimizer instead.\n",
            "\n",
            "WARNING:tensorflow:From /usr/local/lib/python3.6/dist-packages/keras/backend/tensorflow_backend.py:3657: The name tf.log is deprecated. Please use tf.math.log instead.\n",
            "\n",
            "WARNING:tensorflow:From /usr/local/lib/python3.6/dist-packages/tensorflow_core/python/ops/nn_impl.py:183: where (from tensorflow.python.ops.array_ops) is deprecated and will be removed in a future version.\n",
            "Instructions for updating:\n",
            "Use tf.where in 2.0, which has the same broadcast rule as np.where\n",
            "Model: \"sequential_1\"\n",
            "_________________________________________________________________\n",
            "Layer (type)                 Output Shape              Param #   \n",
            "=================================================================\n",
            "featurespace (Dense)         (None, 1)                 785       \n",
            "_________________________________________________________________\n",
            "dense_1 (Dense)              (None, 784)               1568      \n",
            "=================================================================\n",
            "Total params: 2,353\n",
            "Trainable params: 2,353\n",
            "Non-trainable params: 0\n",
            "_________________________________________________________________\n"
          ],
          "name": "stdout"
        }
      ]
    },
    {
      "cell_type": "code",
      "metadata": {
        "id": "2G52ltJ0h0c1",
        "colab_type": "code",
        "colab": {
          "base_uri": "https://localhost:8080/",
          "height": 1000
        },
        "outputId": "8d370f0e-dcf8-4cce-d9f2-69d56076a944"
      },
      "source": [
        "(X_train_vect, _), (X_test_vect, _) =loadMNISTAsVector(subset=10000)\n",
        "model=getAutoEncoder(encoding_dim = 32)\n",
        "batch_size = 256\n",
        "epochs=20\n",
        "model.fit(X_train_vect, X_train_vect,\n",
        "                epochs=epochs,\n",
        "                batch_size=batch_size,\n",
        "                shuffle=True,\n",
        "                validation_data=(X_test_vect, X_test_vect))"
      ],
      "execution_count": 3,
      "outputs": [
        {
          "output_type": "stream",
          "text": [
            "WARNING:tensorflow:From /usr/local/lib/python3.6/dist-packages/keras/backend/tensorflow_backend.py:1033: The name tf.assign_add is deprecated. Please use tf.compat.v1.assign_add instead.\n",
            "\n",
            "WARNING:tensorflow:From /usr/local/lib/python3.6/dist-packages/keras/backend/tensorflow_backend.py:1020: The name tf.assign is deprecated. Please use tf.compat.v1.assign instead.\n",
            "\n",
            "WARNING:tensorflow:From /usr/local/lib/python3.6/dist-packages/keras/backend/tensorflow_backend.py:3005: The name tf.Session is deprecated. Please use tf.compat.v1.Session instead.\n",
            "\n",
            "Train on 10000 samples, validate on 10000 samples\n",
            "Epoch 1/20\n",
            "WARNING:tensorflow:From /usr/local/lib/python3.6/dist-packages/keras/backend/tensorflow_backend.py:190: The name tf.get_default_session is deprecated. Please use tf.compat.v1.get_default_session instead.\n",
            "\n",
            "WARNING:tensorflow:From /usr/local/lib/python3.6/dist-packages/keras/backend/tensorflow_backend.py:197: The name tf.ConfigProto is deprecated. Please use tf.compat.v1.ConfigProto instead.\n",
            "\n",
            "WARNING:tensorflow:From /usr/local/lib/python3.6/dist-packages/keras/backend/tensorflow_backend.py:207: The name tf.global_variables is deprecated. Please use tf.compat.v1.global_variables instead.\n",
            "\n",
            "WARNING:tensorflow:From /usr/local/lib/python3.6/dist-packages/keras/backend/tensorflow_backend.py:216: The name tf.is_variable_initialized is deprecated. Please use tf.compat.v1.is_variable_initialized instead.\n",
            "\n",
            "WARNING:tensorflow:From /usr/local/lib/python3.6/dist-packages/keras/backend/tensorflow_backend.py:223: The name tf.variables_initializer is deprecated. Please use tf.compat.v1.variables_initializer instead.\n",
            "\n",
            "10000/10000 [==============================] - 5s 460us/step - loss: 0.6802 - val_loss: 0.6382\n",
            "Epoch 2/20\n",
            "10000/10000 [==============================] - 0s 29us/step - loss: 0.4737 - val_loss: 0.3096\n",
            "Epoch 3/20\n",
            "10000/10000 [==============================] - 0s 29us/step - loss: 0.2895 - val_loss: 0.2801\n",
            "Epoch 4/20\n",
            "10000/10000 [==============================] - 0s 29us/step - loss: 0.2779 - val_loss: 0.2754\n",
            "Epoch 5/20\n",
            "10000/10000 [==============================] - 0s 28us/step - loss: 0.2743 - val_loss: 0.2727\n",
            "Epoch 6/20\n",
            "10000/10000 [==============================] - 0s 28us/step - loss: 0.2718 - val_loss: 0.2704\n",
            "Epoch 7/20\n",
            "10000/10000 [==============================] - 0s 29us/step - loss: 0.2695 - val_loss: 0.2682\n",
            "Epoch 8/20\n",
            "10000/10000 [==============================] - 0s 30us/step - loss: 0.2670 - val_loss: 0.2655\n",
            "Epoch 9/20\n",
            "10000/10000 [==============================] - 0s 28us/step - loss: 0.2643 - val_loss: 0.2627\n",
            "Epoch 10/20\n",
            "10000/10000 [==============================] - 0s 28us/step - loss: 0.2611 - val_loss: 0.2594\n",
            "Epoch 11/20\n",
            "10000/10000 [==============================] - 0s 30us/step - loss: 0.2576 - val_loss: 0.2557\n",
            "Epoch 12/20\n",
            "10000/10000 [==============================] - 0s 30us/step - loss: 0.2536 - val_loss: 0.2515\n",
            "Epoch 13/20\n",
            "10000/10000 [==============================] - 0s 27us/step - loss: 0.2493 - val_loss: 0.2473\n",
            "Epoch 14/20\n",
            "10000/10000 [==============================] - 0s 27us/step - loss: 0.2450 - val_loss: 0.2430\n",
            "Epoch 15/20\n",
            "10000/10000 [==============================] - 0s 28us/step - loss: 0.2408 - val_loss: 0.2390\n",
            "Epoch 16/20\n",
            "10000/10000 [==============================] - 0s 27us/step - loss: 0.2367 - val_loss: 0.2350\n",
            "Epoch 17/20\n",
            "10000/10000 [==============================] - 0s 28us/step - loss: 0.2329 - val_loss: 0.2313\n",
            "Epoch 18/20\n",
            "10000/10000 [==============================] - 0s 29us/step - loss: 0.2293 - val_loss: 0.2279\n",
            "Epoch 19/20\n",
            "10000/10000 [==============================] - 0s 29us/step - loss: 0.2260 - val_loss: 0.2246\n",
            "Epoch 20/20\n",
            "10000/10000 [==============================] - 0s 28us/step - loss: 0.2228 - val_loss: 0.2216\n"
          ],
          "name": "stdout"
        },
        {
          "output_type": "execute_result",
          "data": {
            "text/plain": [
              "<keras.callbacks.History at 0x7f1886efbf28>"
            ]
          },
          "metadata": {
            "tags": []
          },
          "execution_count": 3
        }
      ]
    },
    {
      "cell_type": "code",
      "metadata": {
        "id": "vv5U9OB_h0c3",
        "colab_type": "code",
        "colab": {
          "base_uri": "https://localhost:8080/",
          "height": 244
        },
        "outputId": "c6e87f39-2562-428c-874a-91bc20c4152c"
      },
      "source": [
        "decoded_imgs = model.predict(X_test_vect)\n",
        "compare(decoded_imgs,X_test_vect )"
      ],
      "execution_count": 4,
      "outputs": [
        {
          "output_type": "display_data",
          "data": {
            "image/png": "[encoded data removed]",
            "text/plain": [
              "<Figure size 1440x288 with 20 Axes>"
            ]
          },
          "metadata": {
            "tags": []
          }
        }
      ]
    },
    {
      "cell_type": "code",
      "metadata": {
        "id": "J6TTW1iwh0c5",
        "colab_type": "code",
        "colab": {}
      },
      "source": [
        ""
      ],
      "execution_count": 0,
      "outputs": []
    },
    {
      "cell_type": "markdown",
      "metadata": {
        "id": "yeqdCDHTh0c8",
        "colab_type": "text"
      },
      "source": [
        "## CNN auto encoders"
      ]
    },
    {
      "cell_type": "code",
      "metadata": {
        "id": "1gUCBjrhh0c9",
        "colab_type": "code",
        "colab": {}
      },
      "source": [
        "def getCNNAutoEncoder(encoding_dim = 1):\n",
        "    model = Sequential()\n",
        "    #encoder\n",
        "    model.add(InputLayer(input_shape=(28,28,1)))\n",
        "    model.add(Conv2D(32, (3, 3),activation='relu',padding='same'))\n",
        "    model.add(Conv2D(32, (3, 3),activation='relu',padding='same'))\n",
        "    model.add(MaxPooling2D(pool_size=(2, 2))) # images 14x14\n",
        "    model.add(Conv2D(64,(3, 3),  padding='same',activation='relu'))\n",
        "    model.add(Conv2D(64,(3, 3),  padding='same',activation='relu'))\n",
        "    model.add(MaxPooling2D(pool_size=(2, 2)))# images 7x7\n",
        "    \n",
        "    \n",
        "    \n",
        "    model.add(Flatten())                    #64x7x7\n",
        "    model.add(Dense(encoding_dim,activation='relu',name='featurespace')) #32\n",
        "   \n",
        "    \n",
        "    nb_img=64\n",
        "    model.add(Dense(nb_img*7*7,activation='relu')) #nb_imgx7x7\n",
        "    #Decoder\n",
        "    model.add(Reshape((7, 7,nb_img))) #nb_imgx7x7\n",
        "    model.add(UpSampling2D((2, 2))) #images 14x14\n",
        "    model.add(Conv2D(64, (3, 3), padding='same', activation='relu'))\n",
        "    model.add(Conv2D(64, (3, 3), padding='same', activation='relu'))\n",
        "   \n",
        "    model.add(UpSampling2D((2, 2))) #images 28x28\n",
        "   \n",
        "    model.add(Conv2D(32, (3, 3),  padding='same', activation='relu'))\n",
        "    model.add(Conv2D(32, (3, 3),  padding='same', activation='relu'))\n",
        "    model.add(Conv2D(16, (3, 3),  padding='same', activation='relu'))\n",
        "    model.add(Conv2D(1, (3, 3),  padding='same', activation='sigmoid'))\n",
        "    sgd = SGD(lr=0.1, decay=1e-6, momentum=0.9, nesterov=True)\n",
        "    model.compile(loss='binary_crossentropy',  optimizer=Adam())\n",
        "\n",
        "   \n",
        "    return model\n"
      ],
      "execution_count": 0,
      "outputs": []
    },
    {
      "cell_type": "code",
      "metadata": {
        "id": "AfuzbR0Xh0dB",
        "colab_type": "code",
        "colab": {
          "base_uri": "https://localhost:8080/",
          "height": 765
        },
        "outputId": "7d7d346b-31a7-495d-829a-0d0eab89010a"
      },
      "source": [
        "model=getCNNAutoEncoder(encoding_dim = 32)\n",
        "model.summary()"
      ],
      "execution_count": 12,
      "outputs": [
        {
          "output_type": "stream",
          "text": [
            "Model: \"sequential_7\"\n",
            "_________________________________________________________________\n",
            "Layer (type)                 Output Shape              Param #   \n",
            "=================================================================\n",
            "conv2d_17 (Conv2D)           (None, 28, 28, 32)        320       \n",
            "_________________________________________________________________\n",
            "conv2d_18 (Conv2D)           (None, 28, 28, 32)        9248      \n",
            "_________________________________________________________________\n",
            "max_pooling2d_9 (MaxPooling2 (None, 14, 14, 32)        0         \n",
            "_________________________________________________________________\n",
            "conv2d_19 (Conv2D)           (None, 14, 14, 64)        18496     \n",
            "_________________________________________________________________\n",
            "conv2d_20 (Conv2D)           (None, 14, 14, 64)        36928     \n",
            "_________________________________________________________________\n",
            "max_pooling2d_10 (MaxPooling (None, 7, 7, 64)          0         \n",
            "_________________________________________________________________\n",
            "flatten_5 (Flatten)          (None, 3136)              0         \n",
            "_________________________________________________________________\n",
            "featurespace (Dense)         (None, 32)                100384    \n",
            "_________________________________________________________________\n",
            "dense_7 (Dense)              (None, 3136)              103488    \n",
            "_________________________________________________________________\n",
            "reshape_5 (Reshape)          (None, 7, 7, 64)          0         \n",
            "_________________________________________________________________\n",
            "up_sampling2d_9 (UpSampling2 (None, 14, 14, 64)        0         \n",
            "_________________________________________________________________\n",
            "conv2d_21 (Conv2D)           (None, 14, 14, 64)        36928     \n",
            "_________________________________________________________________\n",
            "conv2d_22 (Conv2D)           (None, 14, 14, 64)        36928     \n",
            "_________________________________________________________________\n",
            "up_sampling2d_10 (UpSampling (None, 28, 28, 64)        0         \n",
            "_________________________________________________________________\n",
            "conv2d_23 (Conv2D)           (None, 28, 28, 32)        18464     \n",
            "_________________________________________________________________\n",
            "conv2d_24 (Conv2D)           (None, 28, 28, 32)        9248      \n",
            "_________________________________________________________________\n",
            "conv2d_25 (Conv2D)           (None, 28, 28, 16)        4624      \n",
            "_________________________________________________________________\n",
            "conv2d_26 (Conv2D)           (None, 28, 28, 1)         145       \n",
            "=================================================================\n",
            "Total params: 375,201\n",
            "Trainable params: 375,201\n",
            "Non-trainable params: 0\n",
            "_________________________________________________________________\n"
          ],
          "name": "stdout"
        }
      ]
    },
    {
      "cell_type": "code",
      "metadata": {
        "id": "_iQSL14lh0dE",
        "colab_type": "code",
        "colab": {
          "base_uri": "https://localhost:8080/",
          "height": 1000
        },
        "outputId": "f23f2a03-47b6-4610-b40d-ddb9bab1ee89"
      },
      "source": [
        "(X_train_mat, _), (X_test_mat, _) =loadMNISTAsMaxtrix()\n",
        "model=getCNNAutoEncoder(encoding_dim = 32)\n",
        "batch_size = 256\n",
        "epochs=50\n",
        "model.fit(X_train_mat, X_train_mat,\n",
        "                epochs=epochs,\n",
        "                batch_size=batch_size,\n",
        "                shuffle=True,\n",
        "                validation_data=(X_test_mat, X_test_mat))"
      ],
      "execution_count": 13,
      "outputs": [
        {
          "output_type": "stream",
          "text": [
            "Train on 10000 samples, validate on 10000 samples\n",
            "Epoch 1/50\n",
            "10000/10000 [==============================] - 9s 884us/step - loss: 0.3607 - val_loss: 0.2777\n",
            "Epoch 2/50\n",
            "10000/10000 [==============================] - 5s 451us/step - loss: 0.2440 - val_loss: 0.2116\n",
            "Epoch 3/50\n",
            "10000/10000 [==============================] - 5s 452us/step - loss: 0.1996 - val_loss: 0.1904\n",
            "Epoch 4/50\n",
            "10000/10000 [==============================] - 4s 450us/step - loss: 0.1810 - val_loss: 0.1725\n",
            "Epoch 5/50\n",
            "10000/10000 [==============================] - 5s 451us/step - loss: 0.1613 - val_loss: 0.1512\n",
            "Epoch 6/50\n",
            "10000/10000 [==============================] - 5s 452us/step - loss: 0.1405 - val_loss: 0.1523\n",
            "Epoch 7/50\n",
            "10000/10000 [==============================] - 5s 451us/step - loss: 0.1303 - val_loss: 0.1230\n",
            "Epoch 8/50\n",
            "10000/10000 [==============================] - 5s 451us/step - loss: 0.1199 - val_loss: 0.1177\n",
            "Epoch 9/50\n",
            "10000/10000 [==============================] - 5s 451us/step - loss: 0.1121 - val_loss: 0.1102\n",
            "Epoch 10/50\n",
            "10000/10000 [==============================] - 5s 451us/step - loss: 0.1072 - val_loss: 0.1060\n",
            "Epoch 11/50\n",
            "10000/10000 [==============================] - 5s 451us/step - loss: 0.1015 - val_loss: 0.1026\n",
            "Epoch 12/50\n",
            "10000/10000 [==============================] - 5s 453us/step - loss: 0.0984 - val_loss: 0.1051\n",
            "Epoch 13/50\n",
            "10000/10000 [==============================] - 5s 453us/step - loss: 0.0973 - val_loss: 0.0996\n",
            "Epoch 14/50\n",
            "10000/10000 [==============================] - 5s 453us/step - loss: 0.0944 - val_loss: 0.0938\n",
            "Epoch 15/50\n",
            "10000/10000 [==============================] - 5s 453us/step - loss: 0.0921 - val_loss: 0.0944\n",
            "Epoch 16/50\n",
            "10000/10000 [==============================] - 5s 456us/step - loss: 0.0914 - val_loss: 0.0912\n",
            "Epoch 17/50\n",
            "10000/10000 [==============================] - 5s 453us/step - loss: 0.0901 - val_loss: 0.0926\n",
            "Epoch 18/50\n",
            "10000/10000 [==============================] - 4s 450us/step - loss: 0.0885 - val_loss: 0.0895\n",
            "Epoch 19/50\n",
            "10000/10000 [==============================] - 5s 454us/step - loss: 0.0877 - val_loss: 0.0907\n",
            "Epoch 20/50\n",
            "10000/10000 [==============================] - 5s 456us/step - loss: 0.0888 - val_loss: 0.0885\n",
            "Epoch 21/50\n",
            "10000/10000 [==============================] - 5s 453us/step - loss: 0.0861 - val_loss: 0.0891\n",
            "Epoch 22/50\n",
            "10000/10000 [==============================] - 5s 453us/step - loss: 0.0859 - val_loss: 0.0882\n",
            "Epoch 23/50\n",
            "10000/10000 [==============================] - 5s 454us/step - loss: 0.0855 - val_loss: 0.0874\n",
            "Epoch 24/50\n",
            "10000/10000 [==============================] - 5s 452us/step - loss: 0.0848 - val_loss: 0.0890\n",
            "Epoch 25/50\n",
            "10000/10000 [==============================] - 5s 452us/step - loss: 0.0847 - val_loss: 0.0856\n",
            "Epoch 26/50\n",
            "10000/10000 [==============================] - 5s 455us/step - loss: 0.0841 - val_loss: 0.0846\n",
            "Epoch 27/50\n",
            "10000/10000 [==============================] - 5s 456us/step - loss: 0.0832 - val_loss: 0.0864\n",
            "Epoch 28/50\n",
            "10000/10000 [==============================] - 5s 453us/step - loss: 0.0840 - val_loss: 0.0873\n",
            "Epoch 29/50\n",
            "10000/10000 [==============================] - 5s 454us/step - loss: 0.0827 - val_loss: 0.0840\n",
            "Epoch 30/50\n",
            "10000/10000 [==============================] - 5s 453us/step - loss: 0.0822 - val_loss: 0.0863\n",
            "Epoch 31/50\n",
            "10000/10000 [==============================] - 5s 452us/step - loss: 0.0825 - val_loss: 0.0846\n",
            "Epoch 32/50\n",
            "10000/10000 [==============================] - 5s 456us/step - loss: 0.0826 - val_loss: 0.0835\n",
            "Epoch 33/50\n",
            "10000/10000 [==============================] - 5s 453us/step - loss: 0.0814 - val_loss: 0.0841\n",
            "Epoch 34/50\n",
            "10000/10000 [==============================] - 4s 449us/step - loss: 0.0812 - val_loss: 0.0826\n",
            "Epoch 35/50\n",
            "10000/10000 [==============================] - 5s 455us/step - loss: 0.0811 - val_loss: 0.0847\n",
            "Epoch 36/50\n",
            "10000/10000 [==============================] - 5s 453us/step - loss: 0.0812 - val_loss: 0.0835\n",
            "Epoch 37/50\n",
            "10000/10000 [==============================] - 5s 455us/step - loss: 0.0805 - val_loss: 0.0845\n",
            "Epoch 38/50\n",
            "10000/10000 [==============================] - 5s 452us/step - loss: 0.0804 - val_loss: 0.0824\n",
            "Epoch 39/50\n",
            "10000/10000 [==============================] - 5s 453us/step - loss: 0.0802 - val_loss: 0.0828\n",
            "Epoch 40/50\n",
            "10000/10000 [==============================] - 5s 456us/step - loss: 0.0802 - val_loss: 0.0821\n",
            "Epoch 41/50\n",
            "10000/10000 [==============================] - 5s 453us/step - loss: 0.0797 - val_loss: 0.0830\n",
            "Epoch 42/50\n",
            "10000/10000 [==============================] - 5s 456us/step - loss: 0.0797 - val_loss: 0.0838\n",
            "Epoch 43/50\n",
            "10000/10000 [==============================] - 5s 453us/step - loss: 0.0800 - val_loss: 0.0816\n",
            "Epoch 44/50\n",
            "10000/10000 [==============================] - 5s 456us/step - loss: 0.0793 - val_loss: 0.0823\n",
            "Epoch 45/50\n",
            "10000/10000 [==============================] - 5s 452us/step - loss: 0.0795 - val_loss: 0.0822\n",
            "Epoch 46/50\n",
            "10000/10000 [==============================] - 5s 454us/step - loss: 0.0788 - val_loss: 0.0815\n",
            "Epoch 47/50\n",
            "10000/10000 [==============================] - 4s 449us/step - loss: 0.0789 - val_loss: 0.0835\n",
            "Epoch 48/50\n",
            "10000/10000 [==============================] - 5s 454us/step - loss: 0.0788 - val_loss: 0.0821\n",
            "Epoch 49/50\n",
            "10000/10000 [==============================] - 5s 452us/step - loss: 0.0784 - val_loss: 0.0806\n",
            "Epoch 50/50\n",
            "10000/10000 [==============================] - 5s 452us/step - loss: 0.0781 - val_loss: 0.0813\n"
          ],
          "name": "stdout"
        },
        {
          "output_type": "execute_result",
          "data": {
            "text/plain": [
              "<keras.callbacks.History at 0x7f182cf2bc88>"
            ]
          },
          "metadata": {
            "tags": []
          },
          "execution_count": 13
        }
      ]
    },
    {
      "cell_type": "code",
      "metadata": {
        "id": "eIIW4CqKh0dG",
        "colab_type": "code",
        "colab": {
          "base_uri": "https://localhost:8080/",
          "height": 244
        },
        "outputId": "a98e7fd5-700a-45ad-d629-171f29287a27"
      },
      "source": [
        "decoded_imgs = model.predict(X_test_mat)\n",
        "compare(decoded_imgs,X_test_mat )"
      ],
      "execution_count": 14,
      "outputs": [
        {
          "output_type": "display_data",
          "data": {
            "image/png": "[encoded data removed]",
            "text/plain": [
              "<Figure size 1440x288 with 20 Axes>"
            ]
          },
          "metadata": {
            "tags": []
          }
        }
      ]
    },
    {
      "cell_type": "markdown",
      "metadata": {
        "id": "wyXhD08jh0dJ",
        "colab_type": "text"
      },
      "source": [
        "# Denoising"
      ]
    },
    {
      "cell_type": "code",
      "metadata": {
        "id": "y7Wd92Dah0dK",
        "colab_type": "code",
        "colab": {}
      },
      "source": [
        "noise_factor = 0.1\n",
        "x_train_noisy = X_train_mat + noise_factor * np.random.normal(loc=0.0, scale=1.0, size=X_train_mat.shape) \n",
        "x_test_noisy = X_test_mat + noise_factor * np.random.normal(loc=0.0, scale=1.0, size=X_test_mat.shape) \n",
        "\n",
        "x_train_noisy = np.clip(x_train_noisy, 0., 1.)\n",
        "x_test_noisy = np.clip(x_test_noisy, 0., 1.)"
      ],
      "execution_count": 0,
      "outputs": []
    },
    {
      "cell_type": "code",
      "metadata": {
        "id": "XiI6nv0hh0dM",
        "colab_type": "code",
        "colab": {
          "base_uri": "https://localhost:8080/",
          "height": 244
        },
        "outputId": "11c2a5ef-1873-4b16-f4e8-122b6ad975de"
      },
      "source": [
        "decoded_imgs = model.predict(x_test_noisy)\n",
        "compare(decoded_imgs,x_test_noisy )"
      ],
      "execution_count": 16,
      "outputs": [
        {
          "output_type": "display_data",
          "data": {
            "image/png": "[encoded data removed]",
            "text/plain": [
              "<Figure size 1440x288 with 20 Axes>"
            ]
          },
          "metadata": {
            "tags": []
          }
        }
      ]
    },
    {
      "cell_type": "markdown",
      "metadata": {
        "id": "rWA32rToh0dP",
        "colab_type": "text"
      },
      "source": [
        "# Image correction"
      ]
    },
    {
      "cell_type": "markdown",
      "metadata": {
        "id": "oly7LutAh0dP",
        "colab_type": "text"
      },
      "source": [
        "## denoising"
      ]
    },
    {
      "cell_type": "code",
      "metadata": {
        "id": "JEETvBKHh0dQ",
        "colab_type": "code",
        "colab": {}
      },
      "source": [
        "noise_factor = 0.5\n",
        "x_train_noisy = X_train_mat + noise_factor * np.random.normal(loc=0.0, scale=1.0, size=X_train_mat.shape) \n",
        "x_test_noisy = X_test_mat + noise_factor * np.random.normal(loc=0.0, scale=1.0, size=X_test_mat.shape) \n",
        "\n",
        "x_train_noisy = np.clip(x_train_noisy, 0., 1.)\n",
        "x_test_noisy = np.clip(x_test_noisy, 0., 1.)"
      ],
      "execution_count": 0,
      "outputs": []
    },
    {
      "cell_type": "code",
      "metadata": {
        "id": "i3lAdqO0h0dV",
        "colab_type": "code",
        "colab": {
          "base_uri": "https://localhost:8080/",
          "height": 731
        },
        "outputId": "65f74c22-fafd-4447-9a79-e0f9ab4f0e3c"
      },
      "source": [
        "model=getCNNAutoEncoder(encoding_dim = 32)\n",
        "batch_size = 256\n",
        "epochs=20\n",
        "model.fit(x_train_noisy, X_train_mat,\n",
        "                epochs=epochs,\n",
        "                batch_size=batch_size,\n",
        "                shuffle=True,\n",
        "                validation_data=(x_test_noisy, X_test_mat))"
      ],
      "execution_count": 25,
      "outputs": [
        {
          "output_type": "stream",
          "text": [
            "Train on 10000 samples, validate on 10000 samples\n",
            "Epoch 1/20\n",
            "10000/10000 [==============================] - 6s 620us/step - loss: 0.3489 - val_loss: 0.2667\n",
            "Epoch 2/20\n",
            "10000/10000 [==============================] - 5s 457us/step - loss: 0.2651 - val_loss: 0.2631\n",
            "Epoch 3/20\n",
            "10000/10000 [==============================] - 5s 459us/step - loss: 0.2559 - val_loss: 0.2462\n",
            "Epoch 4/20\n",
            "10000/10000 [==============================] - 5s 458us/step - loss: 0.2178 - val_loss: 0.1909\n",
            "Epoch 5/20\n",
            "10000/10000 [==============================] - 5s 456us/step - loss: 0.1706 - val_loss: 0.1617\n",
            "Epoch 6/20\n",
            "10000/10000 [==============================] - 5s 460us/step - loss: 0.1497 - val_loss: 0.1471\n",
            "Epoch 7/20\n",
            "10000/10000 [==============================] - 5s 456us/step - loss: 0.1387 - val_loss: 0.1353\n",
            "Epoch 8/20\n",
            "10000/10000 [==============================] - 5s 456us/step - loss: 0.1302 - val_loss: 0.1287\n",
            "Epoch 9/20\n",
            "10000/10000 [==============================] - 5s 457us/step - loss: 0.1241 - val_loss: 0.1367\n",
            "Epoch 10/20\n",
            "10000/10000 [==============================] - 5s 454us/step - loss: 0.1222 - val_loss: 0.1217\n",
            "Epoch 11/20\n",
            "10000/10000 [==============================] - 5s 458us/step - loss: 0.1177 - val_loss: 0.1226\n",
            "Epoch 12/20\n",
            "10000/10000 [==============================] - 5s 455us/step - loss: 0.1160 - val_loss: 0.1181\n",
            "Epoch 13/20\n",
            "10000/10000 [==============================] - 5s 459us/step - loss: 0.1136 - val_loss: 0.1174\n",
            "Epoch 14/20\n",
            "10000/10000 [==============================] - 5s 458us/step - loss: 0.1133 - val_loss: 0.1161\n",
            "Epoch 15/20\n",
            "10000/10000 [==============================] - 5s 459us/step - loss: 0.1113 - val_loss: 0.1173\n",
            "Epoch 16/20\n",
            "10000/10000 [==============================] - 5s 458us/step - loss: 0.1102 - val_loss: 0.1181\n",
            "Epoch 17/20\n",
            "10000/10000 [==============================] - 5s 456us/step - loss: 0.1096 - val_loss: 0.1134\n",
            "Epoch 18/20\n",
            "10000/10000 [==============================] - 5s 457us/step - loss: 0.1079 - val_loss: 0.1109\n",
            "Epoch 19/20\n",
            "10000/10000 [==============================] - 5s 459us/step - loss: 0.1075 - val_loss: 0.1139\n",
            "Epoch 20/20\n",
            "10000/10000 [==============================] - 5s 458us/step - loss: 0.1071 - val_loss: 0.1128\n"
          ],
          "name": "stdout"
        },
        {
          "output_type": "execute_result",
          "data": {
            "text/plain": [
              "<keras.callbacks.History at 0x7f182c0aae48>"
            ]
          },
          "metadata": {
            "tags": []
          },
          "execution_count": 25
        }
      ]
    },
    {
      "cell_type": "code",
      "metadata": {
        "id": "7C54KHV_h0dX",
        "colab_type": "code",
        "colab": {
          "base_uri": "https://localhost:8080/",
          "height": 244
        },
        "outputId": "94f1aca1-e43e-4326-cb78-32b0da114b66"
      },
      "source": [
        "decoded_imgs = model.predict(x_test_noisy)\n",
        "compare(decoded_imgs,x_test_noisy )"
      ],
      "execution_count": 26,
      "outputs": [
        {
          "output_type": "display_data",
          "data": {
            "image/png": "[encoded data removed]",
            "text/plain": [
              "<Figure size 1440x288 with 20 Axes>"
            ]
          },
          "metadata": {
            "tags": []
          }
        }
      ]
    },
    {
      "cell_type": "code",
      "metadata": {
        "id": "nQpjWiMNh0da",
        "colab_type": "code",
        "colab": {}
      },
      "source": [
        "(X_train_mat, _), (X_test_mat, _) =loadMNISTAsMaxtrix()\n",
        "X_train_crop=np.copy(X_train_mat)\n",
        "X_train_crop[:,:14,:14,]=0\n",
        "X_test_crop=np.copy(X_test_mat)\n",
        "X_test_crop[:,:14,:14,]=0\n"
      ],
      "execution_count": 0,
      "outputs": []
    },
    {
      "cell_type": "code",
      "metadata": {
        "id": "7ZJO3ujkh0dc",
        "colab_type": "code",
        "colab": {
          "base_uri": "https://localhost:8080/",
          "height": 1000
        },
        "outputId": "3eca8ff9-f45f-463f-ede4-09d2a749914f"
      },
      "source": [
        "model=getCNNAutoEncoder(encoding_dim = 32)\n",
        "batch_size = 256\n",
        "epochs=50\n",
        "model.fit(X_train_crop, X_train_mat,\n",
        "                epochs=epochs,\n",
        "                batch_size=batch_size,\n",
        "                shuffle=True,\n",
        "                validation_data=(X_test_crop, X_test_mat))"
      ],
      "execution_count": 28,
      "outputs": [
        {
          "output_type": "stream",
          "text": [
            "Train on 10000 samples, validate on 10000 samples\n",
            "Epoch 1/50\n",
            "10000/10000 [==============================] - 6s 630us/step - loss: 0.3781 - val_loss: 0.2651\n",
            "Epoch 2/50\n",
            "10000/10000 [==============================] - 5s 453us/step - loss: 0.2479 - val_loss: 0.2206\n",
            "Epoch 3/50\n",
            "10000/10000 [==============================] - 5s 459us/step - loss: 0.1919 - val_loss: 0.1671\n",
            "Epoch 4/50\n",
            "10000/10000 [==============================] - 5s 453us/step - loss: 0.1524 - val_loss: 0.1429\n",
            "Epoch 5/50\n",
            "10000/10000 [==============================] - 5s 455us/step - loss: 0.1344 - val_loss: 0.1337\n",
            "Epoch 6/50\n",
            "10000/10000 [==============================] - 5s 455us/step - loss: 0.1235 - val_loss: 0.1226\n",
            "Epoch 7/50\n",
            "10000/10000 [==============================] - 5s 454us/step - loss: 0.1160 - val_loss: 0.1157\n",
            "Epoch 8/50\n",
            "10000/10000 [==============================] - 5s 453us/step - loss: 0.1138 - val_loss: 0.1102\n",
            "Epoch 9/50\n",
            "10000/10000 [==============================] - 5s 454us/step - loss: 0.1075 - val_loss: 0.1077\n",
            "Epoch 10/50\n",
            "10000/10000 [==============================] - 5s 453us/step - loss: 0.1043 - val_loss: 0.1113\n",
            "Epoch 11/50\n",
            "10000/10000 [==============================] - 5s 456us/step - loss: 0.1027 - val_loss: 0.1022\n",
            "Epoch 12/50\n",
            "10000/10000 [==============================] - 5s 455us/step - loss: 0.1004 - val_loss: 0.1087\n",
            "Epoch 13/50\n",
            "10000/10000 [==============================] - 5s 456us/step - loss: 0.0993 - val_loss: 0.1031\n",
            "Epoch 14/50\n",
            "10000/10000 [==============================] - 5s 454us/step - loss: 0.0982 - val_loss: 0.1001\n",
            "Epoch 15/50\n",
            "10000/10000 [==============================] - 5s 455us/step - loss: 0.0960 - val_loss: 0.0986\n",
            "Epoch 16/50\n",
            "10000/10000 [==============================] - 5s 453us/step - loss: 0.0955 - val_loss: 0.0990\n",
            "Epoch 17/50\n",
            "10000/10000 [==============================] - 5s 457us/step - loss: 0.0943 - val_loss: 0.0995\n",
            "Epoch 18/50\n",
            "10000/10000 [==============================] - 5s 454us/step - loss: 0.0946 - val_loss: 0.0992\n",
            "Epoch 19/50\n",
            "10000/10000 [==============================] - 5s 456us/step - loss: 0.0931 - val_loss: 0.0963\n",
            "Epoch 20/50\n",
            "10000/10000 [==============================] - 5s 451us/step - loss: 0.0921 - val_loss: 0.0983\n",
            "Epoch 21/50\n",
            "10000/10000 [==============================] - 5s 456us/step - loss: 0.0932 - val_loss: 0.0967\n",
            "Epoch 22/50\n",
            "10000/10000 [==============================] - 5s 454us/step - loss: 0.0911 - val_loss: 0.0973\n",
            "Epoch 23/50\n",
            "10000/10000 [==============================] - 5s 455us/step - loss: 0.0903 - val_loss: 0.0958\n",
            "Epoch 24/50\n",
            "10000/10000 [==============================] - 5s 457us/step - loss: 0.0900 - val_loss: 0.0922\n",
            "Epoch 25/50\n",
            "10000/10000 [==============================] - 5s 457us/step - loss: 0.0892 - val_loss: 0.0953\n",
            "Epoch 26/50\n",
            "10000/10000 [==============================] - 5s 452us/step - loss: 0.0899 - val_loss: 0.0935\n",
            "Epoch 27/50\n",
            "10000/10000 [==============================] - 5s 457us/step - loss: 0.0898 - val_loss: 0.0936\n",
            "Epoch 28/50\n",
            "10000/10000 [==============================] - 5s 456us/step - loss: 0.0884 - val_loss: 0.0918\n",
            "Epoch 29/50\n",
            "10000/10000 [==============================] - 5s 455us/step - loss: 0.0877 - val_loss: 0.0948\n",
            "Epoch 30/50\n",
            "10000/10000 [==============================] - 5s 453us/step - loss: 0.0882 - val_loss: 0.0922\n",
            "Epoch 31/50\n",
            "10000/10000 [==============================] - 5s 459us/step - loss: 0.0875 - val_loss: 0.0949\n",
            "Epoch 32/50\n",
            "10000/10000 [==============================] - 5s 454us/step - loss: 0.0874 - val_loss: 0.0951\n",
            "Epoch 33/50\n",
            "10000/10000 [==============================] - 5s 456us/step - loss: 0.0870 - val_loss: 0.0920\n",
            "Epoch 34/50\n",
            "10000/10000 [==============================] - 5s 454us/step - loss: 0.0869 - val_loss: 0.0922\n",
            "Epoch 35/50\n",
            "10000/10000 [==============================] - 5s 459us/step - loss: 0.0865 - val_loss: 0.0929\n",
            "Epoch 36/50\n",
            "10000/10000 [==============================] - 5s 456us/step - loss: 0.0866 - val_loss: 0.0927\n",
            "Epoch 37/50\n",
            "10000/10000 [==============================] - 5s 456us/step - loss: 0.0860 - val_loss: 0.0905\n",
            "Epoch 38/50\n",
            "10000/10000 [==============================] - 5s 455us/step - loss: 0.0857 - val_loss: 0.0917\n",
            "Epoch 39/50\n",
            "10000/10000 [==============================] - 5s 456us/step - loss: 0.0858 - val_loss: 0.0927\n",
            "Epoch 40/50\n",
            "10000/10000 [==============================] - 5s 456us/step - loss: 0.0853 - val_loss: 0.0905\n",
            "Epoch 41/50\n",
            "10000/10000 [==============================] - 5s 457us/step - loss: 0.0847 - val_loss: 0.0906\n",
            "Epoch 42/50\n",
            "10000/10000 [==============================] - 5s 457us/step - loss: 0.0844 - val_loss: 0.0893\n",
            "Epoch 43/50\n",
            "10000/10000 [==============================] - 5s 454us/step - loss: 0.0843 - val_loss: 0.0890\n",
            "Epoch 44/50\n",
            "10000/10000 [==============================] - 5s 457us/step - loss: 0.0841 - val_loss: 0.0928\n",
            "Epoch 45/50\n",
            "10000/10000 [==============================] - 5s 457us/step - loss: 0.0848 - val_loss: 0.0918\n",
            "Epoch 46/50\n",
            "10000/10000 [==============================] - 5s 456us/step - loss: 0.0844 - val_loss: 0.0896\n",
            "Epoch 47/50\n",
            "10000/10000 [==============================] - 5s 455us/step - loss: 0.0838 - val_loss: 0.0883\n",
            "Epoch 48/50\n",
            "10000/10000 [==============================] - 5s 454us/step - loss: 0.0831 - val_loss: 0.0889\n",
            "Epoch 49/50\n",
            "10000/10000 [==============================] - 5s 454us/step - loss: 0.0844 - val_loss: 0.0904\n",
            "Epoch 50/50\n",
            "10000/10000 [==============================] - 5s 459us/step - loss: 0.0834 - val_loss: 0.0895\n"
          ],
          "name": "stdout"
        },
        {
          "output_type": "execute_result",
          "data": {
            "text/plain": [
              "<keras.callbacks.History at 0x7f182c1140f0>"
            ]
          },
          "metadata": {
            "tags": []
          },
          "execution_count": 28
        }
      ]
    },
    {
      "cell_type": "code",
      "metadata": {
        "id": "YQwuErxWh0df",
        "colab_type": "code",
        "colab": {
          "base_uri": "https://localhost:8080/",
          "height": 244
        },
        "outputId": "e31d30f0-896c-40bb-8b9e-141a0ffdc5ff"
      },
      "source": [
        "decoded_imgs = model.predict(X_test_crop)\n",
        "compare(decoded_imgs,X_test_crop )"
      ],
      "execution_count": 29,
      "outputs": [
        {
          "output_type": "display_data",
          "data": {
            "image/png": "[encoded data removed]",
            "text/plain": [
              "<Figure size 1440x288 with 20 Axes>"
            ]
          },
          "metadata": {
            "tags": []
          }
        }
      ]
    },
    {
      "cell_type": "markdown",
      "metadata": {
        "id": "NAKF5N7Lh0di",
        "colab_type": "text"
      },
      "source": [
        "## Hidden layer representation\n",
        "You can make a model that predict the values corresponding to the neurons inside an hidden layer by the following way :"
      ]
    },
    {
      "cell_type": "code",
      "metadata": {
        "id": "BB6-Cb05h0dl",
        "colab_type": "code",
        "colab": {}
      },
      "source": [
        "layer_output = model.get_layer('featurespace').output\n",
        "latent=Model(inputs=model.input,outputs=layer_output)\n",
        "lattest = latent.predict(X_test_mat)"
      ],
      "execution_count": 0,
      "outputs": []
    },
    {
      "cell_type": "code",
      "metadata": {
        "id": "rmf8VWnizcPk",
        "colab_type": "code",
        "colab": {
          "base_uri": "https://localhost:8080/",
          "height": 34
        },
        "outputId": "49767d71-8213-45be-939b-1ba36cd64359"
      },
      "source": [
        "lattest.shape, X_test_mat.shape"
      ],
      "execution_count": 32,
      "outputs": [
        {
          "output_type": "execute_result",
          "data": {
            "text/plain": [
              "((10000, 32), (10000, 28, 28, 1))"
            ]
          },
          "metadata": {
            "tags": []
          },
          "execution_count": 32
        }
      ]
    },
    {
      "cell_type": "markdown",
      "metadata": {
        "id": "4CwQFnKFh0dn",
        "colab_type": "text"
      },
      "source": [
        "# Questions\n",
        "* by using an encoding dimension of size 2, represent in 2 dimension the MNIST data with an auto encoder. Add the colors corresponding to the class. Use different activation function just before the hidden representation to see the difference\n",
        "* build an auto encode for all the dataset except the images corresponding to 5. Build the latent representation of all the data and try to detect the 5 as an outlier."
      ]
    },
    {
      "cell_type": "code",
      "metadata": {
        "id": "i2LQ9v9Ih0do",
        "colab_type": "code",
        "colab": {
          "base_uri": "https://localhost:8080/",
          "height": 1000
        },
        "outputId": "2f1254db-3966-4e9a-e3c4-ca6ef8ea8abf"
      },
      "source": [
        "(X_train_mat, _), (X_test_mat, ytestmat) =loadMNISTAsMaxtrix()\n",
        "model=getCNNAutoEncoder(encoding_dim = 2)\n",
        "batch_size = 256\n",
        "epochs=50\n",
        "model.fit(X_train_mat, X_train_mat,\n",
        "                epochs=epochs,\n",
        "                batch_size=batch_size,\n",
        "                shuffle=True,\n",
        "                validation_data=(X_test_mat, X_test_mat))"
      ],
      "execution_count": 45,
      "outputs": [
        {
          "output_type": "stream",
          "text": [
            "Train on 10000 samples, validate on 10000 samples\n",
            "Epoch 1/50\n",
            "10000/10000 [==============================] - 7s 663us/step - loss: 0.3810 - val_loss: 0.2610\n",
            "Epoch 2/50\n",
            "10000/10000 [==============================] - 5s 453us/step - loss: 0.2474 - val_loss: 0.2401\n",
            "Epoch 3/50\n",
            "10000/10000 [==============================] - 5s 452us/step - loss: 0.2333 - val_loss: 0.2294\n",
            "Epoch 4/50\n",
            "10000/10000 [==============================] - 5s 456us/step - loss: 0.2215 - val_loss: 0.2210\n",
            "Epoch 5/50\n",
            "10000/10000 [==============================] - 5s 451us/step - loss: 0.2156 - val_loss: 0.2154\n",
            "Epoch 6/50\n",
            "10000/10000 [==============================] - 5s 451us/step - loss: 0.2127 - val_loss: 0.2127\n",
            "Epoch 7/50\n",
            "10000/10000 [==============================] - 4s 450us/step - loss: 0.2100 - val_loss: 0.2122\n",
            "Epoch 8/50\n",
            "10000/10000 [==============================] - 5s 456us/step - loss: 0.2080 - val_loss: 0.2095\n",
            "Epoch 9/50\n",
            "10000/10000 [==============================] - 4s 449us/step - loss: 0.2060 - val_loss: 0.2144\n",
            "Epoch 10/50\n",
            "10000/10000 [==============================] - 5s 454us/step - loss: 0.2057 - val_loss: 0.2054\n",
            "Epoch 11/50\n",
            "10000/10000 [==============================] - 5s 453us/step - loss: 0.2023 - val_loss: 0.2061\n",
            "Epoch 12/50\n",
            "10000/10000 [==============================] - 5s 457us/step - loss: 0.2017 - val_loss: 0.2027\n",
            "Epoch 13/50\n",
            "10000/10000 [==============================] - 5s 453us/step - loss: 0.1998 - val_loss: 0.2055\n",
            "Epoch 14/50\n",
            "10000/10000 [==============================] - 5s 457us/step - loss: 0.1989 - val_loss: 0.2016\n",
            "Epoch 15/50\n",
            "10000/10000 [==============================] - 5s 455us/step - loss: 0.1979 - val_loss: 0.2046\n",
            "Epoch 16/50\n",
            "10000/10000 [==============================] - 5s 454us/step - loss: 0.1970 - val_loss: 0.1983\n",
            "Epoch 17/50\n",
            "10000/10000 [==============================] - 5s 458us/step - loss: 0.1957 - val_loss: 0.1977\n",
            "Epoch 18/50\n",
            "10000/10000 [==============================] - 5s 456us/step - loss: 0.1947 - val_loss: 0.1992\n",
            "Epoch 19/50\n",
            "10000/10000 [==============================] - 5s 456us/step - loss: 0.1940 - val_loss: 0.1978\n",
            "Epoch 20/50\n",
            "10000/10000 [==============================] - 5s 455us/step - loss: 0.1928 - val_loss: 0.2010\n",
            "Epoch 21/50\n",
            "10000/10000 [==============================] - 5s 457us/step - loss: 0.1936 - val_loss: 0.1965\n",
            "Epoch 22/50\n",
            "10000/10000 [==============================] - 5s 457us/step - loss: 0.1918 - val_loss: 0.1976\n",
            "Epoch 23/50\n",
            "10000/10000 [==============================] - 5s 458us/step - loss: 0.1915 - val_loss: 0.1943\n",
            "Epoch 24/50\n",
            "10000/10000 [==============================] - 5s 454us/step - loss: 0.1902 - val_loss: 0.1940\n",
            "Epoch 25/50\n",
            "10000/10000 [==============================] - 5s 458us/step - loss: 0.1904 - val_loss: 0.2013\n",
            "Epoch 26/50\n",
            "10000/10000 [==============================] - 5s 457us/step - loss: 0.1910 - val_loss: 0.1961\n",
            "Epoch 27/50\n",
            "10000/10000 [==============================] - 5s 455us/step - loss: 0.1892 - val_loss: 0.1954\n",
            "Epoch 28/50\n",
            "10000/10000 [==============================] - 5s 456us/step - loss: 0.1889 - val_loss: 0.1930\n",
            "Epoch 29/50\n",
            "10000/10000 [==============================] - 5s 457us/step - loss: 0.1874 - val_loss: 0.2017\n",
            "Epoch 30/50\n",
            "10000/10000 [==============================] - 5s 457us/step - loss: 0.1886 - val_loss: 0.1913\n",
            "Epoch 31/50\n",
            "10000/10000 [==============================] - 5s 458us/step - loss: 0.1863 - val_loss: 0.1967\n",
            "Epoch 32/50\n",
            "10000/10000 [==============================] - 5s 457us/step - loss: 0.1871 - val_loss: 0.1914\n",
            "Epoch 33/50\n",
            "10000/10000 [==============================] - 5s 459us/step - loss: 0.1859 - val_loss: 0.1914\n",
            "Epoch 34/50\n",
            "10000/10000 [==============================] - 5s 455us/step - loss: 0.1853 - val_loss: 0.1934\n",
            "Epoch 35/50\n",
            "10000/10000 [==============================] - 5s 454us/step - loss: 0.1857 - val_loss: 0.1935\n",
            "Epoch 36/50\n",
            "10000/10000 [==============================] - 5s 454us/step - loss: 0.1849 - val_loss: 0.1906\n",
            "Epoch 37/50\n",
            "10000/10000 [==============================] - 5s 457us/step - loss: 0.1839 - val_loss: 0.2033\n",
            "Epoch 38/50\n",
            "10000/10000 [==============================] - 5s 457us/step - loss: 0.1868 - val_loss: 0.1902\n",
            "Epoch 39/50\n",
            "10000/10000 [==============================] - 5s 456us/step - loss: 0.1843 - val_loss: 0.1934\n",
            "Epoch 40/50\n",
            "10000/10000 [==============================] - 5s 455us/step - loss: 0.1836 - val_loss: 0.1977\n",
            "Epoch 41/50\n",
            "10000/10000 [==============================] - 5s 462us/step - loss: 0.1850 - val_loss: 0.1956\n",
            "Epoch 42/50\n",
            "10000/10000 [==============================] - 5s 452us/step - loss: 0.1837 - val_loss: 0.1913\n",
            "Epoch 43/50\n",
            "10000/10000 [==============================] - 5s 458us/step - loss: 0.1827 - val_loss: 0.1925\n",
            "Epoch 44/50\n",
            "10000/10000 [==============================] - 5s 454us/step - loss: 0.1823 - val_loss: 0.1913\n",
            "Epoch 45/50\n",
            "10000/10000 [==============================] - 5s 460us/step - loss: 0.1825 - val_loss: 0.1981\n",
            "Epoch 46/50\n",
            "10000/10000 [==============================] - 5s 457us/step - loss: 0.1834 - val_loss: 0.1952\n",
            "Epoch 47/50\n",
            "10000/10000 [==============================] - 5s 456us/step - loss: 0.1826 - val_loss: 0.1897\n",
            "Epoch 48/50\n",
            "10000/10000 [==============================] - 5s 452us/step - loss: 0.1817 - val_loss: 0.1890\n",
            "Epoch 49/50\n",
            "10000/10000 [==============================] - 5s 453us/step - loss: 0.1807 - val_loss: 0.1903\n",
            "Epoch 50/50\n",
            "10000/10000 [==============================] - 5s 451us/step - loss: 0.1806 - val_loss: 0.1916\n"
          ],
          "name": "stdout"
        },
        {
          "output_type": "execute_result",
          "data": {
            "text/plain": [
              "<keras.callbacks.History at 0x7f18289ec320>"
            ]
          },
          "metadata": {
            "tags": []
          },
          "execution_count": 45
        }
      ]
    },
    {
      "cell_type": "code",
      "metadata": {
        "id": "wb-T9W8k2GN9",
        "colab_type": "code",
        "colab": {
          "base_uri": "https://localhost:8080/",
          "height": 765
        },
        "outputId": "cecf5b21-739e-4f7e-dad2-24b53615198e"
      },
      "source": [
        "model.summary()"
      ],
      "execution_count": 46,
      "outputs": [
        {
          "output_type": "stream",
          "text": [
            "Model: \"sequential_14\"\n",
            "_________________________________________________________________\n",
            "Layer (type)                 Output Shape              Param #   \n",
            "=================================================================\n",
            "conv2d_87 (Conv2D)           (None, 28, 28, 32)        320       \n",
            "_________________________________________________________________\n",
            "conv2d_88 (Conv2D)           (None, 28, 28, 32)        9248      \n",
            "_________________________________________________________________\n",
            "max_pooling2d_23 (MaxPooling (None, 14, 14, 32)        0         \n",
            "_________________________________________________________________\n",
            "conv2d_89 (Conv2D)           (None, 14, 14, 64)        18496     \n",
            "_________________________________________________________________\n",
            "conv2d_90 (Conv2D)           (None, 14, 14, 64)        36928     \n",
            "_________________________________________________________________\n",
            "max_pooling2d_24 (MaxPooling (None, 7, 7, 64)          0         \n",
            "_________________________________________________________________\n",
            "flatten_12 (Flatten)         (None, 3136)              0         \n",
            "_________________________________________________________________\n",
            "featurespace (Dense)         (None, 2)                 6274      \n",
            "_________________________________________________________________\n",
            "dense_14 (Dense)             (None, 3136)              9408      \n",
            "_________________________________________________________________\n",
            "reshape_12 (Reshape)         (None, 7, 7, 64)          0         \n",
            "_________________________________________________________________\n",
            "up_sampling2d_23 (UpSampling (None, 14, 14, 64)        0         \n",
            "_________________________________________________________________\n",
            "conv2d_91 (Conv2D)           (None, 14, 14, 64)        36928     \n",
            "_________________________________________________________________\n",
            "conv2d_92 (Conv2D)           (None, 14, 14, 64)        36928     \n",
            "_________________________________________________________________\n",
            "up_sampling2d_24 (UpSampling (None, 28, 28, 64)        0         \n",
            "_________________________________________________________________\n",
            "conv2d_93 (Conv2D)           (None, 28, 28, 32)        18464     \n",
            "_________________________________________________________________\n",
            "conv2d_94 (Conv2D)           (None, 28, 28, 32)        9248      \n",
            "_________________________________________________________________\n",
            "conv2d_95 (Conv2D)           (None, 28, 28, 16)        4624      \n",
            "_________________________________________________________________\n",
            "conv2d_96 (Conv2D)           (None, 28, 28, 1)         145       \n",
            "=================================================================\n",
            "Total params: 187,011\n",
            "Trainable params: 187,011\n",
            "Non-trainable params: 0\n",
            "_________________________________________________________________\n"
          ],
          "name": "stdout"
        }
      ]
    },
    {
      "cell_type": "code",
      "metadata": {
        "id": "G4Dd-R0H1Ciy",
        "colab_type": "code",
        "colab": {
          "base_uri": "https://localhost:8080/",
          "height": 244
        },
        "outputId": "dbb917bc-d912-46fc-dd4e-d2315a39a40f"
      },
      "source": [
        "decoded_imgs = model.predict(X_test_mat)\n",
        "compare(decoded_imgs,X_test_mat )"
      ],
      "execution_count": 47,
      "outputs": [
        {
          "output_type": "display_data",
          "data": {
            "image/png": "[encoded data removed]",
            "text/plain": [
              "<Figure size 1440x288 with 20 Axes>"
            ]
          },
          "metadata": {
            "tags": []
          }
        }
      ]
    },
    {
      "cell_type": "code",
      "metadata": {
        "id": "ZcsbGBtVz06l",
        "colab_type": "code",
        "colab": {}
      },
      "source": [
        "layer_output = model.get_layer('featurespace').output\n",
        "latent=Model(inputs=model.input,outputs=layer_output)\n",
        "lattest = latent.predict(X_test_mat)"
      ],
      "execution_count": 0,
      "outputs": []
    },
    {
      "cell_type": "code",
      "metadata": {
        "id": "pUiFxyEw042-",
        "colab_type": "code",
        "colab": {
          "base_uri": "https://localhost:8080/",
          "height": 136
        },
        "outputId": "d03a3577-44d8-464d-8778-0cb94a7aa8e4"
      },
      "source": [
        "lattest"
      ],
      "execution_count": 49,
      "outputs": [
        {
          "output_type": "execute_result",
          "data": {
            "text/plain": [
              "array([[2.5544431 , 1.8616731 ],\n",
              "       [0.8426564 , 1.2656459 ],\n",
              "       [3.1381617 , 0.39874583],\n",
              "       ...,\n",
              "       [2.4223397 , 1.5551202 ],\n",
              "       [1.3209932 , 0.13670361],\n",
              "       [0.500672  , 0.6270485 ]], dtype=float32)"
            ]
          },
          "metadata": {
            "tags": []
          },
          "execution_count": 49
        }
      ]
    },
    {
      "cell_type": "code",
      "metadata": {
        "id": "UM5_S-0K2hMX",
        "colab_type": "code",
        "colab": {
          "base_uri": "https://localhost:8080/",
          "height": 286
        },
        "outputId": "6b19b0b3-6959-4ae1-c706-266d890a4e55"
      },
      "source": [
        "plt.scatter([x[0] for x in lattest],[x[1] for x in lattest ], colors = color(np.argmax[ytest]))"
      ],
      "execution_count": 42,
      "outputs": [
        {
          "output_type": "execute_result",
          "data": {
            "text/plain": [
              "<matplotlib.collections.PathCollection at 0x7f1828a8c128>"
            ]
          },
          "metadata": {
            "tags": []
          },
          "execution_count": 42
        },
        {
          "output_type": "display_data",
          "data": {
            "image/png": "[encoded data removed]",
            "text/plain": [
              "<Figure size 432x288 with 1 Axes>"
            ]
          },
          "metadata": {
            "tags": []
          }
        }
      ]
    },
    {
      "cell_type": "code",
      "metadata": {
        "id": "VsPSqgTp4Yf-",
        "colab_type": "code",
        "colab": {
          "base_uri": "https://localhost:8080/",
          "height": 34
        },
        "outputId": "fda52f71-2313-4a6e-b7ee-0d7c1216d706"
      },
      "source": [
        ""
      ],
      "execution_count": 44,
      "outputs": [
        {
          "output_type": "execute_result",
          "data": {
            "text/plain": [
              "<matplotlib.collections.PathCollection at 0x7f1828a8c128>"
            ]
          },
          "metadata": {
            "tags": []
          },
          "execution_count": 44
        }
      ]
    },
    {
      "cell_type": "code",
      "metadata": {
        "id": "6LQ3Ewps27RI",
        "colab_type": "code",
        "colab": {}
      },
      "source": [
        ""
      ],
      "execution_count": 0,
      "outputs": []
    }
  ]
}