{
 "cells": [
  {
   "cell_type": "markdown",
   "metadata": {},
   "source": [
    "**Let's first import the required libraries**"
   ]
  },
  {
   "cell_type": "code",
   "execution_count": 2,
   "metadata": {},
   "outputs": [],
   "source": [
    "import pandas as pd\n",
    "import numpy as np \n",
    "import pandas_profiling as pp "
   ]
  },
  {
   "cell_type": "markdown",
   "metadata": {},
   "source": [
    "let's load the feature matrixes"
   ]
  },
  {
   "cell_type": "code",
   "execution_count": 3,
   "metadata": {},
   "outputs": [],
   "source": [
    "dfeat= pd.read_csv('/home/sid2018-1/Bureau/Défi IA anomaly Detection/feattrain')"
   ]
  },
  {
   "cell_type": "code",
   "execution_count": 4,
   "metadata": {},
   "outputs": [],
   "source": [
    "dfeatest= pd.read_csv('/home/sid2018-1/Bureau/Défi IA anomaly Detection/featvalid')"
   ]
  },
  {
   "cell_type": "markdown",
   "metadata": {},
   "source": [
    "let's do some Exploratory data analysis on the features using pandas profiling"
   ]
  },
  {
   "cell_type": "code",
   "execution_count": 237,
   "metadata": {},
   "outputs": [],
   "source": [
    "profile = dfeat.profile_report(title='Pandas Profiling Report on train anomaly detection')\n",
    "profile.to_file(output_file = \"/home/sid2018-1/Bureau/Défi IA anomaly Detection/feattrainpp.html\")"
   ]
  },
  {
   "cell_type": "code",
   "execution_count": 238,
   "metadata": {},
   "outputs": [],
   "source": [
    "profile = dfeatest.profile_report(title='Pandas Profiling Report on test anomaly detection')\n",
    "profile.to_file(output_file = \"/home/sid2018-1/Bureau/Défi IA anomaly Detection/featestpp.html\")"
   ]
  },
  {
   "cell_type": "markdown",
   "metadata": {},
   "source": [
    "## Feature Selection"
   ]
  },
  {
   "cell_type": "code",
   "execution_count": 5,
   "metadata": {},
   "outputs": [
    {
     "data": {
      "text/html": [
       "<div>\n",
       "<style scoped>\n",
       "    .dataframe tbody tr th:only-of-type {\n",
       "        vertical-align: middle;\n",
       "    }\n",
       "\n",
       "    .dataframe tbody tr th {\n",
       "        vertical-align: top;\n",
       "    }\n",
       "\n",
       "    .dataframe thead th {\n",
       "        text-align: right;\n",
       "    }\n",
       "</style>\n",
       "<table border=\"1\" class=\"dataframe\">\n",
       "  <thead>\n",
       "    <tr style=\"text-align: right;\">\n",
       "      <th></th>\n",
       "      <th>corr</th>\n",
       "      <th>pvalue</th>\n",
       "      <th>max</th>\n",
       "      <th>mean</th>\n",
       "      <th>nrj</th>\n",
       "      <th>cntpic</th>\n",
       "      <th>difvalpic</th>\n",
       "      <th>maxmeanf</th>\n",
       "      <th>minmeanf</th>\n",
       "      <th>difmeanf</th>\n",
       "      <th>maxcorrf</th>\n",
       "      <th>mincorrf</th>\n",
       "      <th>difcorrf</th>\n",
       "      <th>maxpvalf</th>\n",
       "      <th>minpvalf</th>\n",
       "      <th>sim</th>\n",
       "      <th>distbar</th>\n",
       "      <th>rap_em</th>\n",
       "    </tr>\n",
       "  </thead>\n",
       "  <tbody>\n",
       "    <tr>\n",
       "      <th>0</th>\n",
       "      <td>-0.007502</td>\n",
       "      <td>0.062950</td>\n",
       "      <td>0.299668</td>\n",
       "      <td>0.039373</td>\n",
       "      <td>133.393818</td>\n",
       "      <td>77</td>\n",
       "      <td>2.355804</td>\n",
       "      <td>0.040782</td>\n",
       "      <td>0.037426</td>\n",
       "      <td>0.003356</td>\n",
       "      <td>0.138309</td>\n",
       "      <td>0.000189</td>\n",
       "      <td>0.138120</td>\n",
       "      <td>0.995185</td>\n",
       "      <td>8.919188e-06</td>\n",
       "      <td>0.321258</td>\n",
       "      <td>0.640001</td>\n",
       "      <td>0.000051</td>\n",
       "    </tr>\n",
       "    <tr>\n",
       "      <th>1</th>\n",
       "      <td>-0.000724</td>\n",
       "      <td>0.857549</td>\n",
       "      <td>1.423423</td>\n",
       "      <td>0.003725</td>\n",
       "      <td>29724.135184</td>\n",
       "      <td>0</td>\n",
       "      <td>0.000000</td>\n",
       "      <td>0.008030</td>\n",
       "      <td>-0.002860</td>\n",
       "      <td>0.010889</td>\n",
       "      <td>0.016563</td>\n",
       "      <td>0.000724</td>\n",
       "      <td>0.015840</td>\n",
       "      <td>0.981546</td>\n",
       "      <td>5.965170e-01</td>\n",
       "      <td>0.086307</td>\n",
       "      <td>0.066268</td>\n",
       "      <td>0.011318</td>\n",
       "    </tr>\n",
       "    <tr>\n",
       "      <th>2</th>\n",
       "      <td>0.000497</td>\n",
       "      <td>0.901988</td>\n",
       "      <td>1.748343</td>\n",
       "      <td>0.012775</td>\n",
       "      <td>44641.603935</td>\n",
       "      <td>0</td>\n",
       "      <td>0.000000</td>\n",
       "      <td>0.021243</td>\n",
       "      <td>0.001349</td>\n",
       "      <td>0.019894</td>\n",
       "      <td>0.024320</td>\n",
       "      <td>0.000658</td>\n",
       "      <td>0.023662</td>\n",
       "      <td>0.983227</td>\n",
       "      <td>4.369269e-01</td>\n",
       "      <td>-0.054577</td>\n",
       "      <td>0.219557</td>\n",
       "      <td>0.016998</td>\n",
       "    </tr>\n",
       "    <tr>\n",
       "      <th>3</th>\n",
       "      <td>0.000057</td>\n",
       "      <td>0.988752</td>\n",
       "      <td>0.748198</td>\n",
       "      <td>0.004919</td>\n",
       "      <td>1294.066504</td>\n",
       "      <td>0</td>\n",
       "      <td>0.000000</td>\n",
       "      <td>0.006630</td>\n",
       "      <td>0.002543</td>\n",
       "      <td>0.004087</td>\n",
       "      <td>0.036745</td>\n",
       "      <td>0.000506</td>\n",
       "      <td>0.036238</td>\n",
       "      <td>0.987086</td>\n",
       "      <td>2.400801e-01</td>\n",
       "      <td>0.001916</td>\n",
       "      <td>0.495560</td>\n",
       "      <td>0.000493</td>\n",
       "    </tr>\n",
       "    <tr>\n",
       "      <th>4</th>\n",
       "      <td>0.002233</td>\n",
       "      <td>0.579891</td>\n",
       "      <td>1.402794</td>\n",
       "      <td>0.032258</td>\n",
       "      <td>26504.807403</td>\n",
       "      <td>0</td>\n",
       "      <td>0.000000</td>\n",
       "      <td>0.081051</td>\n",
       "      <td>-0.001630</td>\n",
       "      <td>0.082681</td>\n",
       "      <td>0.189848</td>\n",
       "      <td>0.000139</td>\n",
       "      <td>0.189708</td>\n",
       "      <td>0.996445</td>\n",
       "      <td>9.155685e-10</td>\n",
       "      <td>-0.013856</td>\n",
       "      <td>0.042746</td>\n",
       "      <td>0.010092</td>\n",
       "    </tr>\n",
       "  </tbody>\n",
       "</table>\n",
       "</div>"
      ],
      "text/plain": [
       "       corr    pvalue       max      mean           nrj  cntpic  difvalpic  \\\n",
       "0 -0.007502  0.062950  0.299668  0.039373    133.393818      77   2.355804   \n",
       "1 -0.000724  0.857549  1.423423  0.003725  29724.135184       0   0.000000   \n",
       "2  0.000497  0.901988  1.748343  0.012775  44641.603935       0   0.000000   \n",
       "3  0.000057  0.988752  0.748198  0.004919   1294.066504       0   0.000000   \n",
       "4  0.002233  0.579891  1.402794  0.032258  26504.807403       0   0.000000   \n",
       "\n",
       "   maxmeanf  minmeanf  difmeanf  maxcorrf  mincorrf  difcorrf  maxpvalf  \\\n",
       "0  0.040782  0.037426  0.003356  0.138309  0.000189  0.138120  0.995185   \n",
       "1  0.008030 -0.002860  0.010889  0.016563  0.000724  0.015840  0.981546   \n",
       "2  0.021243  0.001349  0.019894  0.024320  0.000658  0.023662  0.983227   \n",
       "3  0.006630  0.002543  0.004087  0.036745  0.000506  0.036238  0.987086   \n",
       "4  0.081051 -0.001630  0.082681  0.189848  0.000139  0.189708  0.996445   \n",
       "\n",
       "       minpvalf       sim   distbar    rap_em  \n",
       "0  8.919188e-06  0.321258  0.640001  0.000051  \n",
       "1  5.965170e-01  0.086307  0.066268  0.011318  \n",
       "2  4.369269e-01 -0.054577  0.219557  0.016998  \n",
       "3  2.400801e-01  0.001916  0.495560  0.000493  \n",
       "4  9.155685e-10 -0.013856  0.042746  0.010092  "
      ]
     },
     "execution_count": 5,
     "metadata": {},
     "output_type": "execute_result"
    }
   ],
   "source": [
    "dfeat.head()"
   ]
  },
  {
   "cell_type": "code",
   "execution_count": 6,
   "metadata": {},
   "outputs": [
    {
     "data": {
      "text/html": [
       "<div>\n",
       "<style scoped>\n",
       "    .dataframe tbody tr th:only-of-type {\n",
       "        vertical-align: middle;\n",
       "    }\n",
       "\n",
       "    .dataframe tbody tr th {\n",
       "        vertical-align: top;\n",
       "    }\n",
       "\n",
       "    .dataframe thead th {\n",
       "        text-align: right;\n",
       "    }\n",
       "</style>\n",
       "<table border=\"1\" class=\"dataframe\">\n",
       "  <thead>\n",
       "    <tr style=\"text-align: right;\">\n",
       "      <th></th>\n",
       "      <th>corr</th>\n",
       "      <th>pvalue</th>\n",
       "      <th>max</th>\n",
       "      <th>mean</th>\n",
       "      <th>nrj</th>\n",
       "      <th>cntpic</th>\n",
       "      <th>difvalpic</th>\n",
       "      <th>maxmeanf</th>\n",
       "      <th>minmeanf</th>\n",
       "      <th>difmeanf</th>\n",
       "      <th>maxcorrf</th>\n",
       "      <th>mincorrf</th>\n",
       "      <th>difcorrf</th>\n",
       "      <th>maxpvalf</th>\n",
       "      <th>minpvalf</th>\n",
       "      <th>sim</th>\n",
       "      <th>distbar</th>\n",
       "      <th>rap_em</th>\n",
       "    </tr>\n",
       "  </thead>\n",
       "  <tbody>\n",
       "    <tr>\n",
       "      <th>0</th>\n",
       "      <td>0.150945</td>\n",
       "      <td>6.969558e-310</td>\n",
       "      <td>0.382998</td>\n",
       "      <td>0.007689</td>\n",
       "      <td>4.498642e+02</td>\n",
       "      <td>0</td>\n",
       "      <td>0.000000</td>\n",
       "      <td>0.052551</td>\n",
       "      <td>-0.049249</td>\n",
       "      <td>0.101799</td>\n",
       "      <td>0.138309</td>\n",
       "      <td>0.000189</td>\n",
       "      <td>0.138120</td>\n",
       "      <td>0.995185</td>\n",
       "      <td>8.919188e-06</td>\n",
       "      <td>0.150945</td>\n",
       "      <td>0.552613</td>\n",
       "      <td>0.000171</td>\n",
       "    </tr>\n",
       "    <tr>\n",
       "      <th>1</th>\n",
       "      <td>-0.120029</td>\n",
       "      <td>6.709291e-196</td>\n",
       "      <td>16.348537</td>\n",
       "      <td>-1.922069</td>\n",
       "      <td>4.010436e+05</td>\n",
       "      <td>11</td>\n",
       "      <td>16.729715</td>\n",
       "      <td>-1.395629</td>\n",
       "      <td>-2.667656</td>\n",
       "      <td>1.272027</td>\n",
       "      <td>0.016563</td>\n",
       "      <td>0.000724</td>\n",
       "      <td>0.015840</td>\n",
       "      <td>0.981546</td>\n",
       "      <td>5.965170e-01</td>\n",
       "      <td>-0.120029</td>\n",
       "      <td>2.979689</td>\n",
       "      <td>0.152706</td>\n",
       "    </tr>\n",
       "    <tr>\n",
       "      <th>2</th>\n",
       "      <td>0.000980</td>\n",
       "      <td>8.080537e-01</td>\n",
       "      <td>0.663285</td>\n",
       "      <td>-0.008438</td>\n",
       "      <td>2.528157e+03</td>\n",
       "      <td>0</td>\n",
       "      <td>0.000000</td>\n",
       "      <td>-0.004839</td>\n",
       "      <td>-0.013254</td>\n",
       "      <td>0.008415</td>\n",
       "      <td>0.024320</td>\n",
       "      <td>0.000658</td>\n",
       "      <td>0.023662</td>\n",
       "      <td>0.983227</td>\n",
       "      <td>4.369269e-01</td>\n",
       "      <td>0.000980</td>\n",
       "      <td>0.451287</td>\n",
       "      <td>0.000963</td>\n",
       "    </tr>\n",
       "    <tr>\n",
       "      <th>3</th>\n",
       "      <td>-0.003233</td>\n",
       "      <td>4.229623e-01</td>\n",
       "      <td>0.469974</td>\n",
       "      <td>0.000922</td>\n",
       "      <td>2.314744e+02</td>\n",
       "      <td>4</td>\n",
       "      <td>0.258380</td>\n",
       "      <td>0.012329</td>\n",
       "      <td>-0.009554</td>\n",
       "      <td>0.021882</td>\n",
       "      <td>0.036745</td>\n",
       "      <td>0.000506</td>\n",
       "      <td>0.036238</td>\n",
       "      <td>0.987086</td>\n",
       "      <td>2.400801e-01</td>\n",
       "      <td>-0.003233</td>\n",
       "      <td>0.583229</td>\n",
       "      <td>0.000088</td>\n",
       "    </tr>\n",
       "    <tr>\n",
       "      <th>4</th>\n",
       "      <td>0.271010</td>\n",
       "      <td>0.000000e+00</td>\n",
       "      <td>31.633011</td>\n",
       "      <td>-7.428013</td>\n",
       "      <td>4.761093e+06</td>\n",
       "      <td>0</td>\n",
       "      <td>0.000000</td>\n",
       "      <td>-3.010820</td>\n",
       "      <td>-9.914334</td>\n",
       "      <td>6.903514</td>\n",
       "      <td>0.189848</td>\n",
       "      <td>0.000139</td>\n",
       "      <td>0.189708</td>\n",
       "      <td>0.996445</td>\n",
       "      <td>9.155685e-10</td>\n",
       "      <td>0.271010</td>\n",
       "      <td>11.526486</td>\n",
       "      <td>1.812890</td>\n",
       "    </tr>\n",
       "  </tbody>\n",
       "</table>\n",
       "</div>"
      ],
      "text/plain": [
       "       corr         pvalue        max      mean           nrj  cntpic  \\\n",
       "0  0.150945  6.969558e-310   0.382998  0.007689  4.498642e+02       0   \n",
       "1 -0.120029  6.709291e-196  16.348537 -1.922069  4.010436e+05      11   \n",
       "2  0.000980   8.080537e-01   0.663285 -0.008438  2.528157e+03       0   \n",
       "3 -0.003233   4.229623e-01   0.469974  0.000922  2.314744e+02       4   \n",
       "4  0.271010   0.000000e+00  31.633011 -7.428013  4.761093e+06       0   \n",
       "\n",
       "   difvalpic  maxmeanf  minmeanf  difmeanf  maxcorrf  mincorrf  difcorrf  \\\n",
       "0   0.000000  0.052551 -0.049249  0.101799  0.138309  0.000189  0.138120   \n",
       "1  16.729715 -1.395629 -2.667656  1.272027  0.016563  0.000724  0.015840   \n",
       "2   0.000000 -0.004839 -0.013254  0.008415  0.024320  0.000658  0.023662   \n",
       "3   0.258380  0.012329 -0.009554  0.021882  0.036745  0.000506  0.036238   \n",
       "4   0.000000 -3.010820 -9.914334  6.903514  0.189848  0.000139  0.189708   \n",
       "\n",
       "   maxpvalf      minpvalf       sim    distbar    rap_em  \n",
       "0  0.995185  8.919188e-06  0.150945   0.552613  0.000171  \n",
       "1  0.981546  5.965170e-01 -0.120029   2.979689  0.152706  \n",
       "2  0.983227  4.369269e-01  0.000980   0.451287  0.000963  \n",
       "3  0.987086  2.400801e-01 -0.003233   0.583229  0.000088  \n",
       "4  0.996445  9.155685e-10  0.271010  11.526486  1.812890  "
      ]
     },
     "execution_count": 6,
     "metadata": {},
     "output_type": "execute_result"
    }
   ],
   "source": [
    "dfeatest.head()"
   ]
  },
  {
   "cell_type": "code",
   "execution_count": 7,
   "metadata": {},
   "outputs": [],
   "source": [
    "# remplacer max par le des valeurs centrées et réduites\n",
    "train = pd.read_hdf('/home/sid2018-1/Bureau/Défi IA anomaly Detection/train.hdf5')\n",
    "valid = pd.read_hdf('/home/sid2018-1/Bureau/Défi IA anomaly Detection/validation.hdf5')"
   ]
  },
  {
   "cell_type": "code",
   "execution_count": 8,
   "metadata": {},
   "outputs": [],
   "source": [
    "from sklearn.preprocessing import StandardScaler\n",
    "scaler = StandardScaler()\n",
    "scaledtr =(scaler.fit_transform(train))\n",
    "scaledtest = (scaler.transform(valid))\n",
    "scaledtr = pd.DataFrame(scaledtr,   columns= train.columns)\n",
    "scaledtest = pd.DataFrame(scaledtest,   columns= valid.columns)"
   ]
  },
  {
   "cell_type": "code",
   "execution_count": 13,
   "metadata": {},
   "outputs": [
    {
     "data": {
      "text/html": [
       "<div>\n",
       "<style scoped>\n",
       "    .dataframe tbody tr th:only-of-type {\n",
       "        vertical-align: middle;\n",
       "    }\n",
       "\n",
       "    .dataframe tbody tr th {\n",
       "        vertical-align: top;\n",
       "    }\n",
       "\n",
       "    .dataframe thead th {\n",
       "        text-align: right;\n",
       "    }\n",
       "</style>\n",
       "<table border=\"1\" class=\"dataframe\">\n",
       "  <thead>\n",
       "    <tr style=\"text-align: right;\">\n",
       "      <th></th>\n",
       "      <th>0</th>\n",
       "      <th>1</th>\n",
       "      <th>2</th>\n",
       "      <th>3</th>\n",
       "      <th>4</th>\n",
       "      <th>5</th>\n",
       "      <th>6</th>\n",
       "      <th>7</th>\n",
       "      <th>8</th>\n",
       "      <th>9</th>\n",
       "      <th>...</th>\n",
       "      <th>61430</th>\n",
       "      <th>61431</th>\n",
       "      <th>61432</th>\n",
       "      <th>61433</th>\n",
       "      <th>61434</th>\n",
       "      <th>61435</th>\n",
       "      <th>61436</th>\n",
       "      <th>61437</th>\n",
       "      <th>61438</th>\n",
       "      <th>61439</th>\n",
       "    </tr>\n",
       "  </thead>\n",
       "  <tbody>\n",
       "    <tr>\n",
       "      <th>0</th>\n",
       "      <td>0.047464</td>\n",
       "      <td>0.053532</td>\n",
       "      <td>0.026404</td>\n",
       "      <td>0.001485</td>\n",
       "      <td>-0.006982</td>\n",
       "      <td>-0.013295</td>\n",
       "      <td>-0.030261</td>\n",
       "      <td>-0.041558</td>\n",
       "      <td>-0.027387</td>\n",
       "      <td>-0.002181</td>\n",
       "      <td>...</td>\n",
       "      <td>0.015073</td>\n",
       "      <td>-0.026181</td>\n",
       "      <td>-0.024283</td>\n",
       "      <td>0.078415</td>\n",
       "      <td>0.084045</td>\n",
       "      <td>0.025042</td>\n",
       "      <td>0.047675</td>\n",
       "      <td>0.106836</td>\n",
       "      <td>0.061541</td>\n",
       "      <td>0.020093</td>\n",
       "    </tr>\n",
       "    <tr>\n",
       "      <th>1</th>\n",
       "      <td>-0.238953</td>\n",
       "      <td>-0.312832</td>\n",
       "      <td>-0.326963</td>\n",
       "      <td>-0.272776</td>\n",
       "      <td>-0.203775</td>\n",
       "      <td>-0.136417</td>\n",
       "      <td>-0.079174</td>\n",
       "      <td>-0.032032</td>\n",
       "      <td>0.102320</td>\n",
       "      <td>0.283913</td>\n",
       "      <td>...</td>\n",
       "      <td>0.250024</td>\n",
       "      <td>-0.022559</td>\n",
       "      <td>-0.312766</td>\n",
       "      <td>-0.712200</td>\n",
       "      <td>-0.908712</td>\n",
       "      <td>-0.998595</td>\n",
       "      <td>-0.987300</td>\n",
       "      <td>-1.021430</td>\n",
       "      <td>-1.028615</td>\n",
       "      <td>-0.811661</td>\n",
       "    </tr>\n",
       "    <tr>\n",
       "      <th>2</th>\n",
       "      <td>0.243154</td>\n",
       "      <td>0.189545</td>\n",
       "      <td>0.146085</td>\n",
       "      <td>-0.008934</td>\n",
       "      <td>-0.079109</td>\n",
       "      <td>-0.081969</td>\n",
       "      <td>-0.222021</td>\n",
       "      <td>-0.197699</td>\n",
       "      <td>-0.009480</td>\n",
       "      <td>-0.102797</td>\n",
       "      <td>...</td>\n",
       "      <td>0.021461</td>\n",
       "      <td>0.399766</td>\n",
       "      <td>0.828129</td>\n",
       "      <td>1.092827</td>\n",
       "      <td>1.114313</td>\n",
       "      <td>1.230101</td>\n",
       "      <td>1.517894</td>\n",
       "      <td>1.554933</td>\n",
       "      <td>1.040577</td>\n",
       "      <td>0.459358</td>\n",
       "    </tr>\n",
       "    <tr>\n",
       "      <th>3</th>\n",
       "      <td>-0.174549</td>\n",
       "      <td>-0.148717</td>\n",
       "      <td>-0.261345</td>\n",
       "      <td>-0.323375</td>\n",
       "      <td>-0.355961</td>\n",
       "      <td>-0.393669</td>\n",
       "      <td>-0.180705</td>\n",
       "      <td>0.017705</td>\n",
       "      <td>0.021747</td>\n",
       "      <td>0.138502</td>\n",
       "      <td>...</td>\n",
       "      <td>-0.319589</td>\n",
       "      <td>-0.207948</td>\n",
       "      <td>-0.064995</td>\n",
       "      <td>-0.023089</td>\n",
       "      <td>0.067808</td>\n",
       "      <td>0.183789</td>\n",
       "      <td>-0.003459</td>\n",
       "      <td>-0.218882</td>\n",
       "      <td>-0.098940</td>\n",
       "      <td>0.063875</td>\n",
       "    </tr>\n",
       "    <tr>\n",
       "      <th>4</th>\n",
       "      <td>-1.157205</td>\n",
       "      <td>-1.092328</td>\n",
       "      <td>-0.788963</td>\n",
       "      <td>-0.509326</td>\n",
       "      <td>-0.387908</td>\n",
       "      <td>-0.213203</td>\n",
       "      <td>0.131020</td>\n",
       "      <td>0.453823</td>\n",
       "      <td>0.785290</td>\n",
       "      <td>1.032255</td>\n",
       "      <td>...</td>\n",
       "      <td>1.029430</td>\n",
       "      <td>1.243811</td>\n",
       "      <td>0.993970</td>\n",
       "      <td>0.545930</td>\n",
       "      <td>0.145420</td>\n",
       "      <td>-0.265790</td>\n",
       "      <td>-0.730155</td>\n",
       "      <td>-1.115780</td>\n",
       "      <td>-1.176935</td>\n",
       "      <td>-0.881167</td>\n",
       "    </tr>\n",
       "  </tbody>\n",
       "</table>\n",
       "<p>5 rows × 61440 columns</p>\n",
       "</div>"
      ],
      "text/plain": [
       "      0         1         2         3         4         5         6      \\\n",
       "0  0.047464  0.053532  0.026404  0.001485 -0.006982 -0.013295 -0.030261   \n",
       "1 -0.238953 -0.312832 -0.326963 -0.272776 -0.203775 -0.136417 -0.079174   \n",
       "2  0.243154  0.189545  0.146085 -0.008934 -0.079109 -0.081969 -0.222021   \n",
       "3 -0.174549 -0.148717 -0.261345 -0.323375 -0.355961 -0.393669 -0.180705   \n",
       "4 -1.157205 -1.092328 -0.788963 -0.509326 -0.387908 -0.213203  0.131020   \n",
       "\n",
       "      7         8         9        ...        61430     61431     61432  \\\n",
       "0 -0.041558 -0.027387 -0.002181    ...     0.015073 -0.026181 -0.024283   \n",
       "1 -0.032032  0.102320  0.283913    ...     0.250024 -0.022559 -0.312766   \n",
       "2 -0.197699 -0.009480 -0.102797    ...     0.021461  0.399766  0.828129   \n",
       "3  0.017705  0.021747  0.138502    ...    -0.319589 -0.207948 -0.064995   \n",
       "4  0.453823  0.785290  1.032255    ...     1.029430  1.243811  0.993970   \n",
       "\n",
       "      61433     61434     61435     61436     61437     61438     61439  \n",
       "0  0.078415  0.084045  0.025042  0.047675  0.106836  0.061541  0.020093  \n",
       "1 -0.712200 -0.908712 -0.998595 -0.987300 -1.021430 -1.028615 -0.811661  \n",
       "2  1.092827  1.114313  1.230101  1.517894  1.554933  1.040577  0.459358  \n",
       "3 -0.023089  0.067808  0.183789 -0.003459 -0.218882 -0.098940  0.063875  \n",
       "4  0.545930  0.145420 -0.265790 -0.730155 -1.115780 -1.176935 -0.881167  \n",
       "\n",
       "[5 rows x 61440 columns]"
      ]
     },
     "execution_count": 13,
     "metadata": {},
     "output_type": "execute_result"
    }
   ],
   "source": [
    "scaledtr.head()"
   ]
  },
  {
   "cell_type": "code",
   "execution_count": 20,
   "metadata": {},
   "outputs": [],
   "source": [
    "dfeat['max_scaled']= [abs(max(scaledtr.iloc[i].values)) for i in scaledtr.index ]"
   ]
  },
  {
   "cell_type": "code",
   "execution_count": 21,
   "metadata": {},
   "outputs": [],
   "source": [
    "dfeatest['max_scaled']= [abs(max(scaledtest.iloc[i].values)) for i in scaledtest.index ]"
   ]
  },
  {
   "cell_type": "code",
   "execution_count": 23,
   "metadata": {},
   "outputs": [
    {
     "data": {
      "text/plain": [
       "(18.17652550093059, 28.030749071028282)"
      ]
     },
     "execution_count": 23,
     "metadata": {},
     "output_type": "execute_result"
    }
   ],
   "source": [
    "max(dfeat['max_scaled']),max(dfeatest['max_scaled']) ## Ok let's keep this one"
   ]
  },
  {
   "cell_type": "code",
   "execution_count": 24,
   "metadata": {},
   "outputs": [],
   "source": [
    "dfeat['std']= [np.std(scaledtr.iloc[i].values) for i in scaledtr.index ]\n",
    "dfeatest['std']= [np.std(scaledtest.iloc[i].values) for i in scaledtest.index ]"
   ]
  },
  {
   "cell_type": "code",
   "execution_count": 25,
   "metadata": {},
   "outputs": [],
   "source": [
    "dfeat['rap_mean_std']= dfeat['mean'].values/dfeat['std'].values\n",
    "dfeatest['rap_mean_std']= dfeatest['mean'].values/dfeatest['std'].values"
   ]
  },
  {
   "cell_type": "code",
   "execution_count": 26,
   "metadata": {},
   "outputs": [
    {
     "data": {
      "text/plain": [
       "(2.9209751060143856, 13.222635934172223)"
      ]
     },
     "execution_count": 26,
     "metadata": {},
     "output_type": "execute_result"
    }
   ],
   "source": [
    "max(dfeat['rap_mean_std']),max(dfeatest['rap_mean_std']) ## We're keeping this one too"
   ]
  },
  {
   "cell_type": "code",
   "execution_count": 39,
   "metadata": {},
   "outputs": [],
   "source": [
    "lsorted = sorted(list(enumerate(dfeatest['distbar'].values)),reverse = True, key= lambda a:a[1])\n",
    "indicesorted = [a for a,b in lsorted[0:int(len(lsorted)/2)]]\n",
    "predseuil = [1 if i in indicesorted else 0 for i in range(len(lsorted))]"
   ]
  },
  {
   "cell_type": "code",
   "execution_count": 51,
   "metadata": {},
   "outputs": [
    {
     "data": {
      "text/plain": [
       "(88, 0.5878716002629296)"
      ]
     },
     "execution_count": 51,
     "metadata": {},
     "output_type": "execute_result"
    }
   ],
   "source": [
    "lsorted[int(594/2)]"
   ]
  },
  {
   "cell_type": "code",
   "execution_count": 52,
   "metadata": {},
   "outputs": [],
   "source": [
    "s=0\n",
    "for k in dfeat['distbar'].values:\n",
    "    if k > 0.5878716002629296:\n",
    "        s= s+1"
   ]
  },
  {
   "cell_type": "code",
   "execution_count": 54,
   "metadata": {},
   "outputs": [
    {
     "data": {
      "text/plain": [
       "0.19200954084675015"
      ]
     },
     "execution_count": 54,
     "metadata": {},
     "output_type": "execute_result"
    }
   ],
   "source": [
    "322/1677"
   ]
  },
  {
   "cell_type": "code",
   "execution_count": 49,
   "metadata": {},
   "outputs": [
    {
     "data": {
      "text/plain": [
       "594"
      ]
     },
     "execution_count": 49,
     "metadata": {},
     "output_type": "execute_result"
    }
   ],
   "source": [
    "len(dfeatest)"
   ]
  },
  {
   "cell_type": "code",
   "execution_count": 40,
   "metadata": {},
   "outputs": [],
   "source": [
    "dfpredseuil = pd.DataFrame(predseuil,columns=['anomaly'])"
   ]
  },
  {
   "cell_type": "code",
   "execution_count": 41,
   "metadata": {},
   "outputs": [
    {
     "data": {
      "text/html": [
       "<div>\n",
       "<style scoped>\n",
       "    .dataframe tbody tr th:only-of-type {\n",
       "        vertical-align: middle;\n",
       "    }\n",
       "\n",
       "    .dataframe tbody tr th {\n",
       "        vertical-align: top;\n",
       "    }\n",
       "\n",
       "    .dataframe thead th {\n",
       "        text-align: right;\n",
       "    }\n",
       "</style>\n",
       "<table border=\"1\" class=\"dataframe\">\n",
       "  <thead>\n",
       "    <tr style=\"text-align: right;\">\n",
       "      <th></th>\n",
       "      <th>anomaly</th>\n",
       "    </tr>\n",
       "  </thead>\n",
       "  <tbody>\n",
       "    <tr>\n",
       "      <th>0</th>\n",
       "      <td>0</td>\n",
       "    </tr>\n",
       "    <tr>\n",
       "      <th>1</th>\n",
       "      <td>1</td>\n",
       "    </tr>\n",
       "    <tr>\n",
       "      <th>2</th>\n",
       "      <td>0</td>\n",
       "    </tr>\n",
       "    <tr>\n",
       "      <th>3</th>\n",
       "      <td>0</td>\n",
       "    </tr>\n",
       "    <tr>\n",
       "      <th>4</th>\n",
       "      <td>1</td>\n",
       "    </tr>\n",
       "  </tbody>\n",
       "</table>\n",
       "</div>"
      ],
      "text/plain": [
       "   anomaly\n",
       "0        0\n",
       "1        1\n",
       "2        0\n",
       "3        0\n",
       "4        1"
      ]
     },
     "execution_count": 41,
     "metadata": {},
     "output_type": "execute_result"
    }
   ],
   "source": [
    "dfpredseuil.head()"
   ]
  },
  {
   "cell_type": "code",
   "execution_count": 42,
   "metadata": {},
   "outputs": [
    {
     "data": {
      "text/html": [
       "<div>\n",
       "<style scoped>\n",
       "    .dataframe tbody tr th:only-of-type {\n",
       "        vertical-align: middle;\n",
       "    }\n",
       "\n",
       "    .dataframe tbody tr th {\n",
       "        vertical-align: top;\n",
       "    }\n",
       "\n",
       "    .dataframe thead th {\n",
       "        text-align: right;\n",
       "    }\n",
       "</style>\n",
       "<table border=\"1\" class=\"dataframe\">\n",
       "  <thead>\n",
       "    <tr style=\"text-align: right;\">\n",
       "      <th></th>\n",
       "      <th>anomaly</th>\n",
       "      <th>seqID</th>\n",
       "    </tr>\n",
       "  </thead>\n",
       "  <tbody>\n",
       "    <tr>\n",
       "      <th>0</th>\n",
       "      <td>0</td>\n",
       "      <td>0</td>\n",
       "    </tr>\n",
       "    <tr>\n",
       "      <th>1</th>\n",
       "      <td>1</td>\n",
       "      <td>1</td>\n",
       "    </tr>\n",
       "    <tr>\n",
       "      <th>2</th>\n",
       "      <td>0</td>\n",
       "      <td>2</td>\n",
       "    </tr>\n",
       "    <tr>\n",
       "      <th>3</th>\n",
       "      <td>0</td>\n",
       "      <td>3</td>\n",
       "    </tr>\n",
       "    <tr>\n",
       "      <th>4</th>\n",
       "      <td>1</td>\n",
       "      <td>4</td>\n",
       "    </tr>\n",
       "  </tbody>\n",
       "</table>\n",
       "</div>"
      ],
      "text/plain": [
       "   anomaly  seqID\n",
       "0        0      0\n",
       "1        1      1\n",
       "2        0      2\n",
       "3        0      3\n",
       "4        1      4"
      ]
     },
     "execution_count": 42,
     "metadata": {},
     "output_type": "execute_result"
    }
   ],
   "source": [
    "dfpredseuil['seqID'] = dfpredseuil.index"
   ]
  },
  {
   "cell_type": "code",
   "execution_count": 43,
   "metadata": {},
   "outputs": [
    {
     "data": {
      "text/html": [
       "<div>\n",
       "<style scoped>\n",
       "    .dataframe tbody tr th:only-of-type {\n",
       "        vertical-align: middle;\n",
       "    }\n",
       "\n",
       "    .dataframe tbody tr th {\n",
       "        vertical-align: top;\n",
       "    }\n",
       "\n",
       "    .dataframe thead th {\n",
       "        text-align: right;\n",
       "    }\n",
       "</style>\n",
       "<table border=\"1\" class=\"dataframe\">\n",
       "  <thead>\n",
       "    <tr style=\"text-align: right;\">\n",
       "      <th></th>\n",
       "      <th>seqID</th>\n",
       "      <th>anomaly</th>\n",
       "    </tr>\n",
       "  </thead>\n",
       "  <tbody>\n",
       "    <tr>\n",
       "      <th>0</th>\n",
       "      <td>0</td>\n",
       "      <td>0</td>\n",
       "    </tr>\n",
       "    <tr>\n",
       "      <th>1</th>\n",
       "      <td>1</td>\n",
       "      <td>1</td>\n",
       "    </tr>\n",
       "    <tr>\n",
       "      <th>2</th>\n",
       "      <td>2</td>\n",
       "      <td>0</td>\n",
       "    </tr>\n",
       "    <tr>\n",
       "      <th>3</th>\n",
       "      <td>3</td>\n",
       "      <td>0</td>\n",
       "    </tr>\n",
       "    <tr>\n",
       "      <th>4</th>\n",
       "      <td>4</td>\n",
       "      <td>1</td>\n",
       "    </tr>\n",
       "  </tbody>\n",
       "</table>\n",
       "</div>"
      ],
      "text/plain": [
       "   seqID  anomaly\n",
       "0      0        0\n",
       "1      1        1\n",
       "2      2        0\n",
       "3      3        0\n",
       "4      4        1"
      ]
     },
     "execution_count": 43,
     "metadata": {},
     "output_type": "execute_result"
    }
   ],
   "source": [
    "dfpredseuil= dfpredseuil[['seqID','anomaly']]\n",
    "dfpredseuil.head()"
   ]
  },
  {
   "cell_type": "code",
   "execution_count": 45,
   "metadata": {},
   "outputs": [],
   "source": [
    "dfpredseuil.to_csv('/home/sid2018-1/Bureau/Défi IA anomaly Detection/predseuil_distbar.csv',header=True,index= False,sep=';')\n"
   ]
  },
  {
   "cell_type": "code",
   "execution_count": 74,
   "metadata": {},
   "outputs": [
    {
     "data": {
      "text/plain": [
       "[<matplotlib.lines.Line2D at 0x7f01f8314358>]"
      ]
     },
     "execution_count": 74,
     "metadata": {},
     "output_type": "execute_result"
    },
    {
     "data": {
      "image/png": "[encoded data removed]",
      "text/plain": [
       "<Figure size 432x288 with 1 Axes>"
      ]
     },
     "metadata": {
      "needs_background": "light"
     },
     "output_type": "display_data"
    }
   ],
   "source": [
    "import matplotlib.pyplot as plt\n",
    "plt.plot(valid.iloc[1].values)\n"
   ]
  },
  {
   "cell_type": "code",
   "execution_count": 79,
   "metadata": {},
   "outputs": [],
   "source": [
    "#fenetrage\n",
    "def dif_val_mean(df):\n",
    "    mat = []\n",
    "    for k in df.index: \n",
    "        l = df.iloc[k].values\n",
    "        mn = np.mean(l)\n",
    "        mat.append(sum([ num for num in l if num > mn])- sum([ num for num in l if num < mn]))\n",
    "    return(mat)"
   ]
  },
  {
   "cell_type": "code",
   "execution_count": 80,
   "metadata": {},
   "outputs": [],
   "source": [
    "dfeat['dif_val_mean']=dif_val_mean(train)"
   ]
  },
  {
   "cell_type": "code",
   "execution_count": 81,
   "metadata": {},
   "outputs": [],
   "source": [
    "dfeatest['dif_val_mean']=dif_val_mean(valid)"
   ]
  },
  {
   "cell_type": "code",
   "execution_count": 95,
   "metadata": {},
   "outputs": [
    {
     "data": {
      "text/plain": [
       "-93.62627665299455"
      ]
     },
     "execution_count": 95,
     "metadata": {},
     "output_type": "execute_result"
    }
   ],
   "source": [
    "dfeat['dif_val_mean'][1211]*dfeat['corr'][1211] #### Multiplier par corr ?? "
   ]
  },
  {
   "cell_type": "code",
   "execution_count": 97,
   "metadata": {},
   "outputs": [
    {
     "data": {
      "text/plain": [
       "98264.88722242124"
      ]
     },
     "execution_count": 97,
     "metadata": {},
     "output_type": "execute_result"
    }
   ],
   "source": [
    "dfeatest['dif_val_mean'][470]*dfeatest['corr'][470]"
   ]
  },
  {
   "cell_type": "code",
   "execution_count": 96,
   "metadata": {},
   "outputs": [
    {
     "data": {
      "text/plain": [
       "470"
      ]
     },
     "execution_count": 96,
     "metadata": {},
     "output_type": "execute_result"
    }
   ],
   "source": [
    "np.argmin(dfeatest['dif_val_mean'])"
   ]
  },
  {
   "cell_type": "code",
   "execution_count": 275,
   "metadata": {},
   "outputs": [
    {
     "data": {
      "text/plain": [
       "[<matplotlib.lines.Line2D at 0x7f013116d9b0>]"
      ]
     },
     "execution_count": 275,
     "metadata": {},
     "output_type": "execute_result"
    },
    {
     "data": {
      "image/png": "[encoded data removed]",
      "text/plain": [
       "<Figure size 432x288 with 1 Axes>"
      ]
     },
     "metadata": {
      "needs_background": "light"
     },
     "output_type": "display_data"
    }
   ],
   "source": [
    "plt.plot(valid.iloc[310].values)\n"
   ]
  },
  {
   "cell_type": "code",
   "execution_count": 100,
   "metadata": {},
   "outputs": [],
   "source": [
    "def dif_val_mean_f(df):\n",
    "    fn = np.arange(0,61440,1024)\n",
    "    matmax = []\n",
    "    matmin= []\n",
    "    for k in df.index: \n",
    "        l = []\n",
    "        for j in fn:\n",
    "            val = df.iloc[k].values[j:j+1024]\n",
    "            mn = np.mean(val)\n",
    "            l.append(sum([ num for num in val if num > mn])- sum([ num for num in val if num < mn]))\n",
    "        matmax.append(np.max(l))\n",
    "        matmin.append(np.min(l))\n",
    "    return(matmax,matmin)"
   ]
  },
  {
   "cell_type": "code",
   "execution_count": 101,
   "metadata": {},
   "outputs": [],
   "source": [
    "dfeat['max_val_mean'],dfeat['min_val_mean'] =dif_val_mean_f(train)"
   ]
  },
  {
   "cell_type": "code",
   "execution_count": 102,
   "metadata": {},
   "outputs": [],
   "source": [
    "dfeatest['max_val_mean'],dfeatest['min_val_mean'] =dif_val_mean_f(valid)"
   ]
  },
  {
   "cell_type": "code",
   "execution_count": 157,
   "metadata": {},
   "outputs": [],
   "source": [
    "def dif_meanstd_f(df):\n",
    "    fn = np.arange(0,61440,1024)\n",
    "    mat = []    \n",
    "    for k in df.index: \n",
    "        l = []\n",
    "        for j in fn:\n",
    "            val = df.iloc[k].values[j:j+1024]\n",
    "            l.append(np.mean(val)/np.std(val))\n",
    "        mat.append(np.max(l)-np.min(l))\n",
    "    return(mat)"
   ]
  },
  {
   "cell_type": "code",
   "execution_count": 158,
   "metadata": {},
   "outputs": [],
   "source": [
    "dfeat['dif_meanstd_f'] =dif_meanstd_f(train)"
   ]
  },
  {
   "cell_type": "code",
   "execution_count": 159,
   "metadata": {},
   "outputs": [],
   "source": [
    "dfeatest['dif_meanstd_f'] =dif_meanstd_f(valid)"
   ]
  },
  {
   "cell_type": "code",
   "execution_count": 213,
   "metadata": {},
   "outputs": [],
   "source": [
    "def cntpic(o,df):\n",
    "    l =[]\n",
    "    val = []\n",
    "    for k in df.index:\n",
    "        value =[]\n",
    "        s =0\n",
    "        dfx = df.iloc[k].values\n",
    "        mnost = abs(np.mean(dfx))+ o*np.std(dfx)\n",
    "        for j in dfx:\n",
    "            if abs(j) > mnost:\n",
    "                value.append(abs(j))\n",
    "                s = s+1\n",
    "        if value == []:\n",
    "            val.append(0)\n",
    "        else:\n",
    "            val.append(np.max(value) - np.min(value))\n",
    "        l.append(s)\n",
    "    return(l,val)"
   ]
  },
  {
   "cell_type": "code",
   "execution_count": 214,
   "metadata": {},
   "outputs": [],
   "source": [
    "dfeat['cntpic'],dfeat['difvalpic'] =cntpic(6,train)"
   ]
  },
  {
   "cell_type": "code",
   "execution_count": 215,
   "metadata": {},
   "outputs": [],
   "source": [
    "dfeatest['cntpic'],dfeatest['difvalpic'] =cntpic(6,valid)"
   ]
  },
  {
   "cell_type": "code",
   "execution_count": null,
   "metadata": {},
   "outputs": [],
   "source": [
    "## Score outlier = cntpic/ difvalpic"
   ]
  },
  {
   "cell_type": "code",
   "execution_count": 226,
   "metadata": {},
   "outputs": [],
   "source": [
    "dfeat.to_csv('/home/sid2018-1/Bureau/Défi IA anomaly Detection/feattrain',header=True, index= False)\n",
    "dfeatest.to_csv('/home/sid2018-1/Bureau/Défi IA anomaly Detection/featvalid',header=True, index= False)"
   ]
  },
  {
   "cell_type": "code",
   "execution_count": 217,
   "metadata": {
    "scrolled": true
   },
   "outputs": [
    {
     "data": {
      "text/html": [
       "<div>\n",
       "<style scoped>\n",
       "    .dataframe tbody tr th:only-of-type {\n",
       "        vertical-align: middle;\n",
       "    }\n",
       "\n",
       "    .dataframe tbody tr th {\n",
       "        vertical-align: top;\n",
       "    }\n",
       "\n",
       "    .dataframe thead th {\n",
       "        text-align: right;\n",
       "    }\n",
       "</style>\n",
       "<table border=\"1\" class=\"dataframe\">\n",
       "  <thead>\n",
       "    <tr style=\"text-align: right;\">\n",
       "      <th></th>\n",
       "      <th>corr</th>\n",
       "      <th>pvalue</th>\n",
       "      <th>max</th>\n",
       "      <th>mean</th>\n",
       "      <th>nrj</th>\n",
       "      <th>cntpic</th>\n",
       "      <th>difvalpic</th>\n",
       "      <th>maxmeanf</th>\n",
       "      <th>minmeanf</th>\n",
       "      <th>difmeanf</th>\n",
       "      <th>...</th>\n",
       "      <th>distbar</th>\n",
       "      <th>rap_em</th>\n",
       "      <th>max_scaled</th>\n",
       "      <th>std</th>\n",
       "      <th>rap_mean_std</th>\n",
       "      <th>dif_val_mean</th>\n",
       "      <th>max_val_mean</th>\n",
       "      <th>min_val_mean</th>\n",
       "      <th>dif_meanstd_f</th>\n",
       "      <th>dif_val_mean_x_corr</th>\n",
       "    </tr>\n",
       "  </thead>\n",
       "  <tbody>\n",
       "    <tr>\n",
       "      <th>0</th>\n",
       "      <td>-0.007502</td>\n",
       "      <td>0.062950</td>\n",
       "      <td>0.299668</td>\n",
       "      <td>0.039373</td>\n",
       "      <td>133.393818</td>\n",
       "      <td>77</td>\n",
       "      <td>0.110747</td>\n",
       "      <td>0.040782</td>\n",
       "      <td>0.037426</td>\n",
       "      <td>0.003356</td>\n",
       "      <td>...</td>\n",
       "      <td>0.640001</td>\n",
       "      <td>0.000051</td>\n",
       "      <td>0.338492</td>\n",
       "      <td>0.038162</td>\n",
       "      <td>1.031709</td>\n",
       "      <td>836.061886</td>\n",
       "      <td>67.795550</td>\n",
       "      <td>3.404924</td>\n",
       "      <td>5.703836</td>\n",
       "      <td>-6.272239</td>\n",
       "    </tr>\n",
       "    <tr>\n",
       "      <th>1</th>\n",
       "      <td>-0.000724</td>\n",
       "      <td>0.857549</td>\n",
       "      <td>1.423423</td>\n",
       "      <td>0.003725</td>\n",
       "      <td>29724.135184</td>\n",
       "      <td>0</td>\n",
       "      <td>0.000000</td>\n",
       "      <td>0.008030</td>\n",
       "      <td>-0.002860</td>\n",
       "      <td>0.010889</td>\n",
       "      <td>...</td>\n",
       "      <td>0.066268</td>\n",
       "      <td>0.011318</td>\n",
       "      <td>1.580572</td>\n",
       "      <td>0.756524</td>\n",
       "      <td>0.004924</td>\n",
       "      <td>38180.406954</td>\n",
       "      <td>692.896559</td>\n",
       "      <td>246.620279</td>\n",
       "      <td>0.030010</td>\n",
       "      <td>-27.648698</td>\n",
       "    </tr>\n",
       "    <tr>\n",
       "      <th>2</th>\n",
       "      <td>0.000497</td>\n",
       "      <td>0.901988</td>\n",
       "      <td>1.748343</td>\n",
       "      <td>0.012775</td>\n",
       "      <td>44641.603935</td>\n",
       "      <td>0</td>\n",
       "      <td>0.000000</td>\n",
       "      <td>0.021243</td>\n",
       "      <td>0.001349</td>\n",
       "      <td>0.019894</td>\n",
       "      <td>...</td>\n",
       "      <td>0.219557</td>\n",
       "      <td>0.016998</td>\n",
       "      <td>2.008943</td>\n",
       "      <td>0.930149</td>\n",
       "      <td>0.013734</td>\n",
       "      <td>46042.538459</td>\n",
       "      <td>961.517680</td>\n",
       "      <td>155.625127</td>\n",
       "      <td>0.031504</td>\n",
       "      <td>22.875961</td>\n",
       "    </tr>\n",
       "    <tr>\n",
       "      <th>3</th>\n",
       "      <td>0.000057</td>\n",
       "      <td>0.988752</td>\n",
       "      <td>0.748198</td>\n",
       "      <td>0.004919</td>\n",
       "      <td>1294.066504</td>\n",
       "      <td>0</td>\n",
       "      <td>0.000000</td>\n",
       "      <td>0.006630</td>\n",
       "      <td>0.002543</td>\n",
       "      <td>0.004087</td>\n",
       "      <td>...</td>\n",
       "      <td>0.495560</td>\n",
       "      <td>0.000493</td>\n",
       "      <td>0.818716</td>\n",
       "      <td>0.161808</td>\n",
       "      <td>0.030399</td>\n",
       "      <td>7015.977239</td>\n",
       "      <td>353.276144</td>\n",
       "      <td>92.946549</td>\n",
       "      <td>0.036291</td>\n",
       "      <td>0.399060</td>\n",
       "    </tr>\n",
       "    <tr>\n",
       "      <th>4</th>\n",
       "      <td>0.002233</td>\n",
       "      <td>0.579891</td>\n",
       "      <td>1.402794</td>\n",
       "      <td>0.032258</td>\n",
       "      <td>26504.807403</td>\n",
       "      <td>0</td>\n",
       "      <td>0.000000</td>\n",
       "      <td>0.081051</td>\n",
       "      <td>-0.001630</td>\n",
       "      <td>0.082681</td>\n",
       "      <td>...</td>\n",
       "      <td>0.042746</td>\n",
       "      <td>0.010092</td>\n",
       "      <td>1.581295</td>\n",
       "      <td>0.718658</td>\n",
       "      <td>0.044886</td>\n",
       "      <td>36126.182583</td>\n",
       "      <td>708.320777</td>\n",
       "      <td>318.800103</td>\n",
       "      <td>0.227171</td>\n",
       "      <td>80.678383</td>\n",
       "    </tr>\n",
       "  </tbody>\n",
       "</table>\n",
       "<p>5 rows × 26 columns</p>\n",
       "</div>"
      ],
      "text/plain": [
       "       corr    pvalue       max      mean           nrj  cntpic  difvalpic  \\\n",
       "0 -0.007502  0.062950  0.299668  0.039373    133.393818      77   0.110747   \n",
       "1 -0.000724  0.857549  1.423423  0.003725  29724.135184       0   0.000000   \n",
       "2  0.000497  0.901988  1.748343  0.012775  44641.603935       0   0.000000   \n",
       "3  0.000057  0.988752  0.748198  0.004919   1294.066504       0   0.000000   \n",
       "4  0.002233  0.579891  1.402794  0.032258  26504.807403       0   0.000000   \n",
       "\n",
       "   maxmeanf  minmeanf  difmeanf         ...            distbar    rap_em  \\\n",
       "0  0.040782  0.037426  0.003356         ...           0.640001  0.000051   \n",
       "1  0.008030 -0.002860  0.010889         ...           0.066268  0.011318   \n",
       "2  0.021243  0.001349  0.019894         ...           0.219557  0.016998   \n",
       "3  0.006630  0.002543  0.004087         ...           0.495560  0.000493   \n",
       "4  0.081051 -0.001630  0.082681         ...           0.042746  0.010092   \n",
       "\n",
       "   max_scaled       std  rap_mean_std  dif_val_mean  max_val_mean  \\\n",
       "0    0.338492  0.038162      1.031709    836.061886     67.795550   \n",
       "1    1.580572  0.756524      0.004924  38180.406954    692.896559   \n",
       "2    2.008943  0.930149      0.013734  46042.538459    961.517680   \n",
       "3    0.818716  0.161808      0.030399   7015.977239    353.276144   \n",
       "4    1.581295  0.718658      0.044886  36126.182583    708.320777   \n",
       "\n",
       "   min_val_mean  dif_meanstd_f  dif_val_mean_x_corr  \n",
       "0      3.404924       5.703836            -6.272239  \n",
       "1    246.620279       0.030010           -27.648698  \n",
       "2    155.625127       0.031504            22.875961  \n",
       "3     92.946549       0.036291             0.399060  \n",
       "4    318.800103       0.227171            80.678383  \n",
       "\n",
       "[5 rows x 26 columns]"
      ]
     },
     "execution_count": 217,
     "metadata": {},
     "output_type": "execute_result"
    }
   ],
   "source": [
    "dfeat.head()"
   ]
  },
  {
   "cell_type": "code",
   "execution_count": 218,
   "metadata": {},
   "outputs": [
    {
     "data": {
      "text/html": [
       "<div>\n",
       "<style scoped>\n",
       "    .dataframe tbody tr th:only-of-type {\n",
       "        vertical-align: middle;\n",
       "    }\n",
       "\n",
       "    .dataframe tbody tr th {\n",
       "        vertical-align: top;\n",
       "    }\n",
       "\n",
       "    .dataframe thead th {\n",
       "        text-align: right;\n",
       "    }\n",
       "</style>\n",
       "<table border=\"1\" class=\"dataframe\">\n",
       "  <thead>\n",
       "    <tr style=\"text-align: right;\">\n",
       "      <th></th>\n",
       "      <th>corr</th>\n",
       "      <th>pvalue</th>\n",
       "      <th>max</th>\n",
       "      <th>mean</th>\n",
       "      <th>nrj</th>\n",
       "      <th>cntpic</th>\n",
       "      <th>difvalpic</th>\n",
       "      <th>maxmeanf</th>\n",
       "      <th>minmeanf</th>\n",
       "      <th>difmeanf</th>\n",
       "      <th>...</th>\n",
       "      <th>distbar</th>\n",
       "      <th>rap_em</th>\n",
       "      <th>max_scaled</th>\n",
       "      <th>std</th>\n",
       "      <th>rap_mean_std</th>\n",
       "      <th>dif_val_mean</th>\n",
       "      <th>max_val_mean</th>\n",
       "      <th>min_val_mean</th>\n",
       "      <th>dif_meanstd_f</th>\n",
       "      <th>dif_val_mean_x_corr</th>\n",
       "    </tr>\n",
       "  </thead>\n",
       "  <tbody>\n",
       "    <tr>\n",
       "      <th>0</th>\n",
       "      <td>0.150945</td>\n",
       "      <td>6.969558e-310</td>\n",
       "      <td>0.382998</td>\n",
       "      <td>0.007689</td>\n",
       "      <td>4.498642e+02</td>\n",
       "      <td>0</td>\n",
       "      <td>0.000000</td>\n",
       "      <td>0.052551</td>\n",
       "      <td>-0.049249</td>\n",
       "      <td>0.101799</td>\n",
       "      <td>...</td>\n",
       "      <td>0.552613</td>\n",
       "      <td>0.000171</td>\n",
       "      <td>0.403524</td>\n",
       "      <td>0.096976</td>\n",
       "      <td>0.079289</td>\n",
       "      <td>4171.234848</td>\n",
       "      <td>89.374821</td>\n",
       "      <td>44.914854</td>\n",
       "      <td>1.333214</td>\n",
       "      <td>629.627367</td>\n",
       "    </tr>\n",
       "    <tr>\n",
       "      <th>1</th>\n",
       "      <td>-0.120029</td>\n",
       "      <td>6.709291e-196</td>\n",
       "      <td>16.348537</td>\n",
       "      <td>-1.922069</td>\n",
       "      <td>4.010436e+05</td>\n",
       "      <td>11</td>\n",
       "      <td>4.128357</td>\n",
       "      <td>-1.395629</td>\n",
       "      <td>-2.667656</td>\n",
       "      <td>1.272027</td>\n",
       "      <td>...</td>\n",
       "      <td>2.979689</td>\n",
       "      <td>0.152706</td>\n",
       "      <td>4.717575</td>\n",
       "      <td>1.836290</td>\n",
       "      <td>-1.046713</td>\n",
       "      <td>76570.839296</td>\n",
       "      <td>1575.204094</td>\n",
       "      <td>1047.670365</td>\n",
       "      <td>0.371713</td>\n",
       "      <td>-9190.690588</td>\n",
       "    </tr>\n",
       "    <tr>\n",
       "      <th>2</th>\n",
       "      <td>0.000980</td>\n",
       "      <td>8.080537e-01</td>\n",
       "      <td>0.663285</td>\n",
       "      <td>-0.008438</td>\n",
       "      <td>2.528157e+03</td>\n",
       "      <td>0</td>\n",
       "      <td>0.000000</td>\n",
       "      <td>-0.004839</td>\n",
       "      <td>-0.013254</td>\n",
       "      <td>0.008415</td>\n",
       "      <td>...</td>\n",
       "      <td>0.451287</td>\n",
       "      <td>0.000963</td>\n",
       "      <td>0.773018</td>\n",
       "      <td>0.223660</td>\n",
       "      <td>-0.037727</td>\n",
       "      <td>10741.364298</td>\n",
       "      <td>214.912961</td>\n",
       "      <td>93.121062</td>\n",
       "      <td>0.060336</td>\n",
       "      <td>10.527795</td>\n",
       "    </tr>\n",
       "    <tr>\n",
       "      <th>3</th>\n",
       "      <td>-0.003233</td>\n",
       "      <td>4.229623e-01</td>\n",
       "      <td>0.469974</td>\n",
       "      <td>0.000922</td>\n",
       "      <td>2.314744e+02</td>\n",
       "      <td>4</td>\n",
       "      <td>0.092352</td>\n",
       "      <td>0.012329</td>\n",
       "      <td>-0.009554</td>\n",
       "      <td>0.021882</td>\n",
       "      <td>...</td>\n",
       "      <td>0.583229</td>\n",
       "      <td>0.000088</td>\n",
       "      <td>0.549403</td>\n",
       "      <td>0.072420</td>\n",
       "      <td>0.012737</td>\n",
       "      <td>2962.768382</td>\n",
       "      <td>84.389671</td>\n",
       "      <td>30.075087</td>\n",
       "      <td>0.255353</td>\n",
       "      <td>-9.577913</td>\n",
       "    </tr>\n",
       "    <tr>\n",
       "      <th>4</th>\n",
       "      <td>0.271010</td>\n",
       "      <td>0.000000e+00</td>\n",
       "      <td>31.633011</td>\n",
       "      <td>-7.428013</td>\n",
       "      <td>4.761093e+06</td>\n",
       "      <td>0</td>\n",
       "      <td>0.000000</td>\n",
       "      <td>-3.010820</td>\n",
       "      <td>-9.914334</td>\n",
       "      <td>6.903514</td>\n",
       "      <td>...</td>\n",
       "      <td>11.526486</td>\n",
       "      <td>1.812890</td>\n",
       "      <td>8.358938</td>\n",
       "      <td>5.235373</td>\n",
       "      <td>-1.418812</td>\n",
       "      <td>184098.042070</td>\n",
       "      <td>4239.248612</td>\n",
       "      <td>1278.078820</td>\n",
       "      <td>1.048539</td>\n",
       "      <td>49892.413938</td>\n",
       "    </tr>\n",
       "  </tbody>\n",
       "</table>\n",
       "<p>5 rows × 26 columns</p>\n",
       "</div>"
      ],
      "text/plain": [
       "       corr         pvalue        max      mean           nrj  cntpic  \\\n",
       "0  0.150945  6.969558e-310   0.382998  0.007689  4.498642e+02       0   \n",
       "1 -0.120029  6.709291e-196  16.348537 -1.922069  4.010436e+05      11   \n",
       "2  0.000980   8.080537e-01   0.663285 -0.008438  2.528157e+03       0   \n",
       "3 -0.003233   4.229623e-01   0.469974  0.000922  2.314744e+02       4   \n",
       "4  0.271010   0.000000e+00  31.633011 -7.428013  4.761093e+06       0   \n",
       "\n",
       "   difvalpic  maxmeanf  minmeanf  difmeanf         ...             distbar  \\\n",
       "0   0.000000  0.052551 -0.049249  0.101799         ...            0.552613   \n",
       "1   4.128357 -1.395629 -2.667656  1.272027         ...            2.979689   \n",
       "2   0.000000 -0.004839 -0.013254  0.008415         ...            0.451287   \n",
       "3   0.092352  0.012329 -0.009554  0.021882         ...            0.583229   \n",
       "4   0.000000 -3.010820 -9.914334  6.903514         ...           11.526486   \n",
       "\n",
       "     rap_em  max_scaled       std  rap_mean_std   dif_val_mean  max_val_mean  \\\n",
       "0  0.000171    0.403524  0.096976      0.079289    4171.234848     89.374821   \n",
       "1  0.152706    4.717575  1.836290     -1.046713   76570.839296   1575.204094   \n",
       "2  0.000963    0.773018  0.223660     -0.037727   10741.364298    214.912961   \n",
       "3  0.000088    0.549403  0.072420      0.012737    2962.768382     84.389671   \n",
       "4  1.812890    8.358938  5.235373     -1.418812  184098.042070   4239.248612   \n",
       "\n",
       "   min_val_mean  dif_meanstd_f  dif_val_mean_x_corr  \n",
       "0     44.914854       1.333214           629.627367  \n",
       "1   1047.670365       0.371713         -9190.690588  \n",
       "2     93.121062       0.060336            10.527795  \n",
       "3     30.075087       0.255353            -9.577913  \n",
       "4   1278.078820       1.048539         49892.413938  \n",
       "\n",
       "[5 rows x 26 columns]"
      ]
     },
     "execution_count": 218,
     "metadata": {},
     "output_type": "execute_result"
    }
   ],
   "source": [
    "dfeatest.head()"
   ]
  },
  {
   "cell_type": "code",
   "execution_count": 202,
   "metadata": {},
   "outputs": [],
   "source": [
    "lbh= [ num for num,j in enumerate(dfeatest['dif_val_mean']) if j >0] "
   ]
  },
  {
   "cell_type": "code",
   "execution_count": null,
   "metadata": {},
   "outputs": [],
   "source": [
    "for k in lbh:\n",
    "    plt.plot(train.iloc[k].values)\n",
    "    plt.figure(figsize= (5,5))"
   ]
  },
  {
   "cell_type": "markdown",
   "metadata": {},
   "source": [
    "**Normalisation ?**"
   ]
  },
  {
   "cell_type": "code",
   "execution_count": 205,
   "metadata": {},
   "outputs": [],
   "source": [
    "j = [0.5,0.9,4,21]\n",
    "s= []\n",
    "i =0\n",
    "while i<100:\n",
    "    k = np.random.uniform(-1, 1)\n",
    "    v = k*np.array(j)\n",
    "    s.append((np.mean(j)/np.std(j))-(np.mean(v)/np.std(v)))    \n",
    "    i += 1"
   ]
  },
  {
   "cell_type": "code",
   "execution_count": 166,
   "metadata": {},
   "outputs": [
    {
     "data": {
      "text/plain": [
       "1.5670484673938585"
      ]
     },
     "execution_count": 166,
     "metadata": {},
     "output_type": "execute_result"
    }
   ],
   "source": [
    "max(s)"
   ]
  },
  {
   "cell_type": "markdown",
   "metadata": {},
   "source": [
    "## Apprentissage"
   ]
  },
  {
   "cell_type": "code",
   "execution_count": 227,
   "metadata": {},
   "outputs": [],
   "source": [
    "to_keep = ['cntpic','corr','dif_meanstd_f','dif_val_mean','difmeanf','difvalpic','rap_mean_std','max_val_mean','dif_val_mean_x_corr','score_outlier']"
   ]
  },
  {
   "cell_type": "code",
   "execution_count": 228,
   "metadata": {},
   "outputs": [],
   "source": [
    "dftrain = dfeat[to_keep]"
   ]
  },
  {
   "cell_type": "code",
   "execution_count": 229,
   "metadata": {},
   "outputs": [],
   "source": [
    "dftest = dfeatest[to_keep]"
   ]
  },
  {
   "cell_type": "code",
   "execution_count": 230,
   "metadata": {},
   "outputs": [],
   "source": [
    "dftrain['corr']= np.abs(dftrain['corr'].values)\n",
    "dftest['corr']= np.abs(dftest['corr'].values)"
   ]
  },
  {
   "cell_type": "code",
   "execution_count": 233,
   "metadata": {},
   "outputs": [],
   "source": [
    "dftrain['rap_mean_std']= np.abs(dftrain['rap_mean_std'].values)\n",
    "dftest['rap_mean_std']= np.abs(dftest['rap_mean_std'].values)"
   ]
  },
  {
   "cell_type": "code",
   "execution_count": 234,
   "metadata": {},
   "outputs": [],
   "source": [
    "dftrain['dif_val_mean_x_corr']= np.abs(dftrain['dif_val_mean_x_corr'].values)\n",
    "dftest['dif_val_mean_x_corr']= np.abs(dftest['dif_val_mean_x_corr'].values)"
   ]
  },
  {
   "cell_type": "code",
   "execution_count": 235,
   "metadata": {},
   "outputs": [
    {
     "data": {
      "text/html": [
       "<div>\n",
       "<style scoped>\n",
       "    .dataframe tbody tr th:only-of-type {\n",
       "        vertical-align: middle;\n",
       "    }\n",
       "\n",
       "    .dataframe tbody tr th {\n",
       "        vertical-align: top;\n",
       "    }\n",
       "\n",
       "    .dataframe thead th {\n",
       "        text-align: right;\n",
       "    }\n",
       "</style>\n",
       "<table border=\"1\" class=\"dataframe\">\n",
       "  <thead>\n",
       "    <tr style=\"text-align: right;\">\n",
       "      <th></th>\n",
       "      <th>cntpic</th>\n",
       "      <th>corr</th>\n",
       "      <th>dif_meanstd_f</th>\n",
       "      <th>dif_val_mean</th>\n",
       "      <th>difmeanf</th>\n",
       "      <th>difvalpic</th>\n",
       "      <th>rap_mean_std</th>\n",
       "      <th>max_val_mean</th>\n",
       "      <th>dif_val_mean_x_corr</th>\n",
       "      <th>score_outlier</th>\n",
       "    </tr>\n",
       "  </thead>\n",
       "  <tbody>\n",
       "    <tr>\n",
       "      <th>0</th>\n",
       "      <td>77</td>\n",
       "      <td>0.007502</td>\n",
       "      <td>5.703836</td>\n",
       "      <td>836.061886</td>\n",
       "      <td>0.003356</td>\n",
       "      <td>0.110747</td>\n",
       "      <td>1.031709</td>\n",
       "      <td>67.795550</td>\n",
       "      <td>6.272239</td>\n",
       "      <td>695.279163</td>\n",
       "    </tr>\n",
       "    <tr>\n",
       "      <th>1</th>\n",
       "      <td>0</td>\n",
       "      <td>0.000724</td>\n",
       "      <td>0.030010</td>\n",
       "      <td>38180.406954</td>\n",
       "      <td>0.010889</td>\n",
       "      <td>0.000000</td>\n",
       "      <td>0.004924</td>\n",
       "      <td>692.896559</td>\n",
       "      <td>27.648698</td>\n",
       "      <td>0.000000</td>\n",
       "    </tr>\n",
       "    <tr>\n",
       "      <th>2</th>\n",
       "      <td>0</td>\n",
       "      <td>0.000497</td>\n",
       "      <td>0.031504</td>\n",
       "      <td>46042.538459</td>\n",
       "      <td>0.019894</td>\n",
       "      <td>0.000000</td>\n",
       "      <td>0.013734</td>\n",
       "      <td>961.517680</td>\n",
       "      <td>22.875961</td>\n",
       "      <td>0.000000</td>\n",
       "    </tr>\n",
       "    <tr>\n",
       "      <th>3</th>\n",
       "      <td>0</td>\n",
       "      <td>0.000057</td>\n",
       "      <td>0.036291</td>\n",
       "      <td>7015.977239</td>\n",
       "      <td>0.004087</td>\n",
       "      <td>0.000000</td>\n",
       "      <td>0.030399</td>\n",
       "      <td>353.276144</td>\n",
       "      <td>0.399060</td>\n",
       "      <td>0.000000</td>\n",
       "    </tr>\n",
       "    <tr>\n",
       "      <th>4</th>\n",
       "      <td>0</td>\n",
       "      <td>0.002233</td>\n",
       "      <td>0.227171</td>\n",
       "      <td>36126.182583</td>\n",
       "      <td>0.082681</td>\n",
       "      <td>0.000000</td>\n",
       "      <td>0.044886</td>\n",
       "      <td>708.320777</td>\n",
       "      <td>80.678383</td>\n",
       "      <td>0.000000</td>\n",
       "    </tr>\n",
       "  </tbody>\n",
       "</table>\n",
       "</div>"
      ],
      "text/plain": [
       "   cntpic      corr  dif_meanstd_f  dif_val_mean  difmeanf  difvalpic  \\\n",
       "0      77  0.007502       5.703836    836.061886  0.003356   0.110747   \n",
       "1       0  0.000724       0.030010  38180.406954  0.010889   0.000000   \n",
       "2       0  0.000497       0.031504  46042.538459  0.019894   0.000000   \n",
       "3       0  0.000057       0.036291   7015.977239  0.004087   0.000000   \n",
       "4       0  0.002233       0.227171  36126.182583  0.082681   0.000000   \n",
       "\n",
       "   rap_mean_std  max_val_mean  dif_val_mean_x_corr  score_outlier  \n",
       "0      1.031709     67.795550             6.272239     695.279163  \n",
       "1      0.004924    692.896559            27.648698       0.000000  \n",
       "2      0.013734    961.517680            22.875961       0.000000  \n",
       "3      0.030399    353.276144             0.399060       0.000000  \n",
       "4      0.044886    708.320777            80.678383       0.000000  "
      ]
     },
     "execution_count": 235,
     "metadata": {},
     "output_type": "execute_result"
    }
   ],
   "source": [
    "dftrain.head()"
   ]
  },
  {
   "cell_type": "code",
   "execution_count": 236,
   "metadata": {},
   "outputs": [
    {
     "data": {
      "text/html": [
       "<div>\n",
       "<style scoped>\n",
       "    .dataframe tbody tr th:only-of-type {\n",
       "        vertical-align: middle;\n",
       "    }\n",
       "\n",
       "    .dataframe tbody tr th {\n",
       "        vertical-align: top;\n",
       "    }\n",
       "\n",
       "    .dataframe thead th {\n",
       "        text-align: right;\n",
       "    }\n",
       "</style>\n",
       "<table border=\"1\" class=\"dataframe\">\n",
       "  <thead>\n",
       "    <tr style=\"text-align: right;\">\n",
       "      <th></th>\n",
       "      <th>cntpic</th>\n",
       "      <th>corr</th>\n",
       "      <th>dif_meanstd_f</th>\n",
       "      <th>dif_val_mean</th>\n",
       "      <th>difmeanf</th>\n",
       "      <th>difvalpic</th>\n",
       "      <th>rap_mean_std</th>\n",
       "      <th>max_val_mean</th>\n",
       "      <th>dif_val_mean_x_corr</th>\n",
       "      <th>score_outlier</th>\n",
       "    </tr>\n",
       "  </thead>\n",
       "  <tbody>\n",
       "    <tr>\n",
       "      <th>0</th>\n",
       "      <td>0</td>\n",
       "      <td>0.150945</td>\n",
       "      <td>1.333214</td>\n",
       "      <td>4171.234848</td>\n",
       "      <td>0.101799</td>\n",
       "      <td>0.000000</td>\n",
       "      <td>0.079289</td>\n",
       "      <td>89.374821</td>\n",
       "      <td>629.627367</td>\n",
       "      <td>0.000000</td>\n",
       "    </tr>\n",
       "    <tr>\n",
       "      <th>1</th>\n",
       "      <td>11</td>\n",
       "      <td>0.120029</td>\n",
       "      <td>0.371713</td>\n",
       "      <td>76570.839296</td>\n",
       "      <td>1.272027</td>\n",
       "      <td>4.128357</td>\n",
       "      <td>1.046713</td>\n",
       "      <td>1575.204094</td>\n",
       "      <td>9190.690588</td>\n",
       "      <td>2.664498</td>\n",
       "    </tr>\n",
       "    <tr>\n",
       "      <th>2</th>\n",
       "      <td>0</td>\n",
       "      <td>0.000980</td>\n",
       "      <td>0.060336</td>\n",
       "      <td>10741.364298</td>\n",
       "      <td>0.008415</td>\n",
       "      <td>0.000000</td>\n",
       "      <td>0.037727</td>\n",
       "      <td>214.912961</td>\n",
       "      <td>10.527795</td>\n",
       "      <td>0.000000</td>\n",
       "    </tr>\n",
       "    <tr>\n",
       "      <th>3</th>\n",
       "      <td>4</td>\n",
       "      <td>0.003233</td>\n",
       "      <td>0.255353</td>\n",
       "      <td>2962.768382</td>\n",
       "      <td>0.021882</td>\n",
       "      <td>0.092352</td>\n",
       "      <td>0.012737</td>\n",
       "      <td>84.389671</td>\n",
       "      <td>9.577913</td>\n",
       "      <td>43.312617</td>\n",
       "    </tr>\n",
       "    <tr>\n",
       "      <th>4</th>\n",
       "      <td>0</td>\n",
       "      <td>0.271010</td>\n",
       "      <td>1.048539</td>\n",
       "      <td>184098.042070</td>\n",
       "      <td>6.903514</td>\n",
       "      <td>0.000000</td>\n",
       "      <td>1.418812</td>\n",
       "      <td>4239.248612</td>\n",
       "      <td>49892.413938</td>\n",
       "      <td>0.000000</td>\n",
       "    </tr>\n",
       "  </tbody>\n",
       "</table>\n",
       "</div>"
      ],
      "text/plain": [
       "   cntpic      corr  dif_meanstd_f   dif_val_mean  difmeanf  difvalpic  \\\n",
       "0       0  0.150945       1.333214    4171.234848  0.101799   0.000000   \n",
       "1      11  0.120029       0.371713   76570.839296  1.272027   4.128357   \n",
       "2       0  0.000980       0.060336   10741.364298  0.008415   0.000000   \n",
       "3       4  0.003233       0.255353    2962.768382  0.021882   0.092352   \n",
       "4       0  0.271010       1.048539  184098.042070  6.903514   0.000000   \n",
       "\n",
       "   rap_mean_std  max_val_mean  dif_val_mean_x_corr  score_outlier  \n",
       "0      0.079289     89.374821           629.627367       0.000000  \n",
       "1      1.046713   1575.204094          9190.690588       2.664498  \n",
       "2      0.037727    214.912961            10.527795       0.000000  \n",
       "3      0.012737     84.389671             9.577913      43.312617  \n",
       "4      1.418812   4239.248612         49892.413938       0.000000  "
      ]
     },
     "execution_count": 236,
     "metadata": {},
     "output_type": "execute_result"
    }
   ],
   "source": [
    "dftest.head()"
   ]
  },
  {
   "cell_type": "code",
   "execution_count": null,
   "metadata": {},
   "outputs": [],
   "source": [
    "# Estimation de la tendance et calcul des corrélations et du coef directeur\n",
    "from scipy import stats\n",
    "slope, intercept, r_value, p_value, std_err = stats.linregress(X, Y)\n"
   ]
  },
  {
   "cell_type": "markdown",
   "metadata": {},
   "source": [
    "# LOF"
   ]
  },
  {
   "cell_type": "markdown",
   "metadata": {},
   "source": [
    "**unsupervised**"
   ]
  },
  {
   "cell_type": "code",
   "execution_count": null,
   "metadata": {},
   "outputs": [],
   "source": []
  },
  {
   "cell_type": "code",
   "execution_count": null,
   "metadata": {},
   "outputs": [],
   "source": []
  },
  {
   "cell_type": "code",
   "execution_count": null,
   "metadata": {},
   "outputs": [],
   "source": []
  },
  {
   "cell_type": "code",
   "execution_count": null,
   "metadata": {},
   "outputs": [],
   "source": []
  },
  {
   "cell_type": "markdown",
   "metadata": {},
   "source": [
    "### KDE "
   ]
  },
  {
   "cell_type": "markdown",
   "metadata": {},
   "source": [
    "**semi-supervised**"
   ]
  },
  {
   "cell_type": "code",
   "execution_count": 239,
   "metadata": {},
   "outputs": [],
   "source": [
    "drop_ft = ['cntpic','difvalpic','dif_val_mean','difmeanf']\n",
    "trnkde = dftrain.drop(drop_ft,axis=1)\n",
    "testkde = dftest.drop(drop_ft,axis=1)"
   ]
  },
  {
   "cell_type": "code",
   "execution_count": 262,
   "metadata": {},
   "outputs": [],
   "source": [
    "from sklearn import preprocessing\n",
    "mm_scaler = preprocessing.MinMaxScaler()"
   ]
  },
  {
   "cell_type": "code",
   "execution_count": 263,
   "metadata": {},
   "outputs": [],
   "source": [
    "trnkdesc = mm_scaler.fit_transform(trnkde)\n",
    "testkdesc = mm_scaler.transform(testkde)"
   ]
  },
  {
   "cell_type": "code",
   "execution_count": 266,
   "metadata": {},
   "outputs": [
    {
     "name": "stdout",
     "output_type": "stream",
     "text": [
      "{'bandwidth': 0.021181818181818184}\n"
     ]
    }
   ],
   "source": [
    "from sklearn.neighbors import KernelDensity\n",
    "from sklearn.model_selection import GridSearchCV\n",
    "grid = GridSearchCV(KernelDensity(),\n",
    "                    {'bandwidth': np.linspace(0.001, 1, 100)},\n",
    "                    cv=20) # 20-fold cross-validation\n",
    "grid.fit(trnkdesc)\n",
    "print (grid.best_params_)"
   ]
  },
  {
   "cell_type": "code",
   "execution_count": 267,
   "metadata": {},
   "outputs": [],
   "source": [
    "ytrain = np.zeros(len(dfeat))"
   ]
  },
  {
   "cell_type": "code",
   "execution_count": 268,
   "metadata": {},
   "outputs": [
    {
     "ename": "ValueError",
     "evalue": "Input contains NaN, infinity or a value too large for dtype('float64').",
     "output_type": "error",
     "traceback": [
      "\u001b[0;31m---------------------------------------------------------------------------\u001b[0m",
      "\u001b[0;31mValueError\u001b[0m                                Traceback (most recent call last)",
      "\u001b[0;32m<ipython-input-268-087b69b289ae>\u001b[0m in \u001b[0;36m<module>\u001b[0;34m\u001b[0m\n\u001b[1;32m      1\u001b[0m \u001b[0mkde\u001b[0m \u001b[0;34m=\u001b[0m \u001b[0mgrid\u001b[0m\u001b[0;34m.\u001b[0m\u001b[0mbest_estimator_\u001b[0m\u001b[0;34m\u001b[0m\u001b[0m\n\u001b[0;32m----> 2\u001b[0;31m \u001b[0mscores\u001b[0m \u001b[0;34m=\u001b[0m  \u001b[0;34m-\u001b[0m\u001b[0mkde\u001b[0m\u001b[0;34m.\u001b[0m\u001b[0mscore_samples\u001b[0m\u001b[0;34m(\u001b[0m\u001b[0mtestkdesc\u001b[0m\u001b[0;34m)\u001b[0m\u001b[0;34m\u001b[0m\u001b[0m\n\u001b[0m",
      "\u001b[0;32m~/anaconda3/lib/python3.7/site-packages/sklearn/neighbors/kde.py\u001b[0m in \u001b[0;36mscore_samples\u001b[0;34m(self, X)\u001b[0m\n\u001b[1;32m    167\u001b[0m         \u001b[0;31m# For it to be a probability, we must scale it.  For this reason\u001b[0m\u001b[0;34m\u001b[0m\u001b[0;34m\u001b[0m\u001b[0m\n\u001b[1;32m    168\u001b[0m         \u001b[0;31m# we'll also scale atol.\u001b[0m\u001b[0;34m\u001b[0m\u001b[0;34m\u001b[0m\u001b[0m\n\u001b[0;32m--> 169\u001b[0;31m         \u001b[0mX\u001b[0m \u001b[0;34m=\u001b[0m \u001b[0mcheck_array\u001b[0m\u001b[0;34m(\u001b[0m\u001b[0mX\u001b[0m\u001b[0;34m,\u001b[0m \u001b[0morder\u001b[0m\u001b[0;34m=\u001b[0m\u001b[0;34m'C'\u001b[0m\u001b[0;34m,\u001b[0m \u001b[0mdtype\u001b[0m\u001b[0;34m=\u001b[0m\u001b[0mDTYPE\u001b[0m\u001b[0;34m)\u001b[0m\u001b[0;34m\u001b[0m\u001b[0m\n\u001b[0m\u001b[1;32m    170\u001b[0m         \u001b[0;32mif\u001b[0m \u001b[0mself\u001b[0m\u001b[0;34m.\u001b[0m\u001b[0mtree_\u001b[0m\u001b[0;34m.\u001b[0m\u001b[0msample_weight\u001b[0m \u001b[0;32mis\u001b[0m \u001b[0;32mNone\u001b[0m\u001b[0;34m:\u001b[0m\u001b[0;34m\u001b[0m\u001b[0m\n\u001b[1;32m    171\u001b[0m             \u001b[0mN\u001b[0m \u001b[0;34m=\u001b[0m \u001b[0mself\u001b[0m\u001b[0;34m.\u001b[0m\u001b[0mtree_\u001b[0m\u001b[0;34m.\u001b[0m\u001b[0mdata\u001b[0m\u001b[0;34m.\u001b[0m\u001b[0mshape\u001b[0m\u001b[0;34m[\u001b[0m\u001b[0;36m0\u001b[0m\u001b[0;34m]\u001b[0m\u001b[0;34m\u001b[0m\u001b[0m\n",
      "\u001b[0;32m~/anaconda3/lib/python3.7/site-packages/sklearn/utils/validation.py\u001b[0m in \u001b[0;36mcheck_array\u001b[0;34m(array, accept_sparse, accept_large_sparse, dtype, order, copy, force_all_finite, ensure_2d, allow_nd, ensure_min_samples, ensure_min_features, warn_on_dtype, estimator)\u001b[0m\n\u001b[1;32m    540\u001b[0m         \u001b[0;32mif\u001b[0m \u001b[0mforce_all_finite\u001b[0m\u001b[0;34m:\u001b[0m\u001b[0;34m\u001b[0m\u001b[0m\n\u001b[1;32m    541\u001b[0m             _assert_all_finite(array,\n\u001b[0;32m--> 542\u001b[0;31m                                allow_nan=force_all_finite == 'allow-nan')\n\u001b[0m\u001b[1;32m    543\u001b[0m \u001b[0;34m\u001b[0m\u001b[0m\n\u001b[1;32m    544\u001b[0m     \u001b[0;32mif\u001b[0m \u001b[0mensure_min_samples\u001b[0m \u001b[0;34m>\u001b[0m \u001b[0;36m0\u001b[0m\u001b[0;34m:\u001b[0m\u001b[0;34m\u001b[0m\u001b[0m\n",
      "\u001b[0;32m~/anaconda3/lib/python3.7/site-packages/sklearn/utils/validation.py\u001b[0m in \u001b[0;36m_assert_all_finite\u001b[0;34m(X, allow_nan)\u001b[0m\n\u001b[1;32m     54\u001b[0m                 not allow_nan and not np.isfinite(X).all()):\n\u001b[1;32m     55\u001b[0m             \u001b[0mtype_err\u001b[0m \u001b[0;34m=\u001b[0m \u001b[0;34m'infinity'\u001b[0m \u001b[0;32mif\u001b[0m \u001b[0mallow_nan\u001b[0m \u001b[0;32melse\u001b[0m \u001b[0;34m'NaN, infinity'\u001b[0m\u001b[0;34m\u001b[0m\u001b[0m\n\u001b[0;32m---> 56\u001b[0;31m             \u001b[0;32mraise\u001b[0m \u001b[0mValueError\u001b[0m\u001b[0;34m(\u001b[0m\u001b[0mmsg_err\u001b[0m\u001b[0;34m.\u001b[0m\u001b[0mformat\u001b[0m\u001b[0;34m(\u001b[0m\u001b[0mtype_err\u001b[0m\u001b[0;34m,\u001b[0m \u001b[0mX\u001b[0m\u001b[0;34m.\u001b[0m\u001b[0mdtype\u001b[0m\u001b[0;34m)\u001b[0m\u001b[0;34m)\u001b[0m\u001b[0;34m\u001b[0m\u001b[0m\n\u001b[0m\u001b[1;32m     57\u001b[0m     \u001b[0;31m# for object dtype data, we only check for NaNs (GH-13254)\u001b[0m\u001b[0;34m\u001b[0m\u001b[0;34m\u001b[0m\u001b[0m\n\u001b[1;32m     58\u001b[0m     \u001b[0;32melif\u001b[0m \u001b[0mX\u001b[0m\u001b[0;34m.\u001b[0m\u001b[0mdtype\u001b[0m \u001b[0;34m==\u001b[0m \u001b[0mnp\u001b[0m\u001b[0;34m.\u001b[0m\u001b[0mdtype\u001b[0m\u001b[0;34m(\u001b[0m\u001b[0;34m'object'\u001b[0m\u001b[0;34m)\u001b[0m \u001b[0;32mand\u001b[0m \u001b[0;32mnot\u001b[0m \u001b[0mallow_nan\u001b[0m\u001b[0;34m:\u001b[0m\u001b[0;34m\u001b[0m\u001b[0m\n",
      "\u001b[0;31mValueError\u001b[0m: Input contains NaN, infinity or a value too large for dtype('float64')."
     ]
    }
   ],
   "source": [
    "kde = grid.best_estimator_\n",
    "scores =  -kde.score_samples(testkdesc)"
   ]
  },
  {
   "cell_type": "markdown",
   "metadata": {},
   "source": [
    "### Isolation Forest"
   ]
  },
  {
   "cell_type": "markdown",
   "metadata": {},
   "source": [
    "**unsupervised**"
   ]
  },
  {
   "cell_type": "code",
   "execution_count": null,
   "metadata": {},
   "outputs": [],
   "source": []
  },
  {
   "cell_type": "code",
   "execution_count": null,
   "metadata": {},
   "outputs": [],
   "source": []
  },
  {
   "cell_type": "code",
   "execution_count": null,
   "metadata": {},
   "outputs": [],
   "source": []
  },
  {
   "cell_type": "markdown",
   "metadata": {},
   "source": [
    "**semi-supervised**"
   ]
  },
  {
   "cell_type": "code",
   "execution_count": null,
   "metadata": {},
   "outputs": [],
   "source": []
  },
  {
   "cell_type": "code",
   "execution_count": null,
   "metadata": {},
   "outputs": [],
   "source": []
  },
  {
   "cell_type": "code",
   "execution_count": null,
   "metadata": {},
   "outputs": [],
   "source": []
  },
  {
   "cell_type": "markdown",
   "metadata": {},
   "source": [
    "### One class SVM"
   ]
  },
  {
   "cell_type": "code",
   "execution_count": null,
   "metadata": {},
   "outputs": [],
   "source": []
  },
  {
   "cell_type": "code",
   "execution_count": null,
   "metadata": {},
   "outputs": [],
   "source": []
  },
  {
   "cell_type": "code",
   "execution_count": null,
   "metadata": {},
   "outputs": [],
   "source": []
  },
  {
   "cell_type": "code",
   "execution_count": null,
   "metadata": {},
   "outputs": [],
   "source": []
  },
  {
   "cell_type": "code",
   "execution_count": null,
   "metadata": {},
   "outputs": [],
   "source": [
    "## Add auto correlation as feature and the value of the window who gives the best or least value "
   ]
  },
  {
   "cell_type": "markdown",
   "metadata": {},
   "source": [
    "### Auto-encoder"
   ]
  },
  {
   "cell_type": "code",
   "execution_count": null,
   "metadata": {},
   "outputs": [],
   "source": []
  },
  {
   "cell_type": "code",
   "execution_count": null,
   "metadata": {},
   "outputs": [],
   "source": []
  },
  {
   "cell_type": "code",
   "execution_count": null,
   "metadata": {},
   "outputs": [],
   "source": []
  }
 ],
 "metadata": {
  "kernelspec": {
   "display_name": "Python 3",
   "language": "python",
   "name": "python3"
  },
  "language_info": {
   "codemirror_mode": {
    "name": "ipython",
    "version": 3
   },
   "file_extension": ".py",
   "mimetype": "text/x-python",
   "name": "python",
   "nbconvert_exporter": "python",
   "pygments_lexer": "ipython3",
   "version": "3.7.0"
  }
 },
 "nbformat": 4,
 "nbformat_minor": 2
}
