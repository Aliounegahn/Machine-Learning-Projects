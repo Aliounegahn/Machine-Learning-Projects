{
 "cells": [
  {
   "cell_type": "markdown",
   "metadata": {},
   "source": [
    "# Projet M1 SID  -  German Data"
   ]
  },
  {
   "cell_type": "markdown",
   "metadata": {},
   "source": [
    "- GAHN Alioune Badara Ba"
   ]
  },
  {
   "cell_type": "markdown",
   "metadata": {},
   "source": [
    "# 1) Importation et nettoyage des données"
   ]
  },
  {
   "cell_type": "code",
   "execution_count": 1,
   "metadata": {},
   "outputs": [],
   "source": [
    "import pandas as pd\n",
    "from sklearn.model_selection import train_test_split\n",
    "from sklearn.linear_model import LogisticRegression\n",
    "import numpy as np\n",
    "from math import *\n",
    "import matplotlib.pyplot as plt\n",
    "from sklearn.ensemble import RandomForestClassifier\n",
    "from sklearn import preprocessing\n",
    "from sklearn.model_selection import GridSearchCV\n",
    "from sklearn.model_selection import cross_val_score\n",
    "import statsmodels.api as sm\n",
    "from sklearn.linear_model import LogisticRegression\n",
    "from sklearn.naive_bayes import GaussianNB"
   ]
  },
  {
   "cell_type": "code",
   "execution_count": 2,
   "metadata": {},
   "outputs": [],
   "source": [
    "col_names = [\"age\", \"workclass\", \"fnlwgt\", \"education\", \"education_num\", \"maritalStatus\", \"occupation\", \"relationship\", \"race\", \"sex\", \"capitalGain\", \"capitalLoss\", \"hoursPerWeek\", \"nativeCountry\", \"isUpper\"];\n",
    "col_cats = [\"workclass\", \"education\", \"maritalStatus\", \"occupation\", \"relationship\", \"race\", \"sex\", \"nativeCountry\", \"isUpper\"];\n",
    "\n",
    "dtypes = {\n",
    "    col: 'category'\n",
    "    for col in col_cats\n",
    "}\n",
    "\n",
    "data = pd.read_csv('adult.data', names=col_names, dtype=dtypes)"
   ]
  },
  {
   "cell_type": "markdown",
   "metadata": {},
   "source": [
    "- Suppression des espaces et majuscules dans les chaines de caractères :"
   ]
  },
  {
   "cell_type": "code",
   "execution_count": 3,
   "metadata": {},
   "outputs": [],
   "source": [
    "for col in col_cats:\n",
    "    data[col]=[(lambda x: x.strip().lower())(x) for x in data[col]]\n",
    "for col in col_cats:\n",
    "    data[col]=[(lambda x: x.replace(\"-\",\"_\"))(x) for x in data[col]]"
   ]
  },
  {
   "cell_type": "markdown",
   "metadata": {},
   "source": [
    "- Suppression des lignes incomplètes :"
   ]
  },
  {
   "cell_type": "code",
   "execution_count": 4,
   "metadata": {},
   "outputs": [],
   "source": [
    "myQuery = ' != \"?\" and '.join(data.columns)+' != \"?\"'\n",
    "data=data.query(myQuery)"
   ]
  },
  {
   "cell_type": "markdown",
   "metadata": {},
   "source": [
    "- Changement de la colonne isUpper en booleen :"
   ]
  },
  {
   "cell_type": "code",
   "execution_count": 5,
   "metadata": {},
   "outputs": [
    {
     "data": {
      "text/html": [
       "<div>\n",
       "<style scoped>\n",
       "    .dataframe tbody tr th:only-of-type {\n",
       "        vertical-align: middle;\n",
       "    }\n",
       "\n",
       "    .dataframe tbody tr th {\n",
       "        vertical-align: top;\n",
       "    }\n",
       "\n",
       "    .dataframe thead th {\n",
       "        text-align: right;\n",
       "    }\n",
       "</style>\n",
       "<table border=\"1\" class=\"dataframe\">\n",
       "  <thead>\n",
       "    <tr style=\"text-align: right;\">\n",
       "      <th></th>\n",
       "      <th>age</th>\n",
       "      <th>workclass</th>\n",
       "      <th>fnlwgt</th>\n",
       "      <th>education</th>\n",
       "      <th>education_num</th>\n",
       "      <th>maritalStatus</th>\n",
       "      <th>occupation</th>\n",
       "      <th>relationship</th>\n",
       "      <th>race</th>\n",
       "      <th>sex</th>\n",
       "      <th>capitalGain</th>\n",
       "      <th>capitalLoss</th>\n",
       "      <th>hoursPerWeek</th>\n",
       "      <th>nativeCountry</th>\n",
       "      <th>isUpper</th>\n",
       "    </tr>\n",
       "  </thead>\n",
       "  <tbody>\n",
       "    <tr>\n",
       "      <th>0</th>\n",
       "      <td>39</td>\n",
       "      <td>state_gov</td>\n",
       "      <td>77516</td>\n",
       "      <td>bachelors</td>\n",
       "      <td>13</td>\n",
       "      <td>never_married</td>\n",
       "      <td>adm_clerical</td>\n",
       "      <td>not_in_family</td>\n",
       "      <td>white</td>\n",
       "      <td>male</td>\n",
       "      <td>2174</td>\n",
       "      <td>0</td>\n",
       "      <td>40</td>\n",
       "      <td>united_states</td>\n",
       "      <td>False</td>\n",
       "    </tr>\n",
       "    <tr>\n",
       "      <th>1</th>\n",
       "      <td>50</td>\n",
       "      <td>self_emp_not_inc</td>\n",
       "      <td>83311</td>\n",
       "      <td>bachelors</td>\n",
       "      <td>13</td>\n",
       "      <td>married_civ_spouse</td>\n",
       "      <td>exec_managerial</td>\n",
       "      <td>husband</td>\n",
       "      <td>white</td>\n",
       "      <td>male</td>\n",
       "      <td>0</td>\n",
       "      <td>0</td>\n",
       "      <td>13</td>\n",
       "      <td>united_states</td>\n",
       "      <td>False</td>\n",
       "    </tr>\n",
       "    <tr>\n",
       "      <th>2</th>\n",
       "      <td>38</td>\n",
       "      <td>private</td>\n",
       "      <td>215646</td>\n",
       "      <td>hs_grad</td>\n",
       "      <td>9</td>\n",
       "      <td>divorced</td>\n",
       "      <td>handlers_cleaners</td>\n",
       "      <td>not_in_family</td>\n",
       "      <td>white</td>\n",
       "      <td>male</td>\n",
       "      <td>0</td>\n",
       "      <td>0</td>\n",
       "      <td>40</td>\n",
       "      <td>united_states</td>\n",
       "      <td>False</td>\n",
       "    </tr>\n",
       "    <tr>\n",
       "      <th>3</th>\n",
       "      <td>53</td>\n",
       "      <td>private</td>\n",
       "      <td>234721</td>\n",
       "      <td>11th</td>\n",
       "      <td>7</td>\n",
       "      <td>married_civ_spouse</td>\n",
       "      <td>handlers_cleaners</td>\n",
       "      <td>husband</td>\n",
       "      <td>black</td>\n",
       "      <td>male</td>\n",
       "      <td>0</td>\n",
       "      <td>0</td>\n",
       "      <td>40</td>\n",
       "      <td>united_states</td>\n",
       "      <td>False</td>\n",
       "    </tr>\n",
       "    <tr>\n",
       "      <th>4</th>\n",
       "      <td>28</td>\n",
       "      <td>private</td>\n",
       "      <td>338409</td>\n",
       "      <td>bachelors</td>\n",
       "      <td>13</td>\n",
       "      <td>married_civ_spouse</td>\n",
       "      <td>prof_specialty</td>\n",
       "      <td>wife</td>\n",
       "      <td>black</td>\n",
       "      <td>female</td>\n",
       "      <td>0</td>\n",
       "      <td>0</td>\n",
       "      <td>40</td>\n",
       "      <td>cuba</td>\n",
       "      <td>False</td>\n",
       "    </tr>\n",
       "    <tr>\n",
       "      <th>5</th>\n",
       "      <td>37</td>\n",
       "      <td>private</td>\n",
       "      <td>284582</td>\n",
       "      <td>masters</td>\n",
       "      <td>14</td>\n",
       "      <td>married_civ_spouse</td>\n",
       "      <td>exec_managerial</td>\n",
       "      <td>wife</td>\n",
       "      <td>white</td>\n",
       "      <td>female</td>\n",
       "      <td>0</td>\n",
       "      <td>0</td>\n",
       "      <td>40</td>\n",
       "      <td>united_states</td>\n",
       "      <td>False</td>\n",
       "    </tr>\n",
       "    <tr>\n",
       "      <th>6</th>\n",
       "      <td>49</td>\n",
       "      <td>private</td>\n",
       "      <td>160187</td>\n",
       "      <td>9th</td>\n",
       "      <td>5</td>\n",
       "      <td>married_spouse_absent</td>\n",
       "      <td>other_service</td>\n",
       "      <td>not_in_family</td>\n",
       "      <td>black</td>\n",
       "      <td>female</td>\n",
       "      <td>0</td>\n",
       "      <td>0</td>\n",
       "      <td>16</td>\n",
       "      <td>jamaica</td>\n",
       "      <td>False</td>\n",
       "    </tr>\n",
       "    <tr>\n",
       "      <th>7</th>\n",
       "      <td>52</td>\n",
       "      <td>self_emp_not_inc</td>\n",
       "      <td>209642</td>\n",
       "      <td>hs_grad</td>\n",
       "      <td>9</td>\n",
       "      <td>married_civ_spouse</td>\n",
       "      <td>exec_managerial</td>\n",
       "      <td>husband</td>\n",
       "      <td>white</td>\n",
       "      <td>male</td>\n",
       "      <td>0</td>\n",
       "      <td>0</td>\n",
       "      <td>45</td>\n",
       "      <td>united_states</td>\n",
       "      <td>True</td>\n",
       "    </tr>\n",
       "  </tbody>\n",
       "</table>\n",
       "</div>"
      ],
      "text/plain": [
       "   age         workclass  fnlwgt  education  education_num  \\\n",
       "0   39         state_gov   77516  bachelors             13   \n",
       "1   50  self_emp_not_inc   83311  bachelors             13   \n",
       "2   38           private  215646    hs_grad              9   \n",
       "3   53           private  234721       11th              7   \n",
       "4   28           private  338409  bachelors             13   \n",
       "5   37           private  284582    masters             14   \n",
       "6   49           private  160187        9th              5   \n",
       "7   52  self_emp_not_inc  209642    hs_grad              9   \n",
       "\n",
       "           maritalStatus         occupation   relationship   race     sex  \\\n",
       "0          never_married       adm_clerical  not_in_family  white    male   \n",
       "1     married_civ_spouse    exec_managerial        husband  white    male   \n",
       "2               divorced  handlers_cleaners  not_in_family  white    male   \n",
       "3     married_civ_spouse  handlers_cleaners        husband  black    male   \n",
       "4     married_civ_spouse     prof_specialty           wife  black  female   \n",
       "5     married_civ_spouse    exec_managerial           wife  white  female   \n",
       "6  married_spouse_absent      other_service  not_in_family  black  female   \n",
       "7     married_civ_spouse    exec_managerial        husband  white    male   \n",
       "\n",
       "   capitalGain  capitalLoss  hoursPerWeek  nativeCountry  isUpper  \n",
       "0         2174            0            40  united_states    False  \n",
       "1            0            0            13  united_states    False  \n",
       "2            0            0            40  united_states    False  \n",
       "3            0            0            40  united_states    False  \n",
       "4            0            0            40           cuba    False  \n",
       "5            0            0            40  united_states    False  \n",
       "6            0            0            16        jamaica    False  \n",
       "7            0            0            45  united_states     True  "
      ]
     },
     "execution_count": 5,
     "metadata": {},
     "output_type": "execute_result"
    }
   ],
   "source": [
    "data['isUpper']=np.where(data['isUpper'] == '>50k', True, False)\n",
    "data.head(8)"
   ]
  },
  {
   "cell_type": "markdown",
   "metadata": {},
   "source": [
    "- Ajout d'une nouvelle colonne family qui est fonction des colonnes maritalStatus et relationship :"
   ]
  },
  {
   "cell_type": "code",
   "execution_count": 6,
   "metadata": {},
   "outputs": [
    {
     "data": {
      "text/html": [
       "<div>\n",
       "<style scoped>\n",
       "    .dataframe tbody tr th:only-of-type {\n",
       "        vertical-align: middle;\n",
       "    }\n",
       "\n",
       "    .dataframe tbody tr th {\n",
       "        vertical-align: top;\n",
       "    }\n",
       "\n",
       "    .dataframe thead th {\n",
       "        text-align: right;\n",
       "    }\n",
       "</style>\n",
       "<table border=\"1\" class=\"dataframe\">\n",
       "  <thead>\n",
       "    <tr style=\"text-align: right;\">\n",
       "      <th></th>\n",
       "      <th>age</th>\n",
       "      <th>workclass</th>\n",
       "      <th>fnlwgt</th>\n",
       "      <th>education</th>\n",
       "      <th>education_num</th>\n",
       "      <th>maritalStatus</th>\n",
       "      <th>occupation</th>\n",
       "      <th>relationship</th>\n",
       "      <th>race</th>\n",
       "      <th>sex</th>\n",
       "      <th>capitalGain</th>\n",
       "      <th>capitalLoss</th>\n",
       "      <th>hoursPerWeek</th>\n",
       "      <th>nativeCountry</th>\n",
       "      <th>isUpper</th>\n",
       "      <th>family</th>\n",
       "    </tr>\n",
       "  </thead>\n",
       "  <tbody>\n",
       "    <tr>\n",
       "      <th>0</th>\n",
       "      <td>39</td>\n",
       "      <td>state_gov</td>\n",
       "      <td>77516</td>\n",
       "      <td>bachelors</td>\n",
       "      <td>13</td>\n",
       "      <td>never_married</td>\n",
       "      <td>adm_clerical</td>\n",
       "      <td>not_in_family</td>\n",
       "      <td>white</td>\n",
       "      <td>male</td>\n",
       "      <td>2174</td>\n",
       "      <td>0</td>\n",
       "      <td>40</td>\n",
       "      <td>united_states</td>\n",
       "      <td>False</td>\n",
       "      <td>s</td>\n",
       "    </tr>\n",
       "    <tr>\n",
       "      <th>1</th>\n",
       "      <td>50</td>\n",
       "      <td>self_emp_not_inc</td>\n",
       "      <td>83311</td>\n",
       "      <td>bachelors</td>\n",
       "      <td>13</td>\n",
       "      <td>married_civ_spouse</td>\n",
       "      <td>exec_managerial</td>\n",
       "      <td>husband</td>\n",
       "      <td>white</td>\n",
       "      <td>male</td>\n",
       "      <td>0</td>\n",
       "      <td>0</td>\n",
       "      <td>13</td>\n",
       "      <td>united_states</td>\n",
       "      <td>False</td>\n",
       "      <td>m</td>\n",
       "    </tr>\n",
       "    <tr>\n",
       "      <th>2</th>\n",
       "      <td>38</td>\n",
       "      <td>private</td>\n",
       "      <td>215646</td>\n",
       "      <td>hs_grad</td>\n",
       "      <td>9</td>\n",
       "      <td>divorced</td>\n",
       "      <td>handlers_cleaners</td>\n",
       "      <td>not_in_family</td>\n",
       "      <td>white</td>\n",
       "      <td>male</td>\n",
       "      <td>0</td>\n",
       "      <td>0</td>\n",
       "      <td>40</td>\n",
       "      <td>united_states</td>\n",
       "      <td>False</td>\n",
       "      <td>s</td>\n",
       "    </tr>\n",
       "    <tr>\n",
       "      <th>3</th>\n",
       "      <td>53</td>\n",
       "      <td>private</td>\n",
       "      <td>234721</td>\n",
       "      <td>11th</td>\n",
       "      <td>7</td>\n",
       "      <td>married_civ_spouse</td>\n",
       "      <td>handlers_cleaners</td>\n",
       "      <td>husband</td>\n",
       "      <td>black</td>\n",
       "      <td>male</td>\n",
       "      <td>0</td>\n",
       "      <td>0</td>\n",
       "      <td>40</td>\n",
       "      <td>united_states</td>\n",
       "      <td>False</td>\n",
       "      <td>m</td>\n",
       "    </tr>\n",
       "    <tr>\n",
       "      <th>4</th>\n",
       "      <td>28</td>\n",
       "      <td>private</td>\n",
       "      <td>338409</td>\n",
       "      <td>bachelors</td>\n",
       "      <td>13</td>\n",
       "      <td>married_civ_spouse</td>\n",
       "      <td>prof_specialty</td>\n",
       "      <td>wife</td>\n",
       "      <td>black</td>\n",
       "      <td>female</td>\n",
       "      <td>0</td>\n",
       "      <td>0</td>\n",
       "      <td>40</td>\n",
       "      <td>cuba</td>\n",
       "      <td>False</td>\n",
       "      <td>m</td>\n",
       "    </tr>\n",
       "  </tbody>\n",
       "</table>\n",
       "</div>"
      ],
      "text/plain": [
       "   age         workclass  fnlwgt  education  education_num  \\\n",
       "0   39         state_gov   77516  bachelors             13   \n",
       "1   50  self_emp_not_inc   83311  bachelors             13   \n",
       "2   38           private  215646    hs_grad              9   \n",
       "3   53           private  234721       11th              7   \n",
       "4   28           private  338409  bachelors             13   \n",
       "\n",
       "        maritalStatus         occupation   relationship   race     sex  \\\n",
       "0       never_married       adm_clerical  not_in_family  white    male   \n",
       "1  married_civ_spouse    exec_managerial        husband  white    male   \n",
       "2            divorced  handlers_cleaners  not_in_family  white    male   \n",
       "3  married_civ_spouse  handlers_cleaners        husband  black    male   \n",
       "4  married_civ_spouse     prof_specialty           wife  black  female   \n",
       "\n",
       "   capitalGain  capitalLoss  hoursPerWeek  nativeCountry  isUpper family  \n",
       "0         2174            0            40  united_states    False      s  \n",
       "1            0            0            13  united_states    False      m  \n",
       "2            0            0            40  united_states    False      s  \n",
       "3            0            0            40  united_states    False      m  \n",
       "4            0            0            40           cuba    False      m  "
      ]
     },
     "execution_count": 6,
     "metadata": {},
     "output_type": "execute_result"
    }
   ],
   "source": [
    "data['family']=[(lambda m,r:\n",
    "                 'mc' if m[0:7].lower()=='married' and r[0:3].lower()=='own'\n",
    "            else 'm' if m[0:7].lower()=='married'\n",
    "            else 'sc' if (m[0:5].lower()=='never' or m[0:5].lower()=='divor' or m[0:5].lower()=='separ' or m[0:5].lower()=='widow') and r[0:3].lower()=='own'\n",
    "            else 's' if (m[0:5].lower()=='never' or m[0:5].lower()=='divor' or m[0:5].lower()=='separ' or m[0:5].lower()=='widow')\n",
    "            else 'err')\n",
    "            (row[1],row[2])\n",
    "    for row in data[['maritalStatus','relationship']].itertuples()]\n",
    "data.head()"
   ]
  },
  {
   "cell_type": "markdown",
   "metadata": {},
   "source": [
    "- Ajout d'une nouvelle colonne Caucasian :"
   ]
  },
  {
   "cell_type": "code",
   "execution_count": 7,
   "metadata": {},
   "outputs": [],
   "source": [
    "data['Caucasian']=[(lambda x : True if x.lower()=='white' else False)(h) for h in data['race']]"
   ]
  },
  {
   "cell_type": "markdown",
   "metadata": {},
   "source": [
    "- Modification de la colonne nativeCountry :"
   ]
  },
  {
   "cell_type": "code",
   "execution_count": 8,
   "metadata": {},
   "outputs": [
    {
     "data": {
      "text/html": [
       "<div>\n",
       "<style scoped>\n",
       "    .dataframe tbody tr th:only-of-type {\n",
       "        vertical-align: middle;\n",
       "    }\n",
       "\n",
       "    .dataframe tbody tr th {\n",
       "        vertical-align: top;\n",
       "    }\n",
       "\n",
       "    .dataframe thead th {\n",
       "        text-align: right;\n",
       "    }\n",
       "</style>\n",
       "<table border=\"1\" class=\"dataframe\">\n",
       "  <thead>\n",
       "    <tr style=\"text-align: right;\">\n",
       "      <th></th>\n",
       "      <th>age</th>\n",
       "      <th>workclass</th>\n",
       "      <th>fnlwgt</th>\n",
       "      <th>education</th>\n",
       "      <th>education_num</th>\n",
       "      <th>maritalStatus</th>\n",
       "      <th>occupation</th>\n",
       "      <th>relationship</th>\n",
       "      <th>race</th>\n",
       "      <th>sex</th>\n",
       "      <th>capitalGain</th>\n",
       "      <th>capitalLoss</th>\n",
       "      <th>hoursPerWeek</th>\n",
       "      <th>nativeCountry</th>\n",
       "      <th>isUpper</th>\n",
       "      <th>family</th>\n",
       "      <th>Caucasian</th>\n",
       "    </tr>\n",
       "  </thead>\n",
       "  <tbody>\n",
       "    <tr>\n",
       "      <th>0</th>\n",
       "      <td>39</td>\n",
       "      <td>state_gov</td>\n",
       "      <td>77516</td>\n",
       "      <td>bachelors</td>\n",
       "      <td>13</td>\n",
       "      <td>never_married</td>\n",
       "      <td>adm_clerical</td>\n",
       "      <td>not_in_family</td>\n",
       "      <td>white</td>\n",
       "      <td>male</td>\n",
       "      <td>2174</td>\n",
       "      <td>0</td>\n",
       "      <td>40</td>\n",
       "      <td>n_am</td>\n",
       "      <td>False</td>\n",
       "      <td>s</td>\n",
       "      <td>True</td>\n",
       "    </tr>\n",
       "    <tr>\n",
       "      <th>1</th>\n",
       "      <td>50</td>\n",
       "      <td>self_emp_not_inc</td>\n",
       "      <td>83311</td>\n",
       "      <td>bachelors</td>\n",
       "      <td>13</td>\n",
       "      <td>married_civ_spouse</td>\n",
       "      <td>exec_managerial</td>\n",
       "      <td>husband</td>\n",
       "      <td>white</td>\n",
       "      <td>male</td>\n",
       "      <td>0</td>\n",
       "      <td>0</td>\n",
       "      <td>13</td>\n",
       "      <td>n_am</td>\n",
       "      <td>False</td>\n",
       "      <td>m</td>\n",
       "      <td>True</td>\n",
       "    </tr>\n",
       "    <tr>\n",
       "      <th>2</th>\n",
       "      <td>38</td>\n",
       "      <td>private</td>\n",
       "      <td>215646</td>\n",
       "      <td>hs_grad</td>\n",
       "      <td>9</td>\n",
       "      <td>divorced</td>\n",
       "      <td>handlers_cleaners</td>\n",
       "      <td>not_in_family</td>\n",
       "      <td>white</td>\n",
       "      <td>male</td>\n",
       "      <td>0</td>\n",
       "      <td>0</td>\n",
       "      <td>40</td>\n",
       "      <td>n_am</td>\n",
       "      <td>False</td>\n",
       "      <td>s</td>\n",
       "      <td>True</td>\n",
       "    </tr>\n",
       "    <tr>\n",
       "      <th>3</th>\n",
       "      <td>53</td>\n",
       "      <td>private</td>\n",
       "      <td>234721</td>\n",
       "      <td>11th</td>\n",
       "      <td>7</td>\n",
       "      <td>married_civ_spouse</td>\n",
       "      <td>handlers_cleaners</td>\n",
       "      <td>husband</td>\n",
       "      <td>black</td>\n",
       "      <td>male</td>\n",
       "      <td>0</td>\n",
       "      <td>0</td>\n",
       "      <td>40</td>\n",
       "      <td>n_am</td>\n",
       "      <td>False</td>\n",
       "      <td>m</td>\n",
       "      <td>False</td>\n",
       "    </tr>\n",
       "    <tr>\n",
       "      <th>4</th>\n",
       "      <td>28</td>\n",
       "      <td>private</td>\n",
       "      <td>338409</td>\n",
       "      <td>bachelors</td>\n",
       "      <td>13</td>\n",
       "      <td>married_civ_spouse</td>\n",
       "      <td>prof_specialty</td>\n",
       "      <td>wife</td>\n",
       "      <td>black</td>\n",
       "      <td>female</td>\n",
       "      <td>0</td>\n",
       "      <td>0</td>\n",
       "      <td>40</td>\n",
       "      <td>lat_am</td>\n",
       "      <td>False</td>\n",
       "      <td>m</td>\n",
       "      <td>False</td>\n",
       "    </tr>\n",
       "  </tbody>\n",
       "</table>\n",
       "</div>"
      ],
      "text/plain": [
       "   age         workclass  fnlwgt  education  education_num  \\\n",
       "0   39         state_gov   77516  bachelors             13   \n",
       "1   50  self_emp_not_inc   83311  bachelors             13   \n",
       "2   38           private  215646    hs_grad              9   \n",
       "3   53           private  234721       11th              7   \n",
       "4   28           private  338409  bachelors             13   \n",
       "\n",
       "        maritalStatus         occupation   relationship   race     sex  \\\n",
       "0       never_married       adm_clerical  not_in_family  white    male   \n",
       "1  married_civ_spouse    exec_managerial        husband  white    male   \n",
       "2            divorced  handlers_cleaners  not_in_family  white    male   \n",
       "3  married_civ_spouse  handlers_cleaners        husband  black    male   \n",
       "4  married_civ_spouse     prof_specialty           wife  black  female   \n",
       "\n",
       "   capitalGain  capitalLoss  hoursPerWeek nativeCountry  isUpper family  \\\n",
       "0         2174            0            40          n_am    False      s   \n",
       "1            0            0            13          n_am    False      m   \n",
       "2            0            0            40          n_am    False      s   \n",
       "3            0            0            40          n_am    False      m   \n",
       "4            0            0            40        lat_am    False      m   \n",
       "\n",
       "   Caucasian  \n",
       "0       True  \n",
       "1       True  \n",
       "2       True  \n",
       "3      False  \n",
       "4      False  "
      ]
     },
     "execution_count": 8,
     "metadata": {},
     "output_type": "execute_result"
    }
   ],
   "source": [
    "data['nativeCountry']=[(lambda c:\n",
    "                 'eu' if c.lower() in ['france','germany','poland','england','portugal','italy','scotland','greece','ireland','yugoslavia','hungary','holand_netherlands']\n",
    "            else 'n_am' if c.lower() in ['united_states','canada']\n",
    "            else 'lat_am' if c.lower() in ['cuba','mexico','columbia','peru','el_salvador','guatemala','nicaragua','honduras','ecuador']\n",
    "            else 'asia' if c.lower() in ['india','cambodia','thailand','laos','taiwan','china','japan','vietnam','hong','philippines','trinadad&tobago']\n",
    "            else 'others' if c.lower() in ['jamaica','puerto_rico','iran','haiti','dominican_republic','south','outlying_us(guam_usvi_etc)']\n",
    "            else 'err')\n",
    "            (v)\n",
    "    for v in data['nativeCountry']]\n",
    "data.head()"
   ]
  },
  {
   "cell_type": "markdown",
   "metadata": {},
   "source": [
    "#### Pour eviter un problème de discrimination, nous avons décider de supprimer les sexes et races. Nous avons également enlevé la variable education car elle correspond à une autre variable qu'on a gardé (education_num).\n"
   ]
  },
  {
   "cell_type": "code",
   "execution_count": 9,
   "metadata": {},
   "outputs": [
    {
     "data": {
      "text/html": [
       "<div>\n",
       "<style scoped>\n",
       "    .dataframe tbody tr th:only-of-type {\n",
       "        vertical-align: middle;\n",
       "    }\n",
       "\n",
       "    .dataframe tbody tr th {\n",
       "        vertical-align: top;\n",
       "    }\n",
       "\n",
       "    .dataframe thead th {\n",
       "        text-align: right;\n",
       "    }\n",
       "</style>\n",
       "<table border=\"1\" class=\"dataframe\">\n",
       "  <thead>\n",
       "    <tr style=\"text-align: right;\">\n",
       "      <th></th>\n",
       "      <th>age</th>\n",
       "      <th>workclass</th>\n",
       "      <th>education_num</th>\n",
       "      <th>occupation</th>\n",
       "      <th>capitalGain</th>\n",
       "      <th>capitalLoss</th>\n",
       "      <th>hoursPerWeek</th>\n",
       "      <th>nativeCountry</th>\n",
       "      <th>isUpper</th>\n",
       "      <th>family</th>\n",
       "    </tr>\n",
       "  </thead>\n",
       "  <tbody>\n",
       "    <tr>\n",
       "      <th>0</th>\n",
       "      <td>39</td>\n",
       "      <td>state_gov</td>\n",
       "      <td>13</td>\n",
       "      <td>adm_clerical</td>\n",
       "      <td>2174</td>\n",
       "      <td>0</td>\n",
       "      <td>40</td>\n",
       "      <td>n_am</td>\n",
       "      <td>False</td>\n",
       "      <td>s</td>\n",
       "    </tr>\n",
       "    <tr>\n",
       "      <th>1</th>\n",
       "      <td>50</td>\n",
       "      <td>self_emp_not_inc</td>\n",
       "      <td>13</td>\n",
       "      <td>exec_managerial</td>\n",
       "      <td>0</td>\n",
       "      <td>0</td>\n",
       "      <td>13</td>\n",
       "      <td>n_am</td>\n",
       "      <td>False</td>\n",
       "      <td>m</td>\n",
       "    </tr>\n",
       "    <tr>\n",
       "      <th>2</th>\n",
       "      <td>38</td>\n",
       "      <td>private</td>\n",
       "      <td>9</td>\n",
       "      <td>handlers_cleaners</td>\n",
       "      <td>0</td>\n",
       "      <td>0</td>\n",
       "      <td>40</td>\n",
       "      <td>n_am</td>\n",
       "      <td>False</td>\n",
       "      <td>s</td>\n",
       "    </tr>\n",
       "    <tr>\n",
       "      <th>3</th>\n",
       "      <td>53</td>\n",
       "      <td>private</td>\n",
       "      <td>7</td>\n",
       "      <td>handlers_cleaners</td>\n",
       "      <td>0</td>\n",
       "      <td>0</td>\n",
       "      <td>40</td>\n",
       "      <td>n_am</td>\n",
       "      <td>False</td>\n",
       "      <td>m</td>\n",
       "    </tr>\n",
       "    <tr>\n",
       "      <th>4</th>\n",
       "      <td>28</td>\n",
       "      <td>private</td>\n",
       "      <td>13</td>\n",
       "      <td>prof_specialty</td>\n",
       "      <td>0</td>\n",
       "      <td>0</td>\n",
       "      <td>40</td>\n",
       "      <td>lat_am</td>\n",
       "      <td>False</td>\n",
       "      <td>m</td>\n",
       "    </tr>\n",
       "  </tbody>\n",
       "</table>\n",
       "</div>"
      ],
      "text/plain": [
       "   age         workclass  education_num         occupation  capitalGain  \\\n",
       "0   39         state_gov             13       adm_clerical         2174   \n",
       "1   50  self_emp_not_inc             13    exec_managerial            0   \n",
       "2   38           private              9  handlers_cleaners            0   \n",
       "3   53           private              7  handlers_cleaners            0   \n",
       "4   28           private             13     prof_specialty            0   \n",
       "\n",
       "   capitalLoss  hoursPerWeek nativeCountry  isUpper family  \n",
       "0            0            40          n_am    False      s  \n",
       "1            0            13          n_am    False      m  \n",
       "2            0            40          n_am    False      s  \n",
       "3            0            40          n_am    False      m  \n",
       "4            0            40        lat_am    False      m  "
      ]
     },
     "execution_count": 9,
     "metadata": {},
     "output_type": "execute_result"
    }
   ],
   "source": [
    "data=data.drop(columns=['maritalStatus', 'relationship','race','fnlwgt','sex','education','Caucasian'])\n",
    "data.head()"
   ]
  },
  {
   "cell_type": "markdown",
   "metadata": {},
   "source": [
    "- Passage au log des variables de gains et pertes de capital :"
   ]
  },
  {
   "cell_type": "code",
   "execution_count": 10,
   "metadata": {},
   "outputs": [],
   "source": [
    "data['capitalLoss']=[(lambda v : 0 if v==0 else np.log(v))(x) for x in data['capitalLoss']]\n",
    "data['capitalGain']=[(lambda v : 0 if v==0 else np.log(v))(x) for x in data['capitalGain']]"
   ]
  },
  {
   "cell_type": "markdown",
   "metadata": {},
   "source": [
    "- Summary"
   ]
  },
  {
   "cell_type": "code",
   "execution_count": 11,
   "metadata": {},
   "outputs": [
    {
     "data": {
      "text/html": [
       "<div>\n",
       "<style scoped>\n",
       "    .dataframe tbody tr th:only-of-type {\n",
       "        vertical-align: middle;\n",
       "    }\n",
       "\n",
       "    .dataframe tbody tr th {\n",
       "        vertical-align: top;\n",
       "    }\n",
       "\n",
       "    .dataframe thead th {\n",
       "        text-align: right;\n",
       "    }\n",
       "</style>\n",
       "<table border=\"1\" class=\"dataframe\">\n",
       "  <thead>\n",
       "    <tr style=\"text-align: right;\">\n",
       "      <th></th>\n",
       "      <th>age</th>\n",
       "      <th>education_num</th>\n",
       "      <th>capitalGain</th>\n",
       "      <th>capitalLoss</th>\n",
       "      <th>hoursPerWeek</th>\n",
       "    </tr>\n",
       "  </thead>\n",
       "  <tbody>\n",
       "    <tr>\n",
       "      <th>count</th>\n",
       "      <td>30162.000000</td>\n",
       "      <td>30162.000000</td>\n",
       "      <td>30162.000000</td>\n",
       "      <td>30162.000000</td>\n",
       "      <td>30162.000000</td>\n",
       "    </tr>\n",
       "    <tr>\n",
       "      <th>mean</th>\n",
       "      <td>38.437902</td>\n",
       "      <td>10.121312</td>\n",
       "      <td>0.743627</td>\n",
       "      <td>0.355199</td>\n",
       "      <td>40.931238</td>\n",
       "    </tr>\n",
       "    <tr>\n",
       "      <th>std</th>\n",
       "      <td>13.134665</td>\n",
       "      <td>2.549995</td>\n",
       "      <td>2.470462</td>\n",
       "      <td>1.594890</td>\n",
       "      <td>11.979984</td>\n",
       "    </tr>\n",
       "    <tr>\n",
       "      <th>min</th>\n",
       "      <td>17.000000</td>\n",
       "      <td>1.000000</td>\n",
       "      <td>0.000000</td>\n",
       "      <td>0.000000</td>\n",
       "      <td>1.000000</td>\n",
       "    </tr>\n",
       "    <tr>\n",
       "      <th>25%</th>\n",
       "      <td>28.000000</td>\n",
       "      <td>9.000000</td>\n",
       "      <td>0.000000</td>\n",
       "      <td>0.000000</td>\n",
       "      <td>40.000000</td>\n",
       "    </tr>\n",
       "    <tr>\n",
       "      <th>50%</th>\n",
       "      <td>37.000000</td>\n",
       "      <td>10.000000</td>\n",
       "      <td>0.000000</td>\n",
       "      <td>0.000000</td>\n",
       "      <td>40.000000</td>\n",
       "    </tr>\n",
       "    <tr>\n",
       "      <th>75%</th>\n",
       "      <td>47.000000</td>\n",
       "      <td>13.000000</td>\n",
       "      <td>0.000000</td>\n",
       "      <td>0.000000</td>\n",
       "      <td>45.000000</td>\n",
       "    </tr>\n",
       "    <tr>\n",
       "      <th>max</th>\n",
       "      <td>90.000000</td>\n",
       "      <td>16.000000</td>\n",
       "      <td>11.512915</td>\n",
       "      <td>8.379309</td>\n",
       "      <td>99.000000</td>\n",
       "    </tr>\n",
       "  </tbody>\n",
       "</table>\n",
       "</div>"
      ],
      "text/plain": [
       "                age  education_num   capitalGain   capitalLoss  hoursPerWeek\n",
       "count  30162.000000   30162.000000  30162.000000  30162.000000  30162.000000\n",
       "mean      38.437902      10.121312      0.743627      0.355199     40.931238\n",
       "std       13.134665       2.549995      2.470462      1.594890     11.979984\n",
       "min       17.000000       1.000000      0.000000      0.000000      1.000000\n",
       "25%       28.000000       9.000000      0.000000      0.000000     40.000000\n",
       "50%       37.000000      10.000000      0.000000      0.000000     40.000000\n",
       "75%       47.000000      13.000000      0.000000      0.000000     45.000000\n",
       "max       90.000000      16.000000     11.512915      8.379309     99.000000"
      ]
     },
     "execution_count": 11,
     "metadata": {},
     "output_type": "execute_result"
    }
   ],
   "source": [
    "data.describe()"
   ]
  },
  {
   "cell_type": "code",
   "execution_count": 12,
   "metadata": {
    "scrolled": false
   },
   "outputs": [
    {
     "data": {
      "image/png": "[encoded data removed]",
      "text/plain": [
       "<Figure size 432x288 with 1 Axes>"
      ]
     },
     "metadata": {
      "needs_background": "light"
     },
     "output_type": "display_data"
    },
    {
     "data": {
      "image/png": "[encoded data removed]",
      "text/plain": [
       "<Figure size 432x288 with 1 Axes>"
      ]
     },
     "metadata": {
      "needs_background": "light"
     },
     "output_type": "display_data"
    },
    {
     "data": {
      "image/png": "[encoded data removed]",
      "text/plain": [
       "<Figure size 432x288 with 1 Axes>"
      ]
     },
     "metadata": {
      "needs_background": "light"
     },
     "output_type": "display_data"
    },
    {
     "data": {
      "image/png": "[encoded data removed]",
      "text/plain": [
       "<Figure size 432x288 with 1 Axes>"
      ]
     },
     "metadata": {
      "needs_background": "light"
     },
     "output_type": "display_data"
    },
    {
     "data": {
      "image/png": "[encoded data removed]",
      "text/plain": [
       "<Figure size 432x288 with 1 Axes>"
      ]
     },
     "metadata": {
      "needs_background": "light"
     },
     "output_type": "display_data"
    }
   ],
   "source": [
    "listevar=['age','education_num','capitalGain','capitalLoss','hoursPerWeek']\n",
    "for l in listevar:\n",
    "    data_box=data[['isUpper',l]]\n",
    "    data_box.boxplot(by='isUpper')"
   ]
  },
  {
   "cell_type": "markdown",
   "metadata": {},
   "source": [
    "Sur les variables age, education_num, hoursPerWeek on voit que les valeurs se répartissent différemment suivant si l'individu gagne plus ou moins de 50K$ . Ce qui explique donc notre choix de conserver ces variables pour la suite de notre analyse "
   ]
  },
  {
   "cell_type": "markdown",
   "metadata": {},
   "source": [
    "# 2) Random Forest"
   ]
  },
  {
   "cell_type": "markdown",
   "metadata": {},
   "source": [
    "- Partionner des variables quantitatives en qualitatives"
   ]
  },
  {
   "cell_type": "code",
   "execution_count": 13,
   "metadata": {},
   "outputs": [],
   "source": [
    "RFdata=data.copy()"
   ]
  },
  {
   "cell_type": "code",
   "execution_count": 14,
   "metadata": {},
   "outputs": [],
   "source": [
    "RFdata['ageQ']=[(lambda a : \n",
    "           'T1' if a <22 \n",
    "      else 'T2' if a <30 \n",
    "      else 'T3' if a <40\n",
    "      else 'T4' if a <50\n",
    "      else 'T5' if a <60\n",
    "      else 'T6')(age) for age in RFdata['age']]\n",
    "RFdata['hoursPerWeekQ']=[(lambda a : \n",
    "           'H1' if a <=19 \n",
    "      else 'H2' if a <=28 \n",
    "      else 'H3' if a <=38\n",
    "      else 'H4' if a <=50\n",
    "      else 'H5' if a <=60\n",
    "      else 'H6')(hour) for hour in RFdata['hoursPerWeek']]\n",
    "RFdata['educationQ']=[(lambda a : \n",
    "         'Dropout' if a <9 \n",
    "    else 'HS_grad' if a ==9 \n",
    "    else 'HS_gradPlus' if a ==10\n",
    "    else 'Associates' if a==11 or a==12\n",
    "    else 'Bachelor' if a==13\n",
    "    else 'Master' if a==14\n",
    "    else 'Prof_school' if a==15\n",
    "    else 'Doctorate' if a==16\n",
    "    else 'ERR')(edu) for edu in RFdata['education_num']]"
   ]
  },
  {
   "cell_type": "markdown",
   "metadata": {},
   "source": [
    "- suppression de certaines colonnes :"
   ]
  },
  {
   "cell_type": "code",
   "execution_count": 15,
   "metadata": {
    "scrolled": true
   },
   "outputs": [
    {
     "data": {
      "text/html": [
       "<div>\n",
       "<style scoped>\n",
       "    .dataframe tbody tr th:only-of-type {\n",
       "        vertical-align: middle;\n",
       "    }\n",
       "\n",
       "    .dataframe tbody tr th {\n",
       "        vertical-align: top;\n",
       "    }\n",
       "\n",
       "    .dataframe thead th {\n",
       "        text-align: right;\n",
       "    }\n",
       "</style>\n",
       "<table border=\"1\" class=\"dataframe\">\n",
       "  <thead>\n",
       "    <tr style=\"text-align: right;\">\n",
       "      <th></th>\n",
       "      <th>workclass</th>\n",
       "      <th>occupation</th>\n",
       "      <th>capitalGain</th>\n",
       "      <th>capitalLoss</th>\n",
       "      <th>nativeCountry</th>\n",
       "      <th>isUpper</th>\n",
       "      <th>family</th>\n",
       "      <th>ageQ</th>\n",
       "      <th>hoursPerWeekQ</th>\n",
       "      <th>educationQ</th>\n",
       "    </tr>\n",
       "  </thead>\n",
       "  <tbody>\n",
       "    <tr>\n",
       "      <th>0</th>\n",
       "      <td>state_gov</td>\n",
       "      <td>adm_clerical</td>\n",
       "      <td>7.684324</td>\n",
       "      <td>0.0</td>\n",
       "      <td>n_am</td>\n",
       "      <td>False</td>\n",
       "      <td>s</td>\n",
       "      <td>T3</td>\n",
       "      <td>H4</td>\n",
       "      <td>Bachelor</td>\n",
       "    </tr>\n",
       "    <tr>\n",
       "      <th>1</th>\n",
       "      <td>self_emp_not_inc</td>\n",
       "      <td>exec_managerial</td>\n",
       "      <td>0.000000</td>\n",
       "      <td>0.0</td>\n",
       "      <td>n_am</td>\n",
       "      <td>False</td>\n",
       "      <td>m</td>\n",
       "      <td>T5</td>\n",
       "      <td>H1</td>\n",
       "      <td>Bachelor</td>\n",
       "    </tr>\n",
       "    <tr>\n",
       "      <th>2</th>\n",
       "      <td>private</td>\n",
       "      <td>handlers_cleaners</td>\n",
       "      <td>0.000000</td>\n",
       "      <td>0.0</td>\n",
       "      <td>n_am</td>\n",
       "      <td>False</td>\n",
       "      <td>s</td>\n",
       "      <td>T3</td>\n",
       "      <td>H4</td>\n",
       "      <td>HS_grad</td>\n",
       "    </tr>\n",
       "    <tr>\n",
       "      <th>3</th>\n",
       "      <td>private</td>\n",
       "      <td>handlers_cleaners</td>\n",
       "      <td>0.000000</td>\n",
       "      <td>0.0</td>\n",
       "      <td>n_am</td>\n",
       "      <td>False</td>\n",
       "      <td>m</td>\n",
       "      <td>T5</td>\n",
       "      <td>H4</td>\n",
       "      <td>Dropout</td>\n",
       "    </tr>\n",
       "    <tr>\n",
       "      <th>4</th>\n",
       "      <td>private</td>\n",
       "      <td>prof_specialty</td>\n",
       "      <td>0.000000</td>\n",
       "      <td>0.0</td>\n",
       "      <td>lat_am</td>\n",
       "      <td>False</td>\n",
       "      <td>m</td>\n",
       "      <td>T2</td>\n",
       "      <td>H4</td>\n",
       "      <td>Bachelor</td>\n",
       "    </tr>\n",
       "  </tbody>\n",
       "</table>\n",
       "</div>"
      ],
      "text/plain": [
       "          workclass         occupation  capitalGain  capitalLoss  \\\n",
       "0         state_gov       adm_clerical     7.684324          0.0   \n",
       "1  self_emp_not_inc    exec_managerial     0.000000          0.0   \n",
       "2           private  handlers_cleaners     0.000000          0.0   \n",
       "3           private  handlers_cleaners     0.000000          0.0   \n",
       "4           private     prof_specialty     0.000000          0.0   \n",
       "\n",
       "  nativeCountry  isUpper family ageQ hoursPerWeekQ educationQ  \n",
       "0          n_am    False      s   T3            H4   Bachelor  \n",
       "1          n_am    False      m   T5            H1   Bachelor  \n",
       "2          n_am    False      s   T3            H4    HS_grad  \n",
       "3          n_am    False      m   T5            H4    Dropout  \n",
       "4        lat_am    False      m   T2            H4   Bachelor  "
      ]
     },
     "execution_count": 15,
     "metadata": {},
     "output_type": "execute_result"
    }
   ],
   "source": [
    "RFdata=RFdata.drop(columns=['age','hoursPerWeek','education_num'])\n",
    "RFdata.head()"
   ]
  },
  {
   "cell_type": "code",
   "execution_count": 16,
   "metadata": {},
   "outputs": [],
   "source": [
    "def partitionner(mdata,colonne,colRes,bornes):\n",
    "    res=[]\n",
    "    for v in mdata[colonne]:\n",
    "        interval=0\n",
    "        for ib,b in enumerate(bornes[1:]):\n",
    "            if v >= bornes[ib] and v<=bornes[ib+1]:\n",
    "                res.append(ib)\n",
    "                break\n",
    "    return(res)"
   ]
  },
  {
   "cell_type": "markdown",
   "metadata": {},
   "source": [
    "- simplification de capitalGain et capitalLoss"
   ]
  },
  {
   "cell_type": "code",
   "execution_count": 17,
   "metadata": {},
   "outputs": [],
   "source": [
    "RFdata['capitalLoss']=[(lambda v : 0 if v==0 else 1)(x) for x in RFdata['capitalLoss']]\n",
    "RFdata['capitalGain']=partitionner(RFdata,'capitalGain','isUpper',bornes=[0.0, 0.24, 7.83, 8.814, 12.0])"
   ]
  },
  {
   "cell_type": "code",
   "execution_count": 18,
   "metadata": {},
   "outputs": [
    {
     "data": {
      "text/html": [
       "<div>\n",
       "<style scoped>\n",
       "    .dataframe tbody tr th:only-of-type {\n",
       "        vertical-align: middle;\n",
       "    }\n",
       "\n",
       "    .dataframe tbody tr th {\n",
       "        vertical-align: top;\n",
       "    }\n",
       "\n",
       "    .dataframe thead th {\n",
       "        text-align: right;\n",
       "    }\n",
       "</style>\n",
       "<table border=\"1\" class=\"dataframe\">\n",
       "  <thead>\n",
       "    <tr style=\"text-align: right;\">\n",
       "      <th></th>\n",
       "      <th>workclass</th>\n",
       "      <th>occupation</th>\n",
       "      <th>capitalGain</th>\n",
       "      <th>capitalLoss</th>\n",
       "      <th>nativeCountry</th>\n",
       "      <th>isUpper</th>\n",
       "      <th>family</th>\n",
       "      <th>ageQ</th>\n",
       "      <th>hoursPerWeekQ</th>\n",
       "      <th>educationQ</th>\n",
       "    </tr>\n",
       "  </thead>\n",
       "  <tbody>\n",
       "    <tr>\n",
       "      <th>0</th>\n",
       "      <td>state_gov</td>\n",
       "      <td>adm_clerical</td>\n",
       "      <td>1</td>\n",
       "      <td>0</td>\n",
       "      <td>n_am</td>\n",
       "      <td>False</td>\n",
       "      <td>s</td>\n",
       "      <td>T3</td>\n",
       "      <td>H4</td>\n",
       "      <td>Bachelor</td>\n",
       "    </tr>\n",
       "    <tr>\n",
       "      <th>1</th>\n",
       "      <td>self_emp_not_inc</td>\n",
       "      <td>exec_managerial</td>\n",
       "      <td>0</td>\n",
       "      <td>0</td>\n",
       "      <td>n_am</td>\n",
       "      <td>False</td>\n",
       "      <td>m</td>\n",
       "      <td>T5</td>\n",
       "      <td>H1</td>\n",
       "      <td>Bachelor</td>\n",
       "    </tr>\n",
       "    <tr>\n",
       "      <th>2</th>\n",
       "      <td>private</td>\n",
       "      <td>handlers_cleaners</td>\n",
       "      <td>0</td>\n",
       "      <td>0</td>\n",
       "      <td>n_am</td>\n",
       "      <td>False</td>\n",
       "      <td>s</td>\n",
       "      <td>T3</td>\n",
       "      <td>H4</td>\n",
       "      <td>HS_grad</td>\n",
       "    </tr>\n",
       "    <tr>\n",
       "      <th>3</th>\n",
       "      <td>private</td>\n",
       "      <td>handlers_cleaners</td>\n",
       "      <td>0</td>\n",
       "      <td>0</td>\n",
       "      <td>n_am</td>\n",
       "      <td>False</td>\n",
       "      <td>m</td>\n",
       "      <td>T5</td>\n",
       "      <td>H4</td>\n",
       "      <td>Dropout</td>\n",
       "    </tr>\n",
       "    <tr>\n",
       "      <th>4</th>\n",
       "      <td>private</td>\n",
       "      <td>prof_specialty</td>\n",
       "      <td>0</td>\n",
       "      <td>0</td>\n",
       "      <td>lat_am</td>\n",
       "      <td>False</td>\n",
       "      <td>m</td>\n",
       "      <td>T2</td>\n",
       "      <td>H4</td>\n",
       "      <td>Bachelor</td>\n",
       "    </tr>\n",
       "  </tbody>\n",
       "</table>\n",
       "</div>"
      ],
      "text/plain": [
       "          workclass         occupation  capitalGain  capitalLoss  \\\n",
       "0         state_gov       adm_clerical            1            0   \n",
       "1  self_emp_not_inc    exec_managerial            0            0   \n",
       "2           private  handlers_cleaners            0            0   \n",
       "3           private  handlers_cleaners            0            0   \n",
       "4           private     prof_specialty            0            0   \n",
       "\n",
       "  nativeCountry  isUpper family ageQ hoursPerWeekQ educationQ  \n",
       "0          n_am    False      s   T3            H4   Bachelor  \n",
       "1          n_am    False      m   T5            H1   Bachelor  \n",
       "2          n_am    False      s   T3            H4    HS_grad  \n",
       "3          n_am    False      m   T5            H4    Dropout  \n",
       "4        lat_am    False      m   T2            H4   Bachelor  "
      ]
     },
     "execution_count": 18,
     "metadata": {},
     "output_type": "execute_result"
    }
   ],
   "source": [
    "RFdata.head()"
   ]
  },
  {
   "cell_type": "markdown",
   "metadata": {},
   "source": [
    "- Binarisation des variables car RandomForest a besoin de variables binaires.\n",
    "\n",
    "Si une colonne occupation=[private,state,school] alors 3 colonnes sont créés :\n",
    "\n",
    "occupation_private=[0,1];\n",
    "occupation_state=[0,1];\n",
    "occupation_school=[0,1];\n",
    "\n",
    "- Puis division de l'enchantillon en train et test"
   ]
  },
  {
   "cell_type": "code",
   "execution_count": 19,
   "metadata": {},
   "outputs": [],
   "source": [
    "dataDummies=pd.get_dummies(RFdata)\n",
    "train, test = train_test_split(dataDummies, test_size=0.3)\n",
    "train_features = train.drop('isUpper', 1) # pour supprimer définitivement f.drop('b', inplace=True)\n",
    "test_features = test.drop('isUpper', 1)\n",
    "train_res=train['isUpper']\n",
    "test_res=test['isUpper']"
   ]
  },
  {
   "cell_type": "markdown",
   "metadata": {},
   "source": [
    "- Création du model et entrainement sur l'echantillon train"
   ]
  },
  {
   "cell_type": "code",
   "execution_count": 20,
   "metadata": {},
   "outputs": [],
   "source": [
    "rf = RandomForestClassifier(n_estimators = 200, random_state = 42)\n",
    "rf.fit(train_features, train_res);"
   ]
  },
  {
   "cell_type": "markdown",
   "metadata": {},
   "source": [
    "- Prédiction sur l'echantillon de test"
   ]
  },
  {
   "cell_type": "code",
   "execution_count": 21,
   "metadata": {},
   "outputs": [],
   "source": [
    "predictions = rf.predict(test_features)"
   ]
  },
  {
   "cell_type": "markdown",
   "metadata": {},
   "source": [
    "- Binarisation du résultat :"
   ]
  },
  {
   "cell_type": "code",
   "execution_count": 22,
   "metadata": {},
   "outputs": [],
   "source": [
    "predictions = [(lambda x : 0 if x<0.5 else 1)(p) for p in predictions]"
   ]
  },
  {
   "cell_type": "markdown",
   "metadata": {},
   "source": [
    "- Taux d'erreurs sur l'echantillon de test :"
   ]
  },
  {
   "cell_type": "code",
   "execution_count": 23,
   "metadata": {},
   "outputs": [
    {
     "name": "stdout",
     "output_type": "stream",
     "text": [
      "Erreurs : 16.66%\n"
     ]
    }
   ],
   "source": [
    "errors = abs(predictions - test_res)\n",
    "print('Erreurs : '+str(round(np.mean(errors)*100, 2))+'%')"
   ]
  },
  {
   "cell_type": "markdown",
   "metadata": {},
   "source": [
    "### Avec un gridSearch"
   ]
  },
  {
   "cell_type": "code",
   "execution_count": 24,
   "metadata": {},
   "outputs": [
    {
     "name": "stdout",
     "output_type": "stream",
     "text": [
      "Fitting 5 folds for each of 5 candidates, totalling 25 fits\n"
     ]
    },
    {
     "name": "stderr",
     "output_type": "stream",
     "text": [
      "[Parallel(n_jobs=-1)]: Using backend LokyBackend with 6 concurrent workers.\n",
      "[Parallel(n_jobs=-1)]: Done  25 out of  25 | elapsed:   41.6s finished\n"
     ]
    },
    {
     "name": "stdout",
     "output_type": "stream",
     "text": [
      "{'n_estimators': 500, 'random_state': 42}\n"
     ]
    }
   ],
   "source": [
    "tuned_parameters = {'n_estimators': [50,100,250,500,1000],'random_state':[42]}\n",
    "grid = GridSearchCV(RandomForestClassifier(), tuned_parameters,cv=5, n_jobs=-1, verbose=1)\n",
    "grid.fit(train_features, train_res)\n",
    "print(grid.best_params_)"
   ]
  },
  {
   "cell_type": "code",
   "execution_count": 25,
   "metadata": {},
   "outputs": [],
   "source": [
    "rf = RandomForestClassifier(n_estimators = 500, random_state = 42)\n",
    "rf.fit(train_features, train_res);"
   ]
  },
  {
   "cell_type": "code",
   "execution_count": 26,
   "metadata": {},
   "outputs": [
    {
     "name": "stdout",
     "output_type": "stream",
     "text": [
      "Erreurs : 16.19%\n"
     ]
    }
   ],
   "source": [
    "scoresCV=cross_val_score(rf,dataDummies.drop('isUpper', 1),dataDummies['isUpper'],cv=5)\n",
    "print('Erreurs : '+str(round((1-scoresCV.mean())*100, 2))+'%')"
   ]
  },
  {
   "cell_type": "markdown",
   "metadata": {},
   "source": [
    "# Régression logistique"
   ]
  },
  {
   "cell_type": "markdown",
   "metadata": {},
   "source": [
    "## Régression sur les quantitatives avec binarisation de certaines qualitatives"
   ]
  },
  {
   "cell_type": "code",
   "execution_count": 27,
   "metadata": {},
   "outputs": [
    {
     "data": {
      "text/html": [
       "<div>\n",
       "<style scoped>\n",
       "    .dataframe tbody tr th:only-of-type {\n",
       "        vertical-align: middle;\n",
       "    }\n",
       "\n",
       "    .dataframe tbody tr th {\n",
       "        vertical-align: top;\n",
       "    }\n",
       "\n",
       "    .dataframe thead th {\n",
       "        text-align: right;\n",
       "    }\n",
       "</style>\n",
       "<table border=\"1\" class=\"dataframe\">\n",
       "  <thead>\n",
       "    <tr style=\"text-align: right;\">\n",
       "      <th></th>\n",
       "      <th>age</th>\n",
       "      <th>workclass</th>\n",
       "      <th>education_num</th>\n",
       "      <th>occupation</th>\n",
       "      <th>capitalGain</th>\n",
       "      <th>capitalLoss</th>\n",
       "      <th>hoursPerWeek</th>\n",
       "      <th>nativeCountry</th>\n",
       "      <th>isUpper</th>\n",
       "      <th>family</th>\n",
       "    </tr>\n",
       "  </thead>\n",
       "  <tbody>\n",
       "    <tr>\n",
       "      <th>0</th>\n",
       "      <td>39</td>\n",
       "      <td>state_gov</td>\n",
       "      <td>13</td>\n",
       "      <td>adm_clerical</td>\n",
       "      <td>7.684324</td>\n",
       "      <td>0.0</td>\n",
       "      <td>40</td>\n",
       "      <td>n_am</td>\n",
       "      <td>False</td>\n",
       "      <td>s</td>\n",
       "    </tr>\n",
       "    <tr>\n",
       "      <th>1</th>\n",
       "      <td>50</td>\n",
       "      <td>self_emp_not_inc</td>\n",
       "      <td>13</td>\n",
       "      <td>exec_managerial</td>\n",
       "      <td>0.000000</td>\n",
       "      <td>0.0</td>\n",
       "      <td>13</td>\n",
       "      <td>n_am</td>\n",
       "      <td>False</td>\n",
       "      <td>m</td>\n",
       "    </tr>\n",
       "    <tr>\n",
       "      <th>2</th>\n",
       "      <td>38</td>\n",
       "      <td>private</td>\n",
       "      <td>9</td>\n",
       "      <td>handlers_cleaners</td>\n",
       "      <td>0.000000</td>\n",
       "      <td>0.0</td>\n",
       "      <td>40</td>\n",
       "      <td>n_am</td>\n",
       "      <td>False</td>\n",
       "      <td>s</td>\n",
       "    </tr>\n",
       "    <tr>\n",
       "      <th>3</th>\n",
       "      <td>53</td>\n",
       "      <td>private</td>\n",
       "      <td>7</td>\n",
       "      <td>handlers_cleaners</td>\n",
       "      <td>0.000000</td>\n",
       "      <td>0.0</td>\n",
       "      <td>40</td>\n",
       "      <td>n_am</td>\n",
       "      <td>False</td>\n",
       "      <td>m</td>\n",
       "    </tr>\n",
       "    <tr>\n",
       "      <th>4</th>\n",
       "      <td>28</td>\n",
       "      <td>private</td>\n",
       "      <td>13</td>\n",
       "      <td>prof_specialty</td>\n",
       "      <td>0.000000</td>\n",
       "      <td>0.0</td>\n",
       "      <td>40</td>\n",
       "      <td>lat_am</td>\n",
       "      <td>False</td>\n",
       "      <td>m</td>\n",
       "    </tr>\n",
       "  </tbody>\n",
       "</table>\n",
       "</div>"
      ],
      "text/plain": [
       "   age         workclass  education_num         occupation  capitalGain  \\\n",
       "0   39         state_gov             13       adm_clerical     7.684324   \n",
       "1   50  self_emp_not_inc             13    exec_managerial     0.000000   \n",
       "2   38           private              9  handlers_cleaners     0.000000   \n",
       "3   53           private              7  handlers_cleaners     0.000000   \n",
       "4   28           private             13     prof_specialty     0.000000   \n",
       "\n",
       "   capitalLoss  hoursPerWeek nativeCountry  isUpper family  \n",
       "0          0.0            40          n_am    False      s  \n",
       "1          0.0            13          n_am    False      m  \n",
       "2          0.0            40          n_am    False      s  \n",
       "3          0.0            40          n_am    False      m  \n",
       "4          0.0            40        lat_am    False      m  "
      ]
     },
     "execution_count": 27,
     "metadata": {},
     "output_type": "execute_result"
    }
   ],
   "source": [
    "col_quant=['age','education_num','capitalGain','capitalLoss','hoursPerWeek']\n",
    "col_quali=['workclass','occupation','nativeCountry','family']\n",
    "if 'isUpper' not in col_quali : col_quali.append('isUpper')\n",
    "\n",
    "Ldata=data.copy()\n",
    "Ldata.head()"
   ]
  },
  {
   "cell_type": "code",
   "execution_count": 28,
   "metadata": {},
   "outputs": [
    {
     "name": "stderr",
     "output_type": "stream",
     "text": [
      "/home/david/.local/lib/python3.6/site-packages/ipykernel_launcher.py:1: DataConversionWarning: Data with input dtype int64, float64 were all converted to float64 by the scale function.\n",
      "  \"\"\"Entry point for launching an IPython kernel.\n"
     ]
    }
   ],
   "source": [
    "Ldata[col_quant]=preprocessing.scale(Ldata[col_quant])"
   ]
  },
  {
   "cell_type": "code",
   "execution_count": 29,
   "metadata": {},
   "outputs": [],
   "source": [
    "LdataDummies=pd.get_dummies(Ldata[col_quant+col_quali])\n",
    "Ltrain, Ltest = train_test_split(LdataDummies, test_size=0.3)"
   ]
  },
  {
   "cell_type": "code",
   "execution_count": 30,
   "metadata": {},
   "outputs": [
    {
     "data": {
      "text/html": [
       "<div>\n",
       "<style scoped>\n",
       "    .dataframe tbody tr th:only-of-type {\n",
       "        vertical-align: middle;\n",
       "    }\n",
       "\n",
       "    .dataframe tbody tr th {\n",
       "        vertical-align: top;\n",
       "    }\n",
       "\n",
       "    .dataframe thead th {\n",
       "        text-align: right;\n",
       "    }\n",
       "</style>\n",
       "<table border=\"1\" class=\"dataframe\">\n",
       "  <thead>\n",
       "    <tr style=\"text-align: right;\">\n",
       "      <th></th>\n",
       "      <th>age</th>\n",
       "      <th>education_num</th>\n",
       "      <th>capitalGain</th>\n",
       "      <th>capitalLoss</th>\n",
       "      <th>hoursPerWeek</th>\n",
       "      <th>isUpper</th>\n",
       "      <th>workclass_federal_gov</th>\n",
       "      <th>workclass_local_gov</th>\n",
       "      <th>workclass_private</th>\n",
       "      <th>workclass_self_emp_inc</th>\n",
       "      <th>...</th>\n",
       "      <th>occupation_transport_moving</th>\n",
       "      <th>nativeCountry_asia</th>\n",
       "      <th>nativeCountry_eu</th>\n",
       "      <th>nativeCountry_lat_am</th>\n",
       "      <th>nativeCountry_n_am</th>\n",
       "      <th>nativeCountry_others</th>\n",
       "      <th>family_m</th>\n",
       "      <th>family_mc</th>\n",
       "      <th>family_s</th>\n",
       "      <th>family_sc</th>\n",
       "    </tr>\n",
       "  </thead>\n",
       "  <tbody>\n",
       "    <tr>\n",
       "      <th>0</th>\n",
       "      <td>0.042796</td>\n",
       "      <td>1.128918</td>\n",
       "      <td>2.809520</td>\n",
       "      <td>-0.222714</td>\n",
       "      <td>-0.077734</td>\n",
       "      <td>False</td>\n",
       "      <td>0</td>\n",
       "      <td>0</td>\n",
       "      <td>0</td>\n",
       "      <td>0</td>\n",
       "      <td>...</td>\n",
       "      <td>0</td>\n",
       "      <td>0</td>\n",
       "      <td>0</td>\n",
       "      <td>0</td>\n",
       "      <td>1</td>\n",
       "      <td>0</td>\n",
       "      <td>0</td>\n",
       "      <td>0</td>\n",
       "      <td>1</td>\n",
       "      <td>0</td>\n",
       "    </tr>\n",
       "    <tr>\n",
       "      <th>1</th>\n",
       "      <td>0.880288</td>\n",
       "      <td>1.128918</td>\n",
       "      <td>-0.301012</td>\n",
       "      <td>-0.222714</td>\n",
       "      <td>-2.331531</td>\n",
       "      <td>False</td>\n",
       "      <td>0</td>\n",
       "      <td>0</td>\n",
       "      <td>0</td>\n",
       "      <td>0</td>\n",
       "      <td>...</td>\n",
       "      <td>0</td>\n",
       "      <td>0</td>\n",
       "      <td>0</td>\n",
       "      <td>0</td>\n",
       "      <td>1</td>\n",
       "      <td>0</td>\n",
       "      <td>1</td>\n",
       "      <td>0</td>\n",
       "      <td>0</td>\n",
       "      <td>0</td>\n",
       "    </tr>\n",
       "    <tr>\n",
       "      <th>2</th>\n",
       "      <td>-0.033340</td>\n",
       "      <td>-0.439738</td>\n",
       "      <td>-0.301012</td>\n",
       "      <td>-0.222714</td>\n",
       "      <td>-0.077734</td>\n",
       "      <td>False</td>\n",
       "      <td>0</td>\n",
       "      <td>0</td>\n",
       "      <td>1</td>\n",
       "      <td>0</td>\n",
       "      <td>...</td>\n",
       "      <td>0</td>\n",
       "      <td>0</td>\n",
       "      <td>0</td>\n",
       "      <td>0</td>\n",
       "      <td>1</td>\n",
       "      <td>0</td>\n",
       "      <td>0</td>\n",
       "      <td>0</td>\n",
       "      <td>1</td>\n",
       "      <td>0</td>\n",
       "    </tr>\n",
       "    <tr>\n",
       "      <th>3</th>\n",
       "      <td>1.108695</td>\n",
       "      <td>-1.224066</td>\n",
       "      <td>-0.301012</td>\n",
       "      <td>-0.222714</td>\n",
       "      <td>-0.077734</td>\n",
       "      <td>False</td>\n",
       "      <td>0</td>\n",
       "      <td>0</td>\n",
       "      <td>1</td>\n",
       "      <td>0</td>\n",
       "      <td>...</td>\n",
       "      <td>0</td>\n",
       "      <td>0</td>\n",
       "      <td>0</td>\n",
       "      <td>0</td>\n",
       "      <td>1</td>\n",
       "      <td>0</td>\n",
       "      <td>1</td>\n",
       "      <td>0</td>\n",
       "      <td>0</td>\n",
       "      <td>0</td>\n",
       "    </tr>\n",
       "    <tr>\n",
       "      <th>4</th>\n",
       "      <td>-0.794697</td>\n",
       "      <td>1.128918</td>\n",
       "      <td>-0.301012</td>\n",
       "      <td>-0.222714</td>\n",
       "      <td>-0.077734</td>\n",
       "      <td>False</td>\n",
       "      <td>0</td>\n",
       "      <td>0</td>\n",
       "      <td>1</td>\n",
       "      <td>0</td>\n",
       "      <td>...</td>\n",
       "      <td>0</td>\n",
       "      <td>0</td>\n",
       "      <td>0</td>\n",
       "      <td>1</td>\n",
       "      <td>0</td>\n",
       "      <td>0</td>\n",
       "      <td>1</td>\n",
       "      <td>0</td>\n",
       "      <td>0</td>\n",
       "      <td>0</td>\n",
       "    </tr>\n",
       "  </tbody>\n",
       "</table>\n",
       "<p>5 rows × 36 columns</p>\n",
       "</div>"
      ],
      "text/plain": [
       "        age  education_num  capitalGain  capitalLoss  hoursPerWeek  isUpper  \\\n",
       "0  0.042796       1.128918     2.809520    -0.222714     -0.077734    False   \n",
       "1  0.880288       1.128918    -0.301012    -0.222714     -2.331531    False   \n",
       "2 -0.033340      -0.439738    -0.301012    -0.222714     -0.077734    False   \n",
       "3  1.108695      -1.224066    -0.301012    -0.222714     -0.077734    False   \n",
       "4 -0.794697       1.128918    -0.301012    -0.222714     -0.077734    False   \n",
       "\n",
       "   workclass_federal_gov  workclass_local_gov  workclass_private  \\\n",
       "0                      0                    0                  0   \n",
       "1                      0                    0                  0   \n",
       "2                      0                    0                  1   \n",
       "3                      0                    0                  1   \n",
       "4                      0                    0                  1   \n",
       "\n",
       "   workclass_self_emp_inc    ...      occupation_transport_moving  \\\n",
       "0                       0    ...                                0   \n",
       "1                       0    ...                                0   \n",
       "2                       0    ...                                0   \n",
       "3                       0    ...                                0   \n",
       "4                       0    ...                                0   \n",
       "\n",
       "   nativeCountry_asia  nativeCountry_eu  nativeCountry_lat_am  \\\n",
       "0                   0                 0                     0   \n",
       "1                   0                 0                     0   \n",
       "2                   0                 0                     0   \n",
       "3                   0                 0                     0   \n",
       "4                   0                 0                     1   \n",
       "\n",
       "   nativeCountry_n_am  nativeCountry_others  family_m  family_mc  family_s  \\\n",
       "0                   1                     0         0          0         1   \n",
       "1                   1                     0         1          0         0   \n",
       "2                   1                     0         0          0         1   \n",
       "3                   1                     0         1          0         0   \n",
       "4                   0                     0         1          0         0   \n",
       "\n",
       "   family_sc  \n",
       "0          0  \n",
       "1          0  \n",
       "2          0  \n",
       "3          0  \n",
       "4          0  \n",
       "\n",
       "[5 rows x 36 columns]"
      ]
     },
     "execution_count": 30,
     "metadata": {},
     "output_type": "execute_result"
    }
   ],
   "source": [
    "LdataDummies.head()"
   ]
  },
  {
   "cell_type": "code",
   "execution_count": 31,
   "metadata": {},
   "outputs": [],
   "source": [
    "Ltrain_features = Ltrain.drop('isUpper', 1)\n",
    "Ltest_features = Ltest.drop('isUpper', 1)\n",
    "Ltrain_res=Ltrain['isUpper']\n",
    "Ltest_res=Ltest['isUpper']"
   ]
  },
  {
   "cell_type": "code",
   "execution_count": 32,
   "metadata": {},
   "outputs": [
    {
     "name": "stderr",
     "output_type": "stream",
     "text": [
      "[Parallel(n_jobs=1)]: Using backend SequentialBackend with 1 concurrent workers.\n",
      "[Parallel(n_jobs=1)]: Done   1 out of   1 | elapsed:    0.5s finished\n"
     ]
    }
   ],
   "source": [
    "logreg = LogisticRegression(C=1e5, solver='lbfgs', multi_class='ovr',verbose=1,max_iter=2000).fit(Ltrain_features, Ltrain_res)"
   ]
  },
  {
   "cell_type": "code",
   "execution_count": 33,
   "metadata": {},
   "outputs": [],
   "source": [
    "prediction=logreg.predict(Ltest_features)"
   ]
  },
  {
   "cell_type": "code",
   "execution_count": 34,
   "metadata": {},
   "outputs": [
    {
     "name": "stdout",
     "output_type": "stream",
     "text": [
      "Erreurs : 16.07%\n"
     ]
    }
   ],
   "source": [
    "score=logreg.score(Ltest_features, Ltest_res)\n",
    "print('Erreurs : '+str(round((1-score)*100,2))+'%')"
   ]
  },
  {
   "cell_type": "markdown",
   "metadata": {},
   "source": [
    "# Gaussian"
   ]
  },
  {
   "cell_type": "code",
   "execution_count": 35,
   "metadata": {},
   "outputs": [],
   "source": [
    "Gdata=data.copy()"
   ]
  },
  {
   "cell_type": "code",
   "execution_count": 36,
   "metadata": {},
   "outputs": [],
   "source": [
    "Gtrain, Gtest = train_test_split(pd.get_dummies(Gdata), test_size=0.2)\n",
    "Gtrain_features = train.drop('isUpper', 1)\n",
    "Gtest_features = test.drop('isUpper', 1)\n",
    "Gtrain_res=train['isUpper']\n",
    "Gtest_res=test['isUpper']"
   ]
  },
  {
   "cell_type": "code",
   "execution_count": 37,
   "metadata": {},
   "outputs": [
    {
     "name": "stdout",
     "output_type": "stream",
     "text": [
      "Erreurs : 16.66%\n"
     ]
    }
   ],
   "source": [
    "clf_gaussian = GaussianNB()\n",
    "clf_gaussian.fit(Gtrain_features, Gtrain_res)\n",
    "prediction = clf_gaussian.predict(Gtest_features)\n",
    "errors = abs(predictions - Gtest_res)\n",
    "print('Erreurs : '+str(round(np.mean(errors)*100, 2))+'%')"
   ]
  },
  {
   "cell_type": "code",
   "execution_count": null,
   "metadata": {},
   "outputs": [],
   "source": []
  }
 ],
 "metadata": {
  "kernelspec": {
   "display_name": "Python 3",
   "language": "python",
   "name": "python3"
  },
  "language_info": {
   "codemirror_mode": {
    "name": "ipython",
    "version": 3
   },
   "file_extension": ".py",
   "mimetype": "text/x-python",
   "name": "python",
   "nbconvert_exporter": "python",
   "pygments_lexer": "ipython3",
   "version": "3.7.0"
  }
 },
 "nbformat": 4,
 "nbformat_minor": 2
}
