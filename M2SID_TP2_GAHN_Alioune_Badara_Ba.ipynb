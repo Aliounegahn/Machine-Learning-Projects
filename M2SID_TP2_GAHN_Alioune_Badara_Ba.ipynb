{
  "nbformat": 4,
  "nbformat_minor": 0,
  "metadata": {
    "colab": {
      "name": "M2SID_TP2_GAHN_Alioune_Badara_Ba.ipynb",
      "provenance": [],
      "collapsed_sections": [],
      "toc_visible": true,
      "include_colab_link": true
    },
    "kernelspec": {
      "name": "python3",
      "display_name": "Python 3"
    }
  },
  "cells": [
    {
      "cell_type": "markdown",
      "metadata": {
        "id": "view-in-github",
        "colab_type": "text"
      },
      "source": [
        "<a href=\"https://colab.research.google.com/github/Aliounegahn/Machine-Learning-Projects/blob/master/M2SID_TP2_GAHN_Alioune_Badara_Ba.ipynb\" target=\"_parent\"><img src=\"https://colab.research.google.com/assets/colab-badge.svg\" alt=\"Open In Colab\"/></a>"
      ]
    },
    {
      "cell_type": "markdown",
      "metadata": {
        "id": "lv6Ek-wg1QTT",
        "colab_type": "text"
      },
      "source": [
        "# M2 SID TP2 audio : Identification de Locuteurs\n",
        "\n",
        "**NOM** : GAHN\n",
        "\n",
        "**Prénom** : Alioune Badara Ba\n",
        "\n",
        "**Email** : alioune-badara-ba.gahn@univ-tlse3.fr\n",
        "\n",
        "---\n",
        "\n",
        "L’objectifs de cette séance de TP AUDIO est d’utiliser une base donnée de voix locuteurs (avec le corpus audio-video VidTIMIT) et de réaliser une modélisation statistique des locuteurs. Pour celà vous allez créer un modèle de monde (UBM) et appliquer une adaptation de modèle (MLLR) pour adapter ce modèle aux locuteurs à reconnaître."
      ]
    },
    {
      "cell_type": "code",
      "metadata": {
        "id": "9alnwY282RiK",
        "colab_type": "code",
        "outputId": "276c0bf4-933f-4700-e594-e1ffde5212fa",
        "colab": {
          "base_uri": "https://localhost:8080/",
          "height": 1000
        }
      },
      "source": [
        "# OS setup\n",
        "!cat /etc/os-release\n",
        "!apt-get install -qq bc tree sox\n",
        "\n",
        "!pip install python_speech_features\n",
        "\n",
        "import os\n",
        "import numpy as np\n",
        "from scipy.io.wavfile import read\n",
        "from sklearn import mixture\n",
        "import python_speech_features as mfcc\n",
        "from sklearn import preprocessing\n",
        "import warnings\n",
        "import pickle\n",
        "from IPython.display import Audio\n",
        "warnings.filterwarnings(\"ignore\")\n",
        "from sklearn.mixture import GaussianMixture\n",
        "import pylab as pl\n",
        "from scipy import linalg\n",
        "import matplotlib as mpl\n",
        "import itertools\n",
        "import csv\n",
        "\n",
        "# Liaison avec les données\n",
        "!git clone https://gitlab.com/jeromefarinas/tp-m2-sid.git"
      ],
      "execution_count": 1,
      "outputs": [
        {
          "output_type": "stream",
          "text": [
            "NAME=\"Ubuntu\"\n",
            "VERSION=\"18.04.3 LTS (Bionic Beaver)\"\n",
            "ID=ubuntu\n",
            "ID_LIKE=debian\n",
            "PRETTY_NAME=\"Ubuntu 18.04.3 LTS\"\n",
            "VERSION_ID=\"18.04\"\n",
            "HOME_URL=\"https://www.ubuntu.com/\"\n",
            "SUPPORT_URL=\"https://help.ubuntu.com/\"\n",
            "BUG_REPORT_URL=\"https://bugs.launchpad.net/ubuntu/\"\n",
            "PRIVACY_POLICY_URL=\"https://www.ubuntu.com/legal/terms-and-policies/privacy-policy\"\n",
            "VERSION_CODENAME=bionic\n",
            "UBUNTU_CODENAME=bionic\n",
            "Selecting previously unselected package libopencore-amrnb0:amd64.\n",
            "(Reading database ... 131183 files and directories currently installed.)\n",
            "Preparing to unpack .../0-libopencore-amrnb0_0.1.3-2.1_amd64.deb ...\n",
            "Unpacking libopencore-amrnb0:amd64 (0.1.3-2.1) ...\n",
            "Selecting previously unselected package libopencore-amrwb0:amd64.\n",
            "Preparing to unpack .../1-libopencore-amrwb0_0.1.3-2.1_amd64.deb ...\n",
            "Unpacking libopencore-amrwb0:amd64 (0.1.3-2.1) ...\n",
            "Selecting previously unselected package libmagic-mgc.\n",
            "Preparing to unpack .../2-libmagic-mgc_1%3a5.32-2ubuntu0.2_amd64.deb ...\n",
            "Unpacking libmagic-mgc (1:5.32-2ubuntu0.2) ...\n",
            "Selecting previously unselected package libmagic1:amd64.\n",
            "Preparing to unpack .../3-libmagic1_1%3a5.32-2ubuntu0.2_amd64.deb ...\n",
            "Unpacking libmagic1:amd64 (1:5.32-2ubuntu0.2) ...\n",
            "Selecting previously unselected package bc.\n",
            "Preparing to unpack .../4-bc_1.07.1-2_amd64.deb ...\n",
            "Unpacking bc (1.07.1-2) ...\n",
            "Selecting previously unselected package libsox3:amd64.\n",
            "Preparing to unpack .../5-libsox3_14.4.2-3ubuntu0.18.04.1_amd64.deb ...\n",
            "Unpacking libsox3:amd64 (14.4.2-3ubuntu0.18.04.1) ...\n",
            "Selecting previously unselected package libsox-fmt-alsa:amd64.\n",
            "Preparing to unpack .../6-libsox-fmt-alsa_14.4.2-3ubuntu0.18.04.1_amd64.deb ...\n",
            "Unpacking libsox-fmt-alsa:amd64 (14.4.2-3ubuntu0.18.04.1) ...\n",
            "Selecting previously unselected package libsox-fmt-base:amd64.\n",
            "Preparing to unpack .../7-libsox-fmt-base_14.4.2-3ubuntu0.18.04.1_amd64.deb ...\n",
            "Unpacking libsox-fmt-base:amd64 (14.4.2-3ubuntu0.18.04.1) ...\n",
            "Selecting previously unselected package sox.\n",
            "Preparing to unpack .../8-sox_14.4.2-3ubuntu0.18.04.1_amd64.deb ...\n",
            "Unpacking sox (14.4.2-3ubuntu0.18.04.1) ...\n",
            "Selecting previously unselected package tree.\n",
            "Preparing to unpack .../9-tree_1.7.0-5_amd64.deb ...\n",
            "Unpacking tree (1.7.0-5) ...\n",
            "Setting up tree (1.7.0-5) ...\n",
            "Processing triggers for mime-support (3.60ubuntu1) ...\n",
            "Setting up libmagic-mgc (1:5.32-2ubuntu0.2) ...\n",
            "Setting up libmagic1:amd64 (1:5.32-2ubuntu0.2) ...\n",
            "Processing triggers for libc-bin (2.27-3ubuntu1) ...\n",
            "Setting up libopencore-amrnb0:amd64 (0.1.3-2.1) ...\n",
            "Processing triggers for man-db (2.8.3-2ubuntu0.1) ...\n",
            "Setting up bc (1.07.1-2) ...\n",
            "Setting up libopencore-amrwb0:amd64 (0.1.3-2.1) ...\n",
            "Setting up libsox3:amd64 (14.4.2-3ubuntu0.18.04.1) ...\n",
            "Setting up libsox-fmt-base:amd64 (14.4.2-3ubuntu0.18.04.1) ...\n",
            "Setting up libsox-fmt-alsa:amd64 (14.4.2-3ubuntu0.18.04.1) ...\n",
            "Setting up sox (14.4.2-3ubuntu0.18.04.1) ...\n",
            "Processing triggers for libc-bin (2.27-3ubuntu1) ...\n",
            "Collecting python_speech_features\n",
            "  Downloading https://files.pythonhosted.org/packages/ff/d1/94c59e20a2631985fbd2124c45177abaa9e0a4eee8ba8a305aa26fc02a8e/python_speech_features-0.6.tar.gz\n",
            "Building wheels for collected packages: python-speech-features\n",
            "  Building wheel for python-speech-features (setup.py) ... \u001b[?25l\u001b[?25hdone\n",
            "  Created wheel for python-speech-features: filename=python_speech_features-0.6-cp36-none-any.whl size=5889 sha256=f193db05a0b51b3664accfdeaef3de5464b4209b3feef9760be5b92384e0997a\n",
            "  Stored in directory: /root/.cache/pip/wheels/3c/42/7c/f60e9d1b40015cd69b213ad90f7c18a9264cd745b9888134be\n",
            "Successfully built python-speech-features\n",
            "Installing collected packages: python-speech-features\n",
            "Successfully installed python-speech-features-0.6\n",
            "Cloning into 'tp-m2-sid'...\n",
            "remote: Enumerating objects: 6870, done.\u001b[K\n",
            "remote: Counting objects: 100% (6870/6870), done.\u001b[K\n",
            "remote: Compressing objects: 100% (6268/6268), done.\u001b[K\n",
            "remote: Total 6870 (delta 558), reused 6860 (delta 555)\u001b[K\n",
            "Receiving objects: 100% (6870/6870), 609.34 MiB | 25.27 MiB/s, done.\n",
            "Resolving deltas: 100% (558/558), done.\n",
            "Checking out files: 100% (6681/6681), done.\n"
          ],
          "name": "stdout"
        }
      ]
    },
    {
      "cell_type": "code",
      "metadata": {
        "id": "d5zjSd-LfBP2",
        "colab_type": "code",
        "outputId": "8aae4cbc-cacb-49b9-88e9-98dc4541b1e7",
        "colab": {
          "base_uri": "https://localhost:8080/",
          "height": 1000
        }
      },
      "source": [
        "# chemin vers données des locuteurs\n",
        "chemin_corpus   = '/content/tp-m2-sid/corpus/locuteur/'\n",
        "!tree $chemin_corpus"
      ],
      "execution_count": 2,
      "outputs": [
        {
          "output_type": "stream",
          "text": [
            "/content/tp-m2-sid/corpus/locuteur/\n",
            "├── DATA\n",
            "│   ├── fadg0\n",
            "│   │   └── audio\n",
            "│   │       ├── sa1.wav\n",
            "│   │       ├── sa2.wav\n",
            "│   │       ├── si1279.wav\n",
            "│   │       ├── si1909.wav\n",
            "│   │       ├── si649.wav\n",
            "│   │       ├── sx109.wav\n",
            "│   │       ├── sx199.wav\n",
            "│   │       ├── sx19.wav\n",
            "│   │       ├── sx289.wav\n",
            "│   │       └── sx379.wav\n",
            "│   ├── faks0\n",
            "│   │   └── audio\n",
            "│   │       ├── sa1.wav\n",
            "│   │       ├── sa2.wav\n",
            "│   │       ├── si1573.wav\n",
            "│   │       ├── si2203.wav\n",
            "│   │       ├── si943.wav\n",
            "│   │       ├── sx133.wav\n",
            "│   │       ├── sx223.wav\n",
            "│   │       ├── sx313.wav\n",
            "│   │       ├── sx403.wav\n",
            "│   │       └── sx43.wav\n",
            "│   ├── fcft0\n",
            "│   │   └── audio\n",
            "│   │       ├── sa1.wav\n",
            "│   │       ├── sa2.wav\n",
            "│   │       ├── si1178.wav\n",
            "│   │       ├── si1808.wav\n",
            "│   │       ├── si548.wav\n",
            "│   │       ├── sx188.wav\n",
            "│   │       ├── sx278.wav\n",
            "│   │       ├── sx368.wav\n",
            "│   │       ├── sx8.wav\n",
            "│   │       └── sx98.wav\n",
            "│   ├── fcmh0\n",
            "│   │   └── audio\n",
            "│   │       ├── sa1.wav\n",
            "│   │       ├── sa2.wav\n",
            "│   │       ├── si1454.wav\n",
            "│   │       ├── si2084.wav\n",
            "│   │       ├── si824.wav\n",
            "│   │       ├── sx104.wav\n",
            "│   │       ├── sx14.wav\n",
            "│   │       ├── sx194.wav\n",
            "│   │       ├── sx284.wav\n",
            "│   │       └── sx374.wav\n",
            "│   ├── fcmr0\n",
            "│   │   └── audio\n",
            "│   │       ├── sa1.wav\n",
            "│   │       ├── sa2.wav\n",
            "│   │       ├── si1105.wav\n",
            "│   │       ├── si1735.wav\n",
            "│   │       ├── si475.wav\n",
            "│   │       ├── sx115.wav\n",
            "│   │       ├── sx205.wav\n",
            "│   │       ├── sx25.wav\n",
            "│   │       ├── sx295.wav\n",
            "│   │       └── sx385.wav\n",
            "│   ├── fcrh0\n",
            "│   │   └── audio\n",
            "│   │       ├── sa1.wav\n",
            "│   │       ├── sa2.wav\n",
            "│   │       ├── si1088.wav\n",
            "│   │       ├── si1718.wav\n",
            "│   │       ├── si458.wav\n",
            "│   │       ├── sx188.wav\n",
            "│   │       ├── sx278.wav\n",
            "│   │       ├── sx368.wav\n",
            "│   │       ├── sx8.wav\n",
            "│   │       └── sx98.wav\n",
            "│   ├── fdac1\n",
            "│   │   └── audio\n",
            "│   │       ├── sa1.wav\n",
            "│   │       ├── sa2.wav\n",
            "│   │       ├── si1474.wav\n",
            "│   │       ├── si2104.wav\n",
            "│   │       ├── si844.wav\n",
            "│   │       ├── sx124.wav\n",
            "│   │       ├── sx214.wav\n",
            "│   │       ├── sx304.wav\n",
            "│   │       ├── sx34.wav\n",
            "│   │       └── sx394.wav\n",
            "│   ├── fdms0\n",
            "│   │   └── audio\n",
            "│   │       ├── sa1.wav\n",
            "│   │       ├── sa2.wav\n",
            "│   │       ├── si1218.wav\n",
            "│   │       ├── si1502.wav\n",
            "│   │       ├── si1848.wav\n",
            "│   │       ├── sx138.wav\n",
            "│   │       ├── sx228.wav\n",
            "│   │       ├── sx318.wav\n",
            "│   │       ├── sx408.wav\n",
            "│   │       └── sx48.wav\n",
            "│   ├── fdrd1\n",
            "│   │   └── audio\n",
            "│   │       ├── sa1.wav\n",
            "│   │       ├── sa2.wav\n",
            "│   │       ├── si1544.wav\n",
            "│   │       ├── si1566.wav\n",
            "│   │       ├── si2149.wav\n",
            "│   │       ├── sx104.wav\n",
            "│   │       ├── sx14.wav\n",
            "│   │       ├── sx194.wav\n",
            "│   │       ├── sx284.wav\n",
            "│   │       └── sx374.wav\n",
            "│   ├── fedw0\n",
            "│   │   └── audio\n",
            "│   │       ├── sa1.wav\n",
            "│   │       ├── sa2.wav\n",
            "│   │       ├── si1084.wav\n",
            "│   │       ├── si1653.wav\n",
            "│   │       ├── si1714.wav\n",
            "│   │       ├── sx184.wav\n",
            "│   │       ├── sx274.wav\n",
            "│   │       ├── sx364.wav\n",
            "│   │       ├── sx4.wav\n",
            "│   │       └── sx94.wav\n",
            "│   ├── felc0\n",
            "│   │   └── audio\n",
            "│   │       ├── sa1.wav\n",
            "│   │       ├── sa2.wav\n",
            "│   │       ├── si1386.wav\n",
            "│   │       ├── si2016.wav\n",
            "│   │       ├── si756.wav\n",
            "│   │       ├── sx126.wav\n",
            "│   │       ├── sx216.wav\n",
            "│   │       ├── sx306.wav\n",
            "│   │       ├── sx36.wav\n",
            "│   │       └── sx396.wav\n",
            "│   ├── fgjd0\n",
            "│   │   └── audio\n",
            "│   │       ├── sa1.wav\n",
            "│   │       ├── sa2.wav\n",
            "│   │       ├── si1179.wav\n",
            "│   │       ├── si549.wav\n",
            "│   │       ├── si818.wav\n",
            "│   │       ├── sx189.wav\n",
            "│   │       ├── sx279.wav\n",
            "│   │       ├── sx369.wav\n",
            "│   │       ├── sx99.wav\n",
            "│   │       └── sx9.wav\n",
            "│   ├── fjas0\n",
            "│   │   └── audio\n",
            "│   │       ├── sa1.wav\n",
            "│   │       ├── sa2.wav\n",
            "│   │       ├── si1400.wav\n",
            "│   │       ├── si2030.wav\n",
            "│   │       ├── si770.wav\n",
            "│   │       ├── sx140.wav\n",
            "│   │       ├── sx230.wav\n",
            "│   │       ├── sx320.wav\n",
            "│   │       ├── sx410.wav\n",
            "│   │       └── sx50.wav\n",
            "│   ├── fjem0\n",
            "│   │   └── audio\n",
            "│   │       ├── sa1.wav\n",
            "│   │       ├── sa2.wav\n",
            "│   │       ├── si1264.wav\n",
            "│   │       ├── si1894.wav\n",
            "│   │       ├── si634.wav\n",
            "│   │       ├── sx184.wav\n",
            "│   │       ├── sx274.wav\n",
            "│   │       ├── sx364.wav\n",
            "│   │       ├── sx4.wav\n",
            "│   │       └── sx94.wav\n",
            "│   ├── fjre0\n",
            "│   │   └── audio\n",
            "│   │       ├── sa1.wav\n",
            "│   │       ├── sa2.wav\n",
            "│   │       ├── si1116.wav\n",
            "│   │       ├── si1587.wav\n",
            "│   │       ├── si1746.wav\n",
            "│   │       ├── sx126.wav\n",
            "│   │       ├── sx216.wav\n",
            "│   │       ├── sx306.wav\n",
            "│   │       ├── sx36.wav\n",
            "│   │       └── sx396.wav\n",
            "│   ├── fjwb0\n",
            "│   │   └── audio\n",
            "│   │       ├── sa1.wav\n",
            "│   │       ├── sa2.wav\n",
            "│   │       ├── si1265.wav\n",
            "│   │       ├── si635.wav\n",
            "│   │       ├── si992.wav\n",
            "│   │       ├── sx185.wav\n",
            "│   │       ├── sx275.wav\n",
            "│   │       ├── sx365.wav\n",
            "│   │       ├── sx5.wav\n",
            "│   │       └── sx95.wav\n",
            "│   ├── fkms0\n",
            "│   │   └── audio\n",
            "│   │       ├── sa1.wav\n",
            "│   │       ├── sa2.wav\n",
            "│   │       ├── si1490.wav\n",
            "│   │       ├── si2120.wav\n",
            "│   │       ├── si860.wav\n",
            "│   │       ├── sx140.wav\n",
            "│   │       ├── sx230.wav\n",
            "│   │       ├── sx320.wav\n",
            "│   │       ├── sx410.wav\n",
            "│   │       └── sx50.wav\n",
            "│   ├── fpkt0\n",
            "│   │   └── audio\n",
            "│   │       ├── sa1.wav\n",
            "│   │       ├── sa2.wav\n",
            "│   │       ├── si1538.wav\n",
            "│   │       ├── si2168.wav\n",
            "│   │       ├── si908.wav\n",
            "│   │       ├── sx188.wav\n",
            "│   │       ├── sx278.wav\n",
            "│   │       ├── sx368.wav\n",
            "│   │       ├── sx8.wav\n",
            "│   │       └── sx98.wav\n",
            "│   ├── fram1\n",
            "│   │   └── audio\n",
            "│   │       ├── sa1.wav\n",
            "│   │       ├── sa2.wav\n",
            "│   │       ├── si1360.wav\n",
            "│   │       ├── si522.wav\n",
            "│   │       ├── si730.wav\n",
            "│   │       ├── sx100.wav\n",
            "│   │       ├── sx10.wav\n",
            "│   │       ├── sx190.wav\n",
            "│   │       ├── sx280.wav\n",
            "│   │       └── sx370.wav\n",
            "│   ├── mabw0\n",
            "│   │   └── audio\n",
            "│   │       ├── sa1.wav\n",
            "│   │       ├── sa2.wav\n",
            "│   │       ├── si1230.wav\n",
            "│   │       ├── si1664.wav\n",
            "│   │       ├── si2294.wav\n",
            "│   │       ├── sx134.wav\n",
            "│   │       ├── sx224.wav\n",
            "│   │       ├── sx314.wav\n",
            "│   │       ├── sx404.wav\n",
            "│   │       └── sx44.wav\n",
            "│   ├── mbdg0\n",
            "│   │   └── audio\n",
            "│   │       ├── sa1.wav\n",
            "│   │       ├── sa2.wav\n",
            "│   │       ├── si1463.wav\n",
            "│   │       ├── si2093.wav\n",
            "│   │       ├── si833.wav\n",
            "│   │       ├── sx113.wav\n",
            "│   │       ├── sx203.wav\n",
            "│   │       ├── sx23.wav\n",
            "│   │       ├── sx293.wav\n",
            "│   │       └── sx383.wav\n",
            "│   ├── mbjk0\n",
            "│   │   └── audio\n",
            "│   │       ├── sa1.wav\n",
            "│   │       ├── sa2.wav\n",
            "│   │       ├── si1175.wav\n",
            "│   │       ├── si2128.wav\n",
            "│   │       ├── si545.wav\n",
            "│   │       ├── sx185.wav\n",
            "│   │       ├── sx275.wav\n",
            "│   │       ├── sx365.wav\n",
            "│   │       ├── sx5.wav\n",
            "│   │       └── sx95.wav\n",
            "│   ├── mccs0\n",
            "│   │   └── audio\n",
            "│   │       ├── sa1.wav\n",
            "│   │       ├── sa2.wav\n",
            "│   │       ├── si1469.wav\n",
            "│   │       ├── si2099.wav\n",
            "│   │       ├── si839.wav\n",
            "│   │       ├── sx119.wav\n",
            "│   │       ├── sx209.wav\n",
            "│   │       ├── sx299.wav\n",
            "│   │       ├── sx29.wav\n",
            "│   │       └── sx389.wav\n",
            "│   ├── mcem0\n",
            "│   │   └── audio\n",
            "│   │       ├── sa1.wav\n",
            "│   │       ├── sa2.wav\n",
            "│   │       ├── si1398.wav\n",
            "│   │       ├── si2028.wav\n",
            "│   │       ├── si768.wav\n",
            "│   │       ├── sx138.wav\n",
            "│   │       ├── sx228.wav\n",
            "│   │       ├── sx318.wav\n",
            "│   │       ├── sx408.wav\n",
            "│   │       └── sx48.wav\n",
            "│   ├── mdab0\n",
            "│   │   └── audio\n",
            "│   │       ├── sa1.wav\n",
            "│   │       ├── sa2.wav\n",
            "│   │       ├── si1039.wav\n",
            "│   │       ├── si1669.wav\n",
            "│   │       ├── si2299.wav\n",
            "│   │       ├── sx139.wav\n",
            "│   │       ├── sx229.wav\n",
            "│   │       ├── sx319.wav\n",
            "│   │       ├── sx409.wav\n",
            "│   │       └── sx49.wav\n",
            "│   ├── mdbb0\n",
            "│   │   └── audio\n",
            "│   │       ├── sa1.wav\n",
            "│   │       ├── sa2.wav\n",
            "│   │       ├── si1825.wav\n",
            "│   │       ├── si565.wav\n",
            "│   │       ├── sx115.wav\n",
            "│   │       ├── sx1195.wav\n",
            "│   │       ├── sx205.wav\n",
            "│   │       ├── sx25.wav\n",
            "│   │       ├── sx295.wav\n",
            "│   │       └── sx385.wav\n",
            "│   ├── mdld0\n",
            "│   │   └── audio\n",
            "│   │       ├── sa1.wav\n",
            "│   │       ├── sa2.wav\n",
            "│   │       ├── si1543.wav\n",
            "│   │       ├── si2173.wav\n",
            "│   │       ├── si913.wav\n",
            "│   │       ├── sx103.wav\n",
            "│   │       ├── sx13.wav\n",
            "│   │       ├── sx193.wav\n",
            "│   │       ├── sx283.wav\n",
            "│   │       └── sx373.wav\n",
            "│   ├── mgwt0\n",
            "│   │   └── audio\n",
            "│   │       ├── sa1.wav\n",
            "│   │       ├── sa2.wav\n",
            "│   │       ├── si1539.wav\n",
            "│   │       ├── si2169.wav\n",
            "│   │       ├── si909.wav\n",
            "│   │       ├── sx189.wav\n",
            "│   │       ├── sx279.wav\n",
            "│   │       ├── sx369.wav\n",
            "│   │       ├── sx99.wav\n",
            "│   │       └── sx9.wav\n",
            "│   ├── mjar0\n",
            "│   │   └── audio\n",
            "│   │       ├── sa1.wav\n",
            "│   │       ├── sa2.wav\n",
            "│   │       ├── si1988.wav\n",
            "│   │       ├── si2247.wav\n",
            "│   │       ├── si728.wav\n",
            "│   │       ├── sx188.wav\n",
            "│   │       ├── sx278.wav\n",
            "│   │       ├── sx368.wav\n",
            "│   │       ├── sx8.wav\n",
            "│   │       └── sx98.wav\n",
            "│   ├── mjsw0\n",
            "│   │   └── audio\n",
            "│   │       ├── sa1.wav\n",
            "│   │       ├── sa2.wav\n",
            "│   │       ├── si1010.wav\n",
            "│   │       ├── si1640.wav\n",
            "│   │       ├── si2270.wav\n",
            "│   │       ├── sx110.wav\n",
            "│   │       ├── sx200.wav\n",
            "│   │       ├── sx20.wav\n",
            "│   │       ├── sx290.wav\n",
            "│   │       └── sx380.wav\n",
            "│   ├── mmdb1\n",
            "│   │   └── audio\n",
            "│   │       ├── sa1.wav\n",
            "│   │       ├── sa2.wav\n",
            "│   │       ├── si2255.wav\n",
            "│   │       ├── si995.wav\n",
            "│   │       ├── sx1625.wav\n",
            "│   │       ├── sx185.wav\n",
            "│   │       ├── sx275.wav\n",
            "│   │       ├── sx365.wav\n",
            "│   │       ├── sx5.wav\n",
            "│   │       └── sx95.wav\n",
            "│   ├── mmdm2\n",
            "│   │   └── audio\n",
            "│   │       ├── sa1.wav\n",
            "│   │       ├── sa2.wav\n",
            "│   │       ├── si1425.wav\n",
            "│   │       ├── si1555.wav\n",
            "│   │       ├── si2028.wav\n",
            "│   │       ├── sx102.wav\n",
            "│   │       ├── sx12.wav\n",
            "│   │       ├── sx192.wav\n",
            "│   │       ├── sx282.wav\n",
            "│   │       └── sx372.wav\n",
            "│   ├── mpdf0\n",
            "│   │   └── audio\n",
            "│   │       ├── sa1.wav\n",
            "│   │       ├── sa2.wav\n",
            "│   │       ├── si1542.wav\n",
            "│   │       ├── si2172.wav\n",
            "│   │       ├── si912.wav\n",
            "│   │       ├── sx102.wav\n",
            "│   │       ├── sx12.wav\n",
            "│   │       ├── sx192.wav\n",
            "│   │       ├── sx282.wav\n",
            "│   │       └── sx372.wav\n",
            "│   ├── mpgl0\n",
            "│   │   └── audio\n",
            "│   │       ├── sa1.wav\n",
            "│   │       ├── sa2.wav\n",
            "│   │       ├── si1099.wav\n",
            "│   │       ├── si1729.wav\n",
            "│   │       ├── si469.wav\n",
            "│   │       ├── sx109.wav\n",
            "│   │       ├── sx199.wav\n",
            "│   │       ├── sx19.wav\n",
            "│   │       ├── sx289.wav\n",
            "│   │       └── sx379.wav\n",
            "│   ├── mrcz0\n",
            "│   │   └── audio\n",
            "│   │       ├── sa1.wav\n",
            "│   │       ├── sa2.wav\n",
            "│   │       ├── si1541.wav\n",
            "│   │       ├── si2171.wav\n",
            "│   │       ├── si911.wav\n",
            "│   │       ├── sx101.wav\n",
            "│   │       ├── sx11.wav\n",
            "│   │       ├── sx191.wav\n",
            "│   │       ├── sx281.wav\n",
            "│   │       └── sx371.wav\n",
            "│   ├── mreb0\n",
            "│   │   └── audio\n",
            "│   │       ├── sa1.wav\n",
            "│   │       ├── sa2.wav\n",
            "│   │       ├── si1375.wav\n",
            "│   │       ├── si2005.wav\n",
            "│   │       ├── si745.wav\n",
            "│   │       ├── sx115.wav\n",
            "│   │       ├── sx205.wav\n",
            "│   │       ├── sx25.wav\n",
            "│   │       ├── sx295.wav\n",
            "│   │       └── sx385.wav\n",
            "│   ├── mrgg0\n",
            "│   │   └── audio\n",
            "│   │       ├── sa1.wav\n",
            "│   │       ├── sa2.wav\n",
            "│   │       ├── si1199.wav\n",
            "│   │       ├── si1829.wav\n",
            "│   │       ├── si569.wav\n",
            "│   │       ├── sx119.wav\n",
            "│   │       ├── sx209.wav\n",
            "│   │       ├── sx299.wav\n",
            "│   │       ├── sx29.wav\n",
            "│   │       └── sx389.wav\n",
            "│   ├── mrjo0\n",
            "│   │   └── audio\n",
            "│   │       ├── sa1.wav\n",
            "│   │       ├── sa2.wav\n",
            "│   │       ├── si1364.wav\n",
            "│   │       ├── si1624.wav\n",
            "│   │       ├── si734.wav\n",
            "│   │       ├── sx104.wav\n",
            "│   │       ├── sx14.wav\n",
            "│   │       ├── sx194.wav\n",
            "│   │       ├── sx284.wav\n",
            "│   │       └── sx374.wav\n",
            "│   ├── msjs1\n",
            "│   │   └── audio\n",
            "│   │       ├── sa1.wav\n",
            "│   │       ├── sa2.wav\n",
            "│   │       ├── si1899.wav\n",
            "│   │       ├── si639.wav\n",
            "│   │       ├── si869.wav\n",
            "│   │       ├── sx189.wav\n",
            "│   │       ├── sx279.wav\n",
            "│   │       ├── sx369.wav\n",
            "│   │       ├── sx99.wav\n",
            "│   │       └── sx9.wav\n",
            "│   ├── mstk0\n",
            "│   │   └── audio\n",
            "│   │       ├── sa1.wav\n",
            "│   │       ├── sa2.wav\n",
            "│   │       ├── si1024.wav\n",
            "│   │       ├── si2222.wav\n",
            "│   │       ├── si2284.wav\n",
            "│   │       ├── sx124.wav\n",
            "│   │       ├── sx214.wav\n",
            "│   │       ├── sx304.wav\n",
            "│   │       ├── sx34.wav\n",
            "│   │       └── sx394.wav\n",
            "│   ├── mtas1\n",
            "│   │   └── audio\n",
            "│   │       ├── sa1.wav\n",
            "│   │       ├── sa2.wav\n",
            "│   │       ├── si1473.wav\n",
            "│   │       ├── si2098.wav\n",
            "│   │       ├── si838.wav\n",
            "│   │       ├── sx118.wav\n",
            "│   │       ├── sx208.wav\n",
            "│   │       ├── sx28.wav\n",
            "│   │       ├── sx298.wav\n",
            "│   │       └── sx388.wav\n",
            "│   ├── mtmr0\n",
            "│   │   └── audio\n",
            "│   │       ├── sa1.wav\n",
            "│   │       ├── sa2.wav\n",
            "│   │       ├── si1303.wav\n",
            "│   │       ├── si1933.wav\n",
            "│   │       ├── si673.wav\n",
            "│   │       ├── sx133.wav\n",
            "│   │       ├── sx223.wav\n",
            "│   │       ├── sx313.wav\n",
            "│   │       ├── sx403.wav\n",
            "│   │       └── sx43.wav\n",
            "│   └── mwbt0\n",
            "│       └── audio\n",
            "│           ├── sa1.wav\n",
            "│           ├── sa2.wav\n",
            "│           ├── si1553.wav\n",
            "│           ├── si2183.wav\n",
            "│           ├── si923.wav\n",
            "│           ├── sx113.wav\n",
            "│           ├── sx203.wav\n",
            "│           ├── sx23.wav\n",
            "│           ├── sx293.wav\n",
            "│           └── sx383.wav\n",
            "└── LISTS\n",
            "    ├── locuteur1-all.lst\n",
            "    ├── locuteur1-test.lst\n",
            "    ├── locuteur1-train.lst\n",
            "    ├── locuteur2-all.lst\n",
            "    ├── locuteur2-test.lst\n",
            "    ├── locuteur2-train.lst\n",
            "    ├── locuteur3-all.lst\n",
            "    ├── locuteur3-test.lst\n",
            "    ├── locuteur3-train.lst\n",
            "    ├── locuteur4-all.lst\n",
            "    ├── locuteur4-test.lst\n",
            "    ├── locuteur4-train.lst\n",
            "    ├── locuteur5-all.lst\n",
            "    ├── locuteur5-test.lst\n",
            "    ├── locuteur5-train.lst\n",
            "    ├── locuteur6-all.lst\n",
            "    ├── locuteur6-test.lst\n",
            "    ├── locuteur6-train.lst\n",
            "    ├── locuteur7-all.lst\n",
            "    ├── locuteur8-all.lst\n",
            "    ├── locuteurs.lst\n",
            "    ├── locuteurs-train.lst\n",
            "    ├── ubm-all.lst\n",
            "    ├── ubm-train.lst\n",
            "    └── wav-all.lst\n",
            "\n",
            "88 directories, 455 files\n"
          ],
          "name": "stdout"
        }
      ]
    },
    {
      "cell_type": "markdown",
      "metadata": {
        "id": "9oJivcuz4DTf",
        "colab_type": "text"
      },
      "source": [
        "Données :\n",
        "1. "
      ]
    },
    {
      "cell_type": "code",
      "metadata": {
        "id": "gbdxk5-Lcdwv",
        "colab_type": "code",
        "outputId": "a6bb3313-51af-47dc-a3ce-32ce6ce59d8b",
        "colab": {
          "base_uri": "https://localhost:8080/",
          "height": 153
        }
      },
      "source": [
        "!tree -L 1 /content/tp-m2-sid/corpus/"
      ],
      "execution_count": 3,
      "outputs": [
        {
          "output_type": "stream",
          "text": [
            "/content/tp-m2-sid/corpus/\n",
            "├── development_set\n",
            "├── locuteur\n",
            "├── test_data\n",
            "├── train_data\n",
            "└── voyelles\n",
            "\n",
            "5 directories, 0 files\n"
          ],
          "name": "stdout"
        }
      ]
    },
    {
      "cell_type": "markdown",
      "metadata": {
        "id": "U1Pzzb_bGyLK",
        "colab_type": "text"
      },
      "source": [
        "## 1. Données\n",
        "\n",
        "Les données à traiter sont issues du corpus audio-vidéo [VidTIMIT](https://conradsanderson.id.au/vidtimit/) créé par Conrad Sanderson dans le cadre de [sa thèse](http://conradsanderson.id.au/pdfs/sanderson_thesis_2003.pdf) sur la fusion d’informations audio et vidéo.\n",
        "\n",
        "Le corpus est constitué à partir d’enregistremets de 43 personnes (24 hommes et 19 femmes) en 3 sessions espacés d’environ une semaine chacune.\n",
        "\n",
        "La longueur moyenne de chaque fichier est de 4,25 secondes. Les enregistrements on été effectué dans un environnement de type bureau (milieu bruité)."
      ]
    },
    {
      "cell_type": "markdown",
      "metadata": {
        "id": "A31oqleF7ny0",
        "colab_type": "text"
      },
      "source": [
        "Aperçu audio d'un locuteur :"
      ]
    },
    {
      "cell_type": "code",
      "metadata": {
        "id": "dmMxl7-V7rg5",
        "colab_type": "code",
        "outputId": "0dce3411-80f5-490c-e74d-10d7ee5c1e22",
        "colab": {
          "base_uri": "https://localhost:8080/",
          "height": 75
        }
      },
      "source": [
        "fech,audio = read(chemin_corpus+'DATA/fcmh0/audio/sa1.wav')\n",
        "Audio(audio, rate=fech)"
      ],
      "execution_count": 43,
      "outputs": [
        {
          "output_type": "execute_result",
          "data": {
            "text/html": [
              "\n",
              "                <audio controls=\"controls\" >\n",
              "                    <source src=\"data:audio/wav;base64,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\" type=\"audio/wav\" />\n",
              "                    Your browser does not support the audio element.\n",
              "                </audio>\n",
              "              "
            ],
            "text/plain": [
              "<IPython.lib.display.Audio object>"
            ]
          },
          "metadata": {
            "tags": []
          },
          "execution_count": 43
        }
      ]
    },
    {
      "cell_type": "markdown",
      "metadata": {
        "id": "8bdtdzoT2sZi",
        "colab_type": "text"
      },
      "source": [
        "##1. Paramétrisation\n",
        "\n",
        "Vous utiliserez la fonction ci-dessous pour calculer des paramètres MFCC."
      ]
    },
    {
      "cell_type": "code",
      "metadata": {
        "id": "KcKSr6iQ2xaa",
        "colab_type": "code",
        "colab": {}
      },
      "source": [
        "def get_MFCC(sr,audio):\n",
        "    features = mfcc.mfcc(audio,sr, 0.025, 0.01, 13,appendEnergy = False)\n",
        "    feat     = np.asarray(())\n",
        "    for i in range(features.shape[0]):\n",
        "        temp = features[i,:]\n",
        "        if np.isnan(np.min(temp)):\n",
        "            continue\n",
        "        else:\n",
        "            if feat.size == 0:\n",
        "                feat = temp\n",
        "            else:\n",
        "                feat = np.vstack((feat, temp))\n",
        "    features = feat;\n",
        "    features = preprocessing.scale(features)\n",
        "    return features"
      ],
      "execution_count": 0,
      "outputs": []
    },
    {
      "cell_type": "markdown",
      "metadata": {
        "id": "C2ph4eqSE5_E",
        "colab_type": "text"
      },
      "source": [
        "**A faire :**\n",
        "1. **Affichez avec imshow la matrice MFCC correspondant à l'exemple audio écouté ci-dessus**\n",
        "2. **A quoi sert la ligne features = preprocessing.scale(features) ?.**"
      ]
    },
    {
      "cell_type": "markdown",
      "metadata": {
        "id": "vslTQO0q-R1p",
        "colab_type": "text"
      },
      "source": [
        "1) affichons la matrice MFCC correspondante"
      ]
    },
    {
      "cell_type": "code",
      "metadata": {
        "id": "7ftxb7-K-Xa2",
        "colab_type": "code",
        "colab": {}
      },
      "source": [
        "matmfcc = get_MFCC(fech,audio)"
      ],
      "execution_count": 0,
      "outputs": []
    },
    {
      "cell_type": "code",
      "metadata": {
        "id": "hDiUlvku-gRK",
        "colab_type": "code",
        "outputId": "cf5f7012-b60f-429c-fe01-e4d4d171ed28",
        "colab": {
          "base_uri": "https://localhost:8080/",
          "height": 80
        }
      },
      "source": [
        "import matplotlib.pyplot as plt\n",
        "plt.imshow(matmfcc.T)"
      ],
      "execution_count": 7,
      "outputs": [
        {
          "output_type": "execute_result",
          "data": {
            "text/plain": [
              "<matplotlib.image.AxesImage at 0x7f652c3956a0>"
            ]
          },
          "metadata": {
            "tags": []
          },
          "execution_count": 7
        },
        {
          "output_type": "display_data",
          "data": {
            "image/png": "[encoded data removed]",
            "text/plain": [
              "<Figure size 432x288 with 1 Axes>"
            ]
          },
          "metadata": {
            "tags": []
          }
        }
      ]
    },
    {
      "cell_type": "markdown",
      "metadata": {
        "id": "BTFWgSdy-wce",
        "colab_type": "text"
      },
      "source": [
        "2) la ligne features = preprocessing.scale(features) sert à normaliser nos données "
      ]
    },
    {
      "cell_type": "markdown",
      "metadata": {
        "id": "xIt7SvcEgUsO",
        "colab_type": "text"
      },
      "source": [
        "## 2. Création du modèle du monde (Universal Background Model)\n",
        "\n",
        "Vous allez utiliser 35 locuteurs pour créer un fichier du monde avec la session 1 d’enregistrement. Vous utiliserez les fichiers contenu dans la liste liste ubm-train.lst pour réaliser l’apprentissage du GMM du monde (modèle du monde, Universal Background Model).\n",
        "Utilisez la fonction GaussianMixture.fit de SciKitLearn pour effectuer l’apprentissage du mélange de lois normales par algorithme EM.\n",
        "\n",
        "Choisissez 32 mélanges de gaussiennes et matrice de covariance diagonale.\n",
        "\n",
        "Si vous avez des problèmes mémoire, vous pouvez restreindre le nombre de données à traiter en tirant aléatoirement les vecteurs sur votre ensemble."
      ]
    },
    {
      "cell_type": "code",
      "metadata": {
        "id": "9ooBdPQKiLkb",
        "colab_type": "code",
        "colab": {}
      },
      "source": [
        "def plot_gmm(gmm,X):\n",
        "  color_iter = itertools.cycle(['b', 'g', 'r', 'c', 'm', 'y', 'k', 'w'])\n",
        "\n",
        "  for i, (clf, title) in enumerate([(gmm, 'GMM')]):\n",
        "    splot = pl.subplot(1, 1, 1 + i)\n",
        "    Y_ = clf.predict(X)\n",
        "    for i, (mean, covar, color) in enumerate(zip(\n",
        "            clf.means_, clf.covariances_, color_iter)):\n",
        "        v, w = linalg.eigh(np.diag(covar))\n",
        "        #v, w = linalg.eigh(covar)\n",
        "        v = 2. * np.sqrt(2.) * np.sqrt(v) ###\n",
        "        u = w[0] / linalg.norm(w[0])\n",
        "        # as the DP will not use every component it has access to\n",
        "        # unless it needs it, we shouldn't plot the redundant\n",
        "        # components.\n",
        "        if not np.any(Y_ == i):\n",
        "            continue\n",
        "        pl.scatter(X[Y_ == i, 0], X[Y_ == i, 1], .8, color=color)\n",
        "\n",
        "        # Plot an ellipse to show the Gaussian component\n",
        "        #angle = np.arctan(u[1] / u[0])\n",
        "        #angle = 180 * angle / np.pi  # convert to degrees\n",
        "        #ell = mpl.patches.Ellipse(mean, v[0], v[1], 180 + angle, color=color)\n",
        "        #ell.set_clip_box(splot.bbox) ###\n",
        "        #ell.set_alpha(0.5)\n",
        "        #splot.add_artist(ell)\n",
        "\n",
        "    plt.xlim(-9., 5.)\n",
        "    plt.ylim(-3., 6.)\n",
        "    #pl.xlim(-10, 10)\n",
        "    #pl.ylim(-10, 10)\n",
        "    pl.xticks(())\n",
        "    pl.yticks(())\n",
        "    pl.title(title)\n",
        "\n",
        "  pl.show()\n"
      ],
      "execution_count": 0,
      "outputs": []
    },
    {
      "cell_type": "markdown",
      "metadata": {
        "id": "xRKnkFKfLxYO",
        "colab_type": "text"
      },
      "source": [
        "***A faire : ***\n",
        "1. ***Utilisez la fonction affiche_gmm pour visualiser une représentation sur les deux premières dimensionsdes du modèle du monde.***\n",
        "2. ***Affichez egalement deux histogrammes des données correspondant aux deux premières dimensions.***"
      ]
    },
    {
      "cell_type": "code",
      "metadata": {
        "id": "2a6xRFcjMBpD",
        "colab_type": "code",
        "outputId": "68c06a81-ca4c-46c3-d47e-53e6a8a4e363",
        "colab": {
          "base_uri": "https://localhost:8080/",
          "height": 1000
        }
      },
      "source": [
        "# exemple de traitement de listes de fichiers pour générer la matrice des observations\n",
        "\n",
        "X_train=np.empty([1,13]) \n",
        "List = open(chemin_corpus+\"LISTS/ubm-train.lst\")\n",
        "\n",
        "for filename in List:\n",
        "    # pour chaque fichier de l'apprentissage de l'UBM\n",
        "    # 1. calcul des MFCC\n",
        "    print(filename.rstrip())\n",
        "    fech, audio = read(chemin_corpus + filename.rstrip())\n",
        "    matriceMFCC = get_MFCC(fech, audio)\n",
        "    print(np.shape(matriceMFCC))\n",
        "\n",
        "    # concatenation dans une matrice qui contient tous les MFCC filtres\n",
        "    X_train = np.vstack((X_train, matriceMFCC))\n",
        "gmm = mixture.GaussianMixture(n_components = 32, max_iter = 200, covariance_type='diag', n_init = 3)\n",
        "gmm.fit(X_train)\n",
        " \n",
        "# enregistrement du modèle \n",
        "gmmfile = open( 'ubm' + '.gmm','wb')\n",
        "pickle.dump(gmm,gmmfile)\n",
        "print('enregistrement terminé pour ubm.gmm')\n",
        "\n",
        "\n",
        "\n"
      ],
      "execution_count": 9,
      "outputs": [
        {
          "output_type": "stream",
          "text": [
            "DATA/fcmr0/audio/sa1.wav\n",
            "(423, 13)\n",
            "DATA/fcmr0/audio/sa2.wav\n",
            "(399, 13)\n",
            "DATA/fcmr0/audio/si1105.wav\n",
            "(475, 13)\n",
            "DATA/fcmr0/audio/si1735.wav\n",
            "(311, 13)\n",
            "DATA/fcmr0/audio/si475.wav\n",
            "(299, 13)\n",
            "DATA/fcrh0/audio/sa1.wav\n",
            "(479, 13)\n",
            "DATA/fcrh0/audio/sa2.wav\n",
            "(395, 13)\n",
            "DATA/fcrh0/audio/si1088.wav\n",
            "(415, 13)\n",
            "DATA/fcrh0/audio/si1718.wav\n",
            "(299, 13)\n",
            "DATA/fcrh0/audio/si458.wav\n",
            "(391, 13)\n",
            "DATA/fdac1/audio/sa1.wav\n",
            "(379, 13)\n",
            "DATA/fdac1/audio/sa2.wav\n",
            "(303, 13)\n",
            "DATA/fdac1/audio/si1474.wav\n",
            "(351, 13)\n",
            "DATA/fdac1/audio/si2104.wav\n",
            "(383, 13)\n",
            "DATA/fdac1/audio/si844.wav\n",
            "(547, 13)\n",
            "DATA/fdms0/audio/sa1.wav\n",
            "(459, 13)\n",
            "DATA/fdms0/audio/sa2.wav\n",
            "(431, 13)\n",
            "DATA/fdms0/audio/si1218.wav\n",
            "(371, 13)\n",
            "DATA/fdms0/audio/si1502.wav\n",
            "(519, 13)\n",
            "DATA/fdms0/audio/si1848.wav\n",
            "(387, 13)\n",
            "DATA/fdrd1/audio/sa1.wav\n",
            "(543, 13)\n",
            "DATA/fdrd1/audio/sa2.wav\n",
            "(411, 13)\n",
            "DATA/fdrd1/audio/si1544.wav\n",
            "(347, 13)\n",
            "DATA/fdrd1/audio/si1566.wav\n",
            "(571, 13)\n",
            "DATA/fdrd1/audio/si2149.wav\n",
            "(607, 13)\n",
            "DATA/fedw0/audio/sa1.wav\n",
            "(367, 13)\n",
            "DATA/fedw0/audio/sa2.wav\n",
            "(347, 13)\n",
            "DATA/fedw0/audio/si1084.wav\n",
            "(387, 13)\n",
            "DATA/fedw0/audio/si1653.wav\n",
            "(223, 13)\n",
            "DATA/fedw0/audio/si1714.wav\n",
            "(283, 13)\n",
            "DATA/felc0/audio/sa1.wav\n",
            "(551, 13)\n",
            "DATA/felc0/audio/sa2.wav\n",
            "(423, 13)\n",
            "DATA/felc0/audio/si1386.wav\n",
            "(543, 13)\n",
            "DATA/felc0/audio/si2016.wav\n",
            "(439, 13)\n",
            "DATA/felc0/audio/si756.wav\n",
            "(603, 13)\n",
            "DATA/fgjd0/audio/sa1.wav\n",
            "(411, 13)\n",
            "DATA/fgjd0/audio/sa2.wav\n",
            "(387, 13)\n",
            "DATA/fgjd0/audio/si1179.wav\n",
            "(251, 13)\n",
            "DATA/fgjd0/audio/si549.wav\n",
            "(567, 13)\n",
            "DATA/fgjd0/audio/si818.wav\n",
            "(611, 13)\n",
            "DATA/fjas0/audio/sa1.wav\n",
            "(443, 13)\n",
            "DATA/fjas0/audio/sa2.wav\n",
            "(331, 13)\n",
            "DATA/fjas0/audio/si1400.wav\n",
            "(479, 13)\n",
            "DATA/fjas0/audio/si2030.wav\n",
            "(327, 13)\n",
            "DATA/fjas0/audio/si770.wav\n",
            "(571, 13)\n",
            "DATA/fjem0/audio/sa1.wav\n",
            "(631, 13)\n",
            "DATA/fjem0/audio/sa2.wav\n",
            "(491, 13)\n",
            "DATA/fjem0/audio/si1264.wav\n",
            "(471, 13)\n",
            "DATA/fjem0/audio/si1894.wav\n",
            "(635, 13)\n",
            "DATA/fjem0/audio/si634.wav\n",
            "(895, 13)\n",
            "DATA/fjre0/audio/sa1.wav\n",
            "(447, 13)\n",
            "DATA/fjre0/audio/sa2.wav\n",
            "(347, 13)\n",
            "DATA/fjre0/audio/si1116.wav\n",
            "(339, 13)\n",
            "DATA/fjre0/audio/si1587.wav\n",
            "(619, 13)\n",
            "DATA/fjre0/audio/si1746.wav\n",
            "(355, 13)\n",
            "DATA/fjwb0/audio/sa1.wav\n",
            "(479, 13)\n",
            "DATA/fjwb0/audio/sa2.wav\n",
            "(395, 13)\n",
            "DATA/fjwb0/audio/si1265.wav\n",
            "(491, 13)\n",
            "DATA/fjwb0/audio/si635.wav\n",
            "(651, 13)\n",
            "DATA/fjwb0/audio/si992.wav\n",
            "(727, 13)\n",
            "DATA/fkms0/audio/sa1.wav\n",
            "(387, 13)\n",
            "DATA/fkms0/audio/sa2.wav\n",
            "(335, 13)\n",
            "DATA/fkms0/audio/si1490.wav\n",
            "(323, 13)\n",
            "DATA/fkms0/audio/si2120.wav\n",
            "(423, 13)\n",
            "DATA/fkms0/audio/si860.wav\n",
            "(539, 13)\n",
            "DATA/fpkt0/audio/sa1.wav\n",
            "(575, 13)\n",
            "DATA/fpkt0/audio/sa2.wav\n",
            "(403, 13)\n",
            "DATA/fpkt0/audio/si1538.wav\n",
            "(527, 13)\n",
            "DATA/fpkt0/audio/si2168.wav\n",
            "(339, 13)\n",
            "DATA/fpkt0/audio/si908.wav\n",
            "(335, 13)\n",
            "DATA/fram1/audio/sa1.wav\n",
            "(467, 13)\n",
            "DATA/fram1/audio/sa2.wav\n",
            "(507, 13)\n",
            "DATA/fram1/audio/si1360.wav\n",
            "(455, 13)\n",
            "DATA/fram1/audio/si522.wav\n",
            "(835, 13)\n",
            "DATA/fram1/audio/si730.wav\n",
            "(663, 13)\n",
            "DATA/mabw0/audio/sa1.wav\n",
            "(403, 13)\n",
            "DATA/mabw0/audio/sa2.wav\n",
            "(391, 13)\n",
            "DATA/mabw0/audio/si1230.wav\n",
            "(791, 13)\n",
            "DATA/mabw0/audio/si1664.wav\n",
            "(359, 13)\n",
            "DATA/mabw0/audio/si2294.wav\n",
            "(439, 13)\n",
            "DATA/mbdg0/audio/sa1.wav\n",
            "(483, 13)\n",
            "DATA/mbdg0/audio/sa2.wav\n",
            "(375, 13)\n",
            "DATA/mbdg0/audio/si1463.wav\n",
            "(379, 13)\n",
            "DATA/mbdg0/audio/si2093.wav\n",
            "(531, 13)\n",
            "DATA/mbdg0/audio/si833.wav\n",
            "(267, 13)\n",
            "DATA/mbjk0/audio/sa1.wav\n",
            "(451, 13)\n",
            "DATA/mbjk0/audio/sa2.wav\n",
            "(359, 13)\n",
            "DATA/mbjk0/audio/si1175.wav\n",
            "(519, 13)\n",
            "DATA/mbjk0/audio/si2128.wav\n",
            "(635, 13)\n",
            "DATA/mbjk0/audio/si545.wav\n",
            "(347, 13)\n",
            "DATA/mccs0/audio/sa1.wav\n",
            "(375, 13)\n",
            "DATA/mccs0/audio/sa2.wav\n",
            "(371, 13)\n",
            "DATA/mccs0/audio/si1469.wav\n",
            "(435, 13)\n",
            "DATA/mccs0/audio/si2099.wav\n",
            "(315, 13)\n",
            "DATA/mccs0/audio/si839.wav\n",
            "(459, 13)\n",
            "DATA/mcem0/audio/sa1.wav\n",
            "(407, 13)\n",
            "DATA/mcem0/audio/sa2.wav\n",
            "(311, 13)\n",
            "DATA/mcem0/audio/si1398.wav\n",
            "(271, 13)\n",
            "DATA/mcem0/audio/si2028.wav\n",
            "(503, 13)\n",
            "DATA/mcem0/audio/si768.wav\n",
            "(443, 13)\n",
            "DATA/mdab0/audio/sa1.wav\n",
            "(595, 13)\n",
            "DATA/mdab0/audio/sa2.wav\n",
            "(443, 13)\n",
            "DATA/mdab0/audio/si1039.wav\n",
            "(679, 13)\n",
            "DATA/mdab0/audio/si1669.wav\n",
            "(415, 13)\n",
            "DATA/mdab0/audio/si2299.wav\n",
            "(523, 13)\n",
            "DATA/mdbb0/audio/sa1.wav\n",
            "(399, 13)\n",
            "DATA/mdbb0/audio/sa2.wav\n",
            "(387, 13)\n",
            "DATA/mdbb0/audio/si1825.wav\n",
            "(471, 13)\n",
            "DATA/mdbb0/audio/si565.wav\n",
            "(539, 13)\n",
            "DATA/mdld0/audio/sa1.wav\n",
            "(419, 13)\n",
            "DATA/mdld0/audio/sa2.wav\n",
            "(427, 13)\n",
            "DATA/mdld0/audio/si1543.wav\n",
            "(311, 13)\n",
            "DATA/mdld0/audio/si2173.wav\n",
            "(611, 13)\n",
            "DATA/mdld0/audio/si913.wav\n",
            "(739, 13)\n",
            "DATA/mgwt0/audio/sa1.wav\n",
            "(499, 13)\n",
            "DATA/mgwt0/audio/sa2.wav\n",
            "(335, 13)\n",
            "DATA/mgwt0/audio/si1539.wav\n",
            "(435, 13)\n",
            "DATA/mgwt0/audio/si2169.wav\n",
            "(543, 13)\n",
            "DATA/mgwt0/audio/si909.wav\n",
            "(547, 13)\n",
            "DATA/mjar0/audio/sa1.wav\n",
            "(599, 13)\n",
            "DATA/mjar0/audio/sa2.wav\n",
            "(451, 13)\n",
            "DATA/mjar0/audio/si1988.wav\n",
            "(299, 13)\n",
            "DATA/mjar0/audio/si2247.wav\n",
            "(303, 13)\n",
            "DATA/mjar0/audio/si728.wav\n",
            "(575, 13)\n",
            "DATA/mjsw0/audio/sa1.wav\n",
            "(375, 13)\n",
            "DATA/mjsw0/audio/sa2.wav\n",
            "(355, 13)\n",
            "DATA/mjsw0/audio/si1010.wav\n",
            "(551, 13)\n",
            "DATA/mjsw0/audio/si1640.wav\n",
            "(215, 13)\n",
            "DATA/mjsw0/audio/si2270.wav\n",
            "(239, 13)\n",
            "DATA/mmdb1/audio/sa1.wav\n",
            "(491, 13)\n",
            "DATA/mmdb1/audio/sa2.wav\n",
            "(379, 13)\n",
            "DATA/mmdb1/audio/si2255.wav\n",
            "(499, 13)\n",
            "DATA/mmdb1/audio/si995.wav\n",
            "(683, 13)\n",
            "DATA/mmdm2/audio/sa1.wav\n",
            "(491, 13)\n",
            "DATA/mmdm2/audio/sa2.wav\n",
            "(339, 13)\n",
            "DATA/mmdm2/audio/si1425.wav\n",
            "(639, 13)\n",
            "DATA/mmdm2/audio/si1555.wav\n",
            "(239, 13)\n",
            "DATA/mmdm2/audio/si2028.wav\n",
            "(267, 13)\n",
            "DATA/mpdf0/audio/sa1.wav\n",
            "(499, 13)\n",
            "DATA/mpdf0/audio/sa2.wav\n",
            "(383, 13)\n",
            "DATA/mpdf0/audio/si1542.wav\n",
            "(387, 13)\n",
            "DATA/mpdf0/audio/si2172.wav\n",
            "(399, 13)\n",
            "DATA/mpdf0/audio/si912.wav\n",
            "(463, 13)\n",
            "DATA/mpgl0/audio/sa1.wav\n",
            "(411, 13)\n",
            "DATA/mpgl0/audio/sa2.wav\n",
            "(327, 13)\n",
            "DATA/mpgl0/audio/si1099.wav\n",
            "(287, 13)\n",
            "DATA/mpgl0/audio/si1729.wav\n",
            "(415, 13)\n",
            "DATA/mpgl0/audio/si469.wav\n",
            "(367, 13)\n",
            "DATA/mrcz0/audio/sa1.wav\n",
            "(419, 13)\n",
            "DATA/mrcz0/audio/sa2.wav\n",
            "(387, 13)\n",
            "DATA/mrcz0/audio/si1541.wav\n",
            "(479, 13)\n",
            "DATA/mrcz0/audio/si2171.wav\n",
            "(299, 13)\n",
            "DATA/mrcz0/audio/si911.wav\n",
            "(395, 13)\n",
            "DATA/mreb0/audio/sa1.wav\n",
            "(555, 13)\n",
            "DATA/mreb0/audio/sa2.wav\n",
            "(367, 13)\n",
            "DATA/mreb0/audio/si1375.wav\n",
            "(531, 13)\n",
            "DATA/mreb0/audio/si2005.wav\n",
            "(547, 13)\n",
            "DATA/mreb0/audio/si745.wav\n",
            "(311, 13)\n",
            "DATA/mrgg0/audio/sa1.wav\n",
            "(535, 13)\n",
            "DATA/mrgg0/audio/sa2.wav\n",
            "(591, 13)\n",
            "DATA/mrgg0/audio/si1199.wav\n",
            "(471, 13)\n",
            "DATA/mrgg0/audio/si1829.wav\n",
            "(959, 13)\n",
            "DATA/mrgg0/audio/si569.wav\n",
            "(403, 13)\n",
            "DATA/mrjo0/audio/sa1.wav\n",
            "(471, 13)\n",
            "DATA/mrjo0/audio/sa2.wav\n",
            "(347, 13)\n",
            "DATA/mrjo0/audio/si1364.wav\n",
            "(551, 13)\n",
            "DATA/mrjo0/audio/si1624.wav\n",
            "(307, 13)\n",
            "DATA/mrjo0/audio/si734.wav\n",
            "(635, 13)\n",
            "DATA/msjs1/audio/sa1.wav\n",
            "(459, 13)\n",
            "DATA/msjs1/audio/sa2.wav\n",
            "(483, 13)\n",
            "DATA/msjs1/audio/si1899.wav\n",
            "(251, 13)\n",
            "DATA/msjs1/audio/si639.wav\n",
            "(447, 13)\n",
            "DATA/msjs1/audio/si869.wav\n",
            "(895, 13)\n",
            "enregistrement terminé pour ubm.gmm\n"
          ],
          "name": "stdout"
        }
      ]
    },
    {
      "cell_type": "markdown",
      "metadata": {
        "id": "Ryz624H4Bgj5",
        "colab_type": "text"
      },
      "source": [
        "Affichons le modèle"
      ]
    },
    {
      "cell_type": "code",
      "metadata": {
        "id": "85uKC5htBfti",
        "colab_type": "code",
        "outputId": "95ec3792-86ac-411e-8796-62947d04ef23",
        "colab": {
          "base_uri": "https://localhost:8080/",
          "height": 268
        }
      },
      "source": [
        "plot_gmm(gmm,X_train)"
      ],
      "execution_count": 10,
      "outputs": [
        {
          "output_type": "display_data",
          "data": {
            "image/png": "[encoded data removed]",
            "text/plain": [
              "<Figure size 432x288 with 1 Axes>"
            ]
          },
          "metadata": {
            "tags": []
          }
        }
      ]
    },
    {
      "cell_type": "markdown",
      "metadata": {
        "id": "2flocbs_hPXb",
        "colab_type": "text"
      },
      "source": [
        "## 3. Adaptation aux locuteurs\n",
        "\n",
        "Il s’agit maintenant d’adapter le modèle du monde aux locuteurs cibles. Deux techniques sont disponibles : MAP et MLLR. Les listes locuteurX-train.lst contiennent la listes des fichiers nécessaire pour adapter au locuteur X (session 1, locuteur non utilisée dans l’UBM)."
      ]
    },
    {
      "cell_type": "code",
      "metadata": {
        "id": "-6cbjxE4hSwl",
        "colab_type": "code",
        "colab": {}
      },
      "source": [
        "def gmm_mllr_diag_cov(X, gmm, niter=10):\n",
        "  \"\"\" \n",
        "     GMM adaptation (only means) using MLLR for GMM with diagonal covariance matrix.\n",
        "\n",
        "     Usage: gmm_mllr_diag_cov(X, gmm, niter)\n",
        "     \n",
        "     References: Leggetter & Woodland'1995\n",
        "     \n",
        "     From: Kevin Hu https://github.com/mrhuke/GMM-adaptation\n",
        "  \"\"\"\n",
        "\n",
        "  # remove illed gaussians\n",
        "  logprob=gmm.score_samples(X)\n",
        "  pcompx=gmm.predict_proba(X)\n",
        "  ###logprob,pcompx = gmm.eval(X)\n",
        "  psum = np.sum(pcompx, axis=0)\n",
        "  ill_g = (psum == 0);\n",
        "  if any(ill_g):\n",
        "    valid = psum > 0\n",
        "    gmm.means_ = gmm.means_[valid,:]\n",
        "    gmm.weights_ = gmm.weights_[valid]\n",
        "    gmm.weights_ = gmm.weights_/sum(gmm.weights_)\n",
        "    gmm.covariances_ = gmm.covariances_[valid]\n",
        "    ###logprob,pcompx = gmm.eval(X)\n",
        "    logprob=gmm.score_samples(X)\n",
        "    pcompx=gmm.predict_proba(X)\n",
        "\n",
        "  # calculate G and Z \n",
        "  C = len(gmm.weights_)\n",
        "  T,dim = X.shape\n",
        "  W = np.empty([dim,dim+1])\n",
        "  G = np.zeros([dim,dim+1,dim+1])\n",
        "  # 1. first calculate D[0,...,C) and Z\n",
        "  D = np.zeros([C,dim+1,dim+1])\n",
        "  V = np.zeros([C,dim,dim])\n",
        "  Z = np.zeros([dim,dim+1])\n",
        "  for c in range(0,C):\n",
        "    mu = gmm.means_[c]\n",
        "    sigma = np.diag(gmm.covariances_[c])\n",
        "    sigma_inv = np.linalg.inv(sigma)\n",
        "    p = pcompx[:,c]\n",
        "\n",
        "    xi = np.empty_like(mu)\n",
        "    xi[:] = mu\n",
        "    xi = np.insert(xi,0,1)\n",
        "    xi = np.reshape(xi, [len(xi),1])\n",
        "    D[c] = xi.dot(xi.T)\n",
        "    V[c] = np.sum(p)*sigma_inv\n",
        "    for t in range(0,T):\n",
        "      xt = np.reshape(X[t],[len(X[t]),1])\n",
        "      Z += p[t]*sigma_inv.dot(xt).dot(xi.T)\n",
        "    \n",
        "  # 2. now calculate G\n",
        "  for i in range(0,dim): \n",
        "    for c in range(0,C): # tie all Gaussians\n",
        "      G[i] += V[c,i,i]*D[c]\n",
        "    try: \n",
        "      G_i_inv = np.linalg.inv(G[i])\n",
        "    except:\n",
        "      print ('G is nearly singular and pseudo-inverse is used.')\n",
        "      G_i_inv = np.linalg.pinv(G[i])\n",
        "    z_i = np.reshape(Z[i],[dim+1,1])\n",
        "    W[i] = G_i_inv.dot(z_i)[:,0]\n",
        "  \n",
        "  # transform means\n",
        "  for c in range(0,C):\n",
        "    xi = np.insert(gmm.means_[c],0,1)\n",
        "    xi = np.reshape(xi,[len(xi),1])\n",
        "    gmm.means_[c] = W.dot(xi)[:,0]\n",
        "      \n",
        "  # remove non positive definite matrices\n",
        "  ###logprob,pcompx = gmm.eval(X)\n",
        "  logprob=gmm.score_samples(X)\n",
        "  pcompx=gmm.predict_proba(X)\n",
        "  psum = np.sum(pcompx, axis=0)\n",
        "  ill = (psum == 0);\n",
        "  if np.any(ill):\n",
        "    valid = (ill == 0)\n",
        "    gmm.means_ = gmm.means_[valid]\n",
        "    gmm.weights_ = gmm.weights_[valid]\n",
        "    gmm.weights_ = gmm.weights_/sum(gmm.weights_)\n",
        "    gmm.covariances_ = gmm.covariances_[valid]\n",
        "    K = gmm.means_.shape[0]\n",
        "  return gmm\n"
      ],
      "execution_count": 0,
      "outputs": []
    },
    {
      "cell_type": "markdown",
      "metadata": {
        "id": "W1ogjemjUYv-",
        "colab_type": "text"
      },
      "source": [
        "***Questions :***\n",
        "1. ***Utilisez la fonction gmm_mllr_diag_cov pour effectuer l’adaptation MLLR à chacun des 6 locuteurs en utilisant les fichiers locuteurX-train.lst.\n",
        "Affichez les paramètres obtenus par MLLR avec la fonction affiche_gmm.***\n",
        "2. ***Si on avait fait une adaptation par MAP, quelle aurait été la différence par rapport à MLLR ?***"
      ]
    },
    {
      "cell_type": "markdown",
      "metadata": {
        "id": "baHVvw5Zwonw",
        "colab_type": "text"
      },
      "source": [
        "1) Effectuons l'adaptation MLLR et affichons les parametres obtenus par MLLR"
      ]
    },
    {
      "cell_type": "code",
      "metadata": {
        "id": "VGT8MkprIzkH",
        "colab_type": "code",
        "colab": {}
      },
      "source": [
        "# Fonction permettant de creer les vecteurs xtrain \n",
        "def getx (i):\n",
        "    X_train=np.empty([1,13]) \n",
        "    List = open(chemin_corpus+\"LISTS/locuteur\"+str(i)+\"-train.lst\")\n",
        "\n",
        "    for filename in List:\n",
        "        # pour chaque fichier de l'apprentissage de l'UBM\n",
        "        # 1. calcul des MFCC\n",
        "        print(filename.rstrip())\n",
        "        fech, audio = read(chemin_corpus + filename.rstrip())\n",
        "        matriceMFCC = get_MFCC(fech, audio)\n",
        "        print(np.shape(matriceMFCC))\n",
        "\n",
        "        # concatenation dans une matrice qui contient tous les MFCC filtres\n",
        "        X_train = np.vstack((X_train, matriceMFCC))\n",
        "    return (X_train)\n",
        "      "
      ],
      "execution_count": 0,
      "outputs": []
    },
    {
      "cell_type": "code",
      "metadata": {
        "id": "vcsaevV9EdEv",
        "colab_type": "code",
        "outputId": "5667612e-0d21-4f62-88e4-3ae7158e607b",
        "colab": {
          "base_uri": "https://localhost:8080/",
          "height": 1000
        }
      },
      "source": [
        "listx =[]\n",
        "for i in [1,2,3,4,5,6]:\n",
        "  listx.append(getx(i))"
      ],
      "execution_count": 13,
      "outputs": [
        {
          "output_type": "stream",
          "text": [
            "DATA/fadg0/audio/sx109.wav\n",
            "(539, 13)\n",
            "DATA/fadg0/audio/sx19.wav\n",
            "(387, 13)\n",
            "DATA/fadg0/audio/sx199.wav\n",
            "(575, 13)\n",
            "DATA/fadg0/audio/sx289.wav\n",
            "(503, 13)\n",
            "DATA/fadg0/audio/sx379.wav\n",
            "(435, 13)\n",
            "DATA/faks0/audio/sx133.wav\n",
            "(387, 13)\n",
            "DATA/faks0/audio/sx223.wav\n",
            "(355, 13)\n",
            "DATA/faks0/audio/sx313.wav\n",
            "(359, 13)\n",
            "DATA/faks0/audio/sx403.wav\n",
            "(387, 13)\n",
            "DATA/faks0/audio/sx43.wav\n",
            "(343, 13)\n",
            "DATA/fcft0/audio/sx188.wav\n",
            "(411, 13)\n",
            "DATA/fcft0/audio/sx278.wav\n",
            "(547, 13)\n",
            "DATA/fcft0/audio/sx368.wav\n",
            "(487, 13)\n",
            "DATA/fcft0/audio/sx8.wav\n",
            "(403, 13)\n",
            "DATA/fcft0/audio/sx98.wav\n",
            "(283, 13)\n",
            "DATA/fcmh0/audio/sx104.wav\n",
            "(283, 13)\n",
            "DATA/fcmh0/audio/sx14.wav\n",
            "(395, 13)\n",
            "DATA/fcmh0/audio/sx194.wav\n",
            "(275, 13)\n",
            "DATA/fcmh0/audio/sx284.wav\n",
            "(503, 13)\n",
            "DATA/fcmh0/audio/sx374.wav\n",
            "(311, 13)\n",
            "DATA/mstk0/audio/sx124.wav\n",
            "(223, 13)\n",
            "DATA/mstk0/audio/sx214.wav\n",
            "(367, 13)\n",
            "DATA/mstk0/audio/sx304.wav\n",
            "(375, 13)\n",
            "DATA/mstk0/audio/sx34.wav\n",
            "(295, 13)\n",
            "DATA/mstk0/audio/sx394.wav\n",
            "(327, 13)\n",
            "DATA/mtas1/audio/sx118.wav\n",
            "(323, 13)\n",
            "DATA/mtas1/audio/sx208.wav\n",
            "(403, 13)\n",
            "DATA/mtas1/audio/sx28.wav\n",
            "(327, 13)\n",
            "DATA/mtas1/audio/sx298.wav\n",
            "(391, 13)\n",
            "DATA/mtas1/audio/sx388.wav\n",
            "(435, 13)\n"
          ],
          "name": "stdout"
        }
      ]
    },
    {
      "cell_type": "code",
      "metadata": {
        "id": "tns0eAKhEdTo",
        "colab_type": "code",
        "colab": {}
      },
      "source": [
        "listgmm = []\n",
        "for j in listx:\n",
        "  listgmm.append(gmm_mllr_diag_cov(j, gmm, niter=10))"
      ],
      "execution_count": 0,
      "outputs": []
    },
    {
      "cell_type": "code",
      "metadata": {
        "id": "nzTYVtBvF-8D",
        "colab_type": "code",
        "outputId": "63d91658-72b4-4c29-cc04-99f6b70679f7",
        "colab": {
          "base_uri": "https://localhost:8080/",
          "height": 527
        }
      },
      "source": [
        "listgmm"
      ],
      "execution_count": 15,
      "outputs": [
        {
          "output_type": "execute_result",
          "data": {
            "text/plain": [
              "[GaussianMixture(covariance_type='diag', init_params='kmeans', max_iter=200,\n",
              "                 means_init=None, n_components=32, n_init=3,\n",
              "                 precisions_init=None, random_state=None, reg_covar=1e-06,\n",
              "                 tol=0.001, verbose=0, verbose_interval=10, warm_start=False,\n",
              "                 weights_init=None),\n",
              " GaussianMixture(covariance_type='diag', init_params='kmeans', max_iter=200,\n",
              "                 means_init=None, n_components=32, n_init=3,\n",
              "                 precisions_init=None, random_state=None, reg_covar=1e-06,\n",
              "                 tol=0.001, verbose=0, verbose_interval=10, warm_start=False,\n",
              "                 weights_init=None),\n",
              " GaussianMixture(covariance_type='diag', init_params='kmeans', max_iter=200,\n",
              "                 means_init=None, n_components=32, n_init=3,\n",
              "                 precisions_init=None, random_state=None, reg_covar=1e-06,\n",
              "                 tol=0.001, verbose=0, verbose_interval=10, warm_start=False,\n",
              "                 weights_init=None),\n",
              " GaussianMixture(covariance_type='diag', init_params='kmeans', max_iter=200,\n",
              "                 means_init=None, n_components=32, n_init=3,\n",
              "                 precisions_init=None, random_state=None, reg_covar=1e-06,\n",
              "                 tol=0.001, verbose=0, verbose_interval=10, warm_start=False,\n",
              "                 weights_init=None),\n",
              " GaussianMixture(covariance_type='diag', init_params='kmeans', max_iter=200,\n",
              "                 means_init=None, n_components=32, n_init=3,\n",
              "                 precisions_init=None, random_state=None, reg_covar=1e-06,\n",
              "                 tol=0.001, verbose=0, verbose_interval=10, warm_start=False,\n",
              "                 weights_init=None),\n",
              " GaussianMixture(covariance_type='diag', init_params='kmeans', max_iter=200,\n",
              "                 means_init=None, n_components=32, n_init=3,\n",
              "                 precisions_init=None, random_state=None, reg_covar=1e-06,\n",
              "                 tol=0.001, verbose=0, verbose_interval=10, warm_start=False,\n",
              "                 weights_init=None)]"
            ]
          },
          "metadata": {
            "tags": []
          },
          "execution_count": 15
        }
      ]
    },
    {
      "cell_type": "markdown",
      "metadata": {
        "id": "MmKtvRtYGJtI",
        "colab_type": "text"
      },
      "source": [
        "Affichons les parametres des gmmi obtenus "
      ]
    },
    {
      "cell_type": "code",
      "metadata": {
        "id": "4tDub0HbGJJN",
        "colab_type": "code",
        "outputId": "8302b806-69fd-4644-b6ea-e68da9e205dd",
        "colab": {
          "base_uri": "https://localhost:8080/",
          "height": 1000
        }
      },
      "source": [
        "[plot_gmm(listgmm[i],listx[i]) for i in [0,1,2,3,4,5]]"
      ],
      "execution_count": 16,
      "outputs": [
        {
          "output_type": "display_data",
          "data": {
            "image/png": "[encoded data removed]",
            "text/plain": [
              "<Figure size 432x288 with 1 Axes>"
            ]
          },
          "metadata": {
            "tags": []
          }
        },
        {
          "output_type": "display_data",
          "data": {
            "image/png": "[encoded data removed]",
            "text/plain": [
              "<Figure size 432x288 with 1 Axes>"
            ]
          },
          "metadata": {
            "tags": []
          }
        },
        {
          "output_type": "display_data",
          "data": {
            "image/png": "[encoded data removed]",
            "text/plain": [
              "<Figure size 432x288 with 1 Axes>"
            ]
          },
          "metadata": {
            "tags": []
          }
        },
        {
          "output_type": "display_data",
          "data": {
            "image/png": "[encoded data removed]",
            "text/plain": [
              "<Figure size 432x288 with 1 Axes>"
            ]
          },
          "metadata": {
            "tags": []
          }
        },
        {
          "output_type": "display_data",
          "data": {
            "image/png": "[encoded data removed]",
            "text/plain": [
              "<Figure size 432x288 with 1 Axes>"
            ]
          },
          "metadata": {
            "tags": []
          }
        },
        {
          "output_type": "display_data",
          "data": {
            "image/png": "[encoded data removed]",
            "text/plain": [
              "<Figure size 432x288 with 1 Axes>"
            ]
          },
          "metadata": {
            "tags": []
          }
        },
        {
          "output_type": "execute_result",
          "data": {
            "text/plain": [
              "[None, None, None, None, None, None]"
            ]
          },
          "metadata": {
            "tags": []
          },
          "execution_count": 16
        }
      ]
    },
    {
      "cell_type": "markdown",
      "metadata": {
        "id": "WymFBHNvHIci",
        "colab_type": "text"
      },
      "source": [
        "On observe qu'on a pas les memes distribution de gaussiennes visuellement."
      ]
    },
    {
      "cell_type": "markdown",
      "metadata": {
        "id": "fOSq64hWHecP",
        "colab_type": "text"
      },
      "source": [
        "2) La difference entre la MAP et MLRR est que la méthode MLRR ne prend en compte que les moyennes tandis que les map prennent aussi en compte les matrices de covariances ainsi que les poids associés aux gaussiennes en sus de la moyenne. Elle marcherait moins bon ici car on a un petit set de données"
      ]
    },
    {
      "cell_type": "markdown",
      "metadata": {
        "id": "mCKkuvd-I1RG",
        "colab_type": "text"
      },
      "source": [
        "## 4. Evaluation du système\n",
        "1. ***Testez locuteur par locuteur les deux méthodes MLLR et MAP en utilisant en test les fichiers de la session 2 et 3 (liste locuteurX-test.lst pour les fichiers de test du locuteur X). Les phrases prononcées sont différentes des phrases de la session 1 utilisée pour l’apprentissage. Calculez un taux de reconnaissance.***\n",
        "2. ***Comparez les résultats sur le meilleur système en activant ou désactivant la normalisation des paramètres MFCC. Qu'en pensez-vous ?***"
      ]
    },
    {
      "cell_type": "code",
      "metadata": {
        "id": "HlobsgR9Jeio",
        "colab_type": "code",
        "colab": {}
      },
      "source": [
        "# Fonction permettant de creer un vecteur xtest pour chaque fichier locuteur comme on a construit les xtrain\n",
        "def gettestx (i):\n",
        "    X_train=np.empty([1,13]) \n",
        "    List = open(chemin_corpus+\"LISTS/locuteur\"+str(i)+\"-test.lst\")\n",
        "\n",
        "    for filename in List:\n",
        "        # pour chaque fichier de l'apprentissage de l'UBM\n",
        "        # 1. calcul des MFCC\n",
        "        print(filename.rstrip())\n",
        "        fech, audio = read(chemin_corpus + filename.rstrip())\n",
        "        matriceMFCC = get_MFCC(fech, audio)\n",
        "        print(np.shape(matriceMFCC))\n",
        "\n",
        "        # concatenation dans une matrice qui contient tous les MFCC filtres\n",
        "        X_train = np.vstack((X_train, matriceMFCC))\n",
        "    return (X_train)\n",
        "      "
      ],
      "execution_count": 0,
      "outputs": []
    },
    {
      "cell_type": "code",
      "metadata": {
        "id": "FYXuwcOWIyL7",
        "colab_type": "code",
        "outputId": "a97be10c-1aed-4df3-8e23-be2d8b0bf43e",
        "colab": {
          "base_uri": "https://localhost:8080/",
          "height": 1000
        }
      },
      "source": [
        "listtestx =[]\n",
        "for i in [1,2,3,4,5,6]:\n",
        "  listtestx.append(gettestx(i))"
      ],
      "execution_count": 18,
      "outputs": [
        {
          "output_type": "stream",
          "text": [
            "DATA/fadg0/audio/sa1.wav\n",
            "(475, 13)\n",
            "DATA/fadg0/audio/sa2.wav\n",
            "(411, 13)\n",
            "DATA/fadg0/audio/si1279.wav\n",
            "(287, 13)\n",
            "DATA/fadg0/audio/si1909.wav\n",
            "(467, 13)\n",
            "DATA/fadg0/audio/si649.wav\n",
            "(863, 13)\n",
            "DATA/faks0/audio/sa1.wav\n",
            "(355, 13)\n",
            "DATA/faks0/audio/sa2.wav\n",
            "(323, 13)\n",
            "DATA/faks0/audio/si1573.wav\n",
            "(579, 13)\n",
            "DATA/faks0/audio/si2203.wav\n",
            "(323, 13)\n",
            "DATA/faks0/audio/si943.wav\n",
            "(391, 13)\n",
            "DATA/fcft0/audio/sa1.wav\n",
            "(403, 13)\n",
            "DATA/fcft0/audio/sa2.wav\n",
            "(331, 13)\n",
            "DATA/fcft0/audio/si1178.wav\n",
            "(543, 13)\n",
            "DATA/fcft0/audio/si1808.wav\n",
            "(447, 13)\n",
            "DATA/fcft0/audio/si548.wav\n",
            "(247, 13)\n",
            "DATA/fcmh0/audio/sa1.wav\n",
            "(387, 13)\n",
            "DATA/fcmh0/audio/sa2.wav\n",
            "(391, 13)\n",
            "DATA/fcmh0/audio/si1454.wav\n",
            "(507, 13)\n",
            "DATA/fcmh0/audio/si2084.wav\n",
            "(303, 13)\n",
            "DATA/fcmh0/audio/si824.wav\n",
            "(555, 13)\n",
            "DATA/mstk0/audio/sa1.wav\n",
            "(371, 13)\n",
            "DATA/mstk0/audio/sa2.wav\n",
            "(347, 13)\n",
            "DATA/mstk0/audio/si1024.wav\n",
            "(599, 13)\n",
            "DATA/mstk0/audio/si2222.wav\n",
            "(431, 13)\n",
            "DATA/mstk0/audio/si2284.wav\n",
            "(275, 13)\n",
            "DATA/mtas1/audio/sa1.wav\n",
            "(491, 13)\n",
            "DATA/mtas1/audio/sa2.wav\n",
            "(379, 13)\n",
            "DATA/mtas1/audio/si1473.wav\n",
            "(235, 13)\n",
            "DATA/mtas1/audio/si2098.wav\n",
            "(399, 13)\n",
            "DATA/mtas1/audio/si838.wav\n",
            "(347, 13)\n"
          ],
          "name": "stdout"
        }
      ]
    },
    {
      "cell_type": "markdown",
      "metadata": {
        "id": "UPF0TWzWik6s",
        "colab_type": "text"
      },
      "source": [
        "Pour évaluer notre modèle. Nous allons parcourir le vecteur de prediction obtenu en utilisant chaque modèle gmm pour chaque fichier wav dans chaque fichier locuteur test. En ensuite prendre le locuteur qui le score maximal par composante du vecteur de prediction. Nous nous retrouverons donc avec un vecteur composé du numéro de locuteur prédit pour chaque composante puis nous choisissons le locuteur le plus présent en procedant par vote."
      ]
    },
    {
      "cell_type": "code",
      "metadata": {
        "id": "3HmAZaQUUZPZ",
        "colab_type": "code",
        "outputId": "ae952ca1-8c9a-41a4-fd2c-ef344fdee2af",
        "colab": {
          "base_uri": "https://localhost:8080/",
          "height": 272
        }
      },
      "source": [
        "vl = 0 \n",
        "fl = 0\n",
        "\n",
        "models    = listgmm\n",
        "List = open(chemin_corpus+\"LISTS/locuteur3-test.lst\")\n",
        "for filename in List:\n",
        "    # pour chaque fichier de l'apprentissage de l'UBM\n",
        "    # 1. calcul des MFCC\n",
        "    print(filename.rstrip())\n",
        "    fech, audio = read(chemin_corpus + filename.rstrip())\n",
        "    features = get_MFCC(fech, audio)\n",
        "    scores     = None\n",
        "    listres = []\n",
        "    for i in range(len(models)):\n",
        "        gmm    = models[i]         #passage en revue des modeles un par un\n",
        "        scores = np.array(gmm.score_samples(features))\n",
        "        listres.append(scores)\n",
        "    j = []\n",
        "    for i in range (len(listres[0])):\n",
        "      j.append(np.argmax([k[i] for k in listres ]))\n",
        "    s = [j.count(i) for i in np.unique(j)]\n",
        "    winner = j[np.argmax(s)] + 1\n",
        "    if winner == 1:\n",
        "      vl = vl + 1\n",
        "    else:\n",
        "      fl = fl + 1\n",
        "    print(\"\\tdétecté comme - \", winner,\"\\n\")"
      ],
      "execution_count": 48,
      "outputs": [
        {
          "output_type": "stream",
          "text": [
            "DATA/fcft0/audio/sa1.wav\n",
            "\tdétecté comme -  1 \n",
            "\n",
            "DATA/fcft0/audio/sa2.wav\n",
            "\tdétecté comme -  1 \n",
            "\n",
            "DATA/fcft0/audio/si1178.wav\n",
            "\tdétecté comme -  1 \n",
            "\n",
            "DATA/fcft0/audio/si1808.wav\n",
            "\tdétecté comme -  1 \n",
            "\n",
            "DATA/fcft0/audio/si548.wav\n",
            "\tdétecté comme -  1 \n",
            "\n"
          ],
          "name": "stdout"
        }
      ]
    },
    {
      "cell_type": "markdown",
      "metadata": {
        "id": "S3khWdN-oQh5",
        "colab_type": "text"
      },
      "source": [
        "Nous remarquons que cette méthode ne nous permets pas d'évaluer nos modèles car la fonction score_samples() renvoie le meme vecteur pour chaque fichier wav en utilisant les différents modèles gaussian mixture.  \n",
        "Ceci ne nous permets donc pas d'évaluer notre modèle.\n",
        "Ceci n'a pas marché car nous stockons auparavant les modèles gmm et en les relisant ca ne marche pas. Pour résoudre cela nous allons creer les gmm dans la meme boucle on l'on évalue les modeles."
      ]
    },
    {
      "cell_type": "code",
      "metadata": {
        "id": "GsUfbf0q2MMq",
        "colab_type": "code",
        "colab": {
          "base_uri": "https://localhost:8080/",
          "height": 1000
        },
        "outputId": "b9b55c63-b1ad-4c83-eeb5-1aeea48e33f2"
      },
      "source": [
        "vl = 0 \n",
        "fl = 0\n",
        "for o in [1,2,3,4,5,6]:\n",
        "  List = open(chemin_corpus+\"LISTS/locuteur\"+str(o)+\"-test.lst\")\n",
        "  for filename in List:\n",
        "      # pour chaque fichier de l'apprentissage de l'UBM\n",
        "      # 1. calcul des MFCC\n",
        "      print(filename.rstrip())\n",
        "      fech, audio = read(chemin_corpus + filename.rstrip())\n",
        "      features = get_MFCC(fech, audio)\n",
        "      scores     = None\n",
        "      listres = []\n",
        "      for i,j in enumerate(listx):\n",
        "          gmm    = gmm_mllr_diag_cov(j, gmm, niter=10)       #passage en revue des modeles un par un\n",
        "          scores = np.array(gmm.score_samples(features))\n",
        "          listres.append(scores)\n",
        "      j = []\n",
        "      # determination du locuteur predit pour chaque composante des vecteurs de predictions \n",
        "      for i in range (len(listres[0])):    \n",
        "        j.append(np.argmax([k[i] for k in listres ]))\n",
        "      s = [j.count(i) for i in np.unique(j)] # determination du locuteur par vote\n",
        "      winner = j[np.argmax(s)] + 1\n",
        "      if winner == o:\n",
        "        vl = vl + 1 # bonne prediction\n",
        "      else:\n",
        "        fl = fl + 1 # mauvaise prediction\n",
        "      print(\"\\t Locuteur\",o,\"\\tdétecté comme - \", winner,\"\\n\")"
      ],
      "execution_count": 63,
      "outputs": [
        {
          "output_type": "stream",
          "text": [
            "DATA/fadg0/audio/sa1.wav\n",
            "\t Locuteur 1 \tdétecté comme -  1 \n",
            "\n",
            "DATA/fadg0/audio/sa2.wav\n",
            "\t Locuteur 1 \tdétecté comme -  4 \n",
            "\n",
            "DATA/fadg0/audio/si1279.wav\n",
            "\t Locuteur 1 \tdétecté comme -  4 \n",
            "\n",
            "DATA/fadg0/audio/si1909.wav\n",
            "\t Locuteur 1 \tdétecté comme -  3 \n",
            "\n",
            "DATA/fadg0/audio/si649.wav\n",
            "\t Locuteur 1 \tdétecté comme -  3 \n",
            "\n",
            "DATA/faks0/audio/sa1.wav\n",
            "\t Locuteur 2 \tdétecté comme -  3 \n",
            "\n",
            "DATA/faks0/audio/sa2.wav\n",
            "\t Locuteur 2 \tdétecté comme -  4 \n",
            "\n",
            "DATA/faks0/audio/si1573.wav\n",
            "\t Locuteur 2 \tdétecté comme -  1 \n",
            "\n",
            "DATA/faks0/audio/si2203.wav\n",
            "\t Locuteur 2 \tdétecté comme -  4 \n",
            "\n",
            "DATA/faks0/audio/si943.wav\n",
            "\t Locuteur 2 \tdétecté comme -  3 \n",
            "\n",
            "DATA/fcft0/audio/sa1.wav\n",
            "\t Locuteur 3 \tdétecté comme -  3 \n",
            "\n",
            "DATA/fcft0/audio/sa2.wav\n",
            "\t Locuteur 3 \tdétecté comme -  3 \n",
            "\n",
            "DATA/fcft0/audio/si1178.wav\n",
            "\t Locuteur 3 \tdétecté comme -  3 \n",
            "\n",
            "DATA/fcft0/audio/si1808.wav\n",
            "\t Locuteur 3 \tdétecté comme -  4 \n",
            "\n",
            "DATA/fcft0/audio/si548.wav\n",
            "\t Locuteur 3 \tdétecté comme -  6 \n",
            "\n",
            "DATA/fcmh0/audio/sa1.wav\n",
            "\t Locuteur 4 \tdétecté comme -  2 \n",
            "\n",
            "DATA/fcmh0/audio/sa2.wav\n",
            "\t Locuteur 4 \tdétecté comme -  4 \n",
            "\n",
            "DATA/fcmh0/audio/si1454.wav\n",
            "\t Locuteur 4 \tdétecté comme -  1 \n",
            "\n",
            "DATA/fcmh0/audio/si2084.wav\n",
            "\t Locuteur 4 \tdétecté comme -  2 \n",
            "\n",
            "DATA/fcmh0/audio/si824.wav\n",
            "\t Locuteur 4 \tdétecté comme -  3 \n",
            "\n",
            "DATA/mstk0/audio/sa1.wav\n",
            "\t Locuteur 5 \tdétecté comme -  2 \n",
            "\n",
            "DATA/mstk0/audio/sa2.wav\n",
            "\t Locuteur 5 \tdétecté comme -  5 \n",
            "\n",
            "DATA/mstk0/audio/si1024.wav\n",
            "\t Locuteur 5 \tdétecté comme -  5 \n",
            "\n",
            "DATA/mstk0/audio/si2222.wav\n",
            "\t Locuteur 5 \tdétecté comme -  1 \n",
            "\n",
            "DATA/mstk0/audio/si2284.wav\n",
            "\t Locuteur 5 \tdétecté comme -  5 \n",
            "\n",
            "DATA/mtas1/audio/sa1.wav\n",
            "\t Locuteur 6 \tdétecté comme -  6 \n",
            "\n",
            "DATA/mtas1/audio/sa2.wav\n",
            "\t Locuteur 6 \tdétecté comme -  6 \n",
            "\n",
            "DATA/mtas1/audio/si1473.wav\n",
            "\t Locuteur 6 \tdétecté comme -  6 \n",
            "\n",
            "DATA/mtas1/audio/si2098.wav\n",
            "\t Locuteur 6 \tdétecté comme -  6 \n",
            "\n",
            "DATA/mtas1/audio/si838.wav\n",
            "\t Locuteur 6 \tdétecté comme -  6 \n",
            "\n"
          ],
          "name": "stdout"
        }
      ]
    },
    {
      "cell_type": "code",
      "metadata": {
        "id": "8w0ouURh5Qpw",
        "colab_type": "code",
        "colab": {}
      },
      "source": [
        "### l'accuracy du modèle vaut:\n",
        "acc = vl / (vl + fl)"
      ],
      "execution_count": 0,
      "outputs": []
    },
    {
      "cell_type": "code",
      "metadata": {
        "id": "2MthJcN16b5x",
        "colab_type": "code",
        "colab": {
          "base_uri": "https://localhost:8080/",
          "height": 34
        },
        "outputId": "f42445cb-4cec-4cc3-90ea-b2e3a4d6b6be"
      },
      "source": [
        "acc"
      ],
      "execution_count": 65,
      "outputs": [
        {
          "output_type": "execute_result",
          "data": {
            "text/plain": [
              "0.43333333333333335"
            ]
          },
          "metadata": {
            "tags": []
          },
          "execution_count": 65
        }
      ]
    },
    {
      "cell_type": "markdown",
      "metadata": {
        "id": "WKv_q6176dzY",
        "colab_type": "text"
      },
      "source": [
        "Nous avons une accuracy de 43% selon cette méthode d'évaluation"
      ]
    },
    {
      "cell_type": "markdown",
      "metadata": {
        "id": "2XO7THgg7M3n",
        "colab_type": "text"
      },
      "source": [
        "Une seconde facon d'évaluer nos modèles est de parcourir chaque fichier wav de chaque liste test de locuteurs et pour chaque gmm nous enregistrons la somme des composantes du vecteur predit et ensuite nous choisissons comme locuteur produit celui dont le gmm associé maximise cette somme des composantes du vecteur obtenu avec la fonction score_samples() (aulieu de determiner l'argmax par composante et voter comme fait précedemment). \n",
        "Ceci reviendrait à utiliser la meme méthode d'évaluation utilisée au TP1. Le code suivant nous permet de réaliser cela: "
      ]
    },
    {
      "cell_type": "code",
      "metadata": {
        "id": "E7zGpCBA7NHO",
        "colab_type": "code",
        "colab": {
          "base_uri": "https://localhost:8080/",
          "height": 1000
        },
        "outputId": "fd7cd2f1-7538-49d9-a6e6-47669682bccb"
      },
      "source": [
        "vl = 0 \n",
        "fl = 0\n",
        "for o in [1,2,3,4,5,6]:\n",
        "  List = open(chemin_corpus+\"LISTS/locuteur\"+str(o)+\"-test.lst\")\n",
        "  for filename in List:\n",
        "      # pour chaque fichier de l'apprentissage de l'UBM\n",
        "      # 1. calcul des MFCC\n",
        "      print(filename.rstrip())\n",
        "      fech, audio = read(chemin_corpus + filename.rstrip())\n",
        "      features = get_MFCC(fech, audio)\n",
        "      scores     = None\n",
        "      listres = []\n",
        "      for i,j in enumerate(listx):\n",
        "          gmm    = gmm_mllr_diag_cov(j, gmm, niter=10)       #passage en revue des modeles un par un\n",
        "          scores = np.array(gmm.score_samples(features))\n",
        "          listres.append(scores.sum())\n",
        "      # determination du locuteur predit pour chaque composante des vecteurs de predictions \n",
        "      winner = np.argmax(listres) + 1\n",
        "      if winner == o:\n",
        "        vl = vl + 1 # bonne prediction\n",
        "      else:\n",
        "        fl = fl + 1 # mauvaise prediction\n",
        "      print(\"\\t Locuteur\",o,\"\\tdétecté comme - \", winner,\"\\n\")"
      ],
      "execution_count": 68,
      "outputs": [
        {
          "output_type": "stream",
          "text": [
            "DATA/fadg0/audio/sa1.wav\n",
            "\t Locuteur 1 \tdétecté comme -  1 \n",
            "\n",
            "DATA/fadg0/audio/sa2.wav\n",
            "\t Locuteur 1 \tdétecté comme -  1 \n",
            "\n",
            "DATA/fadg0/audio/si1279.wav\n",
            "\t Locuteur 1 \tdétecté comme -  1 \n",
            "\n",
            "DATA/fadg0/audio/si1909.wav\n",
            "\t Locuteur 1 \tdétecté comme -  1 \n",
            "\n",
            "DATA/fadg0/audio/si649.wav\n",
            "\t Locuteur 1 \tdétecté comme -  1 \n",
            "\n",
            "DATA/faks0/audio/sa1.wav\n",
            "\t Locuteur 2 \tdétecté comme -  2 \n",
            "\n",
            "DATA/faks0/audio/sa2.wav\n",
            "\t Locuteur 2 \tdétecté comme -  2 \n",
            "\n",
            "DATA/faks0/audio/si1573.wav\n",
            "\t Locuteur 2 \tdétecté comme -  4 \n",
            "\n",
            "DATA/faks0/audio/si2203.wav\n",
            "\t Locuteur 2 \tdétecté comme -  2 \n",
            "\n",
            "DATA/faks0/audio/si943.wav\n",
            "\t Locuteur 2 \tdétecté comme -  2 \n",
            "\n",
            "DATA/fcft0/audio/sa1.wav\n",
            "\t Locuteur 3 \tdétecté comme -  3 \n",
            "\n",
            "DATA/fcft0/audio/sa2.wav\n",
            "\t Locuteur 3 \tdétecté comme -  3 \n",
            "\n",
            "DATA/fcft0/audio/si1178.wav\n",
            "\t Locuteur 3 \tdétecté comme -  3 \n",
            "\n",
            "DATA/fcft0/audio/si1808.wav\n",
            "\t Locuteur 3 \tdétecté comme -  3 \n",
            "\n",
            "DATA/fcft0/audio/si548.wav\n",
            "\t Locuteur 3 \tdétecté comme -  4 \n",
            "\n",
            "DATA/fcmh0/audio/sa1.wav\n",
            "\t Locuteur 4 \tdétecté comme -  4 \n",
            "\n",
            "DATA/fcmh0/audio/sa2.wav\n",
            "\t Locuteur 4 \tdétecté comme -  4 \n",
            "\n",
            "DATA/fcmh0/audio/si1454.wav\n",
            "\t Locuteur 4 \tdétecté comme -  1 \n",
            "\n",
            "DATA/fcmh0/audio/si2084.wav\n",
            "\t Locuteur 4 \tdétecté comme -  4 \n",
            "\n",
            "DATA/fcmh0/audio/si824.wav\n",
            "\t Locuteur 4 \tdétecté comme -  4 \n",
            "\n",
            "DATA/mstk0/audio/sa1.wav\n",
            "\t Locuteur 5 \tdétecté comme -  5 \n",
            "\n",
            "DATA/mstk0/audio/sa2.wav\n",
            "\t Locuteur 5 \tdétecté comme -  5 \n",
            "\n",
            "DATA/mstk0/audio/si1024.wav\n",
            "\t Locuteur 5 \tdétecté comme -  5 \n",
            "\n",
            "DATA/mstk0/audio/si2222.wav\n",
            "\t Locuteur 5 \tdétecté comme -  5 \n",
            "\n",
            "DATA/mstk0/audio/si2284.wav\n",
            "\t Locuteur 5 \tdétecté comme -  5 \n",
            "\n",
            "DATA/mtas1/audio/sa1.wav\n",
            "\t Locuteur 6 \tdétecté comme -  6 \n",
            "\n",
            "DATA/mtas1/audio/sa2.wav\n",
            "\t Locuteur 6 \tdétecté comme -  6 \n",
            "\n",
            "DATA/mtas1/audio/si1473.wav\n",
            "\t Locuteur 6 \tdétecté comme -  6 \n",
            "\n",
            "DATA/mtas1/audio/si2098.wav\n",
            "\t Locuteur 6 \tdétecté comme -  6 \n",
            "\n",
            "DATA/mtas1/audio/si838.wav\n",
            "\t Locuteur 6 \tdétecté comme -  6 \n",
            "\n"
          ],
          "name": "stdout"
        }
      ]
    },
    {
      "cell_type": "code",
      "metadata": {
        "id": "1imJzhEa-Jm7",
        "colab_type": "code",
        "colab": {}
      },
      "source": [
        "### l'accuracy du modèle vaut:\n",
        "acc = vl / (vl + fl)"
      ],
      "execution_count": 0,
      "outputs": []
    },
    {
      "cell_type": "code",
      "metadata": {
        "id": "FH5QR4xM-LHC",
        "colab_type": "code",
        "colab": {
          "base_uri": "https://localhost:8080/",
          "height": 34
        },
        "outputId": "1d00cde8-17f4-4870-9b93-a4a0bfa5d0e5"
      },
      "source": [
        "acc"
      ],
      "execution_count": 70,
      "outputs": [
        {
          "output_type": "execute_result",
          "data": {
            "text/plain": [
              "0.9"
            ]
          },
          "metadata": {
            "tags": []
          },
          "execution_count": 70
        }
      ]
    },
    {
      "cell_type": "markdown",
      "metadata": {
        "id": "avxEEaUD-Mk2",
        "colab_type": "text"
      },
      "source": [
        "Cette méthode d'évaluation nous donne une accuracy de 90%"
      ]
    },
    {
      "cell_type": "markdown",
      "metadata": {
        "id": "IvBEn7dVp0zN",
        "colab_type": "text"
      },
      "source": [
        "Une autre facon d'évaluer le modèle consiste à construire un seul vecteur pour chaque fichier locuteur (comme on a construit les vecteurs d'entrainement des gmm)aulieu de parcourir tous les fichiers wav de chaque locuteur.\n",
        "Ainsi pour chaque fichier test locuteur nous évaluons le modèle en choisissant celui qui maximise le score de prediction. \n",
        "\n",
        "L'interet de cette méthode est qu'elle nous donne une information plus globale sur la qualité de prediction en fonction du locuteur. elle nous permets de donner une interpretation plus generale en fonction des locuteurs"
      ]
    },
    {
      "cell_type": "code",
      "metadata": {
        "id": "8uN_9E9YVdRE",
        "colab_type": "code",
        "colab": {
          "base_uri": "https://localhost:8080/",
          "height": 221
        },
        "outputId": "f049bb5c-5189-4fbf-b7d2-d237f4deb583"
      },
      "source": [
        "#### Méthode avec constructions des xtest comme lors de la phase d'entrainement\n",
        "vl = 0 \n",
        "fl = 0\n",
        "List = listtestx\n",
        "for i,filename in enumerate(List):\n",
        "    log_likelihood = []\n",
        "    for j in (listx):\n",
        "        gmm    = gmm_mllr_diag_cov(j, gmm, niter=10)       #passage en revue des modeles un par un\n",
        "        scores = np.array(gmm.score(filename))\n",
        "        log_likelihood.append(scores)\n",
        "    winner = np.argmax(log_likelihood) + 1\n",
        "    if winner == i+1:\n",
        "      vl = vl + 1\n",
        "    else:\n",
        "      fl = fl + 1\n",
        "    print(\"\\tlocuteur\", i+1,\"\\tdétecté comme - \", winner,\"\\n\")"
      ],
      "execution_count": 72,
      "outputs": [
        {
          "output_type": "stream",
          "text": [
            "\tlocuteur 1 \tdétecté comme -  1 \n",
            "\n",
            "\tlocuteur 2 \tdétecté comme -  2 \n",
            "\n",
            "\tlocuteur 3 \tdétecté comme -  3 \n",
            "\n",
            "\tlocuteur 4 \tdétecté comme -  4 \n",
            "\n",
            "\tlocuteur 5 \tdétecté comme -  5 \n",
            "\n",
            "\tlocuteur 6 \tdétecté comme -  6 \n",
            "\n"
          ],
          "name": "stdout"
        }
      ]
    },
    {
      "cell_type": "code",
      "metadata": {
        "id": "yTF-iLQQtS0f",
        "colab_type": "code",
        "colab": {}
      },
      "source": [
        "### l'accuracy du modèle vaut:\n",
        "acc = vl / (vl + fl)"
      ],
      "execution_count": 0,
      "outputs": []
    },
    {
      "cell_type": "code",
      "metadata": {
        "id": "9Du4bakFAJBI",
        "colab_type": "code",
        "colab": {
          "base_uri": "https://localhost:8080/",
          "height": 34
        },
        "outputId": "daed4a27-4e58-4b5a-d9c1-75decee59ec8"
      },
      "source": [
        "acc"
      ],
      "execution_count": 74,
      "outputs": [
        {
          "output_type": "execute_result",
          "data": {
            "text/plain": [
              "1.0"
            ]
          },
          "metadata": {
            "tags": []
          },
          "execution_count": 74
        }
      ]
    },
    {
      "cell_type": "markdown",
      "metadata": {
        "id": "tc2CxhcUAKbu",
        "colab_type": "text"
      },
      "source": [
        "Cette derniere méthode nous donne une accuracy de 1. \n",
        "L'interpretation que nous pouvons en faire qu'en général notre modèle classifie bien les locuteurs. Il se trompe peut etre parfois mais generalement ca marche bien. \n",
        "\n",
        "Ce qui est confirmé par notre deuxieme méthode d'évaluation car nous voyons qu'on se trompe une fois seulement sur 5 à chaque fois sur les enregistrements des locuteurs (2,3,4) et 0 fois sur le reste. \n",
        "\n",
        "On peut donc dire que globalement notre modèle classifie bien les différents locuteurs"
      ]
    }
  ]
}