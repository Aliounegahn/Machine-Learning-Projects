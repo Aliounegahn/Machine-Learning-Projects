{
 "cells": [
  {
   "cell_type": "markdown",
   "metadata": {},
   "source": [
    "## GAHN Alioune\n",
    "## DIALLO Aicha"
   ]
  },
  {
   "cell_type": "code",
   "execution_count": null,
   "metadata": {},
   "outputs": [],
   "source": [
    "import pandas as pd\n",
    "import numpy as np"
   ]
  },
  {
   "cell_type": "code",
   "execution_count": 6,
   "metadata": {},
   "outputs": [],
   "source": [
    "text1 =  'A chaque ville, son explication. Les gares sur l’axe Atlantique (Toulouse, Tours et Bordeaux) ont par exemple été touchées par les travaux de la LGV Sud-Europe Atlantique, reliant Paris à Bordeaux en 2h, inaugurée au début du mois de juillet. Toulouse, relié à Paris via Bordeaux en TGV, a donc fait les frais de cette entreprise, débutée en 2012.'"
   ]
  },
  {
   "cell_type": "code",
   "execution_count": 7,
   "metadata": {},
   "outputs": [],
   "source": [
    "def cleantext(text):\n",
    "    text = \"\".join([x if (x.isalpha() ) else \" \" for x in text])\n",
    "    text = \" \".join(text.split())\n",
    "    return text"
   ]
  },
  {
   "cell_type": "code",
   "execution_count": 8,
   "metadata": {},
   "outputs": [],
   "source": [
    "text1 =cleantext(text1)"
   ]
  },
  {
   "cell_type": "markdown",
   "metadata": {},
   "source": [
    "**question 1 :** Faisons un script permettant de calculer la frequence entre deux mots avec une fenetre glissante. ici la taille \n",
    "de la fenetre vaut 5"
   ]
  },
  {
   "cell_type": "code",
   "execution_count": 9,
   "metadata": {},
   "outputs": [],
   "source": [
    "n = 5\n",
    "words = text1.split(' ')\n",
    "f=[]\n",
    "for i in range(len(words)-n+1):\n",
    "    f.append(words[i:i+n])"
   ]
  },
  {
   "cell_type": "code",
   "execution_count": 11,
   "metadata": {},
   "outputs": [],
   "source": [
    "# Permet de calculer la frequence entre deux mots dans un fenetre\n",
    "def calculproba (mots1, mots2, f):\n",
    "    s = 0\n",
    "    for k in f:\n",
    "        if (mots1 in k) and (mots2 in k):\n",
    "            s = s+1 \n",
    "    return s/ len(f)\n",
    "    "
   ]
  },
  {
   "cell_type": "code",
   "execution_count": 12,
   "metadata": {},
   "outputs": [],
   "source": [
    "# Permet de calculer la frequence d'un mots dans un fenetre\n",
    "def calculproba_m (mots2, f):\n",
    "    s = 0\n",
    "    for k in f:\n",
    "        if (mots2 in k):\n",
    "            s = s+1 \n",
    "    return s/ len(f)"
   ]
  },
  {
   "cell_type": "code",
   "execution_count": 13,
   "metadata": {},
   "outputs": [
    {
     "data": {
      "text/plain": [
       "0.03571428571428571"
      ]
     },
     "execution_count": 13,
     "metadata": {},
     "output_type": "execute_result"
    }
   ],
   "source": [
    "calculproba('Toulouse','Bordeaux', f)"
   ]
  },
  {
   "cell_type": "markdown",
   "metadata": {},
   "source": [
    "**question 2)** Faisons un script permettant de calculer le ppmi entre tous les mots "
   ]
  },
  {
   "cell_type": "code",
   "execution_count": 14,
   "metadata": {},
   "outputs": [],
   "source": [
    "def calculppmi (words,f):\n",
    "    ppmi = {}\n",
    "    for i,k in enumerate(np.unique(words)):\n",
    "        ppmi[i] = []\n",
    "        for j in words:\n",
    "            if (calculproba (k, j, f))== 0:\n",
    "                ppmi[i].append( 0)\n",
    "            else:\n",
    "                lol = np.log(calculproba (k, j, f)/ (calculproba_m (k, f)*calculproba_m (j, f)))\n",
    "                if lol > 0:\n",
    "                    ppmi[i].append( lol)\n",
    "                else:\n",
    "                    ppmi[i].append( 0)\n",
    "    return(ppmi)"
   ]
  },
  {
   "cell_type": "code",
   "execution_count": 27,
   "metadata": {},
   "outputs": [
    {
     "data": {
      "text/plain": [
       "-0.29213642280116114"
      ]
     },
     "execution_count": 27,
     "metadata": {},
     "output_type": "execute_result"
    }
   ],
   "source": [
    "np.log(calculproba ('Toulouse', 'Bordeaux', f)/ (calculproba_m ('Toulouse', f)*calculproba_m ('Bordeaux', f)))"
   ]
  },
  {
   "cell_type": "code",
   "execution_count": 16,
   "metadata": {},
   "outputs": [],
   "source": [
    "ppmi =calculppmi(words,f)"
   ]
  },
  {
   "cell_type": "code",
   "execution_count": 28,
   "metadata": {},
   "outputs": [],
   "source": [
    "# Permets de le dictionnaire obtenu precedemment sous forme de matrice\n",
    "def transform_matrxi(dico):\n",
    "    s= []\n",
    "    for k in dico.keys(): \n",
    "        s.append(dico[k])\n",
    "    return(s)"
   ]
  },
  {
   "cell_type": "code",
   "execution_count": 18,
   "metadata": {},
   "outputs": [],
   "source": [
    "ppmi_mat = transform_matrxi(ppmi)"
   ]
  },
  {
   "cell_type": "code",
   "execution_count": 19,
   "metadata": {},
   "outputs": [
    {
     "data": {
      "text/plain": [
       "{'Bordeaux': 2, 'LGV': 4, 'TGV': 8, 'Toulouse': 9, 'Tours': 10}"
      ]
     },
     "execution_count": 19,
     "metadata": {},
     "output_type": "execute_result"
    }
   ],
   "source": [
    "dic ={}\n",
    "for i,k in enumerate(np.unique(words)):\n",
    "    if k in ['Toulouse', 'Bordeaux', 'TGV', 'LGV','Tours']:\n",
    "        dic[k] = i\n",
    "dic"
   ]
  },
  {
   "cell_type": "code",
   "execution_count": 34,
   "metadata": {},
   "outputs": [
    {
     "data": {
      "text/plain": [
       "array(['A', 'Atlantique', 'Bordeaux', 'Europe', 'LGV', 'Les', 'Paris',\n",
       "       'Sud', 'TGV', 'Toulouse', 'Tours', 'a', 'au', 'axe', 'cette',\n",
       "       'chaque', 'de', 'donc', 'du', 'début', 'débutée', 'en',\n",
       "       'entreprise', 'et', 'exemple', 'explication', 'fait', 'frais',\n",
       "       'gares', 'h', 'inaugurée', 'juillet', 'l', 'la', 'les', 'mois',\n",
       "       'ont', 'par', 'reliant', 'relié', 'son', 'sur', 'touchées',\n",
       "       'travaux', 'via', 'ville', 'à', 'été'], dtype='<U11')"
      ]
     },
     "execution_count": 34,
     "metadata": {},
     "output_type": "execute_result"
    }
   ],
   "source": [
    "np.unique(words)"
   ]
  },
  {
   "cell_type": "markdown",
   "metadata": {},
   "source": [
    "**question 3)** Projettons le résultat pour les mots dans deux dimensions en utilisant une PCA"
   ]
  },
  {
   "cell_type": "code",
   "execution_count": 57,
   "metadata": {},
   "outputs": [
    {
     "data": {
      "image/png": "[encoded data removed]",
      "text/plain": [
       "<Figure size 432x288 with 1 Axes>"
      ]
     },
     "metadata": {
      "needs_background": "light"
     },
     "output_type": "display_data"
    }
   ],
   "source": [
    "import matplotlib.pyplot as plt\n",
    "from sklearn.decomposition import PCA\n",
    "\n",
    "X = np.array(ppmi_mat)\n",
    "pca = PCA(n_components=2)\n",
    "Xp = pca.fit_transform(X)\n",
    "\n",
    "villes = [2,9,10]\n",
    "train = [4,8]\n",
    "\n",
    "\n",
    "plt.plot([x[0] for x in Xp[villes]],[x[1] for x in Xp[villes]], 'ro')\n",
    "plt.plot([x[0] for x in Xp[train]],[x[1] for x in Xp[train]], 'bx')\n",
    "plt.axis([-3, 1, -3, 1])\n",
    "plt.show()"
   ]
  },
  {
   "cell_type": "markdown",
   "metadata": {},
   "source": [
    "**question 4)** Oui les points vont se deplacer car on a pas les memes frequences"
   ]
  },
  {
   "cell_type": "markdown",
   "metadata": {},
   "source": [
    "**question 5-6)** Faisons la meme chose en utilisant wordnet sur les jours de semaine et les mois de l'année"
   ]
  },
  {
   "cell_type": "code",
   "execution_count": 39,
   "metadata": {},
   "outputs": [
    {
     "name": "stdout",
     "output_type": "stream",
     "text": [
      "[nltk_data] Downloading package wordnet to\n",
      "[nltk_data]     /home/sid2018-1/nltk_data...\n",
      "[nltk_data]   Package wordnet is already up-to-date!\n"
     ]
    },
    {
     "data": {
      "text/plain": [
       "True"
      ]
     },
     "execution_count": 39,
     "metadata": {},
     "output_type": "execute_result"
    }
   ],
   "source": [
    "import nltk\n",
    "nltk.download('wordnet')"
   ]
  },
  {
   "cell_type": "code",
   "execution_count": 40,
   "metadata": {},
   "outputs": [],
   "source": [
    "from nltk.corpus import wordnet\n",
    "six = ['monday','tuesday','wednesday','thursday','friday','saturday','sunday','january','february','march','april','may','june','july','august','september','october','november','december']\n",
    "def wornet (words):\n",
    "    ppmi = {}\n",
    "    for k in (words):\n",
    "        ppmi[k] = []\n",
    "        for j in words:\n",
    "            lol = wordnet.synsets(k)[0].path_similarity(wordnet.synsets(j)[0])\n",
    "            ppmi[k].append(lol)\n",
    "    return(ppmi)"
   ]
  },
  {
   "cell_type": "code",
   "execution_count": 41,
   "metadata": {},
   "outputs": [],
   "source": [
    "w =wornet(six)"
   ]
  },
  {
   "cell_type": "code",
   "execution_count": 42,
   "metadata": {},
   "outputs": [
    {
     "data": {
      "text/plain": [
       "{'monday': 0, 'tuesday': 1, 'january': 7, 'december': 18}"
      ]
     },
     "execution_count": 42,
     "metadata": {},
     "output_type": "execute_result"
    }
   ],
   "source": [
    "dic ={}\n",
    "for i,k in enumerate(w):\n",
    "    if k in ['monday', 'tuesday', 'january', 'december']:\n",
    "        dic[k] = i\n",
    "dic"
   ]
  },
  {
   "cell_type": "code",
   "execution_count": 29,
   "metadata": {},
   "outputs": [],
   "source": [
    "# Transformons le dictionnaire obtenu precedemment en matrice\n",
    "def transform_matrxi(dico):\n",
    "    s= []\n",
    "    for k in dico.keys(): \n",
    "        s.append(dico[k])\n",
    "    return(s)"
   ]
  },
  {
   "cell_type": "code",
   "execution_count": 44,
   "metadata": {},
   "outputs": [],
   "source": [
    "s1 = transform_matrxi(w)"
   ]
  },
  {
   "cell_type": "code",
   "execution_count": 50,
   "metadata": {},
   "outputs": [
    {
     "data": {
      "image/png": "[encoded data removed]",
      "text/plain": [
       "<Figure size 432x288 with 1 Axes>"
      ]
     },
     "metadata": {
      "needs_background": "light"
     },
     "output_type": "display_data"
    }
   ],
   "source": [
    "X = np.array(s1)\n",
    "pca = PCA(n_components=2)\n",
    "Xp = pca.fit_transform(X)\n",
    "\n",
    "day = [0,1]\n",
    "month = [7,18]\n",
    "\n",
    "\n",
    "plt.plot([x[0] for x in Xp[day]],[x[1] for x in Xp[day]], 'ro')\n",
    "plt.plot([x[0] for x in Xp[month]],[x[1] for x in Xp[month]], 'bx')\n",
    "plt.axis([-10, 5, -10, 5])\n",
    "plt.show()"
   ]
  },
  {
   "cell_type": "markdown",
   "metadata": {},
   "source": [
    "Lorsque nous faisons la projection sur deux dimensions nous remarquons que les jours de semaine sont rassemblés aux même \n",
    "endroits(en bleu) ainsi que les mois de l'année (en rouge) "
   ]
  },
  {
   "cell_type": "markdown",
   "metadata": {},
   "source": [
    "#### Question 7): Words Embeddings"
   ]
  },
  {
   "cell_type": "code",
   "execution_count": 58,
   "metadata": {},
   "outputs": [],
   "source": [
    "# Chargeons le modèle Pré-entrainé\n",
    "embeddings_index = dict()\n",
    "f = open('/home/sid2018-1/Téléchargements/glove.6B.50d.txt')\n",
    "for line in f:\n",
    "    values = line.split()\n",
    "    word = values[0]\n",
    "    coefs = np.asarray(values[1:], dtype='float32')\n",
    "    embeddings_index[word] = coefs\n",
    "f.close()"
   ]
  },
  {
   "cell_type": "code",
   "execution_count": 59,
   "metadata": {},
   "outputs": [],
   "source": [
    "w2v =embeddings_index"
   ]
  },
  {
   "cell_type": "markdown",
   "metadata": {},
   "source": [
    "Calculons le vecteur comme demandé"
   ]
  },
  {
   "cell_type": "code",
   "execution_count": 64,
   "metadata": {},
   "outputs": [],
   "source": [
    "vect = w2v['paris'] - w2v['france'] + w2v['italy']"
   ]
  },
  {
   "cell_type": "code",
   "execution_count": 65,
   "metadata": {},
   "outputs": [
    {
     "data": {
      "text/plain": [
       "array([ 1.8745801 ,  0.10496998, -1.03622   ,  0.25106996,  0.22431102,\n",
       "       -1.138022  , -0.382536  , -0.24625999, -1.66036   ,  0.265395  ,\n",
       "        0.01822996, -0.9849601 , -0.82812995,  0.19924003,  1.26399   ,\n",
       "       -0.58509004, -0.65232396,  0.36294997, -0.76094997,  0.58698   ,\n",
       "        1.059536  ,  0.43135995, -0.98424995,  1.0534599 , -0.07415444,\n",
       "       -0.7853    ,  0.24133   ,  0.13991   , -1.066     , -0.16579002,\n",
       "        2.1221998 ,  0.47884002, -0.08396003, -0.31962   , -0.51839   ,\n",
       "       -0.09081994,  0.23820001,  1.25531   ,  0.27991003,  0.27306002,\n",
       "       -0.17276993, -0.04297298,  0.6049999 , -0.63269997, -0.14311601,\n",
       "        0.58087504, -0.05184001, -1.03605   ,  0.99171   , -0.65349996],\n",
       "      dtype=float32)"
      ]
     },
     "execution_count": 65,
     "metadata": {},
     "output_type": "execute_result"
    }
   ],
   "source": [
    "vect"
   ]
  },
  {
   "cell_type": "code",
   "execution_count": 85,
   "metadata": {},
   "outputs": [],
   "source": [
    "# Mettons tous les capitaux dans une meme liste\n",
    "capi = \"Tirana,Vienna,Minsk,Brussels,Sarajevo,Sofia,Zagreb,Nicosia,Prague,Copenhagen,Tallinn,Helsinki,Paris,Berlin,Gibraltar,Athens,Budapest,Reykjavik,Dublin,Douglas,Rome,Riga,Vaduz,Vilnius,Luxembourg,Skopje,Valletta,Monaco,Podgorica,Amsterdam,Oslo,Warsaw,Lisbon,Bucharest,Moscow,Belgrade,Bratislava,Ljubljana,Madrid,Stockholm,Bern,Kiev,London\"\n",
    "capi = [x.lower() for x in capi.split(',')]"
   ]
  },
  {
   "cell_type": "code",
   "execution_count": 30,
   "metadata": {},
   "outputs": [],
   "source": [
    "# Fonction pour calculer la similarité cosinus\n",
    "from scipy import spatial\n",
    "def simi(v1, vect):\n",
    "    return 1 - spatial.distance.cosine(w2v[v1],vect)"
   ]
  },
  {
   "cell_type": "code",
   "execution_count": 87,
   "metadata": {},
   "outputs": [],
   "source": [
    "# Calculons les similarités entre les capitaux et le vecteur calculé\n",
    "listesim = [simi(val,vect) for val in capi]"
   ]
  },
  {
   "cell_type": "code",
   "execution_count": 88,
   "metadata": {},
   "outputs": [
    {
     "data": {
      "text/plain": [
       "43"
      ]
     },
     "execution_count": 88,
     "metadata": {},
     "output_type": "execute_result"
    }
   ],
   "source": [
    "len(capi)"
   ]
  },
  {
   "cell_type": "raw",
   "metadata": {},
   "source": [
    "Maintenant Ordenons la liste en allant du plus similaire au moins similaire"
   ]
  },
  {
   "cell_type": "code",
   "execution_count": 89,
   "metadata": {},
   "outputs": [],
   "source": [
    "odr = []\n",
    "k = len(capi)\n",
    "while (k >= 1):\n",
    "    for i,j in enumerate(listesim): \n",
    "        if j == max(listesim):\n",
    "            odr.append(capi[i])\n",
    "            del listesim[i]\n",
    "            del capi[i]\n",
    "            k = k-1\n",
    "    \n",
    "        "
   ]
  },
  {
   "cell_type": "code",
   "execution_count": 92,
   "metadata": {},
   "outputs": [
    {
     "data": {
      "text/plain": [
       "['rome',\n",
       " 'paris',\n",
       " 'madrid',\n",
       " 'amsterdam',\n",
       " 'lisbon',\n",
       " 'budapest',\n",
       " 'berlin',\n",
       " 'prague',\n",
       " 'vienna',\n",
       " 'brussels',\n",
       " 'stockholm',\n",
       " 'bucharest',\n",
       " 'athens',\n",
       " 'sofia',\n",
       " 'copenhagen',\n",
       " 'luxembourg',\n",
       " 'london',\n",
       " 'monaco',\n",
       " 'moscow',\n",
       " 'bratislava',\n",
       " 'helsinki',\n",
       " 'ljubljana',\n",
       " 'kiev',\n",
       " 'bern',\n",
       " 'tirana',\n",
       " 'nicosia',\n",
       " 'warsaw',\n",
       " 'tallinn',\n",
       " 'belgrade',\n",
       " 'dublin',\n",
       " 'vilnius',\n",
       " 'minsk',\n",
       " 'zagreb',\n",
       " 'riga',\n",
       " 'oslo',\n",
       " 'skopje',\n",
       " 'reykjavik',\n",
       " 'vaduz',\n",
       " 'gibraltar',\n",
       " 'valletta',\n",
       " 'podgorica',\n",
       " 'sarajevo',\n",
       " 'douglas']"
      ]
     },
     "execution_count": 92,
     "metadata": {},
     "output_type": "execute_result"
    }
   ],
   "source": [
    "odr"
   ]
  },
  {
   "cell_type": "markdown",
   "metadata": {},
   "source": [
    "#### Oui on note des régularités. La méthode nous dit que le vecteur représentant Rome est plus proche du vecteur resultant de l'opération 'Paris' - 'France' + 'Italy', Ce qui est plausible"
   ]
  }
 ],
 "metadata": {
  "kernelspec": {
   "display_name": "Python 3",
   "language": "python",
   "name": "python3"
  },
  "language_info": {
   "codemirror_mode": {
    "name": "ipython",
    "version": 3
   },
   "file_extension": ".py",
   "mimetype": "text/x-python",
   "name": "python",
   "nbconvert_exporter": "python",
   "pygments_lexer": "ipython3",
   "version": "3.7.0"
  }
 },
 "nbformat": 4,
 "nbformat_minor": 2
}
