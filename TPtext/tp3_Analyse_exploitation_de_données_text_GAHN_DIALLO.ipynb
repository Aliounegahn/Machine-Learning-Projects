{
 "cells": [
  {
   "cell_type": "markdown",
   "metadata": {},
   "source": [
    "## GAHN Alioune\n",
    "## DIALLO Aicha"
   ]
  },
  {
   "cell_type": "markdown",
   "metadata": {},
   "source": [
    "Pour évaluer, la commande ``java -jar rouge2-1.2.1.jar `` marche trés bien sur le terminal en se placant dans la directory correspondante"
   ]
  },
  {
   "cell_type": "markdown",
   "metadata": {},
   "source": [
    "##### Inspectons le dossier topics"
   ]
  },
  {
   "cell_type": "code",
   "execution_count": 1,
   "metadata": {},
   "outputs": [],
   "source": [
    "def rdfiles(chemin):\n",
    "    text_file = open(\"/home/sid2018-1/Bureau/Critiques/projects/test-summarization/topics/\"+ chemin, \"r\", encoding = 'ISO 8859-1')\n",
    "    lines1 = text_file.readlines()\n",
    "    text_file.close()\n",
    "    return(lines1)\n",
    "    "
   ]
  },
  {
   "cell_type": "markdown",
   "metadata": {},
   "source": [
    "**Lecture de chaque document**"
   ]
  },
  {
   "cell_type": "code",
   "execution_count": 2,
   "metadata": {},
   "outputs": [],
   "source": [
    "f1 = rdfiles(\"battery-life_netbook_1005ha.txt.data\")\n",
    "f2 = rdfiles(\"price_amazon_kindle.txt.data\")\n",
    "f3 = rdfiles(\"room_holiday_inn_london.txt.data\")\n",
    "f4 = rdfiles(\"sound_ipod_nano_8gb.txt.data\")\n",
    "f5 = rdfiles(\"speed_windows7.txt.data\")"
   ]
  },
  {
   "cell_type": "markdown",
   "metadata": {},
   "source": [
    "**Nettoyage des documents**"
   ]
  },
  {
   "cell_type": "code",
   "execution_count": 3,
   "metadata": {},
   "outputs": [],
   "source": [
    "def sentense2cleanTokens(sent):\n",
    "    sent = \"\".join([x if (x.isalpha() or x.isnumeric() ) else \" \" for x in sent])\n",
    "    sent = \" \".join(sent.split())\n",
    "    return sent"
   ]
  },
  {
   "cell_type": "code",
   "execution_count": 4,
   "metadata": {},
   "outputs": [],
   "source": [
    "f1 = [sentense2cleanTokens(x) for x in f1]\n",
    "f2 = [sentense2cleanTokens(x) for x in f2]\n",
    "f3 = [sentense2cleanTokens(x) for x in f3]\n",
    "f4 = [sentense2cleanTokens(x) for x in f4]\n",
    "f5 = [sentense2cleanTokens(x) for x in f5]"
   ]
  },
  {
   "cell_type": "code",
   "execution_count": 5,
   "metadata": {},
   "outputs": [
    {
     "data": {
      "text/plain": [
       "['6GHz 533FSB cpu glossy display 3 Cell 23Wh Li ion Battery and a 1',\n",
       " 'Not to mention that as of now Asus will not sell you a spare 3 or 6 cell Li Ion battery',\n",
       " 'It also features a N270 cpu 6 cell 48Wh Li ion Battery 8',\n",
       " '3MP webcam 6 Cell 63Wh Li ion Battery with a whopping 10',\n",
       " 'Realistic battery numbers are between 8',\n",
       " 'of battery life if you re using wifi doing email word processing YouTube web surfing',\n",
       " 'The Eee Super Hybrid Engine utility lets users overclock or underclock their Eee PC s to boost performance or provide better battery life depending on their immediate requirements',\n",
       " 'A few other things I d like to point out is that you must push the micro sized right angle end of the ac adapter until it snaps in place or the battery may not charge',\n",
       " 'In addition the ac adapter does get quite hot while it is actively charging the battery which Asus clearly mentions in the user manual so one should not be alarmed over the heat output',\n",
       " '5 Hour Battery Glossy Display Bluetooth Netbook Sleeve',\n",
       " '5 Hour Battery Matted Display',\n",
       " '5 Hour Battery Matted Display',\n",
       " 'After you add sales tax you are then approaching the price of the V series which gets twice the battery life',\n",
       " 'Battery life is one of the biggest features of a netbook so I wouldn t go cheap and get less battery',\n",
       " 'Deciding between the V series and the P series really comes done to how much you care about a slight speed different a small battery life difference a better web cam Bluetooth and or the netbook sleeve',\n",
       " 'The best thing about this unit is the battery life',\n",
       " 'The long life battery makes this unit heavy',\n",
       " 'Since the battery life difference is minimum the only reason to upgrade would be to get the better keyboard',\n",
       " 'For 30 40 more you get one less usb port you get covered usb ports which is annoying and you get less than half the battery life',\n",
       " 'It has the longest battery life of any notebook',\n",
       " 'While my 1005HA works like a charm I personally know several folks that have experienced issues with the battery and or power supply',\n",
       " 'Eventually I noticed that most of these critical reviews referred to the battery or to the charging brick and most of those were describing what could have easily been mistakes made by the owners of the machine',\n",
       " 'They didn t attach the power cord properly or the charging time was too short and some didn t seem to understand how to determine when the battery was fully charged',\n",
       " 'Some complainers faulted the battery life but didn t take into account what was running or turned on when using the computer',\n",
       " 'The battery is drained more quickly when the computer is operating with all rockets running',\n",
       " 'I suppose that is one reason why I kept gravitating to the ASUS Eee PC 1005HA PU1X BU as I explored the reviews for other brands in spite of the warnings about unworkable battery chargers and inoperative batteries I bought the Asus Eee PC',\n",
       " 'The main difference is probably the ten hour battery that is unique and ships with the ASUS Eee PC 1005HA PU1X BU',\n",
       " 'I wanted the netbook to use on long airplane flights so the long life battery was a real plus for me',\n",
       " 'The Asus Eee PC is sleek and that big battery doesn t stick out on the back edge like the other netbook high capacity batteries do',\n",
       " 'I like it a lot the battery and charger problems I feared so much have not materialized',\n",
       " 'I am still a little worried about that battery thing',\n",
       " 'I may have left you with some question about the battery and charging system I am sorry about that',\n",
       " 'After almost two months of using my new Eee PC 1005HA I can report no problem with the battery bringing the battery to a full charge or the charging brick itself',\n",
       " 'My Jabra bluetooth headset works great with Skype I ve gotten 6 hours on my battery watching movies listening to music before plugging it back in',\n",
       " 'Two other things that make this a superior computer are battery life and the LED backlighting for the screen',\n",
       " 'The backlighting is definitely a factor in the longer battery charge life but it also makes for a very nice bright picture',\n",
       " 'For the average user the battery charge life will be a plesant surprise',\n",
       " 'faster overall performance and shorter charge life on the battery',\n",
       " 'When I recently started looking into purchasing a netbook I was impressed with the battery life of the Asus Eee PC 1000HE',\n",
       " 'When I found out about the Dell Mini 10v coming out I ordered one with upgrades to a six cell battery and larger hard drive',\n",
       " 'To make a long story short the track pad buttons are a nightmare and the battery protruding on the bottom is an ugly compromise',\n",
       " 'Add the high running temperature to the poorer than expected battery life and the Dell went back',\n",
       " 'The 1008HA was not a consideration because of the non removable battery and significantly shorter battery life',\n",
       " 'I have not experienced the problems with the battery charger mentioned by other reviewers either',\n",
       " 'The light weight the battery life the keyboard the non protruding removable battery the bright screen the track pad disable button and general ease of use makes it hard to beat',\n",
       " 'Battery life continues to hold up and the keyboard is a true godsend with its full size keys',\n",
       " 'The battery life on this thing really is',\n",
       " 'Very sharp clear image even with brightness turned down low to get the most from the battery',\n",
       " '0 out of 5 stars I wish I had listened to everyone with charging AC battery issues',\n",
       " 'the AC charger just stopped charging the battery',\n",
       " 'I bought this back in early July and have had NO problems with my battery or charger',\n",
       " 'I haven t drained the battery yet and I ve been coast to coast with it waits etc',\n",
       " 'It is a big battery and it does tend to tip backwards if fully opened and placed on a flat surface',\n",
       " 'Bluetooth narrowed it down battery life narrowed it further ability to R R the memory was a further contraint and when I was done it was this model or an MSI Wind',\n",
       " 'After receiving it in the mail I plugged it into the outlet in the living room and allowed the battery to charge',\n",
       " 'Recently however my battery was about to die and I had already set up shop in another room of my house so I decided to move the power cord to the other room with my computer and let it charge while I worked on it',\n",
       " 'The battery life is quite extensive',\n",
       " 'If money is your leading consideration then one of these may be for you but for just a bit more money you get a much better screen better battery life bigger drive more upgradeable etc',\n",
       " 'It has a solid feel to it but the battery juts out quite a bit the touchpad keys are terribly placed the webcam is only 0',\n",
       " 'Since then I ve used it exclusively on battery power',\n",
       " 'has an 11 screen with the same or better battery life',\n",
       " 'However the second time my daughter tried to charge the computer using the supplied battery charger',\n",
       " 'The charger would not operate at all and the computer became useless once the onboard battery ran down',\n",
       " 'With some tweeking the battery indeed lasted over 10 hours even while watching hours of',\n",
       " 'Four hours of solid on running through a projector on the battery and still showed 4 hours left on the battery',\n",
       " '5 hour battery is the real deal I had my unit on for 10 hours and it was still running with just over 10 battery capacity remaining',\n",
       " 'The battery power is as advertised which is a main reason I selected this netbook',\n",
       " 'The battery does not protrude and is removeable',\n",
       " 'I think I will love this machine for the purposes I bought it portability battery life to carry me through travels and for my teenager to use',\n",
       " '5 battery life was just a claim but charged at 100 my battery life clocked in 10',\n",
       " 'The battery life on this thing is truly incredible',\n",
       " 'The first day I got it I used it for at least 7 hours and Windows still said it had an hour and a half battery life left before I decided to charge it',\n",
       " 'All in all great product great battery life',\n",
       " 'This thing has great battery life fits in the glove box of my car and serves the uses of a netbook in excellent fashion',\n",
       " 'My only other gripe is the speakers are very weak for media use but there are pocket able battery powered speaker options I am using the Altec Lansing Orbit Altec Lansing iM 237 Orbit Ultraportable Speaker for MP3 Players which is great',\n",
       " 'Luckily this thing has a great battery life our I d be out of luck',\n",
       " 'But the strongest feature to recommend the machine is the battery life',\n",
       " 'I expected six or seven hours in reality I m aware that battery life claims like MPGs with cars are usually puffed up',\n",
       " 'If your primary needs are portability and epic battery life so that you never have to worry about sitting near a power outlet when you re on the go and you want good construction then this is the machine for you',\n",
       " 'It won t give you all the functionality of a full sized laptop and the small screen may take some getting used to but no regular laptop gives you this kind of battery life and most of the functions absent here aren t used by most people most of the time anyway so if the tradeoff is fewer features for greatly increased battery life I ll take the latter',\n",
       " 'While this is still a fine machine battery life has started dropping off already',\n",
       " 'My 10 hour battery is now a 7',\n",
       " 'The battery arrived pre charged',\n",
       " 'When putting the battery on it nearly doubles the weight of the computer',\n",
       " 'I have been able to make the battery expectancy get up the reported 10',\n",
       " '0 out of 5 stars Would have been 5 stars except for failed battery and failed ac adapter',\n",
       " '4 PASS Battery life is amazing used the laptop in Super Performance Mode for over 6 hours of watching videos checking email connecting with USB Verizon broadband card and still had battery life leftover',\n",
       " '1 FAIL After one charge cycle the battery blew a circuit and would no longer power the netbook',\n",
       " '2 FAIL After three charge cycles the AC Adapter blew a circuit and would no longer charge the battery',\n",
       " 'The battery life was the huge selling point for me and it is truly awesome',\n",
       " 'Seriously I felt extravagant and almost guilty when he noted the 10 hour battery life on my Asus',\n",
       " 'Of course without the adapter you can t charge the battery or operate the computer',\n",
       " 'the battery life is so good it was not an issue',\n",
       " 'I have had the laptop for 3 weeks now and I have had no trouble with the battery life or the charging process',\n",
       " '9GHz but it s unstable and I have actually returned it to stock speeds since the battery life is much better at stock',\n",
       " 'The battery life is as advertised here',\n",
       " 'Battery life is the longest of any system I ve ever had or seen',\n",
       " 'As for the ac adapter wigging out i ve had no such problem as when plugged in it s always on and when on battery it lasts a long time',\n",
       " 'Won t send battery without fax letter of agreement',\n",
       " 'If we don t get fax no battery',\n",
       " 'When might the battery arrive',\n",
       " 'Battery is width of 10 pencils',\n",
       " 'Will update when battery arrives in a few weeks',\n",
       " 'Pro s I so wanted to love the small size long battery life brilliant blue color and light weight',\n",
       " 'the battery life is as advertised',\n",
       " 'Battery Life depends on how it s being used but it s much better than it s little brother the Eee PC 900',\n",
       " 'Well I first ordered this netbook through J R Music for a good price and when it arrived I charged the battery fully and later turned it on',\n",
       " 'A few hours later the battery light is on and green',\n",
       " 'Battery life seems to be good',\n",
       " '0 out of 5 stars Battery problem August 10 2009',\n",
       " 'When received battery defective would not charge',\n",
       " 'After sending Fax and battery at my expense with a time',\n",
       " '5 hour battery pack and the 2 GB Crucial upgrade from Amazon after continued delays from Dell on my new Vostro 1520 notebook with Xp',\n",
       " '5 hour battery claim but it seems to be accurate',\n",
       " 'The wireless networking logs on as soon as the unit is booted I ve had the charger plugged in while cycling the battery and the charger has not quit the battery life has peaked to the point I can leave this thing on all day without it shutting down',\n",
       " 'I needed something comfortable for typing documents plus something with long battery life to keep in my briefcase',\n",
       " 'I picked it up right away due to the battery life keyboard and sleek design',\n",
       " 'I actually went without charging it for more than a day because the battery life is just so amazing',\n",
       " 'With such a great battery life keyboard and responsive touch pad there s really no other model that can hold a candle to this puppy',\n",
       " 'My battery recharger failed within 24 hours I returned it and received no notification that a replacement was shipped',\n",
       " '3 megapixel camera the n280 atom processor a 6 cell battery and much more',\n",
       " 'I bought this about 3 weeks ago and just until now the charger wont completely charge the battery',\n",
       " 'The warranty card plainly states that the warranty covers everything but the battery or free accessories such as mice or laptop bag',\n",
       " 'The battery is spectacular and the key board didn t take any time getting used to and of course it is a very cute cool little gadget',\n",
       " 'I had a 2 year old dell that just gave me problems so often and recently the warrenty went out coincidentally the battery s connection malfunctioned so it had to stay plugged in and the internet could not be detected while my parents laptops were fine',\n",
       " '1005ha has Longer battery life and 30 cheaper plus people complained about the port covers getting annoying in the 1008',\n",
       " 'And you can upgrade the ram and remove the battery to be replaced in a few years or buy another battery to carry around',\n",
       " 'The 1008ha you would have to ship into the Asus company to get a new battery upgrade for ram which will cost something',\n",
       " 'Great battery life very fast on my wireless router does websites with flash and other media supported elements and even though I still love my Blackberry I needed something with a bit more umph to store vacation pics in on the road and attach files to email',\n",
       " 'Sure this one has a larger battery',\n",
       " 'The keyboard is easy to type on the battery life is great and I ve found that I really do like the touch pad with all its features',\n",
       " 'My computer exhibited the precise symptoms described by others the first charge up went fine but when I had depleted the battery and went to recharge it the power supply failed to do anything',\n",
       " 'around the house i can freely roam to wherever i find comfortable or least noisy NEVER having to worry about the power cord because of the seemingly infinite battery life',\n",
       " 'this thing shines yet barely sips at the battery',\n",
       " 'Full sized laptops are so freaking bulky heavy and the battery wouldnt even make it though one of my evening classes',\n",
       " 'Her computer is a top of the line notebook that never leaves her desk because of bulkiness and pathetic battery life so her only backdrop is the block wall of her dorm XD but with this eeepc she never sees me in the same place twice and almost all of the time im outside far from buildings which really says something about the wireless card',\n",
       " 'The reason I went with Asus is the long battery life without the huge bump in the back a fast processer easy memory upgrade good looks and great price',\n",
       " 'I bought this to use when traveling within a developing country where I need lots of battery life and don t feel like lugging around my conspicuous 15 notebook',\n",
       " 'Good battery life under Linux about 7',\n",
       " 'It s bigger heavier and has less battery life but it is much easier to upgrade internal components',\n",
       " 'Its battery life is much longer though not quite the stated 10',\n",
       " 'The 6 cell lithium ion battery is seamless integrated into the mainframe to minimize space usage',\n",
       " 'Now add in the N standard wireless free netbook sleeve and the usual laptop microphone webcam suite and together with its aforementioned compactness and long battery life it becomes possible to do productive work on the Asus Eee HA1005 maintaining web sites writing long articles coding e networking etc almost anywhere',\n",
       " 'The battery life is amazing',\n",
       " 'With the battery in the back the computer has most of its weight in the back so the computer easily tips back when the screen is opened all the way up',\n",
       " 'The battery life has not been tested in one complete sitting',\n",
       " 'However as would be expected if I tether my cellphone for internet use it does drain the battery very quickly',\n",
       " 'The use of WIFI also seems to drain the battery but just not as quickly',\n",
       " 'As far as I can tell I do not think the battery will last more than six hours for my use',\n",
       " 'I suppose if I turned off the WIFI and Bluetooth and did nothing more than use MS Word the battery would last longer',\n",
       " 'I also noted the charger becomes extremely hot when plugged in and charging the computer battery',\n",
       " 'Long battery life sharp looking machine fingerprint magnet glossy screen glare ease of use and portability',\n",
       " 'Charges fully and swiftly long lasting battery time functions beautifully',\n",
       " '5 Hour Battery Life August 7 2009',\n",
       " 'And the battery last only about 7 hours of normal use',\n",
       " 'Battery life is over 8 hours and I plan to upgrade the memory soon',\n",
       " 'The battery life is excellent with normal usage I can get about 7 hours easily more if I turn off WIFI and turn down the screen brightness',\n",
       " 'One of the downside I have noticed is that the netbook is heavy near the hinge because that s where the battery is located and if you want to put it on your lap while sitting you have to put your hand on the bottom chassis so that the netbook doesn t tip over and the screen doesn t bend all the way backwards which can be annoy otherwise this is a really nice netbook',\n",
       " '1incredible battery life 2weight it runs Windows XP not Vista bleah',\n",
       " 'I do imagine playing games on it would reduce the amount of time on the battery',\n",
       " 'Also if you re on the web a lot it does take up a little more battery but not enough that you can t still use it most of the day on one charge',\n",
       " 'It s incredibly light even with the battery pack in',\n",
       " 'The best part of the 1005HA is that the battery IS user replaceable',\n",
       " 'I was originally going to buy an ASUS 1000HE but heard the batteries were not user replaceable thus you had to send the computer back to ASUS for them to replace the battery with a turn around time of up to a few months',\n",
       " 'The laptop itself is great nice crisp display great battery life light and a nice form factor',\n",
       " 'I ve run the machine on battery power some four or five times so far and have found no problems with charge or battery power life',\n",
       " 'I spend a lot of time in battery power environments for other technical devices so I m a bit more forgiving when it comes to expected battery life versus real battery life',\n",
       " '0 out of 5 stars netbook with power and battery life August 24 2009',\n",
       " 'The seashell allows for a big battery',\n",
       " 'I say it s a small price to pay for a sleek and light computer with an incredible battery life',\n",
       " 'After an initial full charging I ran this netbook to 1 battery life before the first three times I recharged it',\n",
       " 'The adapter that charges the battery overheats really easily',\n",
       " '0 out of 5 stars A great little machine perfect for travels though battery life bit shorter than advertised',\n",
       " 'I was looking for portability light weight and long battery life which removed a great many manufacturers off my list',\n",
       " 'When I read the specs and the reviews and the extra hour of battery life for just a few bucks more my decision was revised',\n",
       " 'I ve had the machine for 2 weeks now and the only thing that I m not very happy with is that the battery power for me anyway doesn t last 10',\n",
       " '5 hours from the battery I usually get 7',\n",
       " 'I m just glad that I didn t buy a machine with slightly less hours of battery life',\n",
       " 'If someone is in the market for a great little traveling machine to access the internet send receive emails do some writing and need extended battery life I highly recommend this Asus eee netbook',\n",
       " 'There are other machines out there some with identical specs some similiar but none match the battery life',\n",
       " 'Terrific value at 324 especially considering the six cell battery',\n",
       " 'Some reviewers have complained about the physical size of the battery extrusion from the bottom of the netbook',\n",
       " 'Again the long lasting battery makes it worth it',\n",
       " 'Then I switched to battery power and the machine froze',\n",
       " 'When I put back the factory memory the machine worked perfectly on A C and battery',\n",
       " 'Our unit has operated flawlessly so far and the 10 hour battery is a real plus',\n",
       " 'The trick is to fully charge and then fully discharge this battery several times before you start using it in the regular mode',\n",
       " 'Great battery life decent sized screen and the keyboard was large enough to be comfortable to type on',\n",
       " 'I originally bought the EEE to take with me whenever my laptop was too big to take somewhere but have started exclusively using the EEE in place of my laptop because of its portability and battery life that greatly exceeds most full size laptops',\n",
       " 'The only minor issue is that the battery life is a bit less after the Windows 7 upgrade',\n",
       " 'What none of the reviews I read told me is that the Asus company recommends that when you are somewhere that has electricity you should take out the battery and just plug in the machine',\n",
       " 'They said there are only so many recharges in the life of any battery and when you don t have to use the battery it extends its life',\n",
       " 'One of the reasons I chose this netbook was that the battery does come out my old laptop had an internal battery and when it stopped taking a charge I had to replace the whole machine',\n",
       " 'So I decided that whatever I buy has to have a removable battery',\n",
       " 'The battery life has been very good especially if you follow the rule of turning off the wireless and bluetooth and turning down the screen brightness',\n",
       " 'This isn t a hassle and usually when you want extended battery life you re on a plane where you don t need full brightness or radio anyway',\n",
       " 'Such much lighter and smaller and compared to the Lenovo its battery is immortal',\n",
       " 'The battery life is also great I can charge my phone out of the usb port in class and not have to worry about running low on battery before the day is over',\n",
       " 'The battery life is plenty for me',\n",
       " 'I haven t done a real battery test but I can tell you that it s on all day at work and I don t even bring the power cord from home',\n",
       " 'and I love the battery life I m not sure it was 10',\n",
       " 'In terms of battery life its not really 10',\n",
       " 'I m glad I did I charged the battery before attempting anything',\n",
       " 'I mention the battery life which I usually get about 8 hours with full brightness playing videos or music and have multiple programs running simultaneously',\n",
       " 'I needed a computer easy to move to work efficiently and with long battery life and that was precisely what I got',\n",
       " 'This did not affect me much I can write without problems full university texts media files run without any problem and the battery have been used for seven consecutive hours using the computer to the maximum in High Performance Mode without depleted',\n",
       " 'The advantages over Acer and HP are in the best battery and the magnificent instalation that comes with the computer',\n",
       " 'another i needed one that had a LONG battery life since it would be a bother to have to charge a netbook every 4 5 hours',\n",
       " 'Decent speed processor nice screen quality great asus softwares and very long battery life',\n",
       " 'For those wanting to install Win 7 it works great no glitches or hiccups startup is fast and less battery loss than vista',\n",
       " 'space bar changes battery settings on the ASUS software',\n",
       " 'I like Eee 1005PA V s battery life',\n",
       " 'Keeps it nice and cool and doesn t have a significant effect on the battery',\n",
       " 'The battery life is incredible',\n",
       " 'For another 50 you get a 6 cell battery with 8 hours of run time',\n",
       " '5 hours of battery life bluetooth a better webcam can someone confirm this',\n",
       " 'I am a college student that got tired of lugging around a heavy 15inch laptop with less than 3 hours battery life',\n",
       " 'The battery life is unbelievable even while using USB to transfer files watching movies and surfing the internet with screen brightness all the way up',\n",
       " 'I didn t time it but I got tired of waiting to run down the battery',\n",
       " 'I look forward to having something much lighter and not worrying about when the battery will die',\n",
       " '0 out of 5 stars No issues at all battery charger works fine',\n",
       " 'My charger battery has never had any problems',\n",
       " 'I carry this netbook in my purse at all times the long battery lasts as long as described',\n",
       " 'The small size makes it very easy to carry compared to a standard laptop the long battery life is really great and the speed and performance using various wi fi connections was better than I expected it to be',\n",
       " 'I always dreamed of a PC that has very long battery life',\n",
       " 'Has three USB ports on the sides and the back area houses the six cell battery',\n",
       " 'Factory settings to preserve battery life have the screen luminescence set to 50 but can easily be adjusted to the necessary ambience illumination you may need',\n",
       " 'Regarding battery duration I cannot comment on its purpose since whenever I am doing word processing tasks have always music or videos running',\n",
       " 'And using the two USB port external ASUS disk drive battery life decreases to only two hours',\n",
       " 'It s battery life and ease of replacement is key',\n",
       " 'I have the 299 version from Best Buy it has a 3 cell battery with 3hrs of battery operation',\n",
       " 'A 6 cell battery costs over 79 dollars',\n",
       " 'I was skeptical about the long battery life and the cool touch but I got about 9',\n",
       " '5hr battery model is going to run a touch heavier than the 6',\n",
       " '5hr battery models but the extra battery life is really worth it',\n",
       " 'It does not overheat and the battery lasts a long time not 10',\n",
       " 'Using a USB mouse lessens the battery time but I LOVE it anyway it fits into my purse the colors are great and it is much quicker than my desk top',\n",
       " 'The computer will rarely turn on even though the battery has plenty of charge in it',\n",
       " 'The battery life is to die for my full size laptop doesnt have 10',\n",
       " 'I m actually downgrading in performance in getting this netbook but the performance lost is made up with the smaller form factor and greatly increased battery life',\n",
       " 'Real world battery life is less than the 10',\n",
       " 'I usually get 8 930 hrs of battery while browsing the internet and using office',\n",
       " 'Within a few hours of owning this netbook the battery meter stopped working',\n",
       " 'The battery life will ensure that i can go hours without needing a recharge',\n",
       " 'First is the incredible battery life',\n",
       " 'I have not done an actual test of the full battery life but from what iv seen in general use it has around 9 hours while running wifi and other applications with around half screen brightness',\n",
       " 'Has a very long battery life runs videos and multimedia smoothly without issues fast loading very usable keyboard stylish sleek design decent pricing for what you get',\n",
       " 'The 10 hour battery life is great',\n",
       " 'Since I have bluetooth and wi fi on most of the time I actually get about 6 7 hours of battery life',\n",
       " 'The battery power is long lasting and it serves me well throughout the day',\n",
       " '1 light weight 2 long battery life and 3 reasonable performance',\n",
       " 'Although 1008HA is lighter and thinner I felt that 1005HA is a better choice for me because of its removable long battery life and easy RAM access',\n",
       " 'When you start it up for the first time leave it plugged in ONLY as long as it takes for the battery to charge to full',\n",
       " 'At this point it is normal for the adapter to become very very hot while charging all the way from low battery',\n",
       " 'If you follow these instructions for several battery cycles you should find that the charger eventually stops overheating',\n",
       " 'And over 9 hours of battery life',\n",
       " 'It has the best battery life out of all the netbooks currently available',\n",
       " 'You have to physically shut down unplug plus remove the battery then restart',\n",
       " 'If the ratio of battery life to cost is important to you this is a decent netbook except for the inevitable charger failure',\n",
       " 'Battery life advertised at 10',\n",
       " '5 Hour Battery Life to anyone who was looking to make a netbook purchase Asus seems to have gotten a poor reputation based on their customer service and the faulty power cords they ve been sending out but the netbook itself is a gem',\n",
       " 'I love this netbook so far I have not been able to run out of battery 10',\n",
       " '5 hour battery life is not true if your doing anything other then nothing you will usualy get like 6 7 hour battery',\n",
       " 'Battery performance couldn t be more nice as well as performance',\n",
       " 'It boots up quickly especially after getting rid of the extra asus software that auto boots at startup its battery life is phenomenal the screen is clear and easy to read the keyboard is comfortable to type on and feels natural',\n",
       " 'Unboxed the netbook put in the battery charged it up everything was great',\n",
       " 'The battery life lasted me about a good 6 7 hours of e mail internet some MS office work and watched a video or 2 from streaming Netflix',\n",
       " 'Only problem was when I went to recharge my battery for the SECOND TIME EVER OWNING THIS NETBOOK the power adapter wasn t working',\n",
       " 'I bought this netbook and the AC adapter worked fine but the battery wouldn t charge at all',\n",
       " 'So I exchanged the bad netbook for a new one but the new one is just like the first the battery will not charge at all',\n",
       " 'I read the reviews before I first bought this netbook and was aware that there was an issue with the battery',\n",
       " 'Extra long battery life pretty accurate specs given',\n",
       " '5 Hour Battery Life was the one that caught my eye',\n",
       " 'Obviously the battery drained out within hours',\n",
       " 'Battery life is longer than I had expected obviously 10',\n",
       " 'And even better has a built in webcam an impeccable battery life a great touch pad and exceptionally ergonomic design',\n",
       " 'Battery life around 6 hours playing games or DVIX videos which in my book is simply awesome',\n",
       " 'Love the LED backlight concept which saves battery life and you don t have to worry about the flourescent bulbs fading after a few years',\n",
       " 'Now I keep battery topped off or charge when not in use and no longer seems to be a problem',\n",
       " 'This netbook has plenty of power for my needs and the battery life is great',\n",
       " 'Been very pleased with performance and battery life however power supply went out after 60 days',\n",
       " '0 out of 5 stars Initially battery problems however now it works December 22 2009',\n",
       " 'In the mean time I let the battery go down completely turned out the battery would not charge even though Windows XP was reporting it was',\n",
       " 'when experiencing charging problems let the battery go out completely',\n",
       " 'Noticed that the battery indicator started flashing orange instead a steady orange',\n",
       " 'After 3 hrs the battery was fully charged unplugged the netbook started up Windows and the battery indicator showed about 10 hours charge remaining',\n",
       " 'The battery life is pretty good though the trackpad is annoying',\n",
       " 'what i loved is the battery',\n",
       " 'The battery s longevity is amazing I get around',\n",
       " 'it is designed to be as small as possible and the long life battery on the back end makes it tipsy',\n",
       " 'Excellent battery life small and light enough to drop in a handbag and forget it s there',\n",
       " 'I tug it around for all my personal stuff and it is light easy to carry and I really do get 10 hours plus use of the battery',\n",
       " 'The battery on my netbook lasts almost 13 hours since I keep the LCD brightness relatively low',\n",
       " 'It has the fastest processor currently available huge battery life 10',\n",
       " 'I bought this although I already have a Sony Vaio for its light weight and long battery life',\n",
       " 'Indeed it runs as fast as advertised and battery life is excellent',\n",
       " 'The most impressive on this is the battery life',\n",
       " 'The battery life is incredible',\n",
       " 'I spent a bit of time researching the various netbooks currently available and thought that the 1005HA P had a nice mix of style battery life ergonomics and performance',\n",
       " 'I have found the actual battery life to be around 8 hours',\n",
       " 'The main selling point for this netbook is its amazing battery life',\n",
       " 'The battery doesn t add much bulk to the overall unit at all either',\n",
       " 'For this extra amount I was looking for the larger screen the longer battery life and the keyboard ergonomics',\n",
       " 'I haven t put it to the test on how long it actually lasts but I use it off and on all day and I ve never had the battery go dead on me',\n",
       " 'The long battery life is on and off',\n",
       " 'Sometimes it says that I have 70 battery life AND 3hrs',\n",
       " 'Saying that I don t have any battery saving settings set as I m not too familiar with that and haven t had the need',\n",
       " 'The sound wasn t all that great but hooking up some battery op speakers or headphones would be the way to go there',\n",
       " 'The battery life last almost 4 hours with contine use but I have the battery charger that charges in no time',\n",
       " 'I can easily get 8 hours on the battery life while running multiple programs and listening to music over the wireless internet',\n",
       " 'I have not tried running the battery out quickly or seeing if I can shut things down to get the full 10',\n",
       " 'The image is nice and crisp and the longevity of the battery is a definite plus',\n",
       " 'The battery life has been amazing so far',\n",
       " 'Very lightweight and portable and the battery life is outstanding',\n",
       " 'I took this on a trip and the battery lasted about 6 hours before showing it was at 53',\n",
       " 'The computer is quite fast and the battery is amazing',\n",
       " 'Much to my surprise I was shocked at how well it performed especially the battery',\n",
       " '5 hour battery life is really helpful',\n",
       " '5 hour battery life is great',\n",
       " 'It looks good is very sleek and stylish very light and gives around 9 10 hrs battery backup on 1 charge',\n",
       " 'I am very pleased and would recommend it anyone that wants something very portable with great battery life',\n",
       " 'Battery life is great and it seems to charge fast as well',\n",
       " 'On top of that ASUS tech support reports that the brick is out of stock and will not be available for 2 weeks and my battery is completely dead',\n",
       " 'As a backup I purchased a second battery',\n",
       " 'Key features in my decision were b g n wireless built in bluetooth mouse capability and the best in class battery life',\n",
       " 'I bought this to take notes in college classes so battery life was very important to me and it did not disappoint',\n",
       " 'With the very first charge I got nearly 10 hours of battery life',\n",
       " 'The battery life is not its promised 10',\n",
       " '0 out of 5 stars Good ergonomics exceptional battery performance meets expectations',\n",
       " 'Pretty standard list of specs for a netbook with the addition of bluetooth and a very long battery life',\n",
       " 'The long battery life is awesome',\n",
       " 'The battery is INFINITELY better and I can easily squeeze 10 hours out of it if I need to',\n",
       " 'When I learned about the battery life the memory hard drive processor etc']"
      ]
     },
     "execution_count": 5,
     "metadata": {},
     "output_type": "execute_result"
    }
   ],
   "source": [
    "f1"
   ]
  },
  {
   "cell_type": "markdown",
   "metadata": {},
   "source": [
    "### Question 3)  Faisons des statistics sur les documents"
   ]
  },
  {
   "cell_type": "markdown",
   "metadata": {},
   "source": [
    "Le nombre de lignes de chaque document"
   ]
  },
  {
   "cell_type": "code",
   "execution_count": 6,
   "metadata": {},
   "outputs": [],
   "source": [
    "nblines = [len(x) for x in [f1,f2,f3,f4,f5]]"
   ]
  },
  {
   "cell_type": "markdown",
   "metadata": {},
   "source": [
    "Le nombre de mots de chaque documents "
   ]
  },
  {
   "cell_type": "code",
   "execution_count": 7,
   "metadata": {},
   "outputs": [],
   "source": [
    "nbwords = []\n",
    "for k in [f1,f2,f3,f4,f5]:\n",
    "    s= 0\n",
    "    for j in k:\n",
    "        s = s + len(j.split())\n",
    "    nbwords.append(s)"
   ]
  },
  {
   "cell_type": "code",
   "execution_count": 8,
   "metadata": {},
   "outputs": [
    {
     "data": {
      "text/plain": [
       "[6341, 1980, 12176, 1518, 2138]"
      ]
     },
     "execution_count": 8,
     "metadata": {},
     "output_type": "execute_result"
    }
   ],
   "source": [
    "nbwords"
   ]
  },
  {
   "cell_type": "markdown",
   "metadata": {},
   "source": [
    "Calculons les mots les plus fréquents pour chaque document"
   ]
  },
  {
   "cell_type": "code",
   "execution_count": 9,
   "metadata": {},
   "outputs": [],
   "source": [
    "mostfrequentwords = []\n"
   ]
  },
  {
   "cell_type": "code",
   "execution_count": 10,
   "metadata": {},
   "outputs": [],
   "source": [
    "corpus = []\n",
    "for k in [f1,f2,f3,f4,f5]:\n",
    "    s =  ''\n",
    "    for j in k: \n",
    "        s = s+ ' '+ j\n",
    "    corpus.append(s)"
   ]
  },
  {
   "cell_type": "code",
   "execution_count": 11,
   "metadata": {},
   "outputs": [
    {
     "data": {
      "text/plain": [
       "5"
      ]
     },
     "execution_count": 11,
     "metadata": {},
     "output_type": "execute_result"
    }
   ],
   "source": [
    "len(corpus)"
   ]
  },
  {
   "cell_type": "code",
   "execution_count": 12,
   "metadata": {},
   "outputs": [],
   "source": [
    "from sklearn.feature_extraction.text import CountVectorizer\n",
    "vectorizer = CountVectorizer(stop_words= 'english')\n",
    "X = vectorizer.fit_transform(corpus)\n",
    "X= (X.toarray())  \n"
   ]
  },
  {
   "cell_type": "code",
   "execution_count": 13,
   "metadata": {},
   "outputs": [],
   "source": [
    "for j in (X):\n",
    "    mostfrequentwords.append(vectorizer.get_feature_names()[list(j).index(max(j))] )"
   ]
  },
  {
   "cell_type": "code",
   "execution_count": 14,
   "metadata": {},
   "outputs": [
    {
     "data": {
      "text/plain": [
       "['battery', 'price', 'room', 'sound', 'faster']"
      ]
     },
     "execution_count": 14,
     "metadata": {},
     "output_type": "execute_result"
    }
   ],
   "source": [
    "mostfrequentwords"
   ]
  },
  {
   "cell_type": "markdown",
   "metadata": {},
   "source": [
    "Les mots les plus fréquents de chaque document sont: \n",
    "doc 1: 'battery' \n",
    "doc 2: 'price'\n",
    "doc 3: 'room'\n",
    "doc 4: 'sound'\n",
    "doc 5: 'faster'"
   ]
  },
  {
   "cell_type": "markdown",
   "metadata": {},
   "source": [
    "#### Question 4) Calculons les similarités entre les phrases du document 1"
   ]
  },
  {
   "cell_type": "markdown",
   "metadata": {},
   "source": [
    "On calcule les similarités avec une premiere méthode consistant à considerer les représentations issues du tf-idf"
   ]
  },
  {
   "cell_type": "code",
   "execution_count": 67,
   "metadata": {},
   "outputs": [],
   "source": [
    "from sklearn.feature_extraction.text import TfidfVectorizer\n",
    "tfidf = TfidfVectorizer()\n",
    "tf1 = tfidf.fit_transform(f1)\n",
    "tf1= (tf1.toarray())  \n"
   ]
  },
  {
   "cell_type": "code",
   "execution_count": 69,
   "metadata": {},
   "outputs": [
    {
     "data": {
      "text/plain": [
       "(333, 1256)"
      ]
     },
     "execution_count": 69,
     "metadata": {},
     "output_type": "execute_result"
    }
   ],
   "source": [
    "tf1.shape"
   ]
  },
  {
   "cell_type": "code",
   "execution_count": 71,
   "metadata": {},
   "outputs": [],
   "source": [
    "mat1 = np.zeros((1256,1256))"
   ]
  },
  {
   "cell_type": "code",
   "execution_count": 73,
   "metadata": {},
   "outputs": [],
   "source": [
    "from scipy import spatial\n",
    "for i,k in enumerate(tf1):\n",
    "    for o,j in enumerate(tf1):\n",
    "        if(i > o):\n",
    "            mat1[i,o] =  1 - spatial.distance.cosine(k, j)\n",
    "            mat1[o,i] = 1 - spatial.distance.cosine(k, j)"
   ]
  },
  {
   "cell_type": "code",
   "execution_count": 74,
   "metadata": {},
   "outputs": [
    {
     "data": {
      "text/plain": [
       "array([[0.        , 0.23749496, 0.41126425, ..., 0.        , 0.        ,\n",
       "        0.        ],\n",
       "       [0.23749496, 0.        , 0.25739253, ..., 0.        , 0.        ,\n",
       "        0.        ],\n",
       "       [0.41126425, 0.25739253, 0.        , ..., 0.        , 0.        ,\n",
       "        0.        ],\n",
       "       ...,\n",
       "       [0.        , 0.        , 0.        , ..., 0.        , 0.        ,\n",
       "        0.        ],\n",
       "       [0.        , 0.        , 0.        , ..., 0.        , 0.        ,\n",
       "        0.        ],\n",
       "       [0.        , 0.        , 0.        , ..., 0.        , 0.        ,\n",
       "        0.        ]])"
      ]
     },
     "execution_count": 74,
     "metadata": {},
     "output_type": "execute_result"
    }
   ],
   "source": [
    "mat1"
   ]
  },
  {
   "cell_type": "markdown",
   "metadata": {},
   "source": [
    "### Question 5) Calcul des Résumés de Chaque document "
   ]
  },
  {
   "cell_type": "markdown",
   "metadata": {},
   "source": [
    "Ici, nous calculons les résumés pour chaque document en renvoyant les 5 phrases les mieux scorées. \n",
    "Nous calculons ici le score de chaque phrase en prenant la somme des idf des mots qu'elle contient. \n",
    "L'idée est de renvoyer les 5 phrases avec les mots qui ont un plus grand IDF. "
   ]
  },
  {
   "cell_type": "code",
   "execution_count": 81,
   "metadata": {},
   "outputs": [],
   "source": [
    "# Fonction permettant de calculer la score de chaque phrase en prenant la somme des idf des mots qu'elle contient\n",
    "def scoreph ( f):\n",
    "    li = []\n",
    "    for k  in f :\n",
    "        l = 0 \n",
    "        for j in k.split():\n",
    "            s = [1 if j in x else 0 for x in f ]\n",
    "            l = l+ (len(f)/sum(s))\n",
    "            \n",
    "        li.append(l)   \n",
    "    return (li)"
   ]
  },
  {
   "cell_type": "code",
   "execution_count": 82,
   "metadata": {},
   "outputs": [
    {
     "data": {
      "text/plain": [
       "(333, 333)"
      ]
     },
     "execution_count": 82,
     "metadata": {},
     "output_type": "execute_result"
    }
   ],
   "source": [
    "len(scoreph(f1)),(len(f1))"
   ]
  },
  {
   "cell_type": "code",
   "execution_count": 93,
   "metadata": {},
   "outputs": [],
   "source": [
    "# Resumé du document 1\n",
    "resume = []\n",
    "for i in range(5):\n",
    "    element = f1[scoreph(f1).index(max(scoreph(f1)))]\n",
    "    resume.append(element) \n",
    "    f1.remove(element)"
   ]
  },
  {
   "cell_type": "code",
   "execution_count": 96,
   "metadata": {},
   "outputs": [
    {
     "data": {
      "text/plain": [
       "['Her computer is a top of the line notebook that never leaves her desk because of bulkiness and pathetic battery life so her only backdrop is the block wall of her dorm XD but with this eeepc she never sees me in the same place twice and almost all of the time im outside far from buildings which really says something about the wireless card',\n",
       " 'My only other gripe is the speakers are very weak for media use but there are pocket able battery powered speaker options I am using the Altec Lansing Orbit Altec Lansing iM 237 Orbit Ultraportable Speaker for MP3 Players which is great',\n",
       " 'Now add in the N standard wireless free netbook sleeve and the usual laptop microphone webcam suite and together with its aforementioned compactness and long battery life it becomes possible to do productive work on the Asus Eee HA1005 maintaining web sites writing long articles coding e networking etc almost anywhere',\n",
       " 'The Eee Super Hybrid Engine utility lets users overclock or underclock their Eee PC s to boost performance or provide better battery life depending on their immediate requirements',\n",
       " 'Great battery life very fast on my wireless router does websites with flash and other media supported elements and even though I still love my Blackberry I needed something with a bit more umph to store vacation pics in on the road and attach files to email']"
      ]
     },
     "execution_count": 96,
     "metadata": {},
     "output_type": "execute_result"
    }
   ],
   "source": [
    "resume"
   ]
  },
  {
   "cell_type": "code",
   "execution_count": 97,
   "metadata": {},
   "outputs": [],
   "source": [
    "resume2 = []\n",
    "for i in range(5):\n",
    "    element = f2[scoreph(f2).index(max(scoreph(f2)))]\n",
    "    resume2.append(element) \n",
    "    f2.remove(element)\n",
    "resume3 = []\n",
    "for i in range(5):\n",
    "    element = f3[scoreph(f3).index(max(scoreph(f3)))]\n",
    "    resume3.append(element) \n",
    "    f3.remove(element)\n",
    "resume4 = []\n",
    "for i in range(5):\n",
    "    element = f4[scoreph(f4).index(max(scoreph(f4)))]\n",
    "    resume4.append(element) \n",
    "    f4.remove(element)\n",
    "resume5 = []\n",
    "for i in range(5):\n",
    "    element = f5[scoreph(f5).index(max(scoreph(f5)))]\n",
    "    resume5.append(element) \n",
    "    f5.remove(element)\n"
   ]
  },
  {
   "cell_type": "code",
   "execution_count": 98,
   "metadata": {},
   "outputs": [
    {
     "data": {
      "text/plain": [
       "['Before purchasing I was obsessed with the reviews and predictions I found online and reading about some of the critiques such as the thick border the lack of touchscreen lack of battery SD slot lack of a back light awkward difficult keyboard layout minimally faster page flipping and the super high price',\n",
       " 'However I will say the selection of inexpensive books has been worth the purchase price of this item especially for those that enjoy reading the classics or nationwide news it has been a joy to purchase entire collections for a fraction of the cost of purchasing new or even used books',\n",
       " 'To have this continuous high speed wireless connectivity without the need for a physical computer to upload download onto is truly amazing and makes the price of the Kindle truly irrelevant',\n",
       " 'There are many other ways such as mp3 players portable DVD players not to mention the radio to listen to while driving that are almost fully paid for by the price for just one audio book',\n",
       " 'I want you to know that ultimately however if I want a Kindle I will have to capitulate and accept Amazon s terms because Amazon has a monopoly over their own machine and I will have to purchase one even at prices I believe are needlessly high for e book readers']"
      ]
     },
     "execution_count": 98,
     "metadata": {},
     "output_type": "execute_result"
    }
   ],
   "source": [
    "resume2"
   ]
  },
  {
   "cell_type": "code",
   "execution_count": 99,
   "metadata": {},
   "outputs": [
    {
     "data": {
      "text/plain": [
       "['firm comfortable beds windows that open adequate mirrors clothes drying line across bathtub sinks and showers drained properly stopper in sink sealed which was good because we did our own laundry night shades overlapped the window and each other enough to keep light out mini bar refrigerator ran quietly free newspapers daily in elevator waiting areas in room safe American sized wash cloths all lights worked enough electrical outlets enough hangers central air conditioning which worked and ran quietly adequate elevators no toilet problems shower curtains sealed water from leaking onto the floor anti slip surface on bathtub shower exhaust system in bathroom removed condensation from shower always enough hot water in shower',\n",
       " 'good size considered it is in london comfy double bed clean in room tea coffee choc making facilities hairdryer under desk old tv toilet facilities was disgusting long curly black hair in bathtub big black pubic hair tangled in hand towel disgusting yellow scum stick on toilet seat dove shampoo bottle near bathtub and dove cream cleanser bottle near hand basic were both empty cheap plastic canteen cups on wash basin only one tiny hand soap NO supply of essential basic vanity kits only available if ask cheap standard chain hotel decor room was quiet did not hear anything from the street but doors closed loudly from nearby rooms on the corridor',\n",
       " 'The breakfast room is cattle market like with queues for tables and at the servery and we were led to tables that werent free more than onceThe decor is also fairly dated with a 1970s feel to some of the public areas the lounge bar has the ability to be good but is often used as a waiting area by people occupying tables without having a drink and doesnt work as some bars in lobby areas do at other hotels the main bar is like a pub and doesnt feel like part of the hotel',\n",
       " 'From the time we booked Holiday Inn Forum Kensington I was overcharged some 200 GBP on the fee I was quoted and had some considerable trouble getting this rectified by Holiday Inns central booking officeWhen arriving at hotel in room safe bar fridge as quoted were not supplied when I questioned reception they said can t supply a safe but will send fridge up which they did but for all the good it was with fixed thermostat the drinks we put in it would have stayed cooler outside the fridge',\n",
       " 'When we stepped into the room it was an even greater relief on the 17th floor we had a wonderful view of Earl s Court and some Georgian architecture our favorite visual was an advertisement against smoking in which there was a cigarette half un wrapped with what appeared to be a fatty clogged artery inside']"
      ]
     },
     "execution_count": 99,
     "metadata": {},
     "output_type": "execute_result"
    }
   ],
   "source": [
    "resume3"
   ]
  },
  {
   "cell_type": "markdown",
   "metadata": {},
   "source": [
    "### Question 6) **enregistrons maintenant les résultats pour pouvoir les évaluer**"
   ]
  },
  {
   "cell_type": "code",
   "execution_count": 100,
   "metadata": {},
   "outputs": [],
   "source": [
    "with open('/home/sid2018-1/Bureau/Critiques/projects/test-summarization/system/battery-life_netbook_1005ha.txt.sys.head5', 'w') as f:\n",
    "    for item in resume:\n",
    "        f.write(\"%s\\n\" % item)"
   ]
  },
  {
   "cell_type": "code",
   "execution_count": 101,
   "metadata": {},
   "outputs": [],
   "source": [
    "with open('/home/sid2018-1/Bureau/Critiques/projects/test-summarization/system/price_amazon_kindle.txt.sys.head5', 'w') as f:\n",
    "    for item in resume2:\n",
    "        f.write(\"%s\\n\" % item)"
   ]
  },
  {
   "cell_type": "code",
   "execution_count": 102,
   "metadata": {},
   "outputs": [],
   "source": [
    "with open('/home/sid2018-1/Bureau/Critiques/projects/test-summarization/system/room_holiday_inn_london.txt.sys.head5', 'w') as f:\n",
    "    for item in resume3:\n",
    "        f.write(\"%s\\n\" % item)"
   ]
  },
  {
   "cell_type": "code",
   "execution_count": 103,
   "metadata": {},
   "outputs": [],
   "source": [
    "with open('/home/sid2018-1/Bureau/Critiques/projects/test-summarization/system/sound_ipod_nano_8gb.txt.sys.head5', 'w') as f:\n",
    "    for item in resume4:\n",
    "        f.write(\"%s\\n\" % item)"
   ]
  },
  {
   "cell_type": "code",
   "execution_count": 104,
   "metadata": {},
   "outputs": [],
   "source": [
    "with open('/home/sid2018-1/Bureau/Critiques/projects/test-summarization/system/speed_windows7.txt.sys.head5', 'w') as f:\n",
    "    for item in resume5:\n",
    "        f.write(\"%s\\n\" % item)"
   ]
  },
  {
   "cell_type": "markdown",
   "metadata": {},
   "source": [
    "#### Question 7) Evaluons les résultats"
   ]
  },
  {
   "cell_type": "markdown",
   "metadata": {},
   "source": [
    "``` \n",
    "========Results Summary=======\n",
    "\n",
    "ROUGE-L+StopWordRemoval\tPRICE\tAMAZON\tAverage_R:0,66667\tAverage_P:0,09195\tAverage_F:0,16162\tNum Reference Summaries:1\n",
    "\n",
    "\n",
    "ROUGE-1+StopWordRemoval\tPRICE\tAMAZON\tAverage_R:0,69231\tAverage_P:0,08571\tAverage_F:0,15254\tNum Reference Summaries:1\n",
    "\n",
    "\n",
    "ROUGE-2+StopWordRemoval\tPRICE\tAMAZON\tAverage_R:0,00000\tAverage_P:0,00000\tAverage_F:0,00000\tNum Reference Summaries:1\n",
    "\n",
    "\n",
    "ROUGE-SU4+StopWordRemoval\tPRICE\tAMAZON\tAverage_R:0,24444\tAverage_P:0,02316\tAverage_F:0,04231\tNum Reference Summaries:1\n",
    "\n",
    "\n",
    "ROUGE-L+StopWordRemoval\tSOUND\tIPOD\tAverage_R:0,28571\tAverage_P:0,02941\tAverage_F:0,05333\tNum Reference Summaries:1\n",
    "\n",
    "\n",
    "ROUGE-1+StopWordRemoval\tSOUND\tIPOD\tAverage_R:0,42857\tAverage_P:0,03448\tAverage_F:0,06383\tNum Reference Summaries:1\n",
    "\n",
    "\n",
    "ROUGE-2+StopWordRemoval\tSOUND\tIPOD\tAverage_R:0,00000\tAverage_P:0,00000\tAverage_F:0,00000\tNum Reference Summaries:1\n",
    "\n",
    "\n",
    "ROUGE-SU4+StopWordRemoval\tSOUND\tIPOD\tAverage_R:0,18750\tAverage_P:0,00779\tAverage_F:0,01496\tNum Reference Summaries:1\n",
    "\n",
    "\n",
    "ROUGE-L+StopWordRemoval\tBATTERY-LIFE\tNETBOOK\tAverage_R:0,50000\tAverage_P:0,03670\tAverage_F:0,06838\tNum Reference Summaries:1\n",
    "\n",
    "\n",
    "ROUGE-1+StopWordRemoval\tBATTERY-LIFE\tNETBOOK\tAverage_R:0,55556\tAverage_P:0,03846\tAverage_F:0,07194\tNum Reference Summaries:1\n",
    "\n",
    "\n",
    "ROUGE-2+StopWordRemoval\tBATTERY-LIFE\tNETBOOK\tAverage_R:0,14286\tAverage_P:0,00800\tAverage_F:0,01515\tNum Reference Summaries:1\n",
    "\n",
    "\n",
    "ROUGE-SU4+StopWordRemoval\tBATTERY-LIFE\tNETBOOK\tAverage_R:0,28000\tAverage_P:0,01167\tAverage_F:0,02240\tNum Reference Summaries:1\n",
    "\n",
    "\n",
    "ROUGE-L+StopWordRemoval\tROOM\tHOLIDAY\tAverage_R:0,25000\tAverage_P:0,00935\tAverage_F:0,01802\tNum Reference Summaries:1\n",
    "\n",
    "\n",
    "ROUGE-1+StopWordRemoval\tROOM\tHOLIDAY\tAverage_R:0,25000\tAverage_P:0,00719\tAverage_F:0,01399\tNum Reference Summaries:1\n",
    "\n",
    "\n",
    "ROUGE-2+StopWordRemoval\tROOM\tHOLIDAY\tAverage_R:0,00000\tAverage_P:0,00000\tAverage_F:0,00000\tNum Reference Summaries:1\n",
    "\n",
    "\n",
    "ROUGE-SU4+StopWordRemoval\tROOM\tHOLIDAY\tAverage_R:0,08696\tAverage_P:0,00149\tAverage_F:0,00293\tNum Reference Summaries:1\n",
    "\n",
    "\n",
    "ROUGE-L+StopWordRemoval\tSPEED\tWINDOWS7.TXT.SYS.HEAD5\tAverage_R:0,20000\tAverage_P:0,03093\tAverage_F:0,05357\tNum Reference Summaries:1\n",
    "\n",
    "\n",
    "ROUGE-1+StopWordRemoval\tSPEED\tWINDOWS7.TXT.SYS.HEAD5\tAverage_R:0,18750\tAverage_P:0,02256\tAverage_F:0,04027\tNum Reference Summaries:1\n",
    "\n",
    "\n",
    "ROUGE-2+StopWordRemoval\tSPEED\tWINDOWS7.TXT.SYS.HEAD5\tAverage_R:0,07692\tAverage_P:0,00781\tAverage_F:0,01418\tNum Reference Summaries:1\n",
    "\n",
    "\n",
    "ROUGE-SU4+StopWordRemoval\tSPEED\tWINDOWS7.TXT.SYS.HEAD5\tAverage_R:0,08000\tAverage_P:0,00650\tAverage_F:0,01203\tNum Reference Summaries:1\n",
    "\n",
    "\n",
    "======Results Summary End====== \n",
    "```"
   ]
  },
  {
   "cell_type": "markdown",
   "metadata": {},
   "source": [
    "Aprés évaluation des résultats, nous n'améliorons pas les résultats car notre méthode renvoie les phrases les plus longues(celles qui ont un plus grand nombres de mots ont plus de chances d'avoir une plus grande somme des idf) et notre méthode ne prend pas en compte les dissimilarités entre les phrases afin de renvoyer un résumé qui est plus diversifié"
   ]
  },
  {
   "cell_type": "markdown",
   "metadata": {},
   "source": [
    "#### question 8) Essayons une nouvelle méthode"
   ]
  },
  {
   "cell_type": "markdown",
   "metadata": {},
   "source": [
    "Une méthode qui marcherait bien ici est de faire un Kmeans en 5 clusters pour chaque document. \n",
    "Ensuite pour chaque cluster il suffirait de choisir la phrase ayant la plus grande somme des IDF de ses mots. \n",
    "Cela permettrai d'avoir un résumé diversifié et riche. \n",
    "(La différence entre cette approche et notre méthode est qu'on ne fait pas l'étape de clustering qui permets d'obtenir \n",
    "le résumé diversifié)"
   ]
  }
 ],
 "metadata": {
  "kernelspec": {
   "display_name": "Python 3",
   "language": "python",
   "name": "python3"
  },
  "language_info": {
   "codemirror_mode": {
    "name": "ipython",
    "version": 3
   },
   "file_extension": ".py",
   "mimetype": "text/x-python",
   "name": "python",
   "nbconvert_exporter": "python",
   "pygments_lexer": "ipython3",
   "version": "3.7.0"
  }
 },
 "nbformat": 4,
 "nbformat_minor": 2
}
